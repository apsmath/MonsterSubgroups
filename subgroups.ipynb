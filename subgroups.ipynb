{
 "cells": [
  {
   "cell_type": "markdown",
   "id": "71678fbf",
   "metadata": {},
   "source": [
    "$\n",
    "\\def \\udot {\\cdot}\n",
    "\\def \\textup {\\text}\n",
    "\\newcommand{\\CO}{\\textup{Co}_1}\n",
    "\\newcommand{\\FI}{\\textup{Fi}_{24}}\n",
    "\\newcommand{\\SZ}{\\textup{Suz}}\n",
    "\\newcommand{\\HE}{\\textup{He}}\n",
    "\\newcommand{\\HN}{\\textup{HN}}\n",
    "\\newcommand{\\Th}{\\textup{Th}}\n",
    "\\newcommand{\\QStr}{2^{1+24}}\n",
    "\\newcommand{\\BB}{\\mathbb{B}}\n",
    "\\newcommand{\\MM}{\\mathbb{M}}\n",
    "\\newcommand{\\QQ}{\\mathbf{Q}}\n",
    "\\newcommand{\\GG}{\\mathbf{G}}\n",
    "\\newcommand{\\J}[1]{\\textup{J}_{#1}}\n",
    "\\newcommand{\\MT}[1]{\\textup{M}_{#1}}\n",
    "\\newcommand{\\dih}[1]{\\textup{D}_{#1}}\n",
    "\\newcommand{\\sdih}[1]{\\textup{SD}_{#1}}\n",
    "\\newcommand{\\psl}[2]{\\textup{PSL}_{#1} \\left( #2 \\right)}\n",
    "\\newcommand{\\pgl}[2]{\\textup{PGL}_{#1} \\left( #2 \\right)}\n",
    "\\newcommand{\\ling}[2]{\\textup{GL}_{#1} \\left( #2 \\right)}\n",
    "\\newcommand{\\lins}[2]{\\textup{SL}_{#1} \\left( #2 \\right)}\n",
    "\\newcommand{\\unt}[2]{\\textup{U}_{#1} \\left( #2 \\right)}\n",
    "\\newcommand{\\orth}[3]{\\textup{O}_{#2}^{#1} \\left( #3 \\right)}\n",
    "\\newcommand{\\lie}[3]{\\textup{#1}_{#2} \\left( #3 \\right)}\n",
    "\\newcommand{\\alt}[1]{\\textup{A}_{#1}}\n",
    "\\newcommand{\\sym}[1]{\\textup{S}_{#1}}\n",
    "\\newcommand{\\symp}[2]{\\textup{S}_{#1} \\left( #2 \\right)}\n",
    "\\newcommand{\\aut}[1]{\\textup{Aut} \\left( #1 \\right)}\n",
    "\\newcommand{\\cm}[1]{C_\\MM \\left( #1 \\right)}\n",
    "\\newcommand{\\nm}[1]{N_\\MM \\left( #1 \\right)}\n",
    "\\newcommand{\\cma}[1]{C_\\MM \\left( \\langle #1 \\rangle \\right)}\n",
    "\\newcommand{\\nma}[1]{N_\\MM \\left( \\langle #1 \\rangle \\right)}\n",
    "$\n",
    "# Explicit Construction of the Maximal Subgroups of the Monster\n",
    "\n",
    "<a id=\"intro\"></a>\n",
    "This notebook complements the paper of the same name by Heiko Dietrich,\n",
    "Melissa Lee, Anthony Pisani, and Tomasz Popiel. It contains\n",
    "the computational components of the proofs, including generators\n",
    "for the 45 (out of 46) maximal subgroups of $\\MM$ constructed,\n",
    "along with extensive annotations. Computations are performed using\n",
    "the [`mmgroup`](https://github.com/Martin-Seysen/mmgroup) package, for which\n",
    "a [brief guide](#mmgroup) is provided below. See also\n",
    "the [official documentation](https://mmgroup.readthedocs.io).\n",
    "\n",
    "Several auxiliary functions and variables, mostly imported\n",
    "from the accompanying file `helpers.py`, are used repeatedly\n",
    "throughout this document. The code for all proofs is otherwise independent:\n",
    "after running an [initialising cell](#begin), one can begin execution\n",
    "at any subsection. Logical interdependence is indicated\n",
    "by appropriate references in the textual annotations, with recurring variables\n",
    "defined in each subsection where they appear.\n",
    "\n",
    "## Table of Contents <a id=\"toc\"></a>\n",
    "\n",
    "Theorems and lemmas are numbered in accordance with the paper.\n",
    "\n",
    "\n",
    "<table border=\"1\">\n",
    " <thead><th colspan=\"3\">\n",
    "\n",
    "  Introduction\n",
    "\n",
    " </th></thead><tbody>\n",
    "  <tr><td>\n",
    " \n",
    "   [Introduction](#intro)\n",
    "\n",
    "  </td><td></td><td></td></tr><tr><td>\n",
    "\n",
    "   [Table of Contents](#toc)\n",
    "\n",
    "  </td><td></td><td></td></tr><tr><td>\n",
    "\n",
    "   [A Brief Introduction to `mmgroup`](#mmgroup)\n",
    "\n",
    "  </td><td></td><td></td></tr>\n",
    " </tbody><thead><th colspan=\"3\">\n",
    "\n",
    "  Odd-local subgroups\n",
    "\n",
    " </th></thead><tbody>\n",
    "  <tr><td>\n",
    "\n",
    "   [Theorem 2.5](#norm3A)\n",
    "\n",
    "  </td><td>\n",
    "\n",
    "   $3 \\udot \\FI$\n",
    "\n",
    "  </td><td>\n",
    "\n",
    "   Proof adapted from Dietrich, Lee, and Popiel\n",
    "\n",
    "  </td></tr>\n",
    "  <tr><td>\n",
    "\n",
    "   [Theorem 2.6](#norm3B)\n",
    "\n",
    "  </td><td>\n",
    "\n",
    "   $3^{1+12} \\udot 2 \\udot \\SZ{:}2$\n",
    "\n",
    "  </td><td>\n",
    "  </td></tr>\n",
    "  <tr><td>\n",
    "\n",
    "   [Theorem 2.7](#norm3C)\n",
    "\n",
    "  </td><td>\n",
    "\n",
    "   $\\sym{3} \\times \\Th$\n",
    "\n",
    "  </td><td>\n",
    "\n",
    "   Proof adapted from Dietrich, Lee, and Popiel\n",
    "\n",
    "  </td></tr>\n",
    "  <tr><td>\n",
    "\n",
    "   [Theorem 2.8](#norm3A2)\n",
    "\n",
    "  </td><td>\n",
    "\n",
    "   $\\left( 3^2{:}2 \\times \\orth+{8}{3} \\right) \\udot \\sym{4}$\n",
    "\n",
    "  </td><td>\n",
    "  </td></tr>\n",
    "  <tr><td>\n",
    "\n",
    "   [Theorem 2.9](#norm3B2)\n",
    "\n",
    "  </td><td>\n",
    "\n",
    "   $3^{2+5+10}{:}\\left( \\MT{11} \\times 2.\\sym{4} \\right)$\n",
    "\n",
    "  </td><td>\n",
    "  </td></tr>\n",
    "  <tr><td>\n",
    "\n",
    "   [Theorem 2.10](#norm3B3)\n",
    "\n",
    "  </td><td>\n",
    "\n",
    "   $3^{3+2+6+6}{:}\\left( \\psl{3}{3} \\times \\sdih{16} \\right)$\n",
    "\n",
    "  </td><td>\n",
    "  </td></tr>\n",
    "  <tr><td>\n",
    "\n",
    "   [Theorem 2.11](#norm3Ark)\n",
    "\n",
    "  </td><td>\n",
    "\n",
    "   $3^8 \\udot \\orth-{8}{3}.2$\n",
    "\n",
    "  </td><td>\n",
    "  </td></tr>\n",
    "  <tr><td>\n",
    "\n",
    "   [Theorem 2.12](#norm5A)\n",
    "\n",
    "  </td><td>\n",
    "\n",
    "   $\\left( \\dih{10} \\times \\HN \\right) \\udot 2$\n",
    "\n",
    "  </td><td>\n",
    "  </td></tr>\n",
    "  <tr><td>\n",
    "\n",
    "   [Theorem 2.13](#norm5B)\n",
    "\n",
    "  </td><td>\n",
    "\n",
    "   $5^{1+6}{:}2 \\udot \\J2{:}4$\n",
    "\n",
    "  </td><td>\n",
    "\n",
    "   Generators adapted from Dietrich, Lee, and Popiel\n",
    "\n",
    "  </td></tr>\n",
    "  <tr><td>\n",
    "\n",
    "   [Theorem 2.14](#norm5A2)\n",
    "\n",
    "  </td><td>\n",
    "\n",
    "   $\\left( 5^2{:}4 \\udot 2^2 \\times \\unt{3}{5} \\right){:}\\sym{3}$\n",
    "\n",
    "  </td><td>\n",
    "  </td></tr>\n",
    "  <tr><td>\n",
    "\n",
    "   [Theorem 2.15](#norm5B2)\n",
    "\n",
    "  </td><td>\n",
    "\n",
    "   $5^{2+2+4}{:}\\left( \\sym{3} \\times \\ling{2}{5} \\right)$\n",
    "\n",
    "  </td><td>\n",
    "  </td></tr>\n",
    "  <tr><td>\n",
    "\n",
    "   [Theorem 2.16](#norm5B3)\n",
    "\n",
    "  </td><td>\n",
    "\n",
    "   $5^{3+3} \\udot \\left( 2 \\times \\psl{3}{5} \\right)$\n",
    "\n",
    "  </td><td>\n",
    "  </td></tr>\n",
    "  <tr><td>\n",
    "\n",
    "   [Theorem 2.17](#norm5B4)\n",
    "\n",
    "  </td><td>\n",
    "\n",
    "   $5^4{:}\\left( 3 \\times 2 \\udot \\psl{2}{25} \\right){:}2$\n",
    "\n",
    "  </td><td>\n",
    "  </td></tr>\n",
    "  <tr><td>\n",
    "\n",
    "   [Theorem 2.18](#norm7A)\n",
    "\n",
    "  </td><td>\n",
    "\n",
    "   $\\left( 7{:}3 \\times \\HE \\right){:}2$\n",
    "\n",
    "  </td><td>\n",
    "  </td></tr>\n",
    "  <tr><td>\n",
    "\n",
    "   [Theorem 2.19](#norm7B)\n",
    "\n",
    "  </td><td>\n",
    "\n",
    "   $7^{1+4}{:}\\left( 3 \\times 2.\\sym{7} \\right)$\n",
    "\n",
    "  </td><td>\n",
    "\n",
    "   Generators adapted from Dietrich, Lee, and Popiel\n",
    "\n",
    "  </td></tr>\n",
    "  <tr><td>\n",
    "\n",
    "   [Theorem 2.20](#norm7A2)\n",
    "\n",
    "  </td><td>\n",
    "\n",
    "   $\\left( 7^2{:} \\left( 3 \\times 2.\\alt{4} \\right) \\times \\psl{2}{7} \\right){:}2$\n",
    "\n",
    "  </td><td>\n",
    "  </td></tr>\n",
    "  <tr><td>\n",
    "\n",
    "   [Theorem 2.21](#norm7B2)\n",
    "\n",
    "  </td><td>\n",
    "\n",
    "   $7^{2+1+2}{:}\\ling{2}{7}$\n",
    "\n",
    "  </td><td>\n",
    "  </td></tr>\n",
    "  <tr><td>\n",
    "\n",
    "   [Theorem 2.22](#norm7B2p)\n",
    "\n",
    "  </td><td>\n",
    "\n",
    "   $7^2{:}\\lins{2}{7}$\n",
    "\n",
    "  </td><td>\n",
    "\n",
    "   Proof adapted from Pisani and Popiel\n",
    "\n",
    "  </td></tr>\n",
    "  <tr><td>\n",
    "\n",
    "   [Theorem 2.23](#norm11_2)\n",
    "\n",
    "  </td><td>\n",
    "\n",
    "   $11^2{:}\\left( 5 {\\times} 2.\\alt{5} \\right)$\n",
    "\n",
    "  </td><td>\n",
    "\n",
    "   Proof adapted from Pisani and Popiel\n",
    "\n",
    "  </td></tr>\n",
    "  <tr><td>\n",
    "\n",
    "   [Theorem 2.24](#norm13A)\n",
    "\n",
    "  </td><td>\n",
    "\n",
    "   $\\left( 13{:}6 \\times \\psl{3}{3} \\right) \\udot 2$\n",
    "\n",
    "  </td><td>\n",
    "\n",
    "   Proof for index 2 subgroup adapted from Dietrich, Lee, and Popiel\n",
    "\n",
    "  </td></tr>\n",
    "  <tr><td>\n",
    "\n",
    "   [Theorem 2.25](#norm13B)\n",
    "\n",
    "  </td><td>\n",
    "\n",
    "   $13^{1+2}{:}\\left( 3 \\times 4.\\sym{4} \\right)$\n",
    "\n",
    "  </td><td>\n",
    "  </td></tr>\n",
    "  <tr><td>\n",
    "\n",
    "   [Theorem 2.26](#norm13B2)\n",
    "\n",
    "  </td><td>\n",
    "\n",
    "   $13^2{:}\\lins{2}{13}{:}4$\n",
    "\n",
    "  </td><td>\n",
    "  </td></tr>\n",
    "  <tr><td>\n",
    "\n",
    "   [Theorem 2.27](#norm41)\n",
    "\n",
    "  </td><td>\n",
    "\n",
    "   $41{:}40$\n",
    "\n",
    "  </td><td>\n",
    "  </td></tr>\n",
    "  <tr><td>-</td><td>\n",
    "\n",
    "   $59{:}29$\n",
    "\n",
    "  </td><td>\n",
    "\n",
    "   No instance currently known\n",
    "\n",
    "  </td></tr>\n",
    " </tbody><thead><th colspan=\"3\">\n",
    "\n",
    "  2-local subgroups\n",
    "\n",
    " </th></thead><tbody>\n",
    "  <tr><td>\n",
    "\n",
    "   [2A centraliser](#norm2A)\n",
    "\n",
    "  </td><td>\n",
    "\n",
    "   $2 \\udot \\BB$\n",
    "\n",
    "  </td><td>\n",
    "\n",
    "   Proof adapted from Dietrich, Lee, and Popiel\n",
    "\n",
    "  </td></tr>\n",
    "  <tr><td>\n",
    "\n",
    "   [2B centraliser](#norm2B)\n",
    "\n",
    "  </td><td>\n",
    "\n",
    "   $\\QStr \\udot \\CO$\n",
    "\n",
    "  </td><td>\n",
    "\n",
    "   Proof adapted from Dietrich, Lee, and Popiel\n",
    "\n",
    "  </td></tr>\n",
    "  <tr><td>\n",
    "\n",
    "   [Theorem 3.5](#norm2A2)\n",
    "\n",
    "  </td><td>\n",
    "\n",
    "   $2^2 \\udot {}^2 \\lie{E}{6}{2} {:} \\sym{3}$\n",
    "\n",
    "  </td><td>\n",
    "  </td></tr>\n",
    "  <tr><td>\n",
    "\n",
    "   [Theorem 3.6](#norm2B2)\n",
    "\n",
    "  </td><td>\n",
    "\n",
    "   $2^{2+11+22} \\udot \\left( \\MT{24} \\times \\sym{3} \\right)$\n",
    "\n",
    "  </td><td>\n",
    "  </td></tr>\n",
    "  <tr><td>\n",
    "\n",
    "   [Theorem 3.7](#norm2B3)\n",
    "\n",
    "  </td><td>\n",
    "\n",
    "   $2^{3+6+12+18} \\udot \\left( \\psl{3}{2} \\times 3.\\sym{6} \\right)$\n",
    "\n",
    "  </td><td>\n",
    "  </td></tr>\n",
    "  <tr><td>\n",
    "\n",
    "   [Theorem 3.8](#norm2B5)\n",
    "\n",
    "  </td><td>\n",
    "\n",
    "   $2^{5+10+20} \\udot \\left( \\sym{3} \\times \\psl{5}{2} \\right)$\n",
    "\n",
    "  </td><td>\n",
    "  </td></tr>\n",
    "  <tr><td>\n",
    "\n",
    "   [Theorem 3.9](#normArk)\n",
    "\n",
    "  </td><td>\n",
    "\n",
    "   $2^{10+16} \\udot \\orth+{10}{2}$\n",
    "\n",
    "  </td><td>\n",
    "  </td></tr>\n",
    " </tbody><thead><th colspan=\"3\">\n",
    "\n",
    "  $\\alt{5}$ in the Monster <a id=\"lemma\"></a>\n",
    "\n",
    " </th></thead><tbody>\n",
    "  <tr><td>\n",
    "\n",
    "   [Lemma 4.1](#lemma)\n",
    "\n",
    "  </td><td>\n",
    "\n",
    "   $\\alt{5}$s\n",
    "\n",
    "  </td><td>\n",
    "\n",
    "   Many cases adapted from Dietrich, Lee, and Popiel\n",
    "\n",
    "  </td></tr>\n",
    " </tbody><thead><th colspan=\"3\">\n",
    "\n",
    "  Projective Linear Groups\n",
    "\n",
    " </th></thead><tbody>\n",
    "  <tr><td>\n",
    "\n",
    "   [Theorem 5.1](#psl2_71)\n",
    "\n",
    "  </td><td>\n",
    "\n",
    "   $\\psl{2}{71}$\n",
    "\n",
    "  </td><td>\n",
    "  </td></tr>\n",
    "  <tr><td>\n",
    "\n",
    "   [Theorem 5.2](#psl2_41)\n",
    "\n",
    "  </td><td>\n",
    "\n",
    "   $\\psl{2}{41}$\n",
    "\n",
    "  </td><td>\n",
    "  </td></tr>\n",
    "  <tr><td>\n",
    "\n",
    "   [Theorem 5.3](#pgl2_29)\n",
    "\n",
    "  </td><td>\n",
    "\n",
    "   $\\pgl{2}{29}$\n",
    "\n",
    "  </td><td>\n",
    "  </td></tr>\n",
    "  <tr><td>\n",
    "\n",
    "   [Theorem 5.4](#pgl2_19)\n",
    "\n",
    "  </td><td>\n",
    "\n",
    "   $\\pgl{2}{19}$\n",
    "\n",
    "  </td><td>\n",
    "\n",
    "   Proof adapted from Pisani and Popiel\n",
    "\n",
    "  </td></tr>\n",
    "  <tr><td>\n",
    "\n",
    "   [Theorem 5.5](#pgl2_13)\n",
    "\n",
    "  </td><td>\n",
    "\n",
    "   $\\pgl{2}{13}$\n",
    "\n",
    "  </td><td>\n",
    "\n",
    "   Proof adapted from Dietrich, Lee, and Popiel\n",
    "\n",
    "  </td></tr>\n",
    "  <tr><td>\n",
    "\n",
    "   [Theorem 5.6](#psl2_59)\n",
    "\n",
    "  </td><td>\n",
    "\n",
    "   $\\psl{2}{59}$\n",
    "\n",
    "  </td><td>\n",
    "\n",
    "   Non-existence proof\n",
    "\n",
    "  </td></tr>\n",
    " </tbody><thead><th colspan=\"3\">\n",
    "\n",
    "  Non-Local Subgroups\n",
    "\n",
    " </th></thead><tbody>\n",
    "  <tr><td>\n",
    "\n",
    "   [Theorem 6.2](#normAAA)\n",
    "\n",
    "  </td><td>\n",
    "\n",
    "   $\\left( \\alt{5} \\times \\alt{12} \\right){:}2$\n",
    "\n",
    "  </td><td>\n",
    "\n",
    "   Proof for index 2 subgroup adapted from Dietrich, Lee, and Popiel\n",
    "\n",
    "  </td></tr>\n",
    "  <tr><td>\n",
    "\n",
    "   [Theorem 6.3](#normA6_3)\n",
    "\n",
    "  </td><td>\n",
    "\n",
    "   $\\left( \\alt{6} \\times \\alt{6} \\times \\alt{6} \\right).\\left( 2 \\times \\sym{4} \\right)$\n",
    "\n",
    "  </td><td>\n",
    "  </td></tr>\n",
    "  <tr><td>\n",
    "\n",
    "   [Theorem 6.4](#normACA)\n",
    "\n",
    "  </td><td>\n",
    "\n",
    "   $\\left( \\alt{5} \\times \\unt{3}{8}{:}3 \\right){:}2$\n",
    "\n",
    "  </td><td>\n",
    "  </td></tr>\n",
    "  <tr><td>\n",
    "\n",
    "   [Theorem 6.5](#normL7)\n",
    "\n",
    "  </td><td>\n",
    "\n",
    "   $\\left( \\psl{3}{2} \\times \\symp{4}{4}{:}2 \\right) \\udot 2$\n",
    "\n",
    "  </td><td>\n",
    "  </td></tr>\n",
    "  <tr><td>\n",
    "\n",
    "   [Theorem 6.6](#normL11)\n",
    "\n",
    "  </td><td>\n",
    "\n",
    "   $\\left( \\psl{2}{11} \\times \\MT{12} \\right){:}2$\n",
    "\n",
    "  </td><td>\n",
    "  </td></tr>\n",
    "  <tr><td>\n",
    "\n",
    "   [Theorem 6.7](#normA7)\n",
    "\n",
    "  </td><td>\n",
    "\n",
    "   $\\left( \\alt{7} \\times \\left( \\alt{5} \\times \\alt{5} \\right){:}2^2 \\right){:}2$\n",
    "\n",
    "  </td><td>\n",
    "  </td></tr>\n",
    "  <tr><td>\n",
    "\n",
    "   [Theorem 6.8](#normA6)\n",
    "\n",
    "  </td><td>\n",
    "\n",
    "   $\\MT{11} \\times \\alt{6} \\udot 2^2$\n",
    "\n",
    "  </td><td>\n",
    "  </td></tr>\n",
    "  <tr><td>\n",
    "\n",
    "   [Theorem 6.9](#normS5_3)\n",
    "\n",
    "  </td><td>\n",
    "\n",
    "   $\\left( \\sym{5} \\times \\sym{5} \\times \\sym{5} \\right){:}\\sym{3}$\n",
    "\n",
    "  </td><td>\n",
    "  </td></tr>\n",
    "  <tr><td>\n",
    "\n",
    "   [Theorem 6.10](#normL11_2)\n",
    "\n",
    "  </td><td>\n",
    "\n",
    "   $\\left( \\psl{2}{11} \\times \\psl{2}{11} \\right){:}4$\n",
    "\n",
    "  </td><td>\n",
    "\n",
    "   Proof adapted from Pisani and Popiel\n",
    "\n",
    "  </td></tr>\n",
    "  <tr><td>\n",
    "\n",
    "   [Theorem 6.11](#unt3_4_4)\n",
    "\n",
    "  </td><td>\n",
    "\n",
    "   $\\unt{3}{4}{:}4$\n",
    "\n",
    "  </td><td>\n",
    "\n",
    "   Proof adapted from Dietrich, Lee, and Popiel\n",
    "\n",
    "  </td></tr>\n",
    "</table>\n",
    "\n",
    "## A Brief Introduction to `mmgroup` <a id=\"mmgroup\"></a>\n",
    "\n",
    "For the construction of elements and computations in $\\MM$, we employ\n",
    "the Python package [mmgroup](https://github.com/Martin-Seysen/mmgroup).\n",
    "The following table adapted from Dietrich et al. (2023) describes\n",
    "some important functions provided by this package; the object `g`\n",
    "represents $g \\in \\MM$. Basic group operations in $\\MM$ are performed\n",
    "with the expected Python operators, although it is notable that `1/g`\n",
    "is equivalent to `g**-1`.\n",
    "\n",
    "<table border=\"1\">\n",
    "<tr><td>\n",
    "\n",
    "  `MM('r','M')`\n",
    "\n",
    "</td><td>\n",
    "\n",
    "  produces a random element in $\\MM$\n",
    "\n",
    "</td></tr>\n",
    "<tr><td>\n",
    "\n",
    "  `MM('r','G_x0')`\n",
    "\n",
    "</td><td>\n",
    "  produces a random element in $\\GG$\n",
    "\n",
    "</td></tr>\n",
    "<tr><td>\n",
    "\n",
    "  `MM('r','N_0')`\n",
    "\n",
    "</td><td>\n",
    "\n",
    "  produces a random element in $\\mathbf{N}_0 = \\nma{z, z^{\\tau}}$,\n",
    "\n",
    "</td></tr>\n",
    "<tr><td>\n",
    "\n",
    "  `g.as_int()`\n",
    "\n",
    "</td><td>\n",
    "\n",
    "  returns an integer uniquely representing $g$\n",
    "\n",
    "</td></tr>\n",
    "<tr><td>\n",
    "\n",
    "  `g.in_G_x0()`\n",
    "\n",
    "</td><td>\n",
    "\n",
    "  decides whether $g \\in \\GG$\n",
    "\n",
    "</td></tr>\n",
    "<tr><td>\n",
    "\n",
    "  `g.in_Q_x0()`\n",
    "\n",
    "</td><td>\n",
    "\n",
    "  decides whether $g$ lies in the normal subgroup $\\QQ$ of $\\GG$\n",
    "\n",
    "</td></tr>\n",
    "<tr><td>\n",
    "\n",
    "  `g.conjugate_involution()`\n",
    "\n",
    "</td><td>\n",
    "\n",
    "  determines involution $g$'s class;\n",
    "  returns $h \\in \\MM$ with $g^h \\in \\left\\{ y, z \\right\\}$\n",
    "\n",
    "</td></tr>\n",
    "<tr><td>\n",
    "\n",
    "  `g.chi_G_x0()`\n",
    "\n",
    "</td><td>\n",
    "\n",
    "  for $g \\in \\GG$ (only), returns\n",
    "  $\\left( \\chi_\\MM \\left( g \\right), \\chi_{299} \\left( g \\right),\n",
    "  \\chi_{24} \\left( g \\right), \\chi_{4096} \\left( g \\right) \\right)$.\n",
    "  Here, $\\chi_\\MM$ denotes the complex character of the unique\n",
    "  irreducible 196883-dimensional representation of $\\MM$;\n",
    "  the associated module restricts to $\\GG \\cong 2^{1+24} \\udot \\textup{Co}_1$\n",
    "  as $196883 = 299 \\oplus 98280 \\oplus (24 \\otimes 4096)$,\n",
    "  with the characters $\\chi_{299}$, $\\chi_{24}$, and $\\chi_{4096}$ corresponding\n",
    "  to the 299, the 24, and the 4096.\n",
    "\n",
    "</td></tr>\n",
    "<tr><td>\n",
    "\n",
    "  `g.as_Co1_bitmatrix()`\n",
    "\n",
    "</td><td>\n",
    "\n",
    "  for $g \\in \\GG$ (only), returns $m \\in \\ling{24}{2}$\n",
    "  representing $\\QQ g \\in \\GG / \\QQ$\n",
    "\n",
    "</td></tr>\n",
    "</table>"
   ]
  },
  {
   "cell_type": "markdown",
   "id": "0246b9e3",
   "metadata": {},
   "source": [
    "Load some utilities and preliminary data. <a id=\"begin\"></a>"
   ]
  },
  {
   "cell_type": "code",
   "execution_count": 1,
   "id": "fe68f157",
   "metadata": {},
   "outputs": [],
   "source": [
    "from helpers import MM, dim_q, size_image, e, z, check_singular, check_normalise, as_int, to_co1, comm, test_m11, map_to_vectors, test_xsl, test_pgl, check_lemma_2_2\n",
    "\n",
    "\n",
    "# Generators for various subgroups A5\n",
    "A5_dict = {\n",
    "    \"AAA\": (MM(\"M<y_3dch*x_57fh*d_11ch*p_164842291*l_1*p_2640000*l_1*p_935210>\"), MM(\"M<y_321h*x_361h*d_0a6dh*p_47182817*l_1*p_960*l_1*p_2112*l_1*p_2356800>\")),\n",
    "    \"BAA\": (MM(\"M<y_7afh*x_181fh*d_5bch*p_33460650*l_2*p_5115840>\"), MM(\"M<y_237h*x_47ah*d_0c49h*p_31024125*l_1*p_466560*l_1*p_211776>\")),\n",
    "    \"BBA\": (MM(\"M<y_19bh*x_179h*d_0dd3h*p_2301167*l_2*p_1457280*l_1*p_464855*t_2*l_1*p_1394880*l_1*p_1457616*l_1*t_1*l_1*p_1499520*l_1*p_10671585*l_2*t_2*l_2*p_2787840*l_2*p_22753393*l_1*t_1*l_2*p_5760*l_1*t_1*l_2*p_2597760*l_1*p_85372339>\"), MM(\"M<y_4d3h*x_7e9h*d_0b6ch*p_39136178*l_2*p_2344320*l_2*p_523428*t_1*l_1*p_2640000*l_1*p_22750595*l_1*t_1*l_1*p_2999040*l_1*p_33441186*l_1*t_2*l_1*p_1457280*l_2*p_7681*t_1*l_2*p_2830080*l_2*p_42676071*t_1*l_1*p_2999040*l_1*p_106706501*l_1*p_11594880*t_2*l_1*p_2640000*l_1*p_11222811>\")),\n",
    "    \"ACA\": (MM(\"M<y_106h*x_804h*d_50ah*p_10221120>\"), MM(\"M<y_556h*x_1a7fh*d_0e26h*p_95605306*l_2*p_1985280*l_1*p_661019>\")),\n",
    "    \"BCA\": (MM(\"M<y_4f6h*x_1f98h*d_0b7h*p_67615847*l_1*p_2999040*l_1*p_86264262*l_2*p_11172480>\"), MM(\"M<y_17h*x_2cdh*d_540h*p_21413172*l_1*p_1499520*l_2*p_64122837*l_2*p_1920>\")),\n",
    "    \"BCB\": (MM(\"M<y_4f6h*x_1f98h*d_0b7h*p_67615847*l_1*p_2999040*l_1*p_86264262*l_2*p_11172480>\"), MM(\"M<y_4e1h*x_19cbh*d_9c8h*p_19643307*l_1*p_2999040*l_1*p_64003504*l_2*p_1478400>\")),\n",
    "    \"B\": (MM(\"M<y_64h*x_56dh*d_325h*p_219161657*l_2*p_17318400*l_1*p_11552640*t_1*l_2*p_80319360*l_2*p_131324208*l_1*t_1*l_1*p_70561920*l_1*p_209827200*l_1*t_2*l_2*p_6673920*l_1*p_63909120>\"), MM(\"M<y_437h*x_0f53h*d_3ah*p_148262400*l_2*p_1985280*l_1*p_32978359*t_1*l_1*p_2027520*l_1*p_11688432*l_1*t_1*l_2*p_1394880*l_1*p_10665936*l_2*p_2416320*t_1*l_1*p_2027520*l_1*p_470471*t_2*l_2*p_2830080*l_2*p_106661290*t_1*l_2*p_2597760*l_1*p_43613421*t_2*l_2*p_2830080*l_2*p_96456578>\")),\n",
    "    \"T\": (MM(\"M<y_1a4h*x_9aah*d_6h*p_183850438*l_2*p_2787840*l_2*p_22811953*t_1*l_1*p_1499520*l_2*p_32977413*l_2*t_2*l_1*p_1499520*l_2*p_1866474*l_2*t_2*l_2*p_2830080*l_2*p_11177514*t_1*l_2*p_1900800*l_2*p_18279*t_2*l_2*p_2787840*l_2*p_507110*t_2*l_2*p_2386560*l_2*p_42757857>\"), MM(\"M<y_501h*x_0b20h*d_5a0h*p_55017756*l_1*p_466560*l_1*p_32993856*t_2*l_1*p_2999040*l_1*p_1480810*l_1*t_1*l_1*p_44837760*t_1*l_2*p_2956800*l_1*p_96035088*t_2*l_2*p_2956800*l_1*p_53352355>\"))\n",
    "}\n",
    "\n",
    "# The following elements, commented out, are used to obtain\n",
    "# the type AAA and BAA, respectively, from Dietrich, Lee, and Popiel's.\n",
    "# The type BCB and B are used unmodified, while the type T is not used at all.\n",
    "conjugator_AAA = MM(\"M<y_1abh*x_0dd0h*d_5d8h*p_15333704*l_2*p_1457280*l_1*p_33395058*t_2*l_2*p_2597760*l_1*p_10780224*t_1*l_2*p_1985280*l_1*p_10781120*t_2*l_2*p_2386560*l_2*p_43195600*t_2*l_1*p_1457280*l_2*p_180898>\")\n",
    "conjugator_BAA = MM(\"M<y_475h*x_0d42h*d_188h*p_211601633*l_2*p_1900800*l_2*p_53361063*t_1*l_2*p_2386560*l_2*p_33392032*t_1*l_1*p_22080*l_2*p_929664*t_1*l_1*p_203174400*l_2*t_1>\")"
   ]
  },
  {
   "cell_type": "markdown",
   "id": "439c3190",
   "metadata": {},
   "source": [
    "# Odd-local subgroups\n",
    "\n",
    "## $3 \\udot \\FI$ <a id=\"norm3A\"></a>\n",
    "The following proof is adapted from Dietrich, Lee, and Popiel.\n",
    "Parts of that work, including comments, have been copied **verbatim**;\n",
    "however, modifications have been made for technical and stylistic reasons,\n",
    "likely introducing any errors that occur.\n",
    "\n",
    "****\n",
    "\n",
    "*Standard* generators are given by"
   ]
  },
  {
   "cell_type": "code",
   "execution_count": 2,
   "id": "0c1581b0",
   "metadata": {},
   "outputs": [],
   "source": [
    "g3 = MM(\"M<y_5f6h*x_0fbeh*d_2ebh*p_193227272*l_2*p_2830080*l_2*p_32067203*t_2*l_2*p_2344320*l_2*p_12596663*l_1*t_2*l_2*p_1415040*l_1*p_21817200*l_2*t_2*l_2*p_1943040*l_2*p_22351232*l_2*t_1*l_1*p_2027520*l_1*p_13443*t_2*l_1*p_1457280*l_2*p_53938>\")\n",
    "h3 = MM(\"M<y_743h*x_11f4h*d_391h*p_92316215*l_1*p_2999040*l_1*p_467894*t_1*l_1*p_2999040*l_1*p_26931*l_1*t_2*l_2*p_1900800*l_2*p_33465249*l_1*t_1*l_2*p_2830080*l_2*p_85326162*t_2*l_1*p_1457280*l_2*p_129106*t_2*l_1*p_1499520*l_2*p_1485571*l_1*t_1*l_2*p_2597760*l_1*p_53391808*t_2*l_1*p_1499520*l_2*p_42667429>\")\n",
    "L_N = (g3, h3)"
   ]
  },
  {
   "cell_type": "markdown",
   "id": "7e894c77",
   "metadata": {},
   "source": [
    "This is the normaliser of a 3A element in the Monster. We claim this particular instance normalises"
   ]
  },
  {
   "cell_type": "code",
   "execution_count": 3,
   "id": "e43b05e4",
   "metadata": {},
   "outputs": [],
   "source": [
    "x3 = MM(\"M<y_3dbh*x_14c9h*d_1c6h*p_238425007*l_2*p_1985280*l_1*p_11174636*l_2>\")\n",
    "L_E = [x3]"
   ]
  },
  {
   "cell_type": "markdown",
   "id": "5aaa6a5b",
   "metadata": {},
   "source": [
    "Firstly, verify $x_3$ belongs to the correct conjugacy class using $\\chi_\\MM$:"
   ]
  },
  {
   "cell_type": "code",
   "execution_count": 4,
   "id": "e5ca822e",
   "metadata": {},
   "outputs": [
    {
     "data": {
      "text/plain": [
       "3"
      ]
     },
     "execution_count": 4,
     "metadata": {},
     "output_type": "execute_result"
    }
   ],
   "source": [
    "x3.order()"
   ]
  },
  {
   "cell_type": "code",
   "execution_count": 5,
   "id": "8b1785b8",
   "metadata": {},
   "outputs": [
    {
     "data": {
      "text/plain": [
       "True"
      ]
     },
     "execution_count": 5,
     "metadata": {},
     "output_type": "execute_result"
    }
   ],
   "source": [
    "x3.in_G_x0()"
   ]
  },
  {
   "cell_type": "code",
   "execution_count": 6,
   "id": "51b678c0",
   "metadata": {},
   "outputs": [
    {
     "data": {
      "text/plain": [
       "782"
      ]
     },
     "execution_count": 6,
     "metadata": {},
     "output_type": "execute_result"
    }
   ],
   "source": [
    "x3.chi_G_x0()[0]"
   ]
  },
  {
   "cell_type": "markdown",
   "id": "2d7ff2fa",
   "metadata": {},
   "source": [
    "With that settled, show the claimed generators belong to the normaliser of $x_3$."
   ]
  },
  {
   "cell_type": "code",
   "execution_count": 7,
   "id": "d8314c2d",
   "metadata": {},
   "outputs": [
    {
     "data": {
      "text/plain": [
       "True"
      ]
     },
     "execution_count": 7,
     "metadata": {},
     "output_type": "execute_result"
    }
   ],
   "source": [
    "check_normalise(L_E, L_N)"
   ]
  },
  {
   "cell_type": "markdown",
   "id": "2ccabe71",
   "metadata": {},
   "source": [
    "As for showing the entire normaliser is generated,\n",
    "begin by verifying that $\\langle g_3, h_3 \\rangle$\n",
    "contains a representative of each coset in $\\nma{x_3} / \\langle x_3 \\rangle \\cong \\FI$.\n",
    "To this end, observe that only maximal subgroup of $\\FI$ with order divisible\n",
    "by both 29 and 70 is $\\text{F}_3^+$, which does not contain elements of order 70.\n",
    "It therefore suffices to exhibit elements with these orders, both coprime to 3, in $3 \\udot \\FI$."
   ]
  },
  {
   "cell_type": "code",
   "execution_count": 8,
   "id": "127ff25f",
   "metadata": {},
   "outputs": [
    {
     "data": {
      "text/plain": [
       "29"
      ]
     },
     "execution_count": 8,
     "metadata": {},
     "output_type": "execute_result"
    }
   ],
   "source": [
    "(g3*h3).order()"
   ]
  },
  {
   "cell_type": "code",
   "execution_count": 9,
   "id": "7685c036",
   "metadata": {},
   "outputs": [
    {
     "data": {
      "text/plain": [
       "70"
      ]
     },
     "execution_count": 9,
     "metadata": {},
     "output_type": "execute_result"
    }
   ],
   "source": [
    "((g3*h3)**5*h3).order()"
   ]
  },
  {
   "cell_type": "markdown",
   "id": "52eb4a8e",
   "metadata": {},
   "source": [
    "It then only remains to verify that $x_3 \\in \\langle g_3, h_3 \\rangle$:"
   ]
  },
  {
   "cell_type": "code",
   "execution_count": 10,
   "id": "dc77be43",
   "metadata": {},
   "outputs": [
    {
     "data": {
      "text/plain": [
       "True"
      ]
     },
     "execution_count": 10,
     "metadata": {},
     "output_type": "execute_result"
    }
   ],
   "source": [
    "(g3*h3*g3*h3**3*g3*h3**5)**28 == x3"
   ]
  },
  {
   "cell_type": "markdown",
   "id": "94c21e5b",
   "metadata": {},
   "source": [
    "We further claim that the following elements $g_3$ and $h_3$ are standard generators\n",
    "for $\\nma{x_3} \\cong 3 \\udot \\FI$. This means that, as well as being generators,\n",
    "\n",
    "1. $g_3$ projects to class 2C in the quotient $\\nma{x_3} / \\langle x_3 \\rangle \\cong \\FI = \\text{Fi}_{24}'{:}2$, \n",
    "2. $h_3$ projects to class 8D in $\\FI$, and\n",
    "3. $\\left| g_3 h_3 \\right| = 29$.\n",
    "\n",
    "The character table of $\\FI$ in GAP indicates that all elements of order $46$ power to class 2C, and\n",
    "that all elements of order $40$ power to class 8D; furthermore, both orders are coprime to 3, guaranteeing\n",
    "that elements of these orders in $3 \\udot \\FI$ project to elements of the same orders in the quotient.\n",
    "The following elements normalise $\\langle x_3 \\rangle$, have order $46$ and $40$, respectively, and power to $g_3$ and $h_3$,\n",
    "respectively, so it follows that conditions 1 and 2 hold."
   ]
  },
  {
   "cell_type": "code",
   "execution_count": 11,
   "id": "5e74ede7",
   "metadata": {},
   "outputs": [
    {
     "data": {
      "text/plain": [
       "True"
      ]
     },
     "execution_count": 11,
     "metadata": {},
     "output_type": "execute_result"
    }
   ],
   "source": [
    "g46 = MM(\"M<y_5feh*x_1f1h*d_292h*p_192994065*l_2*p_60360960*l_1*p_230672640*t_1*l_2*p_1985280*l_1*p_12135864*l_1*t_2*l_1*p_1457280*l_2*p_36672*l_1*t_2*l_2*p_2597760*l_1*p_63996822*t_1*l_2*p_1943040*l_2*p_11604637*l_2*t_1*l_2*p_1943040*l_2*p_63998817*t_2*l_2*p_2956800*l_1*p_42706001>\")\n",
    "g40 = MM(\"M<y_57fh*x_1d3h*d_603h*p_39537390*l_2*p_2344320*l_2*p_53820870*t_2*l_1*p_1457280*l_2*p_464944*l_2*t_1*l_2*p_1985280*l_1*p_32547596*l_2*t_2*l_2*p_1943040*l_2*p_43600722*t_1*l_2*p_1985280*l_1*p_42731872*t_2*l_2*p_1457280*l_1*p_71216*t_2*l_2*p_2956800*l_1*p_106698940>\")\n",
    "\n",
    "check_normalise([x3], (g40, g46))"
   ]
  },
  {
   "cell_type": "code",
   "execution_count": 12,
   "id": "54b8a48f",
   "metadata": {},
   "outputs": [
    {
     "data": {
      "text/plain": [
       "(40, 46)"
      ]
     },
     "execution_count": 12,
     "metadata": {},
     "output_type": "execute_result"
    }
   ],
   "source": [
    "g40.order(), g46.order()"
   ]
  },
  {
   "cell_type": "code",
   "execution_count": 13,
   "id": "72137631",
   "metadata": {},
   "outputs": [
    {
     "data": {
      "text/plain": [
       "True"
      ]
     },
     "execution_count": 13,
     "metadata": {},
     "output_type": "execute_result"
    }
   ],
   "source": [
    "g46**23 == g3"
   ]
  },
  {
   "cell_type": "code",
   "execution_count": 14,
   "id": "0312befb",
   "metadata": {},
   "outputs": [
    {
     "data": {
      "text/plain": [
       "True"
      ]
     },
     "execution_count": 14,
     "metadata": {},
     "output_type": "execute_result"
    }
   ],
   "source": [
    "g40**5 == h3"
   ]
  },
  {
   "cell_type": "markdown",
   "id": "e854d34e",
   "metadata": {},
   "source": [
    "Finally, condition 3 was verified in exhibiting the element $g_3 h_3$ of order 29 above."
   ]
  },
  {
   "cell_type": "markdown",
   "id": "99828b0d",
   "metadata": {},
   "source": [
    "## $3^{1+12} \\udot 2 \\udot \\SZ{:}2$ <a id=\"norm3B\"></a>\n",
    "Generators are given by"
   ]
  },
  {
   "cell_type": "code",
   "execution_count": 15,
   "id": "32821d67",
   "metadata": {},
   "outputs": [],
   "source": [
    "g3b = MM(\"M<y_7f7h*x_1b7ah*d_1b2h*p_186721955*l_1*p_1457280*l_2*p_11725977*l_2*t_1*l_1*p_2999040*l_1*p_1415386*l_1*t_2*l_2*p_2597760*l_1*p_22314818*l_2*t_1*l_2*p_1457280*l_1*p_9639*t_1*l_2*p_1943040*l_2*p_42789700*t_1*l_2*p_2597760*l_1*p_85413716*l_1*p_2344320*t_2*l_1*p_467520*l_1*p_2788128*l_1>\")\n",
    "h3b = MM(\"M<y_13bh*x_1c48h*d_4d9h*p_102050909*l_1*p_80762880*l_1*p_151282608*l_1*t_2*l_1*p_7560960*l_2*p_12439680*l_2*t_1*l_2*p_2597760*l_1*p_22356004*l_2*t_1*l_2*p_2787840*l_2*p_13464*t_2*l_1*p_47498880*l_2*p_42620352*t_2*l_2*p_1985280*l_1*p_64124776*t_2*l_2*p_1985280*l_1*p_42708878*t_2*l_2*p_2956800*l_1*p_64046790>\")\n",
    "L_N = (g3b, h3b)"
   ]
  },
  {
   "cell_type": "markdown",
   "id": "f700d614",
   "metadata": {},
   "source": [
    "This is the normaliser of a 3B element in the Monster. We claim this particular instance normalises"
   ]
  },
  {
   "cell_type": "code",
   "execution_count": 16,
   "id": "2d0a6249",
   "metadata": {},
   "outputs": [],
   "source": [
    "x3b = MM(\"M<y_5d4h*x_17efh*d_0f7eh*p_183231946*l_2*p_2787840*l_2*p_22759172>\")\n",
    "L_E = [x3b]"
   ]
  },
  {
   "cell_type": "markdown",
   "id": "1b9ccd57",
   "metadata": {},
   "source": [
    "Firstly, verify $x_{3b}$ belongs to the correct conjugacy class using $\\chi_\\MM$:"
   ]
  },
  {
   "cell_type": "code",
   "execution_count": 17,
   "id": "20e435f1",
   "metadata": {},
   "outputs": [
    {
     "data": {
      "text/plain": [
       "3"
      ]
     },
     "execution_count": 17,
     "metadata": {},
     "output_type": "execute_result"
    }
   ],
   "source": [
    "x3b.order()"
   ]
  },
  {
   "cell_type": "code",
   "execution_count": 18,
   "id": "1b7a452d",
   "metadata": {},
   "outputs": [
    {
     "data": {
      "text/plain": [
       "True"
      ]
     },
     "execution_count": 18,
     "metadata": {},
     "output_type": "execute_result"
    }
   ],
   "source": [
    "x3b.in_G_x0()"
   ]
  },
  {
   "cell_type": "code",
   "execution_count": 19,
   "id": "3a6c1a69",
   "metadata": {},
   "outputs": [
    {
     "data": {
      "text/plain": [
       "53"
      ]
     },
     "execution_count": 19,
     "metadata": {},
     "output_type": "execute_result"
    }
   ],
   "source": [
    "x3b.chi_G_x0()[0]"
   ]
  },
  {
   "cell_type": "markdown",
   "id": "292a6be7",
   "metadata": {},
   "source": [
    "With that settled, show the claimed generators belong to the normaliser of $x_{3b}$."
   ]
  },
  {
   "cell_type": "code",
   "execution_count": 20,
   "id": "e693037b",
   "metadata": {},
   "outputs": [
    {
     "data": {
      "text/plain": [
       "True"
      ]
     },
     "execution_count": 20,
     "metadata": {},
     "output_type": "execute_result"
    }
   ],
   "source": [
    "check_normalise(L_E, L_N)"
   ]
  },
  {
   "cell_type": "markdown",
   "id": "418e20e7",
   "metadata": {},
   "source": [
    "As for showing the entire normaliser is generated, begin by proving\n",
    "that all cosets of the normal subgroup $3^{1+12}.2$, forming the factor group\n",
    "$\\SZ.2$, are generated."
   ]
  },
  {
   "cell_type": "code",
   "execution_count": 21,
   "id": "e6d99ace",
   "metadata": {},
   "outputs": [
    {
     "data": {
      "text/plain": [
       "56"
      ]
     },
     "execution_count": 21,
     "metadata": {},
     "output_type": "execute_result"
    }
   ],
   "source": [
    "g3b.order()"
   ]
  },
  {
   "cell_type": "code",
   "execution_count": 22,
   "id": "3180a8bd",
   "metadata": {},
   "outputs": [
    {
     "data": {
      "text/plain": [
       "66"
      ]
     },
     "execution_count": 22,
     "metadata": {},
     "output_type": "execute_result"
    }
   ],
   "source": [
    "h3b.order()"
   ]
  },
  {
   "cell_type": "markdown",
   "id": "5c13d696",
   "metadata": {},
   "source": [
    "The greatest common factor of 56 (respectively, 66) and $3^{1+12} \\cdot 2$\n",
    "is 2 (respectively, 6), so that some power thereof must project to an element\n",
    "of order 28 (respectively, 11) in $\\SZ.2$. However, data in the GAP\n",
    "character table library shows that the only maximal subgroup of $\\SZ.2$\n",
    "with order divisible by both 28 and 11 is $\\SZ$, which does not\n",
    "contain elements of order 28: hence, the entire factor group $\\SZ.2$\n",
    "is generated.\n",
    "\n",
    "Now, since $\\SZ.2$ contains no elements of order 56 and $\\text{gcd} \\left( 56, 3^{1+12} \\cdot 2 \\right) = 2$,\n",
    "the 28^th power of $g_{3b}$ must lie in the normal subgroup $3^{1+12}.2$ of the 3B normaliser.\n",
    "Having order 2, it (and any of its conjugates) will lie in the outer coset of $3^{1+12}$.\n",
    "A representative of this coset is therefore present, while an element of the $3^{1+12}$ --- itself\n",
    "a normal subgroup of $\\nma{x_{3b}}$ --- can be generated by multiplying $g_{3b}^{28}$\n",
    "with a conjugate. The elements in $\\left\\{ x_{3b}, y_{3b}, \\ell \\right\\}$, `gs`, and `hs`\n",
    "below thus belong to the $3^{1+12}$."
   ]
  },
  {
   "cell_type": "code",
   "execution_count": 23,
   "id": "09890ff8",
   "metadata": {},
   "outputs": [
    {
     "data": {
      "text/plain": [
       "True"
      ]
     },
     "execution_count": 23,
     "metadata": {},
     "output_type": "execute_result"
    }
   ],
   "source": [
    "y3b = MM(\"M<y_4ech*x_0aeeh*d_83bh*p_240916280*l_2*p_2597760*l_1*p_169605*t_2*l_1*p_2027520*l_1*p_22750595*t_2*l_1*p_2640000*l_1*p_178009*t_2*l_1*p_960*l_2*p_53815392*t_2*l_1*p_1415040*l_1*p_2256*l_2*p_76800*t_2*l_2*p_8004480*l_2*p_63909120>\")\n",
    "gs = (\n",
    "    MM(\"M<y_58eh*x_8fh*d_2c9h*p_76285619*l_2*p_1457280*l_1*p_32103884*t_2*l_1*p_960*l_2*p_10665888*l_2*p_3763200*t_1*l_1*p_2027520*l_1*p_13020096*l_2*t_1*l_2*p_2956800*l_1*p_53349541*t_2*l_2*p_1415040*l_1*p_466800*l_2*p_3465600*t_1*l_2*p_2386560*l_2*p_42717489*t_2*l_2*p_2956800*l_1*p_85370418>\"),\n",
    "    MM(\"M<y_662h*x_17f8h*d_0ff0h*p_233651083*l_1*p_543360*t_1*l_1*p_2027520*l_1*p_47239*t_2*l_2*p_1457280*l_1*p_578263*t_1*l_1*p_15100800*t_2*l_2*p_2597760*l_1*p_21426569*t_1*l_2*p_2597760*l_1*p_64078688*t_1*l_1*p_1499520*l_1*p_85328065>\"),\n",
    "    MM(\"M<y_778h*x_0a7dh*d_0b20h*p_61290019*l_2*p_234220800*t_2*l_2*p_1943040*l_2*p_2352323*l_1*t_2*l_1*p_1858560*l_2*p_23280*l_1*p_2411520*t_2*l_1*p_3823680*t_1*l_1*p_68787840*l_1*p_108704736*t_1*l_2*p_2956800*l_1*p_53814185*t_1*l_2*p_59917440*l_1*p_127776096>\"),\n",
    "    MM(\"M<y_91h*x_550h*d_8f8h*p_131387342*l_2*p_1900800*l_2*p_21865336*l_2*t_1*l_1*p_1415040*l_1*p_23328*l_2*p_1520640*t_2*l_2*p_1943040*l_2*p_2414887*l_1*t_2*l_1*p_1099200*t_2*l_2*p_2830080*l_2*p_42796362*t_2*l_2*p_1943040*l_2*p_85816867*t_2*l_2*p_2956800*l_1*p_53381152>\"),\n",
    "    MM(\"M<y_36dh*x_0f60h*d_312h*p_128810854*l_1*p_2640000*l_1*p_21865335*t_1*l_2*p_2830080*l_2*p_21370*l_2*t_2*l_2*p_1985280*l_1*p_32504018*l_2*t_2*l_2*p_1943040*l_2*p_12176258*l_2*t_1*l_2*p_1900800*l_2*p_5763*t_2*l_2*p_2830080*l_2*p_42671248>\")\n",
    ")\n",
    "hs = (\n",
    "    MM(\"M<y_0abh*x_13d0h*d_0f66h*p_197048161*l_1*p_1858560*l_1*p_465936*l_2*p_510720*t_1*l_2*p_24000*l_2*p_488160*t_1*l_2*p_2386560*l_2*p_64036498*t_2*l_2*p_2787840*l_2*p_2800905*l_2*t_2*l_2*p_2787840*l_2*p_11554*t_2*l_1*p_2640000*l_1*p_13458>\"),\n",
    "    MM(\"M<y_119h*x_75bh*d_8bbh*p_203279177*l_2*p_2830080*l_2*p_10671544*t_1*l_1*p_2027520*l_1*p_22307968*l_1*t_1*l_2*p_2956800*l_1*p_21888592*l_2*t_1*l_1*p_1499520*l_2*p_42677961*t_2*l_2*p_2830080*l_2*p_21336113*t_1*l_1*p_1457280*l_2*p_12994999*l_1*t_1*l_2*p_2830080*l_2*p_21345778>\"),\n",
    "    MM(\"M<y_1a3h*x_0b74h*d_0a38h*p_201631922*l_2*p_2344320*l_2*p_33013873*l_2*t_1*l_1*p_1499520*l_2*p_467786*l_1*t_2*l_2*p_1393920*l_2*p_3120*l_1*p_1206720*t_1*l_2*p_1900800*l_2*p_3104*t_2*l_2*p_1858560*l_1*p_10665888*l_1*p_699840*t_2*l_2*p_5641920*l_1*t_1*l_2*p_1900800*l_2*p_137698>\"),\n",
    "    MM(\"M<y_0f2h*x_1c21h*d_0e0fh*p_228919392*l_1*p_80319360*l_2*p_231116160*t_1*l_2*p_1900800*l_2*p_22774569*l_2*t_1*l_2*p_2787840*l_2*p_33013910*l_1*t_1*l_2*p_1943040*l_2*p_33460438*l_1*t_2*l_1*p_2027520*l_1*p_5761*t_2*l_2*p_2830080*l_2*p_42798259>\"),\n",
    "    MM(\"M<y_4b1h*x_1162h*d_3b3h*p_195698166*l_2*p_2956800*l_1*p_32978354*l_2*t_1*l_1*p_2640000*l_1*p_2859335*l_2*t_1*l_2*p_1900800*l_2*p_2388161*l_1*t_2*l_1*p_467520*l_1*p_85056*t_2*l_1*p_1499520*l_1*p_85820694*t_2*l_2*p_1943040*l_2*p_85367645*t_2*l_2*p_1943040*l_2*p_42729963>\")\n",
    ")\n",
    "\n",
    "r = (g3b**28)*(g3b**28)**h3b\n",
    "cnj1 = [g3b**4*(h3b*g3b)**2*g3b, g3b*h3b**3*g3b*h3b*g3b**3, g3b*h3b*g3b**2*h3b*(h3b*g3b)**2, (h3b*g3b)**2*g3b*(h3b*g3b)**2]\n",
    "cnj2 = [h3b**2*g3b**4*h3b*g3b**3, g3b*h3b**3*g3b**2*h3b, h3b*g3b**6*h3b**2*g3b, g3b*h3b**2*g3b**3*h3b**2*g3b**2, h3b*g3b**2*h3b**2*g3b*h3b]\n",
    "\n",
    "gs == (r**cnj1[2]*r**cnj2[0], r**cnj1[3], r**(cnj1[0]*h3b)/r**cnj2[0], r**(cnj1[2]*h3b), r**cnj2[0])"
   ]
  },
  {
   "cell_type": "code",
   "execution_count": 24,
   "id": "156424ef",
   "metadata": {},
   "outputs": [
    {
     "data": {
      "text/plain": [
       "True"
      ]
     },
     "execution_count": 24,
     "metadata": {},
     "output_type": "execute_result"
    }
   ],
   "source": [
    "hs == (r**cnj2[1], r**cnj2[2], r**cnj2[3]/r**cnj2[2], r**cnj2[4]*r**cnj2[2], (r**cnj2[1])**2*r**cnj2[3]*r)"
   ]
  },
  {
   "cell_type": "code",
   "execution_count": 25,
   "id": "e4b5ad4a",
   "metadata": {},
   "outputs": [
    {
     "data": {
      "text/plain": [
       "True"
      ]
     },
     "execution_count": 25,
     "metadata": {},
     "output_type": "execute_result"
    }
   ],
   "source": [
    "x3b == (r**cnj1[0])**2*(r**cnj1[1])**2*gs[0]*gs[2]*gs[3]**2"
   ]
  },
  {
   "cell_type": "code",
   "execution_count": 26,
   "id": "23b931f3",
   "metadata": {},
   "outputs": [
    {
     "data": {
      "text/plain": [
       "True"
      ]
     },
     "execution_count": 26,
     "metadata": {},
     "output_type": "execute_result"
    }
   ],
   "source": [
    "y3b == (r**cnj1[0])**2*gs[0]*gs[2]*gs[3]**2*gs[4]**2"
   ]
  },
  {
   "cell_type": "code",
   "execution_count": 27,
   "id": "9265b7da",
   "metadata": {},
   "outputs": [],
   "source": [
    "l = (r**(g3b**2)).reduce()"
   ]
  },
  {
   "cell_type": "markdown",
   "id": "bae40416",
   "metadata": {},
   "source": [
    "They in fact satisfy all the conditions for Lemma 2.2\n",
    "with $N = 3^{1+12}$ and $\\sigma$ as defined below:"
   ]
  },
  {
   "cell_type": "code",
   "execution_count": 28,
   "id": "81091bdb",
   "metadata": {},
   "outputs": [
    {
     "data": {
      "text/plain": [
       "True"
      ]
     },
     "execution_count": 28,
     "metadata": {},
     "output_type": "execute_result"
    }
   ],
   "source": [
    "\u03c3 = MM(\"M<y_46ch*x_19b9h*d_9f4h*p_43971768*l_1*p_2640000*l_1*p_11712608*l_2*t_1*l_2*p_2597760*l_1*p_11222741*t_1*l_2*p_1943040*l_2*p_11225569*t_2*l_2*p_2386560*l_2*p_10741665*t_1*l_2*p_1985280*l_1*p_86283414*l_1*p_10688640*t_2*l_2*p_1858560*l_1*p_3168*l_2*p_10436160>\")\n",
    "check_lemma_2_2(x3b, y3b, l, gs, hs, \u03c3)"
   ]
  },
  {
   "cell_type": "markdown",
   "id": "b0106f82",
   "metadata": {},
   "source": [
    "We conclude that $x_{3b}$, $y_{3b}$, $\\ell$, `gs`, and `hs` generate\n",
    "$3^{1+12}$, and therefore that the entire subgroup $\\nma{x_{3b}} \\cong 3^{1+12} \\udot 2 \\udot \\SZ{:}2$\n",
    "lies in $\\langle g_{3b}, h_{3b} \\rangle$."
   ]
  },
  {
   "cell_type": "markdown",
   "id": "67012ae0",
   "metadata": {},
   "source": [
    "## $\\sym{3} \\times \\Th$ <a id=\"norm3C\"></a>\n",
    "The following proof is adapted from Dietrich, Lee, and Popiel.\n",
    "Parts of that work, including comments, have been copied **verbatim**;\n",
    "however, modifications have been made for technical and stylistic reasons,\n",
    "likely introducing any errors that occur.\n",
    "\n",
    "****\n",
    "\n",
    "*Standard* generators are given by"
   ]
  },
  {
   "cell_type": "code",
   "execution_count": 29,
   "id": "6b7690ca",
   "metadata": {},
   "outputs": [],
   "source": [
    "g3c = MM(\"M<y_170h*x_10bfh*d_809h*p_198739923*l_1*p_49716480*l_2*p_172571520*l_2*t_1*l_1*p_2640000*l_1*p_12575584*l_1*t_1*l_2*p_1858560*l_1*p_10666848*l_1*p_2093760*t_2*l_1*p_1499520*l_1*p_10804218*t_1*l_2*p_2956800*l_1*p_53436116*t_2*l_2*p_2386560*l_2*p_85412773*t_1*l_1*p_1499520*l_1*p_106661296>\")\n",
    "h3c = MM(\"M<y_0b5h*x_955h*d_2e1h*p_197852501*l_1*p_70561920*l_1*p_232890288*l_1*t_1*l_1*p_79875840*l_1*p_203617920*l_2*t_2*l_2*p_68344320*l_2*p_202730880*l_1*t_1*l_1*p_117575040*l_1*t_2*l_1*p_109148160*l_2>\")\n",
    "L_N = (g3c, h3c)"
   ]
  },
  {
   "cell_type": "markdown",
   "id": "d2e468f1",
   "metadata": {},
   "source": [
    "These are `a*c3` and `b*c2` in the notation of Dietrich et al. The choice of elements there\n",
    "is motivated by various considerations which do not concern us here; for more details, see\n",
    "the original argument.\n",
    "\n",
    "This subgroup is the normaliser of a 3C element in the Monster. We claim this particular instance normalises"
   ]
  },
  {
   "cell_type": "code",
   "execution_count": 30,
   "id": "f7540782",
   "metadata": {},
   "outputs": [],
   "source": [
    "x3c = MM(\"M<y_4cdh*x_1274h*d_499h*p_8151915*l_2*p_1900800*l_2*p_43255347*t_2*l_2*p_2597760*l_1*p_479249*l_2*t_2*l_1*p_4654080*t_1*l_2*p_2956800*l_1*p_53436116*t_2*l_2*p_2386560*l_2*p_85412773*t_1*l_1*p_1499520*l_1*p_106661296>\")\n",
    "L_E = [x3c]"
   ]
  },
  {
   "cell_type": "markdown",
   "id": "1e009964",
   "metadata": {},
   "source": [
    "Firstly, verify $x_{3c}$ belongs to the correct conjugacy class using $\\chi_\\MM$:"
   ]
  },
  {
   "cell_type": "code",
   "execution_count": 31,
   "id": "b6538cd6",
   "metadata": {},
   "outputs": [
    {
     "data": {
      "text/plain": [
       "3"
      ]
     },
     "execution_count": 31,
     "metadata": {},
     "output_type": "execute_result"
    }
   ],
   "source": [
    "x3c.order()"
   ]
  },
  {
   "cell_type": "code",
   "execution_count": 32,
   "id": "0c61581a",
   "metadata": {},
   "outputs": [
    {
     "data": {
      "text/plain": [
       "True"
      ]
     },
     "execution_count": 32,
     "metadata": {},
     "output_type": "execute_result"
    }
   ],
   "source": [
    "# Conjugate x3c into G_x0 by sending an involution with which it commutes to z.\n",
    "x3c_conj = (x3c**(g3c**3).conjugate_involution()[1]).reduce()\n",
    "x3c_conj.in_G_x0()"
   ]
  },
  {
   "cell_type": "code",
   "execution_count": 33,
   "id": "3183a706",
   "metadata": {},
   "outputs": [
    {
     "data": {
      "text/plain": [
       "-1"
      ]
     },
     "execution_count": 33,
     "metadata": {},
     "output_type": "execute_result"
    }
   ],
   "source": [
    "x3c_conj.chi_G_x0()[0]"
   ]
  },
  {
   "cell_type": "markdown",
   "id": "b437f623",
   "metadata": {},
   "source": [
    "With that settled, show the claimed generators belong to the normaliser of $x_{3c}$."
   ]
  },
  {
   "cell_type": "code",
   "execution_count": 34,
   "id": "da8f5985",
   "metadata": {},
   "outputs": [
    {
     "data": {
      "text/plain": [
       "True"
      ]
     },
     "execution_count": 34,
     "metadata": {},
     "output_type": "execute_result"
    }
   ],
   "source": [
    "check_normalise(L_E, L_N)"
   ]
  },
  {
   "cell_type": "markdown",
   "id": "85df85bd",
   "metadata": {},
   "source": [
    "As for showing the entire normaliser is generated, begin by proving $g_{3c}$ and $h_{3c}$ generate each element of the factor $\\text{Th}$.\n",
    "We in fact prove that $a = g_{3c}^3$ and $b = h_{3c}^4$ do so:\n",
    "it suffices to exhibit an element of order $19$ and an element order $31$ in $\\langle a,b \\rangle$,\n",
    "because both orders are coprime to $6 = \\left| \\sym{3} \\right|$ and no maximal subgroup of $\\text{Th}$ contains\n",
    "an element of order $31$ and an element of order $19$."
   ]
  },
  {
   "cell_type": "code",
   "execution_count": 35,
   "id": "e7bf572f",
   "metadata": {},
   "outputs": [
    {
     "data": {
      "text/plain": [
       "19"
      ]
     },
     "execution_count": 35,
     "metadata": {},
     "output_type": "execute_result"
    }
   ],
   "source": [
    "a = g3c**3\n",
    "b = h3c**4\n",
    "(a*b).order()"
   ]
  },
  {
   "cell_type": "code",
   "execution_count": 36,
   "id": "4dbb672b",
   "metadata": {},
   "outputs": [
    {
     "data": {
      "text/plain": [
       "31"
      ]
     },
     "execution_count": 36,
     "metadata": {},
     "output_type": "execute_result"
    }
   ],
   "source": [
    "(a*b*a*b**2*a*b**2*a*b*a*b**2*a*b*a*b*a*b*a*b**2*a*b**2*a*b*a*b).order()"
   ]
  },
  {
   "cell_type": "markdown",
   "id": "a4ab8997",
   "metadata": {},
   "source": [
    "It remains to show that $x_2 = h_{3c}^3$ and $x_{3c} = g_{3c}^4$ satisfy\n",
    "$\\left| x_2 \\right|=2$, $\\left| x_3 \\right|=3$, and $x_3^{x_2} = x_3^{-1}$,\n",
    "so they generate the factor group isomorphic to $\\sym{3}$."
   ]
  },
  {
   "cell_type": "code",
   "execution_count": 37,
   "id": "67e43601",
   "metadata": {},
   "outputs": [
    {
     "data": {
      "text/plain": [
       "True"
      ]
     },
     "execution_count": 37,
     "metadata": {},
     "output_type": "execute_result"
    }
   ],
   "source": [
    "x2 = h3c**3\n",
    "x3c == g3c**4"
   ]
  },
  {
   "cell_type": "code",
   "execution_count": 38,
   "id": "65fad1df",
   "metadata": {},
   "outputs": [
    {
     "data": {
      "text/plain": [
       "2"
      ]
     },
     "execution_count": 38,
     "metadata": {},
     "output_type": "execute_result"
    }
   ],
   "source": [
    "x2.order()"
   ]
  },
  {
   "cell_type": "code",
   "execution_count": 39,
   "id": "3d3a5e29",
   "metadata": {},
   "outputs": [
    {
     "data": {
      "text/plain": [
       "True"
      ]
     },
     "execution_count": 39,
     "metadata": {},
     "output_type": "execute_result"
    }
   ],
   "source": [
    "x3c**x2 == 1/x3c"
   ]
  },
  {
   "cell_type": "markdown",
   "id": "f108c069",
   "metadata": {},
   "source": [
    "We further claim that $g_{3c}$ and $h_{3c}$ project to standard generators $a, b$\n",
    "for $\\text{Th}$. This means that, as well as being generators, they lie in the same\n",
    "cosets of $\\sym{3}$ as $a, b$ respectively and\n",
    "\n",
    "1. $a$ has order $2$, \n",
    "2. $b$ lies in the $\\text{Th}$-class 3A, \n",
    "3. $ab$ has order $19$.\n",
    "\n",
    "It is easily verified that $a, b$ centralise $\\langle x_2, x_{3c}$\n",
    "and thus lie in $\\text{Th}$, which they were shown to generate\n",
    "(modulo the $\\sym{3}$) above:"
   ]
  },
  {
   "cell_type": "code",
   "execution_count": 40,
   "id": "b312d43c",
   "metadata": {},
   "outputs": [
    {
     "data": {
      "text/plain": [
       "True"
      ]
     },
     "execution_count": 40,
     "metadata": {},
     "output_type": "execute_result"
    }
   ],
   "source": [
    "# Obviously x3c = g3c**4 and x2 = h3c**3 commute with a = g3c**3 and b = h3c**4, respectively\n",
    "x2*a == a*x2"
   ]
  },
  {
   "cell_type": "code",
   "execution_count": 41,
   "id": "4704be5c",
   "metadata": {},
   "outputs": [
    {
     "data": {
      "text/plain": [
       "True"
      ]
     },
     "execution_count": 41,
     "metadata": {},
     "output_type": "execute_result"
    }
   ],
   "source": [
    "x3c*b == b*x3c"
   ]
  },
  {
   "cell_type": "markdown",
   "id": "e1dcd309",
   "metadata": {},
   "source": [
    "Conditions 1 is also readily checked, and 3 was shown in exhibiting $ab$ as an element of order 19 above."
   ]
  },
  {
   "cell_type": "code",
   "execution_count": 42,
   "id": "67f4d952",
   "metadata": {},
   "outputs": [
    {
     "data": {
      "text/plain": [
       "2"
      ]
     },
     "execution_count": 42,
     "metadata": {},
     "output_type": "execute_result"
    }
   ],
   "source": [
    "a.order()"
   ]
  },
  {
   "cell_type": "markdown",
   "id": "c91e0da2",
   "metadata": {},
   "source": [
    "To check condition 2, note that every element of order $39$ in $\\text{Th}$ powers to $\\text{Th}$-class 3A.\n",
    "The following element centralises $\\langle x_2, x_{3c} \\rangle$, has order $39$, and powers to $b$. Therefore, condition 2 holds."
   ]
  },
  {
   "cell_type": "code",
   "execution_count": 43,
   "id": "e201f946",
   "metadata": {},
   "outputs": [
    {
     "data": {
      "text/plain": [
       "True"
      ]
     },
     "execution_count": 43,
     "metadata": {},
     "output_type": "execute_result"
    }
   ],
   "source": [
    "g39 = MM(\"M<y_0f7h*x_4d8h*d_711h*p_106931325*l_2*p_70118400*l_1*p_190312368*l_1*t_1*l_2*p_80319360*l_1*p_222245808*l_2*t_1*l_1*p_67900800*l_1*p_11552640*l_2*t_1*l_2*p_70118400*l_1*p_179668128>\")\n",
    "g39*x2 == x2*g39"
   ]
  },
  {
   "cell_type": "code",
   "execution_count": 44,
   "id": "bdf6c390",
   "metadata": {},
   "outputs": [
    {
     "data": {
      "text/plain": [
       "True"
      ]
     },
     "execution_count": 44,
     "metadata": {},
     "output_type": "execute_result"
    }
   ],
   "source": [
    "g39*x3c == x3c*g39"
   ]
  },
  {
   "cell_type": "code",
   "execution_count": 45,
   "id": "a136ce66",
   "metadata": {},
   "outputs": [
    {
     "data": {
      "text/plain": [
       "39"
      ]
     },
     "execution_count": 45,
     "metadata": {},
     "output_type": "execute_result"
    }
   ],
   "source": [
    "g39.order()"
   ]
  },
  {
   "cell_type": "code",
   "execution_count": 46,
   "id": "6d6dc581",
   "metadata": {},
   "outputs": [
    {
     "data": {
      "text/plain": [
       "True"
      ]
     },
     "execution_count": 46,
     "metadata": {},
     "output_type": "execute_result"
    }
   ],
   "source": [
    "g39**13 == b"
   ]
  },
  {
   "cell_type": "markdown",
   "id": "e6566e7c",
   "metadata": {},
   "source": [
    "Finally, verify that $g_{3c}/a$ and $h_{3c}/b$ lie in $\\langle x_{3c}, x_2 \\rangle \\cong \\sym{3}$:"
   ]
  },
  {
   "cell_type": "code",
   "execution_count": 47,
   "id": "a640ec3d",
   "metadata": {},
   "outputs": [
    {
     "data": {
      "text/plain": [
       "True"
      ]
     },
     "execution_count": 47,
     "metadata": {},
     "output_type": "execute_result"
    }
   ],
   "source": [
    "g3c/a == x3c"
   ]
  },
  {
   "cell_type": "code",
   "execution_count": 48,
   "id": "ec814920",
   "metadata": {},
   "outputs": [
    {
     "data": {
      "text/plain": [
       "True"
      ]
     },
     "execution_count": 48,
     "metadata": {},
     "output_type": "execute_result"
    }
   ],
   "source": [
    "h3c/b == x2"
   ]
  },
  {
   "cell_type": "markdown",
   "id": "ba343182",
   "metadata": {},
   "source": [
    "## $\\left( 3^2{:}2 \\times \\orth+{8}{3} \\right) \\udot \\sym{4}$ <a id=\"norm3A2\"></a>\n",
    "Generators are given by"
   ]
  },
  {
   "cell_type": "code",
   "execution_count": 49,
   "id": "d536bd57",
   "metadata": {},
   "outputs": [],
   "source": [
    "g3a2 = MM(\"M<y_5d6h*x_16d3h*d_0bd2h*p_139920814*l_1*p_2027520*l_1*p_21422781*t_2*l_1*p_960*l_2*p_21797088*t_1*l_2*p_1858560*l_2*p_466896*l_1*p_2841600*t_1*l_2*p_2956800*l_1*p_10858199>\")\n",
    "h3a2 = MM(\"M<y_3c4h*x_1c28h*d_6fbh*p_207447552*l_2*p_22080*l_1*p_12570864*l_1*t_2*l_2*p_2956800*l_1*p_42714562*l_1*t_2*l_2*p_2956800*l_1*p_21832546>\")\n",
    "L_N = (g3a2, h3a2)"
   ]
  },
  {
   "cell_type": "markdown",
   "id": "303b1034",
   "metadata": {},
   "source": [
    "This is the normaliser of a 3A-pure subgroup of the Monster with structure $3^2$.\n",
    "We claim this particular instance normalises the subgroup generated by"
   ]
  },
  {
   "cell_type": "code",
   "execution_count": 50,
   "id": "60d77c81",
   "metadata": {},
   "outputs": [],
   "source": [
    "x3 = MM(\"M<y_3dbh*x_14c9h*d_1c6h*p_238425007*l_2*p_1985280*l_1*p_11174636*l_2>\")\n",
    "y3 = MM(\"M<y_31eh*x_0fe2h*d_0f91h*p_62189621*l_1*p_2999040*l_1*p_21335268*l_2>\")\n",
    "L_E = (x3, y3)"
   ]
  },
  {
   "cell_type": "markdown",
   "id": "0313ca14",
   "metadata": {},
   "source": [
    "Note that $x_3$ is as in [Theorem 2.5](#norm3A).  \n",
    "Firstly, verify that $x_3$ and $y_3 \\notin \\langle x_3 \\rangle$ are\n",
    "commuting elements of order 3:"
   ]
  },
  {
   "cell_type": "code",
   "execution_count": 51,
   "id": "d4fd3e4f",
   "metadata": {},
   "outputs": [
    {
     "data": {
      "text/plain": [
       "3"
      ]
     },
     "execution_count": 51,
     "metadata": {},
     "output_type": "execute_result"
    }
   ],
   "source": [
    "# x3 was shown to have order 3 in the proof of Theorem 2.5\n",
    "y3.order()"
   ]
  },
  {
   "cell_type": "code",
   "execution_count": 52,
   "id": "19484226",
   "metadata": {},
   "outputs": [
    {
     "data": {
      "text/plain": [
       "True"
      ]
     },
     "execution_count": 52,
     "metadata": {},
     "output_type": "execute_result"
    }
   ],
   "source": [
    "x3**y3 == x3"
   ]
  },
  {
   "cell_type": "code",
   "execution_count": 53,
   "id": "6e68a975",
   "metadata": {},
   "outputs": [
    {
     "data": {
      "text/plain": [
       "False"
      ]
     },
     "execution_count": 53,
     "metadata": {},
     "output_type": "execute_result"
    }
   ],
   "source": [
    "y3 in [x3**i for i in range(1, 3)]"
   ]
  },
  {
   "cell_type": "markdown",
   "id": "6ab07d11",
   "metadata": {},
   "source": [
    "It follows that $\\langle x_3, y_3 \\rangle \\cong 3^2$.\n",
    "As for 3A purity, since 3A is a rational class of $\\MM$,\n",
    "checking that representatives of each cyclic subgroup of\n",
    "$\\langle x_3, y_3 \\rangle$ belong to 3A is sufficient.\n",
    "The proof for the 3A normaliser already established\n",
    "$x_3 \\in \\textup{3A}$, while representatives $\\left\\{ y_3, x_3 y_3, x_3 y_3^2 \\right\\}$\n",
    "may be tested using $\\chi_\\MM$:"
   ]
  },
  {
   "cell_type": "code",
   "execution_count": 54,
   "id": "72bc4c00",
   "metadata": {},
   "outputs": [
    {
     "data": {
      "text/plain": [
       "True"
      ]
     },
     "execution_count": 54,
     "metadata": {},
     "output_type": "execute_result"
    }
   ],
   "source": [
    "reps = [y3, x3*y3, x3*y3**2]\n",
    "all(x.in_G_x0() for x in reps)"
   ]
  },
  {
   "cell_type": "code",
   "execution_count": 55,
   "id": "21f4ce50",
   "metadata": {},
   "outputs": [
    {
     "data": {
      "text/plain": [
       "[782, 782, 782]"
      ]
     },
     "execution_count": 55,
     "metadata": {},
     "output_type": "execute_result"
    }
   ],
   "source": [
    "[x.chi_G_x0()[0] for x in reps]"
   ]
  },
  {
   "cell_type": "markdown",
   "id": "1e281f85",
   "metadata": {},
   "source": [
    "With that settled, show the claimed generators belong to the normaliser of $\\langle x_3, y_3 \\rangle$."
   ]
  },
  {
   "cell_type": "code",
   "execution_count": 56,
   "id": "9d9a5e77",
   "metadata": {},
   "outputs": [
    {
     "data": {
      "text/plain": [
       "True"
      ]
     },
     "execution_count": 56,
     "metadata": {},
     "output_type": "execute_result"
    }
   ],
   "source": [
    "map_3_2 = map_to_vectors(L_E)\n",
    "check_normalise(L_E, L_N, group_set=map_3_2)"
   ]
  },
  {
   "cell_type": "markdown",
   "id": "5f0b00ba",
   "metadata": {},
   "source": [
    "As for showing the entire normaliser of structure $\\left( 3^2{:}2 \\times \\orth+{8}{3} \\right) \\udot \\sym{4}$ is generated,\n",
    "begin by verifying that the homomorphism induced\n",
    "by $\\langle g_{3a2}, h_{3a2} \\rangle$'s action on $\\langle x_3, y_3 \\rangle$\n",
    "has an image of size $\\left| 2.\\sym{4} \\right| = 48$:"
   ]
  },
  {
   "cell_type": "code",
   "execution_count": 57,
   "id": "85e583d7",
   "metadata": {},
   "outputs": [
    {
     "data": {
      "text/plain": [
       "48"
      ]
     },
     "execution_count": 57,
     "metadata": {},
     "output_type": "execute_result"
    }
   ],
   "source": [
    "size_image(L_N, map_3_2, basis=L_E)"
   ]
  },
  {
   "cell_type": "markdown",
   "id": "b960d3de",
   "metadata": {},
   "source": [
    "It thus suffices to prove that the centraliser $3^2 \\times \\orth+{8}{3}$ is contained\n",
    "in $\\langle g_{3a2}, h_{3a2} \\rangle$. The factor $3^2$ is necessarily\n",
    "$\\langle x_3, y_3 \\rangle$, of which both generators appear:"
   ]
  },
  {
   "cell_type": "code",
   "execution_count": 58,
   "id": "2e066cc7",
   "metadata": {},
   "outputs": [
    {
     "data": {
      "text/plain": [
       "True"
      ]
     },
     "execution_count": 58,
     "metadata": {},
     "output_type": "execute_result"
    }
   ],
   "source": [
    "(h3a2*g3a2**3*(h3a2*g3a2)**2)**8 == x3"
   ]
  },
  {
   "cell_type": "code",
   "execution_count": 59,
   "id": "2f62c29d",
   "metadata": {},
   "outputs": [
    {
     "data": {
      "text/plain": [
       "True"
      ]
     },
     "execution_count": 59,
     "metadata": {},
     "output_type": "execute_result"
    }
   ],
   "source": [
    "(h3a2*g3a2*h3a2*g3a2**3*h3a2*g3a2)**8 == y3"
   ]
  },
  {
   "cell_type": "markdown",
   "id": "3a6adc2e",
   "metadata": {},
   "source": [
    "We claim that the factor $\\orth+{8}{3}$ is generated by the following three elements.\n",
    "of $C_\\MM \\left( \\langle x_3, y_3 \\rangle \\right)$."
   ]
  },
  {
   "cell_type": "code",
   "execution_count": 60,
   "id": "3b38a682",
   "metadata": {},
   "outputs": [
    {
     "data": {
      "text/plain": [
       "13"
      ]
     },
     "execution_count": 60,
     "metadata": {},
     "output_type": "execute_result"
    }
   ],
   "source": [
    "x13 = (g3a2**2*h3a2)**2*g3a2**4/h3a2**2\n",
    "x13.order()"
   ]
  },
  {
   "cell_type": "code",
   "execution_count": 61,
   "id": "9778ae25",
   "metadata": {},
   "outputs": [
    {
     "data": {
      "text/plain": [
       "True"
      ]
     },
     "execution_count": 61,
     "metadata": {},
     "output_type": "execute_result"
    }
   ],
   "source": [
    "x13**x3 == x13**y3 == x13"
   ]
  },
  {
   "cell_type": "code",
   "execution_count": 62,
   "id": "c98a8365",
   "metadata": {},
   "outputs": [
    {
     "data": {
      "text/plain": [
       "2"
      ]
     },
     "execution_count": 62,
     "metadata": {},
     "output_type": "execute_result"
    }
   ],
   "source": [
    "x2 = ((h3a2*g3a2)**2*h3a2/g3a2)**15\n",
    "x2.order()"
   ]
  },
  {
   "cell_type": "code",
   "execution_count": 63,
   "id": "aa27a9b0",
   "metadata": {},
   "outputs": [
    {
     "data": {
      "text/plain": [
       "True"
      ]
     },
     "execution_count": 63,
     "metadata": {},
     "output_type": "execute_result"
    }
   ],
   "source": [
    "x2**x3 == x2**y3 == x2"
   ]
  },
  {
   "cell_type": "code",
   "execution_count": 64,
   "id": "35ec1019",
   "metadata": {},
   "outputs": [
    {
     "data": {
      "text/plain": [
       "14"
      ]
     },
     "execution_count": 64,
     "metadata": {},
     "output_type": "execute_result"
    }
   ],
   "source": [
    "g = h3a2**2*(g3a2*h3a2)**2/(h3a2*g3a2)\n",
    "x14 = (g*x2/g*x2*g)**3\n",
    "x14.order()"
   ]
  },
  {
   "cell_type": "code",
   "execution_count": 65,
   "id": "00975d36",
   "metadata": {},
   "outputs": [
    {
     "data": {
      "text/plain": [
       "True"
      ]
     },
     "execution_count": 65,
     "metadata": {},
     "output_type": "execute_result"
    }
   ],
   "source": [
    "x14**x3 == x14**y3 == x14"
   ]
  },
  {
   "cell_type": "markdown",
   "id": "9aed0e65",
   "metadata": {},
   "source": [
    "Since 13, 2, and 14 are all relatively prime to $3^2$,\n",
    "these elements certainly lie in the factor $\\orth+{8}{3}$\n",
    "of the centraliser. Moreover, data in the GAP Character Table\n",
    "Library show that the only maximal subgroup of $\\orth+{8}{3}$\n",
    "with order divisible by both 13 and 14 is $\\orth{}{7}{3}$,\n",
    "in which the centraliser of an element of order 7 has order 14.\n",
    "The elements $x_{13}$, $x_2$, and $x_{14}$ can therefore be\n",
    "shown to generate the full group by exhibiting distinct involutions\n",
    "in $\\langle x_{13}, x_2, x_{14} \\rangle$ which centralise\n",
    "the same element of order 7."
   ]
  },
  {
   "cell_type": "code",
   "execution_count": 66,
   "id": "071a1600",
   "metadata": {},
   "outputs": [
    {
     "data": {
      "text/plain": [
       "True"
      ]
     },
     "execution_count": 66,
     "metadata": {},
     "output_type": "execute_result"
    }
   ],
   "source": [
    "# x14**2 and x14**7 are commuting elements of orders 14/2 = 7 and 14/7 = 2\n",
    "x2**(x14**2) == x2"
   ]
  },
  {
   "cell_type": "code",
   "execution_count": 67,
   "id": "10ccb853",
   "metadata": {},
   "outputs": [
    {
     "data": {
      "text/plain": [
       "False"
      ]
     },
     "execution_count": 67,
     "metadata": {},
     "output_type": "execute_result"
    }
   ],
   "source": [
    "x2 == x14**7"
   ]
  },
  {
   "cell_type": "markdown",
   "id": "36e23988",
   "metadata": {},
   "source": [
    "## $3^{2+5+10}{:}\\left( \\MT{11} \\times 2.\\sym{4} \\right)$ <a id=\"norm3B2\"></a>\n",
    "Generators are given by"
   ]
  },
  {
   "cell_type": "code",
   "execution_count": 68,
   "id": "6bf38f0b",
   "metadata": {},
   "outputs": [],
   "source": [
    "g3b2 = MM(\"M<y_1c6h*x_105dh*d_0beh*p_82157098*l_2*p_1943040*l_2*p_1164*t_2*l_2*p_2344320*l_2*p_33456440*l_2*t_1*l_2*p_2956800*l_1*p_32089527*l_2*t_1*l_1*p_2999040*l_1*p_6721*t_2*l_2*p_2956800*l_1*p_43171556*t_1*l_2*p_1394880*l_2*p_1152*l_1*p_1162560*t_2*l_2*p_5760*l_1*t_1*l_1*p_1499520*l_1*p_42733803>\")\n",
    "h3b2 = MM(\"M<y_2eh*x_1a4ah*d_0c25h*p_13369244*l_2*p_2386560*l_2*p_32572328*l_1*t_2*l_1*p_1457280*l_2*p_21907639*l_2*t_1*l_2*p_1393920*l_1*p_10665792*l_1*p_4734720*t_2*l_2*p_1943040*l_2*p_64126679*t_1*l_1*p_1499520*l_2*p_106702675*t_2*l_2*p_2830080*l_2*p_85336725*t_2*l_1*p_1499520*l_2*p_96464240>\")\n",
    "L_N = (g3b2, h3b2)"
   ]
  },
  {
   "cell_type": "markdown",
   "id": "370749d1",
   "metadata": {},
   "source": [
    "This is the normaliser of a certain conjugacy class of 3B-pure $3^2$s in the Monster.\n",
    "We claim this particular instance normalises the subgroup generated by $x_{3b}$ and $y_{3b}$\n",
    "from [Theorem 2.6](#norm3B):"
   ]
  },
  {
   "cell_type": "code",
   "execution_count": 69,
   "id": "15c6c08b",
   "metadata": {},
   "outputs": [],
   "source": [
    "x3b = MM(\"M<y_5d4h*x_17efh*d_0f7eh*p_183231946*l_2*p_2787840*l_2*p_22759172>\")\n",
    "y3b = MM(\"M<y_4ech*x_0aeeh*d_83bh*p_240916280*l_2*p_2597760*l_1*p_169605*t_2*l_1*p_2027520*l_1*p_22750595*t_2*l_1*p_2640000*l_1*p_178009*t_2*l_1*p_960*l_2*p_53815392*t_2*l_1*p_1415040*l_1*p_2256*l_2*p_76800*t_2*l_2*p_8004480*l_2*p_63909120>\")\n",
    "L_E = (x3b, y3b)"
   ]
  },
  {
   "cell_type": "markdown",
   "id": "0a928ca3",
   "metadata": {},
   "source": [
    "Firstly, recall from the proof of [Theorem 2.6](#norm3B) that $x_{3b}$ belongs\n",
    "to conjugacy class 3B and $y_{3b} \\notin \\langle x_{3b} \\rangle$ is\n",
    "an element of order 3 that commutes with $x_{3b}$. The group\n",
    "$\\langle x_{3b}, y_{3b} \\rangle$ thus has structure $3^2$; that it is\n",
    "a suitable $3^2$ for the desired subgroup will be established\n",
    "in the process of proving that $\\langle g_{3b}, h_{3b} \\rangle =\n",
    "    \\nma{x_{3b2}, y_{3b2}}$.\n",
    "\n",
    "Show the claimed generators belong to the normaliser of\n",
    "$\\langle x_{3b}, y_{3b} \\rangle$ and $g_{3b2}$ has order 88:"
   ]
  },
  {
   "cell_type": "code",
   "execution_count": 70,
   "id": "7d999d1b",
   "metadata": {},
   "outputs": [
    {
     "data": {
      "text/plain": [
       "True"
      ]
     },
     "execution_count": 70,
     "metadata": {},
     "output_type": "execute_result"
    }
   ],
   "source": [
    "map_3_2 = map_to_vectors(L_E)\n",
    "check_normalise(L_E, L_N, group_set=map_3_2)"
   ]
  },
  {
   "cell_type": "code",
   "execution_count": 71,
   "id": "3899980a",
   "metadata": {},
   "outputs": [
    {
     "data": {
      "text/plain": [
       "88"
      ]
     },
     "execution_count": 71,
     "metadata": {},
     "output_type": "execute_result"
    }
   ],
   "source": [
    "g3b2.order()"
   ]
  },
  {
   "cell_type": "markdown",
   "id": "b89b4173",
   "metadata": {},
   "source": [
    "By Theorem 5.2 of Wilson's odd local subgroups paper,\n",
    "the normaliser of any group of structure $3^2$ is a subgroup\n",
    "of a maximal 3-local subgroup of structure $3 \\udot \\FI$, $3^{1+12} \\udot 2 \\udot \\SZ{:}2$,\n",
    "$\\left( 3^2{:}2 \\times \\orth+{8}{3} \\right) \\udot \\sym{4}$, $3^{2+5+10}{:}\\left( \\MT{11} \\times 2.\\sym{4} \\right)$, or $3^8 \\udot \\orth-{8}{3}.2$. Data in the GAP Character\n",
    "Table Library show that $\\FI$, $\\SZ$, $\\orth+{8}{3}$, and\n",
    "$\\orth-{8}{3}$ lack elements of orders 44, 22, 11, and 11, respectively,\n",
    "so that only the fourth 3-local subgroup can contain elements of order 88.\n",
    "It follows that $N_\\MM \\left( \\langle x_{3b}, y_{3b} \\rangle \\right)$\n",
    "is a subgroup of a maximal 3-local subgroup of $\\MM$ with structure $3^{2+5+10}{:}\\left( \\MT{11} \\times 2.\\sym{4} \\right)$.\n",
    "\n",
    "To show that it is in fact such a group generated by $g_{3b2}, h_{3b2}$,\n",
    "we first verify that $\\langle g_{3b2}, h_{3b2} \\rangle$ contains a subgroup of\n",
    "$\\cma{x_{3b}, y_{3b}}$ of order at least $\\left| 3^{2+5+10}{:}\\MT{11} \\right| =\n",
    "    3^{17} \\left| \\MT{11} \\right|$. Check $a = h_{3b2}^6$ and\n",
    "$b = \\left( g_{3b2}^8 h_{3b2}^3 g_{3b2}^{32} \\right)^2$ commute\n",
    "with $x_{3b}, y_{3b}$ and generate a group of shape $\\MT{11}$:"
   ]
  },
  {
   "cell_type": "code",
   "execution_count": 72,
   "id": "06299cab",
   "metadata": {},
   "outputs": [
    {
     "data": {
      "text/plain": [
       "True"
      ]
     },
     "execution_count": 72,
     "metadata": {},
     "output_type": "execute_result"
    }
   ],
   "source": [
    "a = MM(\"M<y_505h*x_15ech*d_0c61h*p_228858934*l_2*p_3256320*l_2*t_2*l_1*p_2027520*l_1*p_11597987*l_1*t_2*l_1*p_2027520*l_1*p_22816917*l_2*t_2*l_1*p_2027520*l_1*p_10593*t_1*l_2*p_6084480*t_1*l_1*p_1499520*l_2*p_42667430*t_1*l_2*p_1457280*l_1*p_50125*t_1*l_2*p_2787840*l_2*p_12485>\")\n",
    "b = MM(\"M<y_111h*x_0f22h*d_0d97h*p_164778853*l_2*p_1943040*l_2*p_22350273*l_2*t_1*l_2*p_1985280*l_1*p_10665830*l_2*t_2*l_2*p_1394880*l_2*p_22272*l_1*p_1549440*t_2*l_2*p_2344320*l_2*p_2816215*t_1*l_2*p_1943040*l_2*p_127989696*t_1*l_2*p_1985280*l_1*p_64016114*t_2*l_1*p_1499520*l_1*p_43598819>\")\n",
    "\n",
    "a == h3b2**6"
   ]
  },
  {
   "cell_type": "code",
   "execution_count": 73,
   "id": "fc138d2a",
   "metadata": {},
   "outputs": [
    {
     "data": {
      "text/plain": [
       "True"
      ]
     },
     "execution_count": 73,
     "metadata": {},
     "output_type": "execute_result"
    }
   ],
   "source": [
    "b == (g3b2**8*h3b2**3*g3b2**32)**2"
   ]
  },
  {
   "cell_type": "code",
   "execution_count": 74,
   "id": "90cd20d1",
   "metadata": {},
   "outputs": [
    {
     "data": {
      "text/plain": [
       "True"
      ]
     },
     "execution_count": 74,
     "metadata": {},
     "output_type": "execute_result"
    }
   ],
   "source": [
    "x3b**a == x3b**b == x3b"
   ]
  },
  {
   "cell_type": "code",
   "execution_count": 75,
   "id": "bda1c92b",
   "metadata": {},
   "outputs": [
    {
     "data": {
      "text/plain": [
       "True"
      ]
     },
     "execution_count": 75,
     "metadata": {},
     "output_type": "execute_result"
    }
   ],
   "source": [
    "y3b**a == y3b**b == y3b"
   ]
  },
  {
   "cell_type": "code",
   "execution_count": 76,
   "id": "31e6a722",
   "metadata": {},
   "outputs": [
    {
     "data": {
      "text/plain": [
       "True"
      ]
     },
     "execution_count": 76,
     "metadata": {},
     "output_type": "execute_result"
    }
   ],
   "source": [
    "test_m11(a, b)"
   ]
  },
  {
   "cell_type": "markdown",
   "id": "6cc4d510",
   "metadata": {},
   "source": [
    "As for the factor of $3^{17}$, recall from the proof of\n",
    "[Theorem 2.6](#norm3B) that $x_{3b}$, $y_{3b}$, and\n",
    "certain $\\ell, \\left\\{ g_i \\right\\}_{i=1}^5,\n",
    "    \\left\\{ h_i \\right\\}_{i=1}^5$, $\\sigma$ satisfy the conditions\n",
    "for Lemma 2.2 with $p = 3$ and $k = 5$. It follows that\n",
    "$x_{3b}$, $y_{3b}$, $\\left\\{ g_i \\right\\}$, $\\left\\{ h_i \\right\\}$,\n",
    "and their conjugates by $\\sigma$ generate a 3-group\n",
    "normal in $\\cma{x_{3b}, y_{3b}}$ of order at least $3^{2+5+5+5} = 3^{17}$\n",
    "(noting the conjugates $g_i^{\\sigma}$ cannot be counted in the exponent).\n",
    "Expressing each of these elements as a word in $g_{3b2}, h_{3b2}$ therefore\n",
    "yields the desired factor."
   ]
  },
  {
   "cell_type": "code",
   "execution_count": 77,
   "id": "ea09f541",
   "metadata": {},
   "outputs": [
    {
     "data": {
      "text/plain": [
       "True"
      ]
     },
     "execution_count": 77,
     "metadata": {},
     "output_type": "execute_result"
    }
   ],
   "source": [
    "# The given elements\n",
    "gs = (\n",
    "    MM(\"M<y_58eh*x_8fh*d_2c9h*p_76285619*l_2*p_1457280*l_1*p_32103884*t_2*l_1*p_960*l_2*p_10665888*l_2*p_3763200*t_1*l_1*p_2027520*l_1*p_13020096*l_2*t_1*l_2*p_2956800*l_1*p_53349541*t_2*l_2*p_1415040*l_1*p_466800*l_2*p_3465600*t_1*l_2*p_2386560*l_2*p_42717489*t_2*l_2*p_2956800*l_1*p_85370418>\"),\n",
    "    MM(\"M<y_662h*x_17f8h*d_0ff0h*p_233651083*l_1*p_543360*t_1*l_1*p_2027520*l_1*p_47239*t_2*l_2*p_1457280*l_1*p_578263*t_1*l_1*p_15100800*t_2*l_2*p_2597760*l_1*p_21426569*t_1*l_2*p_2597760*l_1*p_64078688*t_1*l_1*p_1499520*l_1*p_85328065>\"),\n",
    "    MM(\"M<y_778h*x_0a7dh*d_0b20h*p_61290019*l_2*p_234220800*t_2*l_2*p_1943040*l_2*p_2352323*l_1*t_2*l_1*p_1858560*l_2*p_23280*l_1*p_2411520*t_2*l_1*p_3823680*t_1*l_1*p_68787840*l_1*p_108704736*t_1*l_2*p_2956800*l_1*p_53814185*t_1*l_2*p_59917440*l_1*p_127776096>\"),\n",
    "    MM(\"M<y_91h*x_550h*d_8f8h*p_131387342*l_2*p_1900800*l_2*p_21865336*l_2*t_1*l_1*p_1415040*l_1*p_23328*l_2*p_1520640*t_2*l_2*p_1943040*l_2*p_2414887*l_1*t_2*l_1*p_1099200*t_2*l_2*p_2830080*l_2*p_42796362*t_2*l_2*p_1943040*l_2*p_85816867*t_2*l_2*p_2956800*l_1*p_53381152>\"),\n",
    "    MM(\"M<y_36dh*x_0f60h*d_312h*p_128810854*l_1*p_2640000*l_1*p_21865335*t_1*l_2*p_2830080*l_2*p_21370*l_2*t_2*l_2*p_1985280*l_1*p_32504018*l_2*t_2*l_2*p_1943040*l_2*p_12176258*l_2*t_1*l_2*p_1900800*l_2*p_5763*t_2*l_2*p_2830080*l_2*p_42671248>\")\n",
    ")\n",
    "hs = (\n",
    "    MM(\"M<y_0abh*x_13d0h*d_0f66h*p_197048161*l_1*p_1858560*l_1*p_465936*l_2*p_510720*t_1*l_2*p_24000*l_2*p_488160*t_1*l_2*p_2386560*l_2*p_64036498*t_2*l_2*p_2787840*l_2*p_2800905*l_2*t_2*l_2*p_2787840*l_2*p_11554*t_2*l_1*p_2640000*l_1*p_13458>\"),\n",
    "    MM(\"M<y_119h*x_75bh*d_8bbh*p_203279177*l_2*p_2830080*l_2*p_10671544*t_1*l_1*p_2027520*l_1*p_22307968*l_1*t_1*l_2*p_2956800*l_1*p_21888592*l_2*t_1*l_1*p_1499520*l_2*p_42677961*t_2*l_2*p_2830080*l_2*p_21336113*t_1*l_1*p_1457280*l_2*p_12994999*l_1*t_1*l_2*p_2830080*l_2*p_21345778>\"),\n",
    "    MM(\"M<y_1a3h*x_0b74h*d_0a38h*p_201631922*l_2*p_2344320*l_2*p_33013873*l_2*t_1*l_1*p_1499520*l_2*p_467786*l_1*t_2*l_2*p_1393920*l_2*p_3120*l_1*p_1206720*t_1*l_2*p_1900800*l_2*p_3104*t_2*l_2*p_1858560*l_1*p_10665888*l_1*p_699840*t_2*l_2*p_5641920*l_1*t_1*l_2*p_1900800*l_2*p_137698>\"),\n",
    "    MM(\"M<y_0f2h*x_1c21h*d_0e0fh*p_228919392*l_1*p_80319360*l_2*p_231116160*t_1*l_2*p_1900800*l_2*p_22774569*l_2*t_1*l_2*p_2787840*l_2*p_33013910*l_1*t_1*l_2*p_1943040*l_2*p_33460438*l_1*t_2*l_1*p_2027520*l_1*p_5761*t_2*l_2*p_2830080*l_2*p_42798259>\"),\n",
    "    MM(\"M<y_4b1h*x_1162h*d_3b3h*p_195698166*l_2*p_2956800*l_1*p_32978354*l_2*t_1*l_1*p_2640000*l_1*p_2859335*l_2*t_1*l_2*p_1900800*l_2*p_2388161*l_1*t_2*l_1*p_467520*l_1*p_85056*t_2*l_1*p_1499520*l_1*p_85820694*t_2*l_2*p_1943040*l_2*p_85367645*t_2*l_2*p_1943040*l_2*p_42729963>\")\n",
    ")\n",
    "\u03c3 = MM(\"M<y_46ch*x_19b9h*d_9f4h*p_43971768*l_1*p_2640000*l_1*p_11712608*l_2*t_1*l_2*p_2597760*l_1*p_11222741*t_1*l_2*p_1943040*l_2*p_11225569*t_2*l_2*p_2386560*l_2*p_10741665*t_1*l_2*p_1985280*l_1*p_86283414*l_1*p_10688640*t_2*l_2*p_1858560*l_1*p_3168*l_2*p_10436160>\")\n",
    "\n",
    "\u03c3 == (g3b2*h3b2)**9"
   ]
  },
  {
   "cell_type": "code",
   "execution_count": 78,
   "id": "c585102a",
   "metadata": {},
   "outputs": [
    {
     "data": {
      "text/plain": [
       "True"
      ]
     },
     "execution_count": 78,
     "metadata": {},
     "output_type": "execute_result"
    }
   ],
   "source": [
    "c = a**\u03c3/a\n",
    "cnj = [h3b2*g3b2, g3b2**3, h3b2*g3b2*h3b2, g3b2**3*h3b2, g3b2*h3b2**2*g3b2, h3b2*g3b2*h3b2**2, h3b2**2*g3b2**2, g3b2**3*h3b2**2, g3b2*h3b2*g3b2**3, h3b2*g3b2**2*h3b2*g3b2, h3b2*g3b2*h3b2**3]\n",
    "cnj = [c**x for x in cnj]\n",
    "x3b == comm(cnj[3], cnj[1])"
   ]
  },
  {
   "cell_type": "code",
   "execution_count": 79,
   "id": "eb4c6742",
   "metadata": {},
   "outputs": [
    {
     "data": {
      "text/plain": [
       "True"
      ]
     },
     "execution_count": 79,
     "metadata": {},
     "output_type": "execute_result"
    }
   ],
   "source": [
    "y3b == cnj[2]**2*cnj[3]*cnj[4]**2*cnj[6]*cnj[10]**2"
   ]
  },
  {
   "cell_type": "code",
   "execution_count": 80,
   "id": "84a2a4af",
   "metadata": {},
   "outputs": [
    {
     "data": {
      "text/plain": [
       "True"
      ]
     },
     "execution_count": 80,
     "metadata": {},
     "output_type": "execute_result"
    }
   ],
   "source": [
    "mat = [[1, 2, 0, 1, 0, 2, 0, 2, 0, 0, 0],\n",
    "       [2, 0, 1, 2, 2, 2, 0, 2, 2, 0, 0],\n",
    "       [2, 2, 2, 2, 1, 2, 2, 2, 0, 0, 2],\n",
    "       [0, 1, 2, 2, 1, 0, 2, 2, 0, 0, 0],\n",
    "       [2, 2, 2, 1, 2, 1, 1, 0, 0, 1, 2],\n",
    "       [0, 1, 1, 2, 1, 1, 2, 0, 0, 0, 2],\n",
    "       [0, 1, 2, 1, 1, 1, 1, 1, 0, 2, 0],\n",
    "       [1, 2, 0, 1, 2, 2, 2, 0, 1, 2, 0],\n",
    "       [2, 1, 0, 0, 0, 1, 0, 2, 2, 2, 1],\n",
    "       [1, 1, 2, 0, 2, 1, 0, 2, 1, 0, 2]]\n",
    "\n",
    "x3b_numbers = [0, 1, 1, 2, 0, 2, 1, 0, 0, 2]\n",
    "ghs_values = []\n",
    "for seq, x3b_num in zip(mat, x3b_numbers):\n",
    "    x = x3b**x3b_num\n",
    "    for cnj_el, power in zip(cnj, seq):\n",
    "        x *= cnj_el**power\n",
    "\n",
    "    ghs_values.append(x)\n",
    "\n",
    "all(x == y for x, y in zip(gs + hs, ghs_values))"
   ]
  },
  {
   "cell_type": "markdown",
   "id": "4a2d31d1",
   "metadata": {},
   "source": [
    "Normality guarantees $\\MT{11}$, which is a simple group, either lies\n",
    "in this 3-group or intersects it in the trivial group. The former possibility\n",
    "is excluded by the fact that $\\MT{11}$ cannot lie inside a 3-group, so that\n",
    "the two subgroups of the centraliser found thus far together generate\n",
    "a subgroup of order at least $3^{17} \\left| \\MT{11} \\right| =\n",
    "    \\left| 3^{2+5+10}.\\MT{11} \\right|$.\n",
    "\n",
    "To expand this by a factor of $\\left| 2.\\sym{4} \\right| = 48$, it suffices\n",
    "to consider the homomorphism induced by $\\langle g_{3b2}, h_{3b2} \\rangle$'s\n",
    "conjugation action on $\\langle x_{3b}, y_{3b} \\rangle$. Enumerating its image\n",
    "reveals"
   ]
  },
  {
   "cell_type": "code",
   "execution_count": 81,
   "id": "8bc55fd0",
   "metadata": {},
   "outputs": [
    {
     "data": {
      "text/plain": [
       "48"
      ]
     },
     "execution_count": 81,
     "metadata": {},
     "output_type": "execute_result"
    }
   ],
   "source": [
    "size_image(L_N, map_3_2, basis=L_E)"
   ]
  },
  {
   "cell_type": "markdown",
   "id": "67aa50f9",
   "metadata": {},
   "source": [
    "It follows that $\\langle g_{3b2}, h_{3b2} \\rangle \\le \\nma{x_{3b}, y_{3b}}$\n",
    "has order at least $3^{17} \\left| \\MT{11} \\right| \\cdot 48 = \\left| 3^{2+5+10}{:}\\left( \\MT{11} \\times 2.\\sym{4} \\right) \\right|$.\n",
    "But the normaliser of $\\langle x_{3b}, y_{3b} \\rangle$ lies inside a maximal subgroup of $\\MM$\n",
    "with this structure; it therefore *is* such a maximal subgroup, generated by $g_{3b2}$\n",
    "and $h_{3b2}$."
   ]
  },
  {
   "cell_type": "markdown",
   "id": "3c763992",
   "metadata": {},
   "source": [
    "## $3^{3+2+6+6}{:}\\left( \\psl{3}{3} \\times \\sdih{16} \\right)$ <a id=\"norm3B3\"></a>\n",
    "Generators are given by"
   ]
  },
  {
   "cell_type": "code",
   "execution_count": 82,
   "id": "d00d5ef0",
   "metadata": {},
   "outputs": [],
   "source": [
    "g3b3 = MM(\"M<y_0a1h*x_1f62h*d_0a51h*p_222859169*l_1*p_2640000*l_1*p_33414121*l_1*t_2*l_1*p_2640000*l_1*p_12151253*l_2*t_2*l_2*p_1920*l_1*p_464880*l_1*p_530880*t_2*l_1*p_1499520*l_2*p_42755929*t_2*l_2*p_1900800*l_2*p_6723*t_2*l_1*p_2640000*l_1*p_69282*t_1*l_2*p_2830080*l_2*p_86257539>\")\n",
    "h3b3 = MM(\"M<y_455h*x_0feh*d_0c1ch*p_101629354*l_2*p_89189760*t_2*l_2*p_70561920*l_2*p_212488368*l_1*t_2*l_2*p_80762880*l_1*p_209827200*l_2*t_1*l_2*p_2597760*l_1*p_85328064*t_1*l_1*p_1907520*t_2*l_2*p_1393920*l_1*p_53793024*t_2*l_2*p_2386560*l_2*p_11218865*t_1*l_2*p_57699840*l_2*p_86972352>\")\n",
    "L_N = (g3b3, h3b3)"
   ]
  },
  {
   "cell_type": "markdown",
   "id": "812c59ec",
   "metadata": {},
   "source": [
    "This is the normaliser of a certain conjugacy class of 3B-pure $3^3$s in the Monster.\n",
    "We claim this particular instance normalises the subgroup generated by"
   ]
  },
  {
   "cell_type": "code",
   "execution_count": 83,
   "id": "44c108e0",
   "metadata": {},
   "outputs": [],
   "source": [
    "x3b = MM(\"M<y_5d4h*x_17efh*d_0f7eh*p_183231946*l_2*p_2787840*l_2*p_22759172>\")\n",
    "y3b = MM(\"M<y_4ech*x_0aeeh*d_83bh*p_240916280*l_2*p_2597760*l_1*p_169605*t_2*l_1*p_2027520*l_1*p_22750595*t_2*l_1*p_2640000*l_1*p_178009*t_2*l_1*p_960*l_2*p_53815392*t_2*l_1*p_1415040*l_1*p_2256*l_2*p_76800*t_2*l_2*p_8004480*l_2*p_63909120>\")\n",
    "z3b = MM(\"M<y_89h*x_0b83h*d_47fh*p_183258749*l_2*p_1985280*l_1*p_43685419*t_1*l_2*p_2830080*l_2*p_21336201*t_1*l_1*p_1499520*l_2*p_43150478*t_2*l_2*p_1985280*l_1*p_64007382*t_1*l_2*p_1920*l_2*p_2160*l_2*p_2557440*t_1*l_2*p_2956800*l_1*p_96019794>\")\n",
    "L_E = (x3b, y3b, z3b)"
   ]
  },
  {
   "cell_type": "markdown",
   "id": "bb894475",
   "metadata": {},
   "source": [
    "Note that $x_{3b}$ and $y_{3b}$ are as in [Theorem 2.6](#norm3B) and\n",
    "[Theorem 2.9](#norm3B2). It was shown in the proof of the former that\n",
    "$\\langle x_{3b}, y_{3b} \\rangle$ is an elementary abelian group\n",
    "embedded in the normal subgroup $3^{1+12}$ of $\\nma{x_{3b}}$. Hence,\n",
    "if $z_{3b} \\in \\cma{x_{3b}, y_{3b}}$ is conjugate to $y_{3b}$\n",
    "in that normaliser, $\\langle x_{3b}, y_{3b}, z_{3b} \\rangle$ is\n",
    "an elementary abelian subgroup of $3^{1+12}$ containing the centre."
   ]
  },
  {
   "cell_type": "code",
   "execution_count": 84,
   "id": "f69b60f0",
   "metadata": {},
   "outputs": [
    {
     "data": {
      "text/plain": [
       "True"
      ]
     },
     "execution_count": 84,
     "metadata": {},
     "output_type": "execute_result"
    }
   ],
   "source": [
    "x3b*z3b == z3b*x3b"
   ]
  },
  {
   "cell_type": "code",
   "execution_count": 85,
   "id": "77a6fe44",
   "metadata": {},
   "outputs": [
    {
     "data": {
      "text/plain": [
       "True"
      ]
     },
     "execution_count": 85,
     "metadata": {},
     "output_type": "execute_result"
    }
   ],
   "source": [
    "y3b*z3b == z3b*y3b"
   ]
  },
  {
   "cell_type": "code",
   "execution_count": 86,
   "id": "7061431a",
   "metadata": {},
   "outputs": [
    {
     "data": {
      "text/plain": [
       "True"
      ]
     },
     "execution_count": 86,
     "metadata": {},
     "output_type": "execute_result"
    }
   ],
   "source": [
    "c = g3b3*h3b3**3*g3b3*h3b3*g3b3\n",
    "x3b*c == c*x3b"
   ]
  },
  {
   "cell_type": "code",
   "execution_count": 87,
   "id": "5606227d",
   "metadata": {},
   "outputs": [
    {
     "data": {
      "text/plain": [
       "True"
      ]
     },
     "execution_count": 87,
     "metadata": {},
     "output_type": "execute_result"
    }
   ],
   "source": [
    "y3b**c == z3b"
   ]
  },
  {
   "cell_type": "markdown",
   "id": "9b0054b7",
   "metadata": {},
   "source": [
    "Theorem 6.5 of Wilson's odd local subgroups paper thus guarantees\n",
    "$\\nma{x_{3b}, y_{3b}, z_{3b}}$ lies in a maximal subgroup of structure\n",
    "$3^{1+12} \\udot 2 \\udot \\SZ{:}2$, $3^{2+5+10}{:}\\left( \\MT{11} \\times 2.\\sym{4} \\right)$, or $3^{3+2+6+6}{:}\\left( \\psl{3}{3} \\times \\sdih{16} \\right)$. Only the third of these\n",
    "can contain elements of order 104 --- $\\SZ.2$ and $\\MT{11}$ do not\n",
    "contain elements of order 104 or 13, respectively --- so exhibiting\n",
    "an element of this order eliminates the first two possibilities."
   ]
  },
  {
   "cell_type": "code",
   "execution_count": 88,
   "id": "31bf38c2",
   "metadata": {},
   "outputs": [
    {
     "data": {
      "text/plain": [
       "True"
      ]
     },
     "execution_count": 88,
     "metadata": {},
     "output_type": "execute_result"
    }
   ],
   "source": [
    "map_3_3 = map_to_vectors(L_E)\n",
    "check_normalise(L_E, L_N, group_set=map_3_3)"
   ]
  },
  {
   "cell_type": "code",
   "execution_count": 89,
   "id": "b0115756",
   "metadata": {},
   "outputs": [
    {
     "data": {
      "text/plain": [
       "104"
      ]
     },
     "execution_count": 89,
     "metadata": {},
     "output_type": "execute_result"
    }
   ],
   "source": [
    "h3b3.order()"
   ]
  },
  {
   "cell_type": "markdown",
   "id": "95136b24",
   "metadata": {},
   "source": [
    "To show that $g_{3b3}, h_{3b3}$ in fact generate the full $3^{3+2+6+6}{:}\\left( \\psl{3}{3} \\times \\sdih{16} \\right)$,\n",
    "we first verify that $\\langle g_{3b3}, h_{3b3} \\rangle$ contains a subgroup of\n",
    "$\\cma{x_{3b}, y_{3b}, z_{3b}}$ of order at least\n",
    "$\\left| 3^{3+2+6+6}{:}\\dih{8} \\right| = 3^{17} \\cdot 8$. Express all\n",
    "except $h_2$ and $h_2^{\\sigma}$ of\n",
    "$x_{3b}$, $y_{3b}$, $\\left\\{ g_i \\right\\}_{i = 1}^5$,\n",
    "$\\left\\{ h_i \\right\\}_{i = 1}^5$, and\n",
    "$\\left\\{ h_i^{\\sigma} \\right\\}_{i = 1}^5$ defined in the proof\n",
    "of [Theorem 2.6](#norm3B) as words in $g_{3b3}, h_{3b3}$ for a 3-group\n",
    "of order at least $3^{2+5+4+4} = 3^{15}$ (using Lemma 2.2):"
   ]
  },
  {
   "cell_type": "code",
   "execution_count": 90,
   "id": "775fef60",
   "metadata": {},
   "outputs": [
    {
     "data": {
      "text/plain": [
       "True"
      ]
     },
     "execution_count": 90,
     "metadata": {},
     "output_type": "execute_result"
    }
   ],
   "source": [
    "# The given elements\n",
    "gs = (\n",
    "    MM(\"M<y_58eh*x_8fh*d_2c9h*p_76285619*l_2*p_1457280*l_1*p_32103884*t_2*l_1*p_960*l_2*p_10665888*l_2*p_3763200*t_1*l_1*p_2027520*l_1*p_13020096*l_2*t_1*l_2*p_2956800*l_1*p_53349541*t_2*l_2*p_1415040*l_1*p_466800*l_2*p_3465600*t_1*l_2*p_2386560*l_2*p_42717489*t_2*l_2*p_2956800*l_1*p_85370418>\"),\n",
    "    MM(\"M<y_662h*x_17f8h*d_0ff0h*p_233651083*l_1*p_543360*t_1*l_1*p_2027520*l_1*p_47239*t_2*l_2*p_1457280*l_1*p_578263*t_1*l_1*p_15100800*t_2*l_2*p_2597760*l_1*p_21426569*t_1*l_2*p_2597760*l_1*p_64078688*t_1*l_1*p_1499520*l_1*p_85328065>\"),\n",
    "    MM(\"M<y_778h*x_0a7dh*d_0b20h*p_61290019*l_2*p_234220800*t_2*l_2*p_1943040*l_2*p_2352323*l_1*t_2*l_1*p_1858560*l_2*p_23280*l_1*p_2411520*t_2*l_1*p_3823680*t_1*l_1*p_68787840*l_1*p_108704736*t_1*l_2*p_2956800*l_1*p_53814185*t_1*l_2*p_59917440*l_1*p_127776096>\"),\n",
    "    MM(\"M<y_91h*x_550h*d_8f8h*p_131387342*l_2*p_1900800*l_2*p_21865336*l_2*t_1*l_1*p_1415040*l_1*p_23328*l_2*p_1520640*t_2*l_2*p_1943040*l_2*p_2414887*l_1*t_2*l_1*p_1099200*t_2*l_2*p_2830080*l_2*p_42796362*t_2*l_2*p_1943040*l_2*p_85816867*t_2*l_2*p_2956800*l_1*p_53381152>\"),\n",
    "    MM(\"M<y_36dh*x_0f60h*d_312h*p_128810854*l_1*p_2640000*l_1*p_21865335*t_1*l_2*p_2830080*l_2*p_21370*l_2*t_2*l_2*p_1985280*l_1*p_32504018*l_2*t_2*l_2*p_1943040*l_2*p_12176258*l_2*t_1*l_2*p_1900800*l_2*p_5763*t_2*l_2*p_2830080*l_2*p_42671248>\")\n",
    ")\n",
    "hs = (\n",
    "    MM(\"M<y_0abh*x_13d0h*d_0f66h*p_197048161*l_1*p_1858560*l_1*p_465936*l_2*p_510720*t_1*l_2*p_24000*l_2*p_488160*t_1*l_2*p_2386560*l_2*p_64036498*t_2*l_2*p_2787840*l_2*p_2800905*l_2*t_2*l_2*p_2787840*l_2*p_11554*t_2*l_1*p_2640000*l_1*p_13458>\"),\n",
    "    MM(\"M<y_119h*x_75bh*d_8bbh*p_203279177*l_2*p_2830080*l_2*p_10671544*t_1*l_1*p_2027520*l_1*p_22307968*l_1*t_1*l_2*p_2956800*l_1*p_21888592*l_2*t_1*l_1*p_1499520*l_2*p_42677961*t_2*l_2*p_2830080*l_2*p_21336113*t_1*l_1*p_1457280*l_2*p_12994999*l_1*t_1*l_2*p_2830080*l_2*p_21345778>\"),\n",
    "    MM(\"M<y_1a3h*x_0b74h*d_0a38h*p_201631922*l_2*p_2344320*l_2*p_33013873*l_2*t_1*l_1*p_1499520*l_2*p_467786*l_1*t_2*l_2*p_1393920*l_2*p_3120*l_1*p_1206720*t_1*l_2*p_1900800*l_2*p_3104*t_2*l_2*p_1858560*l_1*p_10665888*l_1*p_699840*t_2*l_2*p_5641920*l_1*t_1*l_2*p_1900800*l_2*p_137698>\"),\n",
    "    MM(\"M<y_0f2h*x_1c21h*d_0e0fh*p_228919392*l_1*p_80319360*l_2*p_231116160*t_1*l_2*p_1900800*l_2*p_22774569*l_2*t_1*l_2*p_2787840*l_2*p_33013910*l_1*t_1*l_2*p_1943040*l_2*p_33460438*l_1*t_2*l_1*p_2027520*l_1*p_5761*t_2*l_2*p_2830080*l_2*p_42798259>\"),\n",
    "    MM(\"M<y_4b1h*x_1162h*d_3b3h*p_195698166*l_2*p_2956800*l_1*p_32978354*l_2*t_1*l_1*p_2640000*l_1*p_2859335*l_2*t_1*l_2*p_1900800*l_2*p_2388161*l_1*t_2*l_1*p_467520*l_1*p_85056*t_2*l_1*p_1499520*l_1*p_85820694*t_2*l_2*p_1943040*l_2*p_85367645*t_2*l_2*p_1943040*l_2*p_42729963>\")\n",
    ")\n",
    "\u03c3 = MM(\"M<y_46ch*x_19b9h*d_9f4h*p_43971768*l_1*p_2640000*l_1*p_11712608*l_2*t_1*l_2*p_2597760*l_1*p_11222741*t_1*l_2*p_1943040*l_2*p_11225569*t_2*l_2*p_2386560*l_2*p_10741665*t_1*l_2*p_1985280*l_1*p_86283414*l_1*p_10688640*t_2*l_2*p_1858560*l_1*p_3168*l_2*p_10436160>\")\n",
    "\n",
    "c = (g3b3*h3b3)**4\n",
    "\n",
    "# The elements to be exhibited were shown to commute with x3b, y3b above\n",
    "# It only remains to handle z3b; since centralisers are normal subgroups of\n",
    "# normalisers, we check z3b*c = c*z3b and express the remaining elements\n",
    "# as words in conjugates of c.\n",
    "c*z3b == z3b*c"
   ]
  },
  {
   "cell_type": "code",
   "execution_count": 91,
   "id": "0eb8e997",
   "metadata": {},
   "outputs": [
    {
     "data": {
      "text/plain": [
       "True"
      ]
     },
     "execution_count": 91,
     "metadata": {},
     "output_type": "execute_result"
    }
   ],
   "source": [
    "cnj = [c**g3b3*c, c**(g3b3**2)/c**h3b3, c**(h3b3*g3b3)*c**h3b3/c, c**(h3b3**2)*c**h3b3*c]\n",
    "cnj += [c**(g3b3**3)/c**h3b3/c, c**(g3b3**2*h3b3)*c**h3b3/c, c**(h3b3*g3b3**2)*c/c**h3b3, c**(h3b3*g3b3*h3b3)/c**h3b3/c]\n",
    "\n",
    "# Speed-up\n",
    "for x in cnj:\n",
    "    x.reduce()\n",
    "\n",
    "cnj = [comm(x, y).reduce() for i, x in enumerate(cnj[:5]) for y in cnj[:i]][:7] + cnj + [c, c**(h3b3**2)]\n",
    "\n",
    "mat = [[2, 0, 0, 1, 0, 2, 0, 0, 0, 0, 0, 0, 0, 0, 0, 0, 0],\n",
    "       [0, 0, 1, 0, 1, 0, 0, 0, 0, 0, 0, 0, 0, 0, 0, 0, 0],\n",
    "       [1, 2, 2, 2, 2, 0, 1, 0, 0, 0, 0, 0, 0, 0, 0, 0, 0],\n",
    "       [1, 2, 0, 2, 1, 2, 1, 0, 0, 0, 0, 0, 0, 0, 0, 0, 0],\n",
    "       [0, 1, 1, 0, 2, 2, 1, 0, 0, 0, 0, 0, 0, 0, 0, 0, 0],\n",
    "       [0, 2, 1, 1, 2, 1, 2, 0, 0, 0, 0, 0, 0, 0, 0, 0, 0],\n",
    "       [0, 2, 0, 1, 1, 0, 0, 0, 0, 0, 0, 0, 0, 0, 0, 0, 0],\n",
    "       [0, 2, 0, 0, 1, 0, 2, 1, 0, 0, 2, 1, 1, 1, 1, 0, 0],\n",
    "       [2, 0, 2, 0, 2, 1, 0, 0, 2, 0, 1, 2, 1, 1, 0, 0, 0],\n",
    "       [1, 0, 1, 2, 0, 0, 0, 0, 2, 2, 2, 1, 2, 1, 1, 0, 0],\n",
    "       [2, 1, 0, 0, 1, 2, 0, 1, 2, 0, 2, 1, 0, 2, 2, 0, 0],\n",
    "       [1, 1, 2, 0, 1, 2, 0, 0, 0, 1, 1, 1, 0, 1, 2, 0, 0],\n",
    "       [1, 1, 1, 2, 2, 1, 1, 0, 1, 2, 1, 1, 0, 1, 1, 0, 0],\n",
    "       [1, 2, 0, 1, 0, 1, 2, 1, 1, 2, 0, 1, 2, 2, 0, 0, 0],\n",
    "       [1, 2, 0, 2, 1, 1, 1, 0, 1, 1, 1, 0, 0, 1, 0, 0, 0],\n",
    "       [2, 2, 2, 2, 2, 0, 0, 2, 1, 1, 0, 2, 0, 2, 0, 1, 0],\n",
    "       [0, 0, 2, 0, 1, 2, 0, 1, 0, 2, 1, 2, 2, 1, 0, 0, 1]]\n",
    "\n",
    "ghs_values = []\n",
    "for seq in mat:\n",
    "    x = e\n",
    "    for cnj_el, power in zip(cnj, seq):\n",
    "        x *= cnj_el**power\n",
    "\n",
    "    ghs_values.append(x)\n",
    "\n",
    "all(x == y for x, y in zip((x3b, y3b, *gs, *hs[:1], *hs[2:], *(x**\u03c3 for x in hs[:1] + hs[2:])), ghs_values))"
   ]
  },
  {
   "cell_type": "markdown",
   "id": "adc4d239",
   "metadata": {},
   "source": [
    "The above loop generated two elements of $\\cma{x_{3b}, y_{3b}, z_{3b}}$ in surplus\n",
    "to the 15 analysed. Show that these generate a subgroup of $9 = 3^2$ elements\n",
    "of the group $\\langle a, b \\rangle \\cong \\MT{11}$ constructed as part of the proof of\n",
    "[Theorem 2.9](#norm3B2)."
   ]
  },
  {
   "cell_type": "code",
   "execution_count": 92,
   "id": "fed65c3e",
   "metadata": {},
   "outputs": [
    {
     "data": {
      "text/plain": [
       "17"
      ]
     },
     "execution_count": 92,
     "metadata": {},
     "output_type": "execute_result"
    }
   ],
   "source": [
    "len(ghs_values)"
   ]
  },
  {
   "cell_type": "code",
   "execution_count": 93,
   "id": "4af3ca94",
   "metadata": {},
   "outputs": [
    {
     "data": {
      "text/plain": [
       "9"
      ]
     },
     "execution_count": 93,
     "metadata": {},
     "output_type": "execute_result"
    }
   ],
   "source": [
    "# The elements referenced\n",
    "a = MM(\"M<y_505h*x_15ech*d_0c61h*p_228858934*l_2*p_3256320*l_2*t_2*l_1*p_2027520*l_1*p_11597987*l_1*t_2*l_1*p_2027520*l_1*p_22816917*l_2*t_2*l_1*p_2027520*l_1*p_10593*t_1*l_2*p_6084480*t_1*l_1*p_1499520*l_2*p_42667430*t_1*l_2*p_1457280*l_1*p_50125*t_1*l_2*p_2787840*l_2*p_12485>\")\n",
    "b = MM(\"M<y_111h*x_0f22h*d_0d97h*p_164778853*l_2*p_1943040*l_2*p_22350273*l_2*t_1*l_2*p_1985280*l_1*p_10665830*l_2*t_2*l_2*p_1394880*l_2*p_22272*l_1*p_1549440*t_2*l_2*p_2344320*l_2*p_2816215*t_1*l_2*p_1943040*l_2*p_127989696*t_1*l_2*p_1985280*l_1*p_64016114*t_2*l_1*p_1499520*l_1*p_43598819>\")\n",
    "\n",
    "size_image(ghs_values[-2:])"
   ]
  },
  {
   "cell_type": "code",
   "execution_count": 94,
   "id": "24833752",
   "metadata": {},
   "outputs": [
    {
     "data": {
      "text/plain": [
       "True"
      ]
     },
     "execution_count": 94,
     "metadata": {},
     "output_type": "execute_result"
    }
   ],
   "source": [
    "ghs_values[-1] == (a*b*a*(b**2*a)**2)**2"
   ]
  },
  {
   "cell_type": "code",
   "execution_count": 95,
   "id": "a372ae6d",
   "metadata": {},
   "outputs": [
    {
     "data": {
      "text/plain": [
       "True"
      ]
     },
     "execution_count": 95,
     "metadata": {},
     "output_type": "execute_result"
    }
   ],
   "source": [
    "ghs_values[-2] == ((b*a)**3*(b**2*a)**2*b*a)**2"
   ]
  },
  {
   "cell_type": "markdown",
   "id": "548b568c",
   "metadata": {},
   "source": [
    "Noting that $\\MT{11}$ was proven not to intersect the normal subgroup\n",
    "$3^{2+5+10}$ of $\\cma{x_{3b}, y_{3b}}$ to which the other 15 elements\n",
    "of `ghs_values` belong, the 17 elements together generate a 3-group\n",
    "of order at least $3^{17}$.\n",
    "\n",
    "The remaining factor of 8 in $3^{17} \\cdot 8$ may then be obtained\n",
    "by demonstrating $\\cma{x_{3b}, y_{3b}, z_{3b}}$ must have an order\n",
    "divisible by 8. This follows from the Orbit-Stabiliser Theorem\n",
    "upon enumerating $h_1^{\\langle g_{3b3}^{39}, h_{3b3}^{26} \\rangle}$:"
   ]
  },
  {
   "cell_type": "code",
   "execution_count": 96,
   "id": "215c35b5",
   "metadata": {},
   "outputs": [
    {
     "data": {
      "text/plain": [
       "True"
      ]
     },
     "execution_count": 96,
     "metadata": {},
     "output_type": "execute_result"
    }
   ],
   "source": [
    "# Make sure g3b3^39 and h3b3^26 are actually in the centraliser\n",
    "all(x*y == y*x for x in (g3b3**39, h3b3**26) for y in (x3b, y3b, z3b))"
   ]
  },
  {
   "cell_type": "code",
   "execution_count": 97,
   "id": "d16c25af",
   "metadata": {},
   "outputs": [
    {
     "data": {
      "text/plain": [
       "72"
      ]
     },
     "execution_count": 97,
     "metadata": {},
     "output_type": "execute_result"
    }
   ],
   "source": [
    "size_image((g3b3**39, h3b3**26), (lambda x: as_int(hs[0]**x)))"
   ]
  },
  {
   "cell_type": "markdown",
   "id": "231b3bcc",
   "metadata": {},
   "source": [
    "Finally, the remaining factor of $2 \\left| \\psl{3}{3} \\right| = 11232$\n",
    "in the group order emerges from the homomorphism induced\n",
    "by $\\langle g_{3b3}, h_{3b3} \\rangle$'s conjugation action\n",
    "on $\\langle x_{3b}, y_{3b} \\rangle$."
   ]
  },
  {
   "cell_type": "code",
   "execution_count": 98,
   "id": "96801625",
   "metadata": {},
   "outputs": [
    {
     "data": {
      "text/plain": [
       "11232"
      ]
     },
     "execution_count": 98,
     "metadata": {},
     "output_type": "execute_result"
    }
   ],
   "source": [
    "size_image(L_N, map_3_3, basis=L_E)"
   ]
  },
  {
   "cell_type": "markdown",
   "id": "2945fbea",
   "metadata": {},
   "source": [
    "It follows that $\\langle g_{3b2}, h_{3b2} \\rangle \\le \\nma{x_{3b}, y_{3b}, z_{3b}}$\n",
    "has order at least $3^{17} \\cdot 8 \\cdot 2 \\left| \\psl{3}{3} \\right| =\n",
    "    \\left| 3^{3+2+6+6}{:}\\left( \\psl{3}{3} \\times \\sdih{16} \\right) \\right|$. But the normaliser of\n",
    "$\\langle x_{3b}, y_{3b}, z_{3b3} \\rangle$ lies inside a maximal subgroup of $\\MM$\n",
    "with this structure; it therefore *is* such a maximal subgroup, generated by $g_{3b3}$\n",
    "and $h_{3b3}$."
   ]
  },
  {
   "cell_type": "markdown",
   "id": "c635ad8b",
   "metadata": {},
   "source": [
    "## $3^8 \\udot \\orth-{8}{3}.2$ <a id=\"norm3Ark\"></a>\n",
    "\n",
    "Generators for this maximal subgroup are given by"
   ]
  },
  {
   "cell_type": "code",
   "execution_count": 99,
   "id": "a3953681",
   "metadata": {},
   "outputs": [],
   "source": [
    "g38 = MM(\"M<y_5b9h*x_0a76h*d_0e32h*p_177893787*l_1*p_1499520*l_2*p_21796210*t_1*l_1*p_1499520*l_2*p_13056500*l_1*t_1*l_1*p_1858560*l_1*p_465840*l_2*p_679680*t_1*l_2*p_1457280*l_1*p_1123761*t_2*l_1*p_2027520*l_1*p_96038951*l_1*p_44160*t_1*l_1*p_1499520*l_2*p_64007328*l_2*p_11658240>\")\n",
    "h38 = MM(\"M<y_18h*x_187h*d_0cb6h*p_220049255*l_2*p_2386560*l_2*p_42858*t_1*l_2*p_2597760*l_1*p_32509911*t_2*l_2*p_2787840*l_2*p_133802*t_1*l_2*p_1943040*l_2*p_21546839*t_2*l_2*p_1394880*l_1*p_10665792*l_1*p_2093760*t_2*l_2*p_1943040*l_2*p_106662273*t_1*l_1*p_1499520*l_1*p_42832004>\")\n",
    "L_N = (g38, h38)"
   ]
  },
  {
   "cell_type": "markdown",
   "id": "c6853c7f",
   "metadata": {},
   "source": [
    "The maximal subgroups of $\\MM$ with this structure are the normalisers of\n",
    "certain elementary abelian subgroups of order $3^8$. We claim this particular instance\n",
    "normalises $\\langle x_{3b}, y_{3b}, g_1, g_2, g_3, g_4, h_5, h_5^{\\sigma} \\rangle$,\n",
    "where $x_{3b}$, $y_{3b}$, $\\left\\{ g_i \\right\\}_{i=1}^5$,\n",
    "$\\left\\{ h_i \\right\\}_{i=1}^5$, and $\\sigma$ are as in the proof\n",
    "of [Theorem 2.6](#norm3B):"
   ]
  },
  {
   "cell_type": "code",
   "execution_count": 100,
   "id": "73c0df32",
   "metadata": {},
   "outputs": [],
   "source": [
    "x3b = MM(\"M<y_5d4h*x_17efh*d_0f7eh*p_183231946*l_2*p_2787840*l_2*p_22759172>\")\n",
    "y3b = MM(\"M<y_4ech*x_0aeeh*d_83bh*p_240916280*l_2*p_2597760*l_1*p_169605*t_2*l_1*p_2027520*l_1*p_22750595*t_2*l_1*p_2640000*l_1*p_178009*t_2*l_1*p_960*l_2*p_53815392*t_2*l_1*p_1415040*l_1*p_2256*l_2*p_76800*t_2*l_2*p_8004480*l_2*p_63909120>\")\n",
    "gs = (\n",
    "    MM(\"M<y_58eh*x_8fh*d_2c9h*p_76285619*l_2*p_1457280*l_1*p_32103884*t_2*l_1*p_960*l_2*p_10665888*l_2*p_3763200*t_1*l_1*p_2027520*l_1*p_13020096*l_2*t_1*l_2*p_2956800*l_1*p_53349541*t_2*l_2*p_1415040*l_1*p_466800*l_2*p_3465600*t_1*l_2*p_2386560*l_2*p_42717489*t_2*l_2*p_2956800*l_1*p_85370418>\"),\n",
    "    MM(\"M<y_662h*x_17f8h*d_0ff0h*p_233651083*l_1*p_543360*t_1*l_1*p_2027520*l_1*p_47239*t_2*l_2*p_1457280*l_1*p_578263*t_1*l_1*p_15100800*t_2*l_2*p_2597760*l_1*p_21426569*t_1*l_2*p_2597760*l_1*p_64078688*t_1*l_1*p_1499520*l_1*p_85328065>\"),\n",
    "    MM(\"M<y_778h*x_0a7dh*d_0b20h*p_61290019*l_2*p_234220800*t_2*l_2*p_1943040*l_2*p_2352323*l_1*t_2*l_1*p_1858560*l_2*p_23280*l_1*p_2411520*t_2*l_1*p_3823680*t_1*l_1*p_68787840*l_1*p_108704736*t_1*l_2*p_2956800*l_1*p_53814185*t_1*l_2*p_59917440*l_1*p_127776096>\"),\n",
    "    MM(\"M<y_91h*x_550h*d_8f8h*p_131387342*l_2*p_1900800*l_2*p_21865336*l_2*t_1*l_1*p_1415040*l_1*p_23328*l_2*p_1520640*t_2*l_2*p_1943040*l_2*p_2414887*l_1*t_2*l_1*p_1099200*t_2*l_2*p_2830080*l_2*p_42796362*t_2*l_2*p_1943040*l_2*p_85816867*t_2*l_2*p_2956800*l_1*p_53381152>\"),\n",
    "    MM(\"M<y_36dh*x_0f60h*d_312h*p_128810854*l_1*p_2640000*l_1*p_21865335*t_1*l_2*p_2830080*l_2*p_21370*l_2*t_2*l_2*p_1985280*l_1*p_32504018*l_2*t_2*l_2*p_1943040*l_2*p_12176258*l_2*t_1*l_2*p_1900800*l_2*p_5763*t_2*l_2*p_2830080*l_2*p_42671248>\")\n",
    ")\n",
    "hs = (\n",
    "    MM(\"M<y_0abh*x_13d0h*d_0f66h*p_197048161*l_1*p_1858560*l_1*p_465936*l_2*p_510720*t_1*l_2*p_24000*l_2*p_488160*t_1*l_2*p_2386560*l_2*p_64036498*t_2*l_2*p_2787840*l_2*p_2800905*l_2*t_2*l_2*p_2787840*l_2*p_11554*t_2*l_1*p_2640000*l_1*p_13458>\"),\n",
    "    MM(\"M<y_119h*x_75bh*d_8bbh*p_203279177*l_2*p_2830080*l_2*p_10671544*t_1*l_1*p_2027520*l_1*p_22307968*l_1*t_1*l_2*p_2956800*l_1*p_21888592*l_2*t_1*l_1*p_1499520*l_2*p_42677961*t_2*l_2*p_2830080*l_2*p_21336113*t_1*l_1*p_1457280*l_2*p_12994999*l_1*t_1*l_2*p_2830080*l_2*p_21345778>\"),\n",
    "    MM(\"M<y_1a3h*x_0b74h*d_0a38h*p_201631922*l_2*p_2344320*l_2*p_33013873*l_2*t_1*l_1*p_1499520*l_2*p_467786*l_1*t_2*l_2*p_1393920*l_2*p_3120*l_1*p_1206720*t_1*l_2*p_1900800*l_2*p_3104*t_2*l_2*p_1858560*l_1*p_10665888*l_1*p_699840*t_2*l_2*p_5641920*l_1*t_1*l_2*p_1900800*l_2*p_137698>\"),\n",
    "    MM(\"M<y_0f2h*x_1c21h*d_0e0fh*p_228919392*l_1*p_80319360*l_2*p_231116160*t_1*l_2*p_1900800*l_2*p_22774569*l_2*t_1*l_2*p_2787840*l_2*p_33013910*l_1*t_1*l_2*p_1943040*l_2*p_33460438*l_1*t_2*l_1*p_2027520*l_1*p_5761*t_2*l_2*p_2830080*l_2*p_42798259>\"),\n",
    "    MM(\"M<y_4b1h*x_1162h*d_3b3h*p_195698166*l_2*p_2956800*l_1*p_32978354*l_2*t_1*l_1*p_2640000*l_1*p_2859335*l_2*t_1*l_2*p_1900800*l_2*p_2388161*l_1*t_2*l_1*p_467520*l_1*p_85056*t_2*l_1*p_1499520*l_1*p_85820694*t_2*l_2*p_1943040*l_2*p_85367645*t_2*l_2*p_1943040*l_2*p_42729963>\")\n",
    ")\n",
    "\u03c3 = MM(\"M<y_46ch*x_19b9h*d_9f4h*p_43971768*l_1*p_2640000*l_1*p_11712608*l_2*t_1*l_2*p_2597760*l_1*p_11222741*t_1*l_2*p_1943040*l_2*p_11225569*t_2*l_2*p_2386560*l_2*p_10741665*t_1*l_2*p_1985280*l_1*p_86283414*l_1*p_10688640*t_2*l_2*p_1858560*l_1*p_3168*l_2*p_10436160>\")\n",
    "L_E = (x3b, y3b, *gs[:4], hs[4], hs[4]**\u03c3)"
   ]
  },
  {
   "cell_type": "markdown",
   "id": "983a3993",
   "metadata": {},
   "source": [
    "These were shown above to have order 3, and applying\n",
    "our $p$-group lemma establishes they generate a 3-group of order at least $3^8$;\n",
    "check they commute."
   ]
  },
  {
   "cell_type": "code",
   "execution_count": 101,
   "id": "a01c3205",
   "metadata": {},
   "outputs": [
    {
     "data": {
      "text/plain": [
       "True"
      ]
     },
     "execution_count": 101,
     "metadata": {},
     "output_type": "execute_result"
    }
   ],
   "source": [
    "# It has already been verified x3b and y3b commute with all the given elements\n",
    "all(x*y == y*x for i, x in enumerate(L_E[2:]) for y in L_E[2:2+i])"
   ]
  },
  {
   "cell_type": "markdown",
   "id": "b34031e9",
   "metadata": {},
   "source": [
    "The group therefore has a 3-local subgroup of $\\MM$ for a normaliser, which\n",
    "by Theorem 5.2 of Wilson's odd-local subgroups paper must lie\n",
    "in a maximal subgroup of $\\MM$ with structure $3 \\udot \\FI$, $3^{1+12} \\udot 2 \\udot \\SZ{:}2$, $\\left( 3^2{:}2 \\times \\orth+{8}{3} \\right) \\udot \\sym{4}$,\n",
    "$3^{2+5+10}{:}\\left( \\MT{11} \\times 2.\\sym{4} \\right)$, or $3^8 \\udot \\orth-{8}{3}.2$. Since only the last of these has an order\n",
    "divisible by 41, it suffices to show that the normaliser of the given 3-group\n",
    "contains such an element."
   ]
  },
  {
   "cell_type": "code",
   "execution_count": 102,
   "id": "ecd09e53",
   "metadata": {},
   "outputs": [
    {
     "data": {
      "text/plain": [
       "True"
      ]
     },
     "execution_count": 102,
     "metadata": {},
     "output_type": "execute_result"
    }
   ],
   "source": [
    "# Take a manual approach to avoid enumerating the entire 3^8\n",
    "gmat = [[0, 1, 0, 0, 0, 0, 0, 0],\n",
    "        [0, 0, 0, 2, 2, 2, 0, 0],\n",
    "        [0, 2, 1, 0, 0, 0, 0, 1],\n",
    "        [0, 2, 1, 1, 1, 0, 0, 0],\n",
    "        [0, 2, 2, 1, 2, 2, 0, 0],\n",
    "        [1, 0, 1, 2, 0, 0, 0, 2],\n",
    "        [0, 1, 0, 0, 0, 1, 0, 0],\n",
    "        [0, 2, 0, 2, 2, 2, 2, 1]]\n",
    "\n",
    "hmat = [[1, 0, 0, 0, 0, 0, 0, 0],\n",
    "        [0, 1, 0, 0, 0, 0, 0, 0],\n",
    "        [1, 1, 2, 1, 0, 0, 0, 0],\n",
    "        [1, 1, 2, 0, 0, 2, 0, 0],\n",
    "        [1, 0, 2, 1, 2, 1, 0, 0],\n",
    "        [0, 0, 2, 2, 0, 2, 0, 0],\n",
    "        [2, 1, 1, 1, 0, 0, 2, 0],\n",
    "        [1, 0, 2, 0, 0, 2, 0, 2]]\n",
    "\n",
    "g_tests = []\n",
    "for seq in gmat:\n",
    "    x = e\n",
    "    for cnj_el, power in zip(L_E, seq):\n",
    "        x *= cnj_el**power\n",
    "\n",
    "    g_tests.append(x)\n",
    "\n",
    "h_tests = []\n",
    "for seq in hmat:\n",
    "    x = e\n",
    "    for cnj_el, power in zip(L_E, seq):\n",
    "        x *= cnj_el**power\n",
    "\n",
    "    h_tests.append(x)\n",
    "\n",
    "all(x == u**g38 for x, u in zip(g_tests, L_E))"
   ]
  },
  {
   "cell_type": "code",
   "execution_count": 103,
   "id": "1b8ae7e4",
   "metadata": {},
   "outputs": [
    {
     "data": {
      "text/plain": [
       "True"
      ]
     },
     "execution_count": 103,
     "metadata": {},
     "output_type": "execute_result"
    }
   ],
   "source": [
    "all(x == u**h38 for x, u in zip(h_tests, L_E))"
   ]
  },
  {
   "cell_type": "code",
   "execution_count": 104,
   "id": "6e9c6a2d",
   "metadata": {},
   "outputs": [
    {
     "data": {
      "text/plain": [
       "41"
      ]
     },
     "execution_count": 104,
     "metadata": {},
     "output_type": "execute_result"
    }
   ],
   "source": [
    "g38.order()"
   ]
  },
  {
   "cell_type": "markdown",
   "id": "ed14e2e6",
   "metadata": {},
   "source": [
    "This incidentally establishes that the claimed generators belong\n",
    "to the given subgroup's normaliser.\n",
    "\n",
    "It will follow that $g_{3^8}, h_{3^8}$ generate the entire subgroup of\n",
    "structure $3^8 \\udot \\orth-{8}{3}.2$ upon showing that the former group has order\n",
    "$\\left| 3^8 \\udot \\orth-{8}{3}.2 \\right| = 3^8 \\left| \\orth-{8}{3} \\right| \\cdot 2$.\n",
    "The code in `helpers.gap` shows that the homomorphism induced\n",
    "by $\\langle g_{3^8}, h_{3^8} \\rangle$'s action on the $3^8$ ---\n",
    "embedded in $\\ling{8}{3}$ using the matrices `gmat` and `hmat` above ---\n",
    "has an image of structure $orth-{8}{3}.2$. It only remains to account\n",
    "for the $3^8$ itself, which we do by expressing the generators thereof\n",
    "in terms of $g_{3^8}, h_{3^8}$."
   ]
  },
  {
   "cell_type": "code",
   "execution_count": 105,
   "id": "de99a6fb",
   "metadata": {},
   "outputs": [
    {
     "data": {
      "text/plain": [
       "True"
      ]
     },
     "execution_count": 105,
     "metadata": {},
     "output_type": "execute_result"
    }
   ],
   "source": [
    "gh_basis = [((h38**4)**(g38**i)).reduce() for i in range(8)]\n",
    "mat = [[1, 0, 0, 0, 0, 0, 0, 0],\n",
    "       [0, 1, 0, 0, 0, 0, 0, 0],\n",
    "       [1, 2, 2, 1, 1, 0, 0, 2],\n",
    "       [2, 0, 1, 2, 1, 0, 2, 0],\n",
    "       [0, 1, 0, 1, 0, 1, 1, 0],\n",
    "       [1, 2, 1, 0, 2, 2, 0, 0],\n",
    "       [2, 2, 0, 2, 2, 1, 2, 2],\n",
    "       [0, 1, 2, 1, 0, 1, 2, 2]]\n",
    "\n",
    "g_tests = []\n",
    "for seq in mat:\n",
    "    x = e\n",
    "    for i, u in zip(seq, gh_basis):\n",
    "        x *= u**i\n",
    "\n",
    "    g_tests.append(x)\n",
    "\n",
    "all(x == u for x, u in zip(L_E, g_tests))"
   ]
  },
  {
   "cell_type": "markdown",
   "id": "afc50785",
   "metadata": {},
   "source": [
    "## $\\left( \\dih{10} \\times \\HN \\right) \\udot 2$ <a id=\"norm5A\"></a>\n",
    "Generators are"
   ]
  },
  {
   "cell_type": "code",
   "execution_count": 106,
   "id": "004ef475",
   "metadata": {},
   "outputs": [],
   "source": [
    "g5 = MM(\"M<y_616h*x_4ceh*d_0ae6h*p_77235292*l_2*p_960*l_2*p_10667856*l_1*p_119040*t_1*l_1*p_360000*t_1*l_1*p_1499520*l_2*p_42713601*t_1*l_1*p_1499520*l_2*p_43257217>\")\n",
    "h5 = MM(\"M<y_42h*x_197dh*d_91dh*p_149043227*l_2*p_2386560*l_2*p_32567540*l_2*t_2*l_1*p_1499520*l_1*p_583094*t_2*l_2*p_1943040*l_2*p_42709851*t_1*l_2*p_4649280*t_1*l_2*p_2597760*l_1*p_42754965*t_1*l_2*p_2597760*l_1*p_85367641*t_2*l_1*p_1499520*l_2*p_170653269>\")\n",
    "L_N = (g5, h5)"
   ]
  },
  {
   "cell_type": "markdown",
   "id": "3af4140c",
   "metadata": {},
   "source": [
    "This is the normaliser of a 5A element in the Monster. We claim this particular instance normalises"
   ]
  },
  {
   "cell_type": "code",
   "execution_count": 107,
   "id": "a8e95540",
   "metadata": {},
   "outputs": [],
   "source": [
    "x5 = MM(\"M<y_687h*x_0ebfh*d_5fah*p_173070035*l_2*p_1457280*l_1*p_583971*l_2>\")\n",
    "L_E = [x5]"
   ]
  },
  {
   "cell_type": "markdown",
   "id": "ebad1695",
   "metadata": {},
   "source": [
    "Firstly, verify $x_5$ belongs to the correct conjugacy class using $\\chi_\\MM$:"
   ]
  },
  {
   "cell_type": "code",
   "execution_count": 108,
   "id": "f7fd5b93",
   "metadata": {},
   "outputs": [
    {
     "data": {
      "text/plain": [
       "5"
      ]
     },
     "execution_count": 108,
     "metadata": {},
     "output_type": "execute_result"
    }
   ],
   "source": [
    "x5.order()"
   ]
  },
  {
   "cell_type": "code",
   "execution_count": 109,
   "id": "c469d7f6",
   "metadata": {},
   "outputs": [
    {
     "data": {
      "text/plain": [
       "True"
      ]
     },
     "execution_count": 109,
     "metadata": {},
     "output_type": "execute_result"
    }
   ],
   "source": [
    "x5.in_G_x0()"
   ]
  },
  {
   "cell_type": "code",
   "execution_count": 110,
   "id": "27b31056",
   "metadata": {},
   "outputs": [
    {
     "data": {
      "text/plain": [
       "133"
      ]
     },
     "execution_count": 110,
     "metadata": {},
     "output_type": "execute_result"
    }
   ],
   "source": [
    "x5.chi_G_x0()[0]"
   ]
  },
  {
   "cell_type": "markdown",
   "id": "0b67ee4c",
   "metadata": {},
   "source": [
    "With that settled, show the claimed generators belong to the normaliser of $x_5$."
   ]
  },
  {
   "cell_type": "code",
   "execution_count": 111,
   "id": "822ab5ea",
   "metadata": {},
   "outputs": [
    {
     "data": {
      "text/plain": [
       "True"
      ]
     },
     "execution_count": 111,
     "metadata": {},
     "output_type": "execute_result"
    }
   ],
   "source": [
    "check_normalise(L_E, L_N)"
   ]
  },
  {
   "cell_type": "markdown",
   "id": "18c82c1d",
   "metadata": {},
   "source": [
    "As for showing the entire normaliser is generated, begin by demonstrating that $\\langle g_5, h_5 \\rangle$ contains the centraliser $5 \\times \\text{HN}$ of $x_5$.\n",
    "The presence of the centre $\\langle x_5 \\rangle \\sim 5$ is easily checked:"
   ]
  },
  {
   "cell_type": "code",
   "execution_count": 112,
   "id": "02cfc298",
   "metadata": {},
   "outputs": [
    {
     "data": {
      "text/plain": [
       "True"
      ]
     },
     "execution_count": 112,
     "metadata": {},
     "output_type": "execute_result"
    }
   ],
   "source": [
    "h5**19 == x5"
   ]
  },
  {
   "cell_type": "markdown",
   "id": "bd20b60b",
   "metadata": {},
   "source": [
    "For the quotient group $\\text{HN}$ of the centraliser, consider the following:"
   ]
  },
  {
   "cell_type": "code",
   "execution_count": 113,
   "id": "546d6a8a",
   "metadata": {},
   "outputs": [
    {
     "data": {
      "text/plain": [
       "True"
      ]
     },
     "execution_count": 113,
     "metadata": {},
     "output_type": "execute_result"
    }
   ],
   "source": [
    "x5**(h5**5) == x5"
   ]
  },
  {
   "cell_type": "code",
   "execution_count": 114,
   "id": "8f142ffb",
   "metadata": {},
   "outputs": [
    {
     "data": {
      "text/plain": [
       "True"
      ]
     },
     "execution_count": 114,
     "metadata": {},
     "output_type": "execute_result"
    }
   ],
   "source": [
    "x5**(g5**4) == x5"
   ]
  },
  {
   "cell_type": "code",
   "execution_count": 115,
   "id": "30ce6f04",
   "metadata": {},
   "outputs": [
    {
     "data": {
      "text/plain": [
       "11"
      ]
     },
     "execution_count": 115,
     "metadata": {},
     "output_type": "execute_result"
    }
   ],
   "source": [
    "(g5**4).order()"
   ]
  },
  {
   "cell_type": "code",
   "execution_count": 116,
   "id": "179cb7b3",
   "metadata": {},
   "outputs": [
    {
     "data": {
      "text/plain": [
       "19"
      ]
     },
     "execution_count": 116,
     "metadata": {},
     "output_type": "execute_result"
    }
   ],
   "source": [
    "(h5**5).order()"
   ]
  },
  {
   "cell_type": "markdown",
   "id": "c90eb84d",
   "metadata": {},
   "source": [
    "Since these are elements of the centraliser with orders relatively prime to 5,\n",
    "they project to elements of order 11 and 19 in the $\\text{HN}$. No maximal subgroup\n",
    "thereof has order divisible by both primes, ensuring the entire $\\text{HN}$\n",
    "is generated. $\\langle g_5, h_5 \\rangle$ contains the centraliser $5 \\times \\text{HN}$ of $x_5$.\n",
    "The presence of the centre $\\langle x_5 \\rangle \\cong 5$ is easily checked:"
   ]
  },
  {
   "cell_type": "code",
   "execution_count": 117,
   "id": "feee701f",
   "metadata": {},
   "outputs": [
    {
     "data": {
      "text/plain": [
       "True"
      ]
     },
     "execution_count": 117,
     "metadata": {},
     "output_type": "execute_result"
    }
   ],
   "source": [
    "h5**19 == x5"
   ]
  },
  {
   "cell_type": "markdown",
   "id": "32f656c4",
   "metadata": {},
   "source": [
    "For the quotient group $\\text{HN}$ of the centraliser, consider the following:"
   ]
  },
  {
   "cell_type": "code",
   "execution_count": 118,
   "id": "c83f2f89",
   "metadata": {},
   "outputs": [
    {
     "data": {
      "text/plain": [
       "True"
      ]
     },
     "execution_count": 118,
     "metadata": {},
     "output_type": "execute_result"
    }
   ],
   "source": [
    "x5**(h5**5) == x5"
   ]
  },
  {
   "cell_type": "code",
   "execution_count": 119,
   "id": "535ab26c",
   "metadata": {},
   "outputs": [
    {
     "data": {
      "text/plain": [
       "True"
      ]
     },
     "execution_count": 119,
     "metadata": {},
     "output_type": "execute_result"
    }
   ],
   "source": [
    "x5**(g5**4) == x5"
   ]
  },
  {
   "cell_type": "code",
   "execution_count": 120,
   "id": "0d9821dc",
   "metadata": {},
   "outputs": [
    {
     "data": {
      "text/plain": [
       "11"
      ]
     },
     "execution_count": 120,
     "metadata": {},
     "output_type": "execute_result"
    }
   ],
   "source": [
    "(g5**4).order()"
   ]
  },
  {
   "cell_type": "code",
   "execution_count": 121,
   "id": "5831dbba",
   "metadata": {},
   "outputs": [
    {
     "data": {
      "text/plain": [
       "19"
      ]
     },
     "execution_count": 121,
     "metadata": {},
     "output_type": "execute_result"
    }
   ],
   "source": [
    "(h5**5).order()"
   ]
  },
  {
   "cell_type": "markdown",
   "id": "c473f4fc",
   "metadata": {},
   "source": [
    "Since these are elements of the centraliser with orders relatively prime to 5,\n",
    "they project to elements of order 11 and 19 in the $\\text{HN}$. No maximal subgroup\n",
    "thereof has order divisible by both primes, ensuring the entire $\\text{HN}$\n",
    "is generated.  It then only remains to show $g_5$ conjugates $x_5$ to all its non-trivial powers."
   ]
  },
  {
   "cell_type": "code",
   "execution_count": 122,
   "id": "0c3422f8",
   "metadata": {},
   "outputs": [
    {
     "data": {
      "text/plain": [
       "True"
      ]
     },
     "execution_count": 122,
     "metadata": {},
     "output_type": "execute_result"
    }
   ],
   "source": [
    "x5**g5 == x5**2"
   ]
  },
  {
   "cell_type": "markdown",
   "id": "10f3c884",
   "metadata": {},
   "source": [
    "Since 2 is a primitive root modulo 5, the result follows."
   ]
  },
  {
   "cell_type": "markdown",
   "id": "316382f9",
   "metadata": {},
   "source": [
    "## $5^{1+6}{:}2 \\udot \\J2{:}4$ <a id=\"norm5B\"></a>\n",
    "The following generators are derived from a set published (without proof) by Dietrich, Lee, and Popiel.\n",
    "\n",
    "Generators are"
   ]
  },
  {
   "cell_type": "code",
   "execution_count": 123,
   "id": "dd039394",
   "metadata": {},
   "outputs": [],
   "source": [
    "g5b = MM(\"M<y_365h*x_140h*d_86fh*p_65282108*l_1*p_1457280*l_2*p_13039158*t_1*l_1*p_1394880*l_1*p_10666896*l_1*p_151680*t_2*l_1*p_1457280*l_2*p_32007587*l_1*t_2*l_2*p_1943040*l_2*p_43682512*t_1*l_1*p_1457280*l_2*p_16352*t_1*l_1*p_2640000*l_1*p_45296*t_2*l_2*p_2386560*l_2*p_53802531>\")\n",
    "h5b = MM(\"M<y_515h*x_0e77h*d_6d0h*p_149677978*l_2*p_1457280*l_1*p_1908003*l_2*t_1*l_1*p_1457280*l_2*p_43704570*t_1*l_2*p_2386560*l_2*p_43615141*t_1*l_2*p_2386560*l_2*p_43160081*t_1*l_2*p_2956800*l_1*p_127988769*t_1*l_2*p_1985280*l_1*p_43615109*t_1*l_1*p_1499520*l_2*p_43175446>\")\n",
    "L_N = (g5b, h5b)"
   ]
  },
  {
   "cell_type": "markdown",
   "id": "88d9fc7e",
   "metadata": {},
   "source": [
    "This is the normaliser of a 5B element in the Monster. We claim this particular instance normalises"
   ]
  },
  {
   "cell_type": "code",
   "execution_count": 124,
   "id": "bbe7a2ae",
   "metadata": {},
   "outputs": [],
   "source": [
    "# This is the product of the generators of Dietrich, Lee, and Popiel's - and our! - standard B-type A5.\n",
    "x5b = MM(\"M<y_5e2h*x_19e5h*d_180h*p_47732031*l_1*p_2027520*l_1*p_12115667*l_2*t_1*l_2*p_1457280*l_1*p_22333033*l_1*t_1*l_1*p_1920*l_2*p_10668672*l_2*p_10392960*t_1*l_2*p_2386560*l_2*p_53903650*t_2*l_2*p_2830080*l_2*p_106661290*t_1*l_2*p_2597760*l_1*p_43613421*t_2*l_2*p_2830080*l_2*p_96456578>\")\n",
    "L_E = [x5b]"
   ]
  },
  {
   "cell_type": "markdown",
   "id": "c2432cb3",
   "metadata": {},
   "source": [
    "Firstly, verify $x_{5b}$ belongs to the correct conjugacy class using $\\chi_\\MM$:"
   ]
  },
  {
   "cell_type": "code",
   "execution_count": 125,
   "id": "029c9a53",
   "metadata": {},
   "outputs": [
    {
     "data": {
      "text/plain": [
       "5"
      ]
     },
     "execution_count": 125,
     "metadata": {},
     "output_type": "execute_result"
    }
   ],
   "source": [
    "# The following element, which appears in Dietrich, Lee, and Popiel, conjugates x_{5b} into G_x0\n",
    "c = MM(\"M<y_4f1h*x_9bch*d_0f77h*p_106507260*l_1*p_80762880*l_2*p_213375504*t_2*l_1*p_1499520*l_2*p_583047*t_2*l_2*p_1900800*l_2*p_1040998*t_2*l_2*p_2386560*l_2*p_21331401*t_1>\")\n",
    "x5b_conj = x5b**c\n",
    "\n",
    "x5b_conj.order()"
   ]
  },
  {
   "cell_type": "code",
   "execution_count": 126,
   "id": "91e6a31d",
   "metadata": {},
   "outputs": [
    {
     "data": {
      "text/plain": [
       "True"
      ]
     },
     "execution_count": 126,
     "metadata": {},
     "output_type": "execute_result"
    }
   ],
   "source": [
    "x5b_conj.in_G_x0()"
   ]
  },
  {
   "cell_type": "code",
   "execution_count": 127,
   "id": "588aed3d",
   "metadata": {},
   "outputs": [
    {
     "data": {
      "text/plain": [
       "8"
      ]
     },
     "execution_count": 127,
     "metadata": {},
     "output_type": "execute_result"
    }
   ],
   "source": [
    "x5b_conj.chi_G_x0()[0]"
   ]
  },
  {
   "cell_type": "markdown",
   "id": "51910967",
   "metadata": {},
   "source": [
    "With that settled, show the claimed generators belong to the normaliser of $x_{5b}$."
   ]
  },
  {
   "cell_type": "code",
   "execution_count": 128,
   "id": "f8e8b14c",
   "metadata": {},
   "outputs": [
    {
     "data": {
      "text/plain": [
       "True"
      ]
     },
     "execution_count": 128,
     "metadata": {},
     "output_type": "execute_result"
    }
   ],
   "source": [
    "check_normalise(L_E, L_N)"
   ]
  },
  {
   "cell_type": "markdown",
   "id": "9ad84eaa",
   "metadata": {},
   "source": [
    "As for showing the entire normaliser is generated, begin by showing that\n",
    "$\\langle g_{5b}, h_{5b} \\rangle$ contains the centraliser $5^{1+6} \\udot 2 \\udot \\text{J}_2$ of $x_{5b}$.\n",
    "Start with a computation of some element orders in the centraliser."
   ]
  },
  {
   "cell_type": "code",
   "execution_count": 129,
   "id": "d881be57",
   "metadata": {},
   "outputs": [
    {
     "data": {
      "text/plain": [
       "True"
      ]
     },
     "execution_count": 129,
     "metadata": {},
     "output_type": "execute_result"
    }
   ],
   "source": [
    "x5b**g5b == x5b**(h5b**4) == x5b"
   ]
  },
  {
   "cell_type": "code",
   "execution_count": 130,
   "id": "857785c6",
   "metadata": {},
   "outputs": [
    {
     "data": {
      "text/plain": [
       "70"
      ]
     },
     "execution_count": 130,
     "metadata": {},
     "output_type": "execute_result"
    }
   ],
   "source": [
    "c = g5b*h5b**4\n",
    "g5b.order()"
   ]
  },
  {
   "cell_type": "code",
   "execution_count": 131,
   "id": "811ee200",
   "metadata": {},
   "outputs": [
    {
     "data": {
      "text/plain": [
       "3"
      ]
     },
     "execution_count": 131,
     "metadata": {},
     "output_type": "execute_result"
    }
   ],
   "source": [
    "(h5b**4).order()"
   ]
  },
  {
   "cell_type": "code",
   "execution_count": 132,
   "id": "922595d1",
   "metadata": {},
   "outputs": [
    {
     "data": {
      "text/plain": [
       "5"
      ]
     },
     "execution_count": 132,
     "metadata": {},
     "output_type": "execute_result"
    }
   ],
   "source": [
    "c.order()"
   ]
  },
  {
   "cell_type": "markdown",
   "id": "de4b93eb",
   "metadata": {},
   "source": [
    "Considerations of the orders of elements that can lie in the normal subgroup\n",
    "$5^{1+6} \\udot 2$ and in the factor group $\\text{J}_2$ prove that\n",
    "$g_{5b}$ must project to an element of order 7 in the factor group,\n",
    "$h_{5b}^4$ to an element of order 3, and their product to an element of\n",
    "order 1 or 5; since two elements of different orders cannot have the identity\n",
    "as a product, however, only 5 is possible in this last case. No maximal\n",
    "subgroup of $\\text{J}_2$ has order divisible by both 5 and 7, so this proves\n",
    "all cosets of the normal subgroup $5^{1+6} \\udot 2$ are represented in\n",
    "$\\langle g_{5b}, h_{5b} \\rangle$.\n",
    "\n",
    "To finish the centraliser, note that by the above $g_{5b}^7$ lies in $5^{1+4} \\udot 2$.\n",
    "It furthermore has order 10, and thus generates the outer coset of the\n",
    "$5^{1+6}$ in the subgroup. The normal subgroup $5^{1+6}$ in turn contains\n",
    "$g_{5b}^7 \\left( g_{5b}^7 \\right)^{h_{5b}}$ and any products of conjugates thereof\n",
    "in the normaliser $N \\left( x_{5b} \\right)$:"
   ]
  },
  {
   "cell_type": "code",
   "execution_count": 133,
   "id": "05d48a6a",
   "metadata": {},
   "outputs": [
    {
     "data": {
      "text/plain": [
       "True"
      ]
     },
     "execution_count": 133,
     "metadata": {},
     "output_type": "execute_result"
    }
   ],
   "source": [
    "y5b = MM(\"M<y_328h*x_1deah*d_0e94h*p_39050854*l_2*p_960*l_1*p_4080*t_1*l_1*p_3840*l_2*p_24336*l_2*t_1*l_1*p_3840*l_1*p_23376*l_1*p_6548160*t_1*l_2*p_3020160*l_2*t_1*l_2*p_2956800*l_1*p_10784036*t_1*l_1*p_2640000*l_1*p_15392*t_2*l_2*p_2956800*l_1*p_96481545*t_2*l_1*p_1499520*l_2*p_85836106>\")\n",
    "gs = (\n",
    "    MM(\"M<y_5aah*x_1044h*d_573h*p_118926544*l_1*p_2999040*l_1*p_10860100*t_2*l_2*p_2956800*l_1*p_12133816*l_1*t_1*l_1*p_960*l_2*p_10666848*l_2*p_2391360*t_1*l_2*p_1457280*l_1*p_576391*t_1*l_1*p_1415040*l_2*p_4128*l_1*p_4331520*t_2*l_2*p_2386560*l_2*p_42710820*t_2*l_1*p_1499520*l_2*p_96460387>\"),\n",
    "    MM(\"M<y_44h*x_1af9h*d_0ec0h*p_238846774*l_2*p_1900800*l_2*p_2835364*t_1*l_2*p_2787840*l_2*p_22310042*l_1*t_2*l_2*p_1858560*l_1*p_465840*l_2*p_2013120*t_1*l_2*p_2597760*l_1*p_21549732*t_1*l_2*p_1900800*l_2*p_87589*t_1*l_2*p_2597760*l_1*p_42736704*t_2*l_1*p_2027520*l_1*p_78930>\")\n",
    ")\n",
    "hs = (\n",
    "    MM(\"M<y_168h*x_1984h*d_809h*p_50180569*l_1*p_70118400*l_2*p_171684480*l_1*t_2*l_2*p_1900800*l_2*p_465888*l_2*t_1*l_1*p_1393920*l_2*p_465840*l_1*p_4696320*t_1*l_1*p_1499520*l_2*p_64125701*t_2*l_2*p_1393920*l_2*p_466800*l_1*p_2415360*t_1*l_2*p_1920*l_2*p_64016064*t_2*l_2*p_1457280*l_1*p_48132>\"),\n",
    "    MM(\"M<y_4abh*x_1961h*d_0f8h*p_162877349*l_2*p_1900800*l_2*p_32514568*l_1*t_1*l_1*p_1920*l_1*p_2788176*l_1*t_1*l_1*p_2027520*l_1*p_2815284*l_2*t_2*l_1*p_2640000*l_1*p_13442*t_2*l_1*p_2027520*l_1*p_177067*t_2*l_1*p_1393920*l_1*p_10666848*l_1*p_601920*t_1*l_1*p_8891520*l_1*t_2*l_2*p_1943040*l_2*p_64046821>\")\n",
    ")\n",
    "\n",
    "l = (g5b**7*(g5b**7)**h5b).reduce()\n",
    "gens = [l**g5b*(l**2)**(g5b**4), l**(g5b**3)/l**(g5b**4)]\n",
    "\n",
    "x5b == comm(l, l**g5b)**3"
   ]
  },
  {
   "cell_type": "code",
   "execution_count": 134,
   "id": "916b597e",
   "metadata": {},
   "outputs": [
    {
     "data": {
      "text/plain": [
       "True"
      ]
     },
     "execution_count": 134,
     "metadata": {},
     "output_type": "execute_result"
    }
   ],
   "source": [
    "y5b == l**(g5b**2)*gens[1]"
   ]
  },
  {
   "cell_type": "code",
   "execution_count": 135,
   "id": "8d4aa6a3",
   "metadata": {},
   "outputs": [
    {
     "data": {
      "text/plain": [
       "True"
      ]
     },
     "execution_count": 135,
     "metadata": {},
     "output_type": "execute_result"
    }
   ],
   "source": [
    "gs == (gens[0]/gens[1]/x5b**2*(l**2)**g5b*(l**2)**(g5b**2)*(l**2)**(g5b**5), gens[0]**2/gens[1]*x5b**2*l**g5b*(l**2)**(g5b**2)/l**(g5b**5))"
   ]
  },
  {
   "cell_type": "code",
   "execution_count": 136,
   "id": "e683bc9e",
   "metadata": {},
   "outputs": [
    {
     "data": {
      "text/plain": [
       "True"
      ]
     },
     "execution_count": 136,
     "metadata": {},
     "output_type": "execute_result"
    }
   ],
   "source": [
    "hs == (l**3*gens[1]*l**(g5b**5), l**(g5b**5))"
   ]
  },
  {
   "cell_type": "markdown",
   "id": "02ac5b3c",
   "metadata": {},
   "source": [
    "They in fact satisfy all the conditions for Lemma 2.2\n",
    "with $N = 5^{1+6}$ and $\\sigma$ as defined below:"
   ]
  },
  {
   "cell_type": "code",
   "execution_count": 137,
   "id": "8bc14694",
   "metadata": {},
   "outputs": [
    {
     "data": {
      "text/plain": [
       "True"
      ]
     },
     "execution_count": 137,
     "metadata": {},
     "output_type": "execute_result"
    }
   ],
   "source": [
    "\u03c3 = MM(\"M<y_562h*x_184ch*d_94eh*p_131788348*l_1*p_2999040*l_1*p_2388997*t_1*l_2*p_1900800*l_2*p_21860507*l_2*t_1*l_2*p_2830080*l_2*p_2795987*l_1*t_1*l_2*p_2830080*l_2*p_21442979*t_2*l_2*p_2344320*l_2*p_1464512*l_1*t_1*l_1*p_1499520*l_1*p_42716505*t_2*l_2*p_2787840*l_2*p_5776>\")\n",
    "check_lemma_2_2(x5b, y5b, l, gs, hs, \u03c3)"
   ]
  },
  {
   "cell_type": "markdown",
   "id": "6104eb1d",
   "metadata": {},
   "source": [
    "We conclude that $x_{5b}$, $y_{5b}$, $\\ell$, `gs`, and `hs` generate\n",
    "$5^{1+6}$. It then only remains to show $h_{5b}$ conjugates $x_{5b}$ to all 4 of\n",
    "its non-trivial powers."
   ]
  },
  {
   "cell_type": "code",
   "execution_count": 138,
   "id": "7df3e3ff",
   "metadata": {},
   "outputs": [
    {
     "data": {
      "text/plain": [
       "True"
      ]
     },
     "execution_count": 138,
     "metadata": {},
     "output_type": "execute_result"
    }
   ],
   "source": [
    "x5b**h5b == x5b**3"
   ]
  },
  {
   "cell_type": "markdown",
   "id": "968e9238",
   "metadata": {},
   "source": [
    "Since 3 is a primitive root modulo 5, the result follows."
   ]
  },
  {
   "cell_type": "markdown",
   "id": "6a7e1ca2",
   "metadata": {},
   "source": [
    "## $\\left( 5^2{:}4 \\udot 2^2 \\times \\unt{3}{5} \\right){:}\\sym{3}$ <a id=\"norm5A2\"></a>\n",
    "\n",
    "Generators for this maximal subgroup are given by"
   ]
  },
  {
   "cell_type": "code",
   "execution_count": 139,
   "id": "784c79c8",
   "metadata": {},
   "outputs": [],
   "source": [
    "g5a2 = MM(\"M<y_23bh*x_5beh*d_91ch*p_17762158*l_1*p_74880*l_1*t_2*l_2*p_2787840*l_2*p_32476072*l_1*t_1*l_2*p_2956800*l_1*p_32567542*l_2*t_1*l_2*p_1885440*l_1*t_1*l_2*p_2787840*l_2*p_1905317*t_1*l_2*p_1985280*l_1*p_64001603*t_2*l_2*p_2597760*l_1*p_43152307*t_2*l_2*p_1457280*l_1*p_54939>\")\n",
    "h5a2 = MM(\"M<y_142h*x_1975h*d_0a9dh*p_114914232*l_2*p_70118400*t_1*l_2*p_1985280*l_1*p_1508727*l_1*t_1*l_1*p_1394880*l_2*p_22320*l_1*p_281280*t_2*l_2*p_1457280*l_1*p_576403*t_1*l_2*p_1393920*l_1*p_10665888*l_1*p_702720*t_2*l_2*p_5664000*l_1*t_1*l_2*p_2956800*l_1*p_42738629>\")\n",
    "L_N = (g5a2, h5a2)"
   ]
  },
  {
   "cell_type": "markdown",
   "id": "ac852d6f",
   "metadata": {},
   "source": [
    "This is the normaliser of a 5A-pure subgroup of $\\MM$ with structure $5^2$.\n",
    "We claim this particular instance normalises the group generated by"
   ]
  },
  {
   "cell_type": "code",
   "execution_count": 140,
   "id": "544a672f",
   "metadata": {},
   "outputs": [],
   "source": [
    "x5 = MM(\"M<y_687h*x_0ebfh*d_5fah*p_173070035*l_2*p_1457280*l_1*p_583971*l_2>\")\n",
    "y5 = MM(\"M<y_3fdh*x_5f5h*d_9d0h*p_117977088*l_1*p_1499520*l_1*p_85818804*t_2*l_1*p_1457280*l_2*p_945826*t_2*l_2*p_2597760*l_1*p_21361192*t_2*l_2*p_2830080*l_2*p_21358257*t_2*l_2*p_2597760*l_1*p_96483476*t_1*l_2*p_2830080*l_2*p_43151460*t_1*l_2*p_1985280*l_1*p_42728983>\")\n",
    "L_E = (x5, y5)"
   ]
  },
  {
   "cell_type": "markdown",
   "id": "dc49344b",
   "metadata": {},
   "source": [
    "Note $x_5$ is as in [Theorem 2.12](#norm5A).  \n",
    "Firstly, verify that $x_5$ and $y_5 \\notin \\langle x_5 \\rangle$ are\n",
    "commuting elements of order 5:"
   ]
  },
  {
   "cell_type": "code",
   "execution_count": 141,
   "id": "1e32e557",
   "metadata": {},
   "outputs": [
    {
     "data": {
      "text/plain": [
       "5"
      ]
     },
     "execution_count": 141,
     "metadata": {},
     "output_type": "execute_result"
    }
   ],
   "source": [
    "# x5 was shown to have order 5 in the proof of Theorem 2.12\n",
    "y5.order()"
   ]
  },
  {
   "cell_type": "code",
   "execution_count": 142,
   "id": "7a848741",
   "metadata": {},
   "outputs": [
    {
     "data": {
      "text/plain": [
       "True"
      ]
     },
     "execution_count": 142,
     "metadata": {},
     "output_type": "execute_result"
    }
   ],
   "source": [
    "x5*y5 == y5*x5"
   ]
  },
  {
   "cell_type": "code",
   "execution_count": 143,
   "id": "60d32a0c",
   "metadata": {},
   "outputs": [
    {
     "data": {
      "text/plain": [
       "False"
      ]
     },
     "execution_count": 143,
     "metadata": {},
     "output_type": "execute_result"
    }
   ],
   "source": [
    "y5 in [x5**i for i in range(1, 5)]"
   ]
  },
  {
   "cell_type": "markdown",
   "id": "2970ee7c",
   "metadata": {},
   "source": [
    "It follows that $\\langle x_5, y_5 \\rangle \\cong 5^2$.\n",
    "As for 5A-purity, recall from the proof of [Theorem 2.12](#norm5A) that $x_5 \\in \\textrm{5A}$.\n",
    "Since all powers of 5A elements in $\\MM$ other than the identity are themselves\n",
    "5A elements, it thus suffices to conjugate $x_5$ to a generator of each of\n",
    "the cyclic subgroups of order 5 in $\\langle x_5, y_5 \\rangle$.\n",
    "A set of generators (excluding $x_5$, which is already known to lie in 5A)\n",
    "and of conjugating elements is as follows. Note that all conjugating elements\n",
    "belong to $\\langle g_{5a2}, h_{5a2} \\rangle$."
   ]
  },
  {
   "cell_type": "code",
   "execution_count": 144,
   "id": "bf75bcab",
   "metadata": {},
   "outputs": [
    {
     "data": {
      "text/plain": [
       "True"
      ]
     },
     "execution_count": 144,
     "metadata": {},
     "output_type": "execute_result"
    }
   ],
   "source": [
    "cyclic_gens = [y5] + [x5*y5**i for i in range(1, 5)]\n",
    "conjugators = [h5a2, g5a2**4, h5a2*g5a2**2*h5a2**2, g5a2**2*h5a2*g5a2, h5a2*g5a2*h5a2**2]\n",
    "all([x5**conjugators[i] == cyclic_gens[i] for i in range(len(cyclic_gens))])"
   ]
  },
  {
   "cell_type": "markdown",
   "id": "20fa6620",
   "metadata": {},
   "source": [
    "With that settled, show the claimed generators belong to the normaliser of $\\langle x_5, y_5 \\rangle$."
   ]
  },
  {
   "cell_type": "code",
   "execution_count": 145,
   "id": "598337f2",
   "metadata": {},
   "outputs": [
    {
     "data": {
      "text/plain": [
       "True"
      ]
     },
     "execution_count": 145,
     "metadata": {},
     "output_type": "execute_result"
    }
   ],
   "source": [
    "map_5_2 = map_to_vectors(L_E)\n",
    "check_normalise(L_E, L_N, group_set=map_5_2)"
   ]
  },
  {
   "cell_type": "markdown",
   "id": "34781a54",
   "metadata": {},
   "source": [
    "As for showing the entire normaliser of structure $\\left( 5^2{:}4 \\udot 2^2 \\times \\unt{3}{5} \\right){:}\\sym{3}$ is generated,\n",
    "begin by verifying that the homomorphism induced\n",
    "by $\\langle g_{5a2}, h_{5a2} \\rangle$'s action on $\\langle x_5, y_5 \\rangle$\n",
    "has an image of size $\\left| 4 \\udot 2^2 \\right| \\left| \\sym{3} \\right| =\n",
    "    16 \\cdot 6 = 96$:"
   ]
  },
  {
   "cell_type": "code",
   "execution_count": 146,
   "id": "c580ea6c",
   "metadata": {},
   "outputs": [
    {
     "data": {
      "text/plain": [
       "96"
      ]
     },
     "execution_count": 146,
     "metadata": {},
     "output_type": "execute_result"
    }
   ],
   "source": [
    "size_image(L_N, map_5_2, basis=L_E)"
   ]
  },
  {
   "cell_type": "markdown",
   "id": "cb854f17",
   "metadata": {},
   "source": [
    "It hence suffices to prove that the centraliser $5^2 \\times \\unt{3}{5}$ is contained\n",
    "in $\\langle g_{5a2}, h_{5a2} \\rangle$. The factor $5^2$ is necessarily\n",
    "$\\langle x_5, y_5 \\rangle$, with the former generator shown above to be conjugate\n",
    "to the latter by an element of $\\langle g_{5a2}, h_{5a2} \\rangle$, so that\n",
    "for the $5^2$ it suffices to exhibit a word in $g_{5a2}$ and $h_{5a2}$ equal\n",
    "to $y_5$:"
   ]
  },
  {
   "cell_type": "code",
   "execution_count": 147,
   "id": "74ac05d8",
   "metadata": {},
   "outputs": [
    {
     "data": {
      "text/plain": [
       "True"
      ]
     },
     "execution_count": 147,
     "metadata": {},
     "output_type": "execute_result"
    }
   ],
   "source": [
    "((g5a2*h5a2**2)**2*g5a2)**18 == y5"
   ]
  },
  {
   "cell_type": "markdown",
   "id": "fd45cb2f",
   "metadata": {},
   "source": [
    "We claim that the factor $\\unt{3}{5}$ is generated by the following two elements.\n",
    "of $C_\\MM \\left( \\langle x_5, y_5 \\rangle \\right)$."
   ]
  },
  {
   "cell_type": "code",
   "execution_count": 148,
   "id": "5bc10b9b",
   "metadata": {},
   "outputs": [
    {
     "data": {
      "text/plain": [
       "7"
      ]
     },
     "execution_count": 148,
     "metadata": {},
     "output_type": "execute_result"
    }
   ],
   "source": [
    "x7 = ((g5a2*h5a2)**2*g5a2/(h5a2*g5a2**2*h5a2))**5\n",
    "x7.order()"
   ]
  },
  {
   "cell_type": "code",
   "execution_count": 149,
   "id": "4e318e6c",
   "metadata": {},
   "outputs": [
    {
     "data": {
      "text/plain": [
       "True"
      ]
     },
     "execution_count": 149,
     "metadata": {},
     "output_type": "execute_result"
    }
   ],
   "source": [
    "x7**x5 == x7**y5 == x7"
   ]
  },
  {
   "cell_type": "code",
   "execution_count": 150,
   "id": "40bde537",
   "metadata": {},
   "outputs": [
    {
     "data": {
      "text/plain": [
       "8"
      ]
     },
     "execution_count": 150,
     "metadata": {},
     "output_type": "execute_result"
    }
   ],
   "source": [
    "x8 = (h5a2**2*g5a2*h5a2*g5a2/(g5a2*h5a2*g5a2*h5a2**2))**5\n",
    "x8.order()"
   ]
  },
  {
   "cell_type": "code",
   "execution_count": 151,
   "id": "af7bd4c7",
   "metadata": {},
   "outputs": [
    {
     "data": {
      "text/plain": [
       "True"
      ]
     },
     "execution_count": 151,
     "metadata": {},
     "output_type": "execute_result"
    }
   ],
   "source": [
    "x8**x5 == x8**y5 == x8"
   ]
  },
  {
   "cell_type": "markdown",
   "id": "c33b063f",
   "metadata": {},
   "source": [
    "Since 7 and 8 are relatively prime to $5^2$,\n",
    "these elements certainly lie in the factor $\\unt{3}{5}$\n",
    "of the centraliser. Moreover, data in the GAP Character Table\n",
    "Library show that the only maximal subgroup of $\\unt{3}{5}$\n",
    "with order divisible by both 7 and 8 is $\\alt{7}$, which does\n",
    "not contain elements of order 8, $\\unt{3}{5} \\le \\langle g_{5a2}, h_{5a2} \\rangle$\n",
    "and the proof is complete."
   ]
  },
  {
   "cell_type": "markdown",
   "id": "53dee1c6",
   "metadata": {},
   "source": [
    "## $5^{2+2+4}{:}\\left( \\sym{3} \\times \\ling{2}{5} \\right)$ <a id=\"norm5B2\"></a>\n",
    "\n",
    "Generators for this maximal subgroup are given by"
   ]
  },
  {
   "cell_type": "code",
   "execution_count": 152,
   "id": "8202deaf",
   "metadata": {},
   "outputs": [],
   "source": [
    "g5b2 = MM(\"M<y_111h*x_0dd4h*d_74eh*p_5787023*l_1*p_59473920*l_2*p_121566816*t_2*l_1*p_2640000*l_1*p_1504848*l_1*t_2*l_2*p_1943040*l_2*p_12545590*l_2*t_1*l_1*p_1499520*l_2*p_53801586*t_1*l_2*p_2386560*l_2*p_64042024*t_1*l_2*p_1943040*l_2*p_43237049*t_2*l_2*p_2956800*l_1*p_43618929>\")\n",
    "h5b2 = MM(\"M<y_5d6h*x_459h*d_367h*p_7561418*l_2*p_80762880*l_1*p_129106560*l_2*t_2*l_2*p_78101760*l_1*p_200069808*l_2*t_2*l_1*p_2027520*l_1*p_22330135*l_1*t_2*l_2*p_2787840*l_2*p_10581*t_2*l_1*p_1499520*l_1*p_10717667*t_2*l_2*p_2787840*l_2*p_32968691*l_1*t_1*l_2*p_1985280*l_1*p_42715556*t_2*l_1*p_2027520*l_1*p_57745>\")\n",
    "L_N = (g5b2, h5b2)"
   ]
  },
  {
   "cell_type": "markdown",
   "id": "fb691d76",
   "metadata": {},
   "source": [
    "Maximal subgroups of the given structure are the normalisers of\n",
    "certain 5B-pure subgroup of $\\MM$ with structure $5^2$. We claim this particular instance\n",
    "normalises $\\langle x_{5b}, y_{5b} \\rangle$, where $x_{5b}$ and $y_{5b}$\n",
    "are as in [Theorem 2.13](#norm5B):"
   ]
  },
  {
   "cell_type": "code",
   "execution_count": 153,
   "id": "c3c32278",
   "metadata": {},
   "outputs": [],
   "source": [
    "x5b = MM(\"M<y_5e2h*x_19e5h*d_180h*p_47732031*l_1*p_2027520*l_1*p_12115667*l_2*t_1*l_2*p_1457280*l_1*p_22333033*l_1*t_1*l_1*p_1920*l_2*p_10668672*l_2*p_10392960*t_1*l_2*p_2386560*l_2*p_53903650*t_2*l_2*p_2830080*l_2*p_106661290*t_1*l_2*p_2597760*l_1*p_43613421*t_2*l_2*p_2830080*l_2*p_96456578>\")\n",
    "y5b = MM(\"M<y_328h*x_1deah*d_0e94h*p_39050854*l_2*p_960*l_1*p_4080*t_1*l_1*p_3840*l_2*p_24336*l_2*t_1*l_1*p_3840*l_1*p_23376*l_1*p_6548160*t_1*l_2*p_3020160*l_2*t_1*l_2*p_2956800*l_1*p_10784036*t_1*l_1*p_2640000*l_1*p_15392*t_2*l_2*p_2956800*l_1*p_96481545*t_2*l_1*p_1499520*l_2*p_85836106>\")\n",
    "L_E = (x5b, y5b)"
   ]
  },
  {
   "cell_type": "markdown",
   "id": "586680f6",
   "metadata": {},
   "source": [
    "The proof of [Theorem 2.13](#norm5B) showed not only that\n",
    "$y_{5b} \\notin \\langle x_{5b} \\rangle$ is an element of order 5 commuting\n",
    "with the 5B element $x_{5b}$, so that they certainly generate a group $5^2$,\n",
    "but also that $y_{5b} \\in 5^{1+6} < 5^{1+6}{:}2 \\udot \\J2{:}4$. According to Wilson's\n",
    "odd local paper, there are precisely two conjugacy classes of\n",
    "$5^2 \\le 5^{1+6}$ containing the centre in a 5B normaliser, with one class\n",
    "(centraliser $\\left( 5 \\times 5^{1+4} \\right){:}5^2{:}\\sym{3}$) having\n",
    "as a normaliser the desired maximal subgroup of $\\MM$ and\n",
    "the other (centraliser $5 \\times 5^{1+4}{:}2^{1+4}{:}5$) not. It\n",
    "thus suffices to demonstrate $\\langle x_{5b}, y_{5b} \\rangle$ is centralised\n",
    "by an element of order 3."
   ]
  },
  {
   "cell_type": "code",
   "execution_count": 154,
   "id": "211aa2b7",
   "metadata": {},
   "outputs": [
    {
     "data": {
      "text/plain": [
       "3"
      ]
     },
     "execution_count": 154,
     "metadata": {},
     "output_type": "execute_result"
    }
   ],
   "source": [
    "t = MM(\"M<y_398h*x_1031h*d_6f5h*p_167269163*l_1*p_464640*l_2*p_1394160*l_2*t_1*l_2*p_2787840*l_2*p_2354472*l_2*t_1*l_2*p_1985280*l_1*p_21817286*l_2*t_2*l_2*p_2597760*l_1*p_10702241*t_2*l_2*p_2956800*l_1*p_85332884*t_1*l_1*p_1499520*l_1*p_43678701*t_1*l_1*p_1499520*l_2*p_53881527>\")\n",
    "\n",
    "t.order()"
   ]
  },
  {
   "cell_type": "code",
   "execution_count": 155,
   "id": "c39027d9",
   "metadata": {},
   "outputs": [
    {
     "data": {
      "text/plain": [
       "True"
      ]
     },
     "execution_count": 155,
     "metadata": {},
     "output_type": "execute_result"
    }
   ],
   "source": [
    "x5b*t == t*x5b"
   ]
  },
  {
   "cell_type": "code",
   "execution_count": 156,
   "id": "fec59ea5",
   "metadata": {},
   "outputs": [
    {
     "data": {
      "text/plain": [
       "True"
      ]
     },
     "execution_count": 156,
     "metadata": {},
     "output_type": "execute_result"
    }
   ],
   "source": [
    "y5b*t == t*y5b"
   ]
  },
  {
   "cell_type": "markdown",
   "id": "9a905503",
   "metadata": {},
   "source": [
    "With that settled, show the claimed generators belong to the normaliser of $\\langle x_{5b}, y_{5b} \\rangle$."
   ]
  },
  {
   "cell_type": "code",
   "execution_count": 157,
   "id": "832aa1e9",
   "metadata": {},
   "outputs": [
    {
     "data": {
      "text/plain": [
       "True"
      ]
     },
     "execution_count": 157,
     "metadata": {},
     "output_type": "execute_result"
    }
   ],
   "source": [
    "map_5_2 = map_to_vectors(L_E)\n",
    "check_normalise(L_E, L_N, group_set=map_5_2)"
   ]
  },
  {
   "cell_type": "markdown",
   "id": "8f8acc07",
   "metadata": {},
   "source": [
    "As for showing the entire normaliser of structure $5^{2+2+4}{:}\\left( \\sym{3} \\times \\ling{2}{5} \\right)$ is generated,\n",
    "begin by verifying that the homomorphism induced\n",
    "by $\\langle g_{5b2}, h_{5b2} \\rangle$'s action on $\\langle x_{5b}, y_{5b} \\rangle$\n",
    "has an image of size $\\left| \\ling{2}{5} \\right| = \\left( 5^2 - 1 \\right)\n",
    "    \\left( 5^2 - 5 \\right) = 480$:"
   ]
  },
  {
   "cell_type": "code",
   "execution_count": 158,
   "id": "4db7798d",
   "metadata": {},
   "outputs": [
    {
     "data": {
      "text/plain": [
       "480"
      ]
     },
     "execution_count": 158,
     "metadata": {},
     "output_type": "execute_result"
    }
   ],
   "source": [
    "size_image(L_N, map_5_2, basis=L_E)"
   ]
  },
  {
   "cell_type": "markdown",
   "id": "8dc9b7cc",
   "metadata": {},
   "source": [
    "It thus suffices to prove that the centraliser\n",
    "$\\left( 5 \\times 5^{1+4} \\right){:}5^2{:}\\sym{3}$ lies\n",
    "in $\\langle g_{5b2}, h_{5b2} \\rangle$. For the 5-group of order\n",
    "$5^{1+1+4+2} = 5^8$, recall from the proof of [Theorem 2.13](#norm5B) that\n",
    "$x_{5b}$, $y_{5b}$, and certain elements $\\ell, \\left\\{ g_i \\right\\}_{i=1}^2,\n",
    "    \\left\\{ h_i \\right\\}_{i=1}^2, \\sigma$ satisfy the conditions of\n",
    "Lemma 2.2 with $p = 5$ and $k = 2$. The elements $x_{5b}, y_{5b}, g_i, h_i, h_i^{\\sigma}$\n",
    "therefore generate a 5-group lying in $\\cma{x_{5b}, y_{5b}}$ of order at least $5^8$,\n",
    "so that it is enough to exhibit words for them in $g_{5b2}, h_{5b2}$."
   ]
  },
  {
   "cell_type": "code",
   "execution_count": 159,
   "id": "ea4527ec",
   "metadata": {},
   "outputs": [
    {
     "data": {
      "text/plain": [
       "True"
      ]
     },
     "execution_count": 159,
     "metadata": {},
     "output_type": "execute_result"
    }
   ],
   "source": [
    "# The aforementioned elements\n",
    "gs = (\n",
    "    MM(\"M<y_5aah*x_1044h*d_573h*p_118926544*l_1*p_2999040*l_1*p_10860100*t_2*l_2*p_2956800*l_1*p_12133816*l_1*t_1*l_1*p_960*l_2*p_10666848*l_2*p_2391360*t_1*l_2*p_1457280*l_1*p_576391*t_1*l_1*p_1415040*l_2*p_4128*l_1*p_4331520*t_2*l_2*p_2386560*l_2*p_42710820*t_2*l_1*p_1499520*l_2*p_96460387>\"),\n",
    "    MM(\"M<y_44h*x_1af9h*d_0ec0h*p_238846774*l_2*p_1900800*l_2*p_2835364*t_1*l_2*p_2787840*l_2*p_22310042*l_1*t_2*l_2*p_1858560*l_1*p_465840*l_2*p_2013120*t_1*l_2*p_2597760*l_1*p_21549732*t_1*l_2*p_1900800*l_2*p_87589*t_1*l_2*p_2597760*l_1*p_42736704*t_2*l_1*p_2027520*l_1*p_78930>\")\n",
    ")\n",
    "hs = (\n",
    "    MM(\"M<y_168h*x_1984h*d_809h*p_50180569*l_1*p_70118400*l_2*p_171684480*l_1*t_2*l_2*p_1900800*l_2*p_465888*l_2*t_1*l_1*p_1393920*l_2*p_465840*l_1*p_4696320*t_1*l_1*p_1499520*l_2*p_64125701*t_2*l_2*p_1393920*l_2*p_466800*l_1*p_2415360*t_1*l_2*p_1920*l_2*p_64016064*t_2*l_2*p_1457280*l_1*p_48132>\"),\n",
    "    MM(\"M<y_4abh*x_1961h*d_0f8h*p_162877349*l_2*p_1900800*l_2*p_32514568*l_1*t_1*l_1*p_1920*l_1*p_2788176*l_1*t_1*l_1*p_2027520*l_1*p_2815284*l_2*t_2*l_1*p_2640000*l_1*p_13442*t_2*l_1*p_2027520*l_1*p_177067*t_2*l_1*p_1393920*l_1*p_10666848*l_1*p_601920*t_1*l_1*p_8891520*l_1*t_2*l_2*p_1943040*l_2*p_64046821>\")\n",
    ")\n",
    "\u03c3 = MM(\"M<y_562h*x_184ch*d_94eh*p_131788348*l_1*p_2999040*l_1*p_2388997*t_1*l_2*p_1900800*l_2*p_21860507*l_2*t_1*l_2*p_2830080*l_2*p_2795987*l_1*t_1*l_2*p_2830080*l_2*p_21442979*t_2*l_2*p_2344320*l_2*p_1464512*l_1*t_1*l_1*p_1499520*l_1*p_42716505*t_2*l_2*p_2787840*l_2*p_5776>\")\n",
    "\n",
    "T = [comm(1/h5b2, g5b2**-2), comm(1/(g5b2*h5b2), g5b2**-2), comm(h5b2**-2, g5b2**-2), comm(1/h5b2, g5b2**-2/h5b2), h5b2**6/g5b2**2]\n",
    "T += [comm(1/(g5b2**2*h5b2), g5b2**-2), g5b2*h5b2**2*g5b2**2/(g5b2*h5b2*g5b2**2*h5b2), comm(1/(h5b2*g5b2*h5b2), g5b2**-2)]\n",
    "U = [T[0]*T[5]**3, T[2]/(T[4]**4/T[5]**4*T[6]*T[1]**4), T[3]/(T[4]**4/T[5]*T[6]*T[1]**4), T[7]/(T[6]**2*T[1]**4)]\n",
    "\n",
    "x5b == U[1]*U[0]/U[3]"
   ]
  },
  {
   "cell_type": "code",
   "execution_count": 160,
   "id": "a2aa3aab",
   "metadata": {},
   "outputs": [
    {
     "data": {
      "text/plain": [
       "True"
      ]
     },
     "execution_count": 160,
     "metadata": {},
     "output_type": "execute_result"
    }
   ],
   "source": [
    "y5b == U[0]**3/U[1]*U[2]**3"
   ]
  },
  {
   "cell_type": "code",
   "execution_count": 161,
   "id": "7a7654d1",
   "metadata": {},
   "outputs": [
    {
     "data": {
      "text/plain": [
       "True"
      ]
     },
     "execution_count": 161,
     "metadata": {},
     "output_type": "execute_result"
    }
   ],
   "source": [
    "gs[0] == U[3]**3/U[1]"
   ]
  },
  {
   "cell_type": "code",
   "execution_count": 162,
   "id": "49479823",
   "metadata": {},
   "outputs": [
    {
     "data": {
      "text/plain": [
       "True"
      ]
     },
     "execution_count": 162,
     "metadata": {},
     "output_type": "execute_result"
    }
   ],
   "source": [
    "gs[1] == U[1]**3*U[2]**2*U[3]**3"
   ]
  },
  {
   "cell_type": "code",
   "execution_count": 163,
   "id": "5ad1d480",
   "metadata": {},
   "outputs": [
    {
     "data": {
      "text/plain": [
       "True"
      ]
     },
     "execution_count": 163,
     "metadata": {},
     "output_type": "execute_result"
    }
   ],
   "source": [
    "hs[0] == (U[3]**-2/U[2]**3/U[1]/U[0]*T[5]**2*T[4]*T[6]**2/(U[1]*U[3]*T[1])**3)**3"
   ]
  },
  {
   "cell_type": "code",
   "execution_count": 164,
   "id": "a4312941",
   "metadata": {},
   "outputs": [
    {
     "data": {
      "text/plain": [
       "True"
      ]
     },
     "execution_count": 164,
     "metadata": {},
     "output_type": "execute_result"
    }
   ],
   "source": [
    "hs[1] == U[3]**2*U[0]**2/(U[1]**2*T[5])"
   ]
  },
  {
   "cell_type": "code",
   "execution_count": 165,
   "id": "c8a4d755",
   "metadata": {},
   "outputs": [
    {
     "data": {
      "text/plain": [
       "True"
      ]
     },
     "execution_count": 165,
     "metadata": {},
     "output_type": "execute_result"
    }
   ],
   "source": [
    "hs[0]**\u03c3 == (U[2]/T[5]/U[3]**3*T[4]**2*T[6]/T[1])**3"
   ]
  },
  {
   "cell_type": "code",
   "execution_count": 166,
   "id": "0acdd4cf",
   "metadata": {},
   "outputs": [
    {
     "data": {
      "text/plain": [
       "True"
      ]
     },
     "execution_count": 166,
     "metadata": {},
     "output_type": "execute_result"
    }
   ],
   "source": [
    "hs[1]**\u03c3 == U[1]*U[3]*T[1]"
   ]
  },
  {
   "cell_type": "markdown",
   "id": "3eaf17e1",
   "metadata": {},
   "source": [
    "The factor group $\\sym{3}$ is in turn generated by any elements\n",
    "of order 2 and 3. Since these are coprime to $5^8$, we need only\n",
    "exhibit elements of these orders in $\\langle g_{5b2}, h_{5b2} \\rangle \\cap\n",
    "    \\cma{x_{5b}, y_{5b}}$ to complete the proof."
   ]
  },
  {
   "cell_type": "code",
   "execution_count": 167,
   "id": "2048ea57",
   "metadata": {},
   "outputs": [
    {
     "data": {
      "text/plain": [
       "True"
      ]
     },
     "execution_count": 167,
     "metadata": {},
     "output_type": "execute_result"
    }
   ],
   "source": [
    "u = (g5b2*h5b2)**2*g5b2**3*h5b2**2*g5b2/(h5b2*g5b2**2*h5b2**3*g5b2*h5b2)\n",
    "x5b*u == u*x5b"
   ]
  },
  {
   "cell_type": "code",
   "execution_count": 168,
   "id": "9e7ee61c",
   "metadata": {},
   "outputs": [
    {
     "data": {
      "text/plain": [
       "True"
      ]
     },
     "execution_count": 168,
     "metadata": {},
     "output_type": "execute_result"
    }
   ],
   "source": [
    "y5b*u == u*y5b"
   ]
  },
  {
   "cell_type": "code",
   "execution_count": 169,
   "id": "c9128885",
   "metadata": {},
   "outputs": [
    {
     "data": {
      "text/plain": [
       "2"
      ]
     },
     "execution_count": 169,
     "metadata": {},
     "output_type": "execute_result"
    }
   ],
   "source": [
    "u.order()"
   ]
  },
  {
   "cell_type": "code",
   "execution_count": 170,
   "id": "c7639c8a",
   "metadata": {},
   "outputs": [
    {
     "data": {
      "text/plain": [
       "True"
      ]
     },
     "execution_count": 170,
     "metadata": {},
     "output_type": "execute_result"
    }
   ],
   "source": [
    "v = h5b2*g5b2*h5b2**5*g5b2*h5b2/(g5b2**5*h5b2*g5b2**3)\n",
    "x5b*v == v*x5b"
   ]
  },
  {
   "cell_type": "code",
   "execution_count": 171,
   "id": "30b6dec3",
   "metadata": {},
   "outputs": [
    {
     "data": {
      "text/plain": [
       "True"
      ]
     },
     "execution_count": 171,
     "metadata": {},
     "output_type": "execute_result"
    }
   ],
   "source": [
    "y5b*v == v*y5b"
   ]
  },
  {
   "cell_type": "code",
   "execution_count": 172,
   "id": "bbcb1850",
   "metadata": {},
   "outputs": [
    {
     "data": {
      "text/plain": [
       "3"
      ]
     },
     "execution_count": 172,
     "metadata": {},
     "output_type": "execute_result"
    }
   ],
   "source": [
    "v.order()"
   ]
  },
  {
   "cell_type": "markdown",
   "id": "65653660",
   "metadata": {},
   "source": [
    "## $5^{3+3} \\udot \\left( 2 \\times \\psl{3}{5} \\right)$ <a id=\"norm5B3\"></a>\n",
    "\n",
    "Generators for this maximal subgroup are given by"
   ]
  },
  {
   "cell_type": "code",
   "execution_count": 173,
   "id": "2ebcf594",
   "metadata": {},
   "outputs": [],
   "source": [
    "g5b3 = MM(\"M<y_4dch*x_13fh*d_377h*p_149972229*l_2*p_68344320*l_1*p_127776192*t_2*l_1*p_69674880*l_2*p_131767728*l_1*t_2*l_1*p_1499520*l_2*p_13016282*l_2*t_1*l_2*p_1457280*l_1*p_1026658*t_2*l_1*p_1499520*l_1*p_21375574*t_1*l_2*p_2597760*l_1*p_64036432*t_1*l_2*p_2597760*l_1*p_42833875>\")\n",
    "h5b3 = MM(\"M<y_46bh*x_0dc3h*d_772h*p_54616187*l_1*p_79875840*l_1*p_182772480*l_1*t_2*l_2*p_70118400*l_2*p_241760688*l_2*t_2*l_1*p_1499520*l_2*p_32512631*l_2*t_2*l_1*p_1499520*l_2*p_10690766*t_2*l_2*p_1985280*l_1*p_85373291*t_1*l_2*p_2830080*l_2*p_21337121*t_2*l_2*p_937920*l_1>\")\n",
    "L_N = (g5b3, h5b3)"
   ]
  },
  {
   "cell_type": "markdown",
   "id": "7b77f11d",
   "metadata": {},
   "source": [
    "Maximal subgroups of the given structure are the normalisers of\n",
    "certain 5B-pure subgroup of $\\MM$ with structure $5^3$. We claim this particular instance\n",
    "normalises $\\langle x_{5b}, y_{5b}, g_2 \\rangle$, where all generators\n",
    "are as in the proof of [Theorem 2.13](#norm5B)"
   ]
  },
  {
   "cell_type": "code",
   "execution_count": 174,
   "id": "91db7005",
   "metadata": {},
   "outputs": [],
   "source": [
    "x5b = MM(\"M<y_5e2h*x_19e5h*d_180h*p_47732031*l_1*p_2027520*l_1*p_12115667*l_2*t_1*l_2*p_1457280*l_1*p_22333033*l_1*t_1*l_1*p_1920*l_2*p_10668672*l_2*p_10392960*t_1*l_2*p_2386560*l_2*p_53903650*t_2*l_2*p_2830080*l_2*p_106661290*t_1*l_2*p_2597760*l_1*p_43613421*t_2*l_2*p_2830080*l_2*p_96456578>\")\n",
    "y5b = MM(\"M<y_328h*x_1deah*d_0e94h*p_39050854*l_2*p_960*l_1*p_4080*t_1*l_1*p_3840*l_2*p_24336*l_2*t_1*l_1*p_3840*l_1*p_23376*l_1*p_6548160*t_1*l_2*p_3020160*l_2*t_1*l_2*p_2956800*l_1*p_10784036*t_1*l_1*p_2640000*l_1*p_15392*t_2*l_2*p_2956800*l_1*p_96481545*t_2*l_1*p_1499520*l_2*p_85836106>\")\n",
    "gs = (\n",
    "    MM(\"M<y_5aah*x_1044h*d_573h*p_118926544*l_1*p_2999040*l_1*p_10860100*t_2*l_2*p_2956800*l_1*p_12133816*l_1*t_1*l_1*p_960*l_2*p_10666848*l_2*p_2391360*t_1*l_2*p_1457280*l_1*p_576391*t_1*l_1*p_1415040*l_2*p_4128*l_1*p_4331520*t_2*l_2*p_2386560*l_2*p_42710820*t_2*l_1*p_1499520*l_2*p_96460387>\"),\n",
    "    MM(\"M<y_44h*x_1af9h*d_0ec0h*p_238846774*l_2*p_1900800*l_2*p_2835364*t_1*l_2*p_2787840*l_2*p_22310042*l_1*t_2*l_2*p_1858560*l_1*p_465840*l_2*p_2013120*t_1*l_2*p_2597760*l_1*p_21549732*t_1*l_2*p_1900800*l_2*p_87589*t_1*l_2*p_2597760*l_1*p_42736704*t_2*l_1*p_2027520*l_1*p_78930>\")\n",
    ")\n",
    "L_E = (x5b, y5b, gs[1])"
   ]
  },
  {
   "cell_type": "markdown",
   "id": "8892c479",
   "metadata": {},
   "source": [
    "This group is certainly an elementary abelian 5-group --- as shown\n",
    "in proving [Theorem 2.13](#norm5B), the elements $x_{5b}, y_{5b}, g_2 \\in\n",
    "    \\cma{x_{5b}, y_{5b}}$ all have order 5 --- and hence has a 5-local subgroup\n",
    "of $\\MM$ as a normaliser. On the other hand, Wilson proves in his odd local paper\n",
    "that all such subgroups lie in a maximal subgroup of $\\MM$ with shape\n",
    "$5^{1+6}{:}2 \\udot \\J2{:}4$, $5^{1+6}{:}2 \\udot \\J2{:}4^2$, $5^{1+6}{:}2 \\udot \\J2{:}4^3$, or $5^{1+6}{:}2 \\udot \\J2{:}4^4$; since only the third of these\n",
    "has order divisible by 31, $\\nma{x_{5b}, y_{5b}, g_2}$ must lie inside\n",
    "the desired subgroup of $\\MM$ if it is normalised by an element of order 31."
   ]
  },
  {
   "cell_type": "code",
   "execution_count": 175,
   "id": "41c154b7",
   "metadata": {},
   "outputs": [
    {
     "data": {
      "text/plain": [
       "True"
      ]
     },
     "execution_count": 175,
     "metadata": {},
     "output_type": "execute_result"
    }
   ],
   "source": [
    "map_5_3 = map_to_vectors(L_E)\n",
    "check_normalise(L_E, L_N, group_set=map_5_3)"
   ]
  },
  {
   "cell_type": "code",
   "execution_count": 176,
   "id": "a94c7352",
   "metadata": {},
   "outputs": [
    {
     "data": {
      "text/plain": [
       "31"
      ]
     },
     "execution_count": 176,
     "metadata": {},
     "output_type": "execute_result"
    }
   ],
   "source": [
    "(h5b3**2).order()"
   ]
  },
  {
   "cell_type": "markdown",
   "id": "b8ab347b",
   "metadata": {},
   "source": [
    "This incidentally establishes that the claimed generators belong\n",
    "to the normaliser of $\\langle x_{5b}, y_{5b}, g_2 \\rangle$.\n",
    "\n",
    "It will follow that $g_{5b3}, h_{5b3}$ generate the entire subgroup of\n",
    "structure $5^{3+3} \\udot \\left( 2 \\times \\psl{3}{5} \\right)$ upon showing that the former group has order\n",
    "$\\left| 5^{3+3} \\udot \\left( 2 \\times \\psl{3}{5} \\right) \\right| = 5^6 \\cdot 2 \\left| \\psl{3}{5} \\right|$.\n",
    "First verify that the homomorphism induced\n",
    "by $\\langle g_{5b3}, h_{5b3} \\rangle$'s action on $\\langle x_{5b}, y_{5b}, g_2 \\rangle$\n",
    "has an image of size $\\left| \\lins{3}{5} \\right| = \\left( 5^3 - 1 \\right)\n",
    "    \\left( 5^3 - 5 \\right) \\left( 5^3 - 5^2 \\right)/\\left( 5 - 1 \\right) = 372000$:"
   ]
  },
  {
   "cell_type": "code",
   "execution_count": 177,
   "id": "9773a866",
   "metadata": {},
   "outputs": [
    {
     "data": {
      "text/plain": [
       "372000"
      ]
     },
     "execution_count": 177,
     "metadata": {},
     "output_type": "execute_result"
    }
   ],
   "source": [
    "size_image(L_N, map_5_3, basis=L_E)"
   ]
  },
  {
   "cell_type": "markdown",
   "id": "3d5aefe0",
   "metadata": {},
   "source": [
    "It thus suffices to confirm that $\\left| \\cma{x_{5b}, y_{5b}, g_2} \\cap\n",
    "    \\langle g_{5b3}, h_{5b3} \\rangle \\right| \\ge 5^6 \\cdot 2$.\n",
    "Lemma 2.2 applied to $x_{5b}$, $y_{5b}$, and the elements\n",
    "$\\ell, \\left\\{ g_i \\right\\}_{i=1}^2, \\left\\{ h_i \\right\\}_{i=1}^2, \\sigma$\n",
    "defined in the proof of [Theorem 2.13](#norm5B) provides a way to exhibit\n",
    "a 5-group of order at least $5^6$:"
   ]
  },
  {
   "cell_type": "code",
   "execution_count": 178,
   "id": "a5d22ff4",
   "metadata": {},
   "outputs": [
    {
     "data": {
      "text/plain": [
       "True"
      ]
     },
     "execution_count": 178,
     "metadata": {},
     "output_type": "execute_result"
    }
   ],
   "source": [
    "# The elements mentioned\n",
    "hs = (\n",
    "    MM(\"M<y_168h*x_1984h*d_809h*p_50180569*l_1*p_70118400*l_2*p_171684480*l_1*t_2*l_2*p_1900800*l_2*p_465888*l_2*t_1*l_1*p_1393920*l_2*p_465840*l_1*p_4696320*t_1*l_1*p_1499520*l_2*p_64125701*t_2*l_2*p_1393920*l_2*p_466800*l_1*p_2415360*t_1*l_2*p_1920*l_2*p_64016064*t_2*l_2*p_1457280*l_1*p_48132>\"),\n",
    "    MM(\"M<y_4abh*x_1961h*d_0f8h*p_162877349*l_2*p_1900800*l_2*p_32514568*l_1*t_1*l_1*p_1920*l_1*p_2788176*l_1*t_1*l_1*p_2027520*l_1*p_2815284*l_2*t_2*l_1*p_2640000*l_1*p_13442*t_2*l_1*p_2027520*l_1*p_177067*t_2*l_1*p_1393920*l_1*p_10666848*l_1*p_601920*t_1*l_1*p_8891520*l_1*t_2*l_2*p_1943040*l_2*p_64046821>\")\n",
    ")\n",
    "\u03c3 = MM(\"M<y_562h*x_184ch*d_94eh*p_131788348*l_1*p_2999040*l_1*p_2388997*t_1*l_2*p_1900800*l_2*p_21860507*l_2*t_1*l_2*p_2830080*l_2*p_2795987*l_1*t_1*l_2*p_2830080*l_2*p_21442979*t_2*l_2*p_2344320*l_2*p_1464512*l_1*t_1*l_1*p_1499520*l_1*p_42716505*t_2*l_2*p_2787840*l_2*p_5776>\")\n",
    "\n",
    "x = ((h5b3*g5b3**2)**3).reduce()\n",
    "T = [x, x**(1/g5b3), x**(1/h5b3), x**(1/g5b3)/x**(1/g5b3**2), x**(1/(g5b3*h5b3)), x**(1/(h5b3*g5b3)), x**(1/h5b3**2)]\n",
    "\n",
    "# All the elements that will be exhibited were required to commute with x5b, y5b\n",
    "# by the hypotheses of the lemma, so only the interaction with gs[1] remains\n",
    "# to be checked.\n",
    "all(gs[1]*g == g*gs[1] for g in T)"
   ]
  },
  {
   "cell_type": "code",
   "execution_count": 179,
   "id": "0f7a1821",
   "metadata": {},
   "outputs": [
    {
     "data": {
      "text/plain": [
       "True"
      ]
     },
     "execution_count": 179,
     "metadata": {},
     "output_type": "execute_result"
    }
   ],
   "source": [
    "U = [T[1]*T[0], T[2]*T[0], T[4]*T[0]/T[3]**3, T[5]*T[0]/T[3], T[6]*T[0]/T[3]**2]\n",
    "\n",
    "x5b == comm(U[3], U[4])**3"
   ]
  },
  {
   "cell_type": "code",
   "execution_count": 180,
   "id": "7ea3a532",
   "metadata": {},
   "outputs": [
    {
     "data": {
      "text/plain": [
       "True"
      ]
     },
     "execution_count": 180,
     "metadata": {},
     "output_type": "execute_result"
    }
   ],
   "source": [
    "y5b == U[0]/U[2]"
   ]
  },
  {
   "cell_type": "code",
   "execution_count": 181,
   "id": "4747a43c",
   "metadata": {},
   "outputs": [
    {
     "data": {
      "text/plain": [
       "True"
      ]
     },
     "execution_count": 181,
     "metadata": {},
     "output_type": "execute_result"
    }
   ],
   "source": [
    "gs[0] == 1/x5b*U[0]*U[1]**3*U[3]*U[4]"
   ]
  },
  {
   "cell_type": "code",
   "execution_count": 182,
   "id": "71748483",
   "metadata": {},
   "outputs": [
    {
     "data": {
      "text/plain": [
       "True"
      ]
     },
     "execution_count": 182,
     "metadata": {},
     "output_type": "execute_result"
    }
   ],
   "source": [
    "gs[1] == U[0]**2*U[1]*U[2]"
   ]
  },
  {
   "cell_type": "code",
   "execution_count": 183,
   "id": "1b72e891",
   "metadata": {},
   "outputs": [
    {
     "data": {
      "text/plain": [
       "True"
      ]
     },
     "execution_count": 183,
     "metadata": {},
     "output_type": "execute_result"
    }
   ],
   "source": [
    "hs[0] == x5b**2*U[0]**2/U[3]"
   ]
  },
  {
   "cell_type": "code",
   "execution_count": 184,
   "id": "ef9cde0d",
   "metadata": {},
   "outputs": [
    {
     "data": {
      "text/plain": [
       "True"
      ]
     },
     "execution_count": 184,
     "metadata": {},
     "output_type": "execute_result"
    }
   ],
   "source": [
    "hs[0]**\u03c3 == x5b*U[0]**2/U[2]**2/T[0]/T[5]"
   ]
  },
  {
   "cell_type": "markdown",
   "id": "7452fafd",
   "metadata": {},
   "source": [
    "Taking these 6 elements as $S$ yields a suitable 5-group\n",
    "$\\langle S \\rangle$.\n",
    "\n",
    "The final factor of 2 in the order may be addressed\n",
    "by exhibiting an element of order 2 commuting with\n",
    "$x_{5b}, y_{5b}, g_2$. Such an element certainly cannot lie\n",
    "in the 5-group above, and hence by Lemma 2.1 extends the group\n",
    "found so far to one at least twice as large."
   ]
  },
  {
   "cell_type": "code",
   "execution_count": 185,
   "id": "8313a034",
   "metadata": {},
   "outputs": [
    {
     "data": {
      "text/plain": [
       "2"
      ]
     },
     "execution_count": 185,
     "metadata": {},
     "output_type": "execute_result"
    }
   ],
   "source": [
    "(T[0]**5).order()"
   ]
  },
  {
   "cell_type": "code",
   "execution_count": 186,
   "id": "cbe9af0a",
   "metadata": {},
   "outputs": [
    {
     "data": {
      "text/plain": [
       "True"
      ]
     },
     "execution_count": 186,
     "metadata": {},
     "output_type": "execute_result"
    }
   ],
   "source": [
    "# Each T[i] commutes with gs[1] by the above\n",
    "x5b*T[0] == T[0]*x5b"
   ]
  },
  {
   "cell_type": "code",
   "execution_count": 187,
   "id": "64b173a4",
   "metadata": {},
   "outputs": [
    {
     "data": {
      "text/plain": [
       "True"
      ]
     },
     "execution_count": 187,
     "metadata": {},
     "output_type": "execute_result"
    }
   ],
   "source": [
    "y5b*T[0] == T[0]*y5b"
   ]
  },
  {
   "cell_type": "markdown",
   "id": "15cd01ea",
   "metadata": {},
   "source": [
    "## $5^4{:}\\left( 3 \\times 2 \\udot \\psl{2}{25} \\right){:}2$ <a id=\"norm5B4\"></a>\n",
    "\n",
    "Generators for this maximal subgroup are given by"
   ]
  },
  {
   "cell_type": "code",
   "execution_count": 188,
   "id": "d7a967c4",
   "metadata": {},
   "outputs": [],
   "source": [
    "g5b4 = MM(\"M<y_585h*x_6f5h*d_0c09h*p_230461632*l_1*p_2027520*l_1*p_23244133*l_2*t_1*l_1*p_1499520*l_1*p_22754355*t_1*l_2*p_2956800*l_1*p_64024725*t_2*l_2*p_2956800*l_1*p_33402704*t_2*l_2*p_2597760*l_1*p_43154328*t_1*l_2*p_2597760*l_1*p_21418932*t_1*l_2*p_1985280*l_1*p_42710800>\")\n",
    "h5b4 = MM(\"M<y_0feh*x_10f6h*d_0f76h*p_164821028*l_1*p_2640000*l_1*p_10675264*t_2*l_2*p_2597760*l_1*p_663931*t_2*l_2*p_2386560*l_2*p_53820907*t_2*l_2*p_1900800*l_2*p_64576*t_1*l_2*p_1943040*l_2*p_43598792*t_1*l_1*p_1499520*l_2*p_43154325*t_1*l_2*p_2597760*l_1*p_64007368>\")\n",
    "L_N = (g5b4, h5b4)"
   ]
  },
  {
   "cell_type": "markdown",
   "id": "bad1e7e7",
   "metadata": {},
   "source": [
    "Maximal subgroups of the given structure are the normalisers of\n",
    "certain 5B-pure subgroup of $\\MM$ with structure $5^4$. We claim this particular instance\n",
    "normalises the group generated by"
   ]
  },
  {
   "cell_type": "code",
   "execution_count": 189,
   "id": "76dd263c",
   "metadata": {},
   "outputs": [],
   "source": [
    "x5b = MM(\"M<y_5e2h*x_19e5h*d_180h*p_47732031*l_1*p_2027520*l_1*p_12115667*l_2*t_1*l_2*p_1457280*l_1*p_22333033*l_1*t_1*l_1*p_1920*l_2*p_10668672*l_2*p_10392960*t_1*l_2*p_2386560*l_2*p_53903650*t_2*l_2*p_2830080*l_2*p_106661290*t_1*l_2*p_2597760*l_1*p_43613421*t_2*l_2*p_2830080*l_2*p_96456578>\")\n",
    "y5b = MM(\"M<y_328h*x_1deah*d_0e94h*p_39050854*l_2*p_960*l_1*p_4080*t_1*l_1*p_3840*l_2*p_24336*l_2*t_1*l_1*p_3840*l_1*p_23376*l_1*p_6548160*t_1*l_2*p_3020160*l_2*t_1*l_2*p_2956800*l_1*p_10784036*t_1*l_1*p_2640000*l_1*p_15392*t_2*l_2*p_2956800*l_1*p_96481545*t_2*l_1*p_1499520*l_2*p_85836106>\")\n",
    "a = MM(\"M<y_488h*x_1667h*d_50ah*p_166845182*l_2*p_23040*l_2*p_32990832*l_2*t_2*l_2*p_2386560*l_2*p_23241248*l_1*t_1*l_2*p_960*l_2*p_1200*l_2*p_6126720*t_1*l_2*p_1457280*l_1*p_1058307*t_1*l_1*p_1393920*l_2*p_21456*l_1*p_763200*t_2*l_2*p_2956800*l_1*p_42714640*t_1*l_2*p_2830080*l_2*p_85815923>\")\n",
    "b = MM(\"M<y_23h*x_15adh*d_8cfh*p_127564641*l_2*p_2386560*l_2*p_32000867*l_1*t_2*l_2*p_1943040*l_2*p_67351*t_1*l_1*p_2027520*l_1*p_78870*t_1*l_1*p_2640000*l_1*p_42852*t_2*l_2*p_2597760*l_1*p_21861478*l_1*t_2*l_2*p_2956800*l_1*p_53436210*t_1*l_2*p_2956800*l_1*p_42795380>\")\n",
    "L_E = (x5b, y5b, a, b)"
   ]
  },
  {
   "cell_type": "markdown",
   "id": "2dcc5286",
   "metadata": {},
   "source": [
    "Note $x_{5b}$ and $y_{5b}$ are as in the proof of [Theorem 2.13](#norm5B).\n",
    "First check that this is an elementary abelian 5-group."
   ]
  },
  {
   "cell_type": "code",
   "execution_count": 190,
   "id": "cdafcaff",
   "metadata": {},
   "outputs": [
    {
     "data": {
      "text/plain": [
       "5"
      ]
     },
     "execution_count": 190,
     "metadata": {},
     "output_type": "execute_result"
    }
   ],
   "source": [
    "# It has previously been shown x5b, y5b are commuting elements of order 5\n",
    "a.order()"
   ]
  },
  {
   "cell_type": "code",
   "execution_count": 191,
   "id": "45d7ccdc",
   "metadata": {},
   "outputs": [
    {
     "data": {
      "text/plain": [
       "5"
      ]
     },
     "execution_count": 191,
     "metadata": {},
     "output_type": "execute_result"
    }
   ],
   "source": [
    "b.order()"
   ]
  },
  {
   "cell_type": "code",
   "execution_count": 192,
   "id": "fd8b0c4d",
   "metadata": {},
   "outputs": [
    {
     "data": {
      "text/plain": [
       "True"
      ]
     },
     "execution_count": 192,
     "metadata": {},
     "output_type": "execute_result"
    }
   ],
   "source": [
    "x5b*a == a*x5b"
   ]
  },
  {
   "cell_type": "code",
   "execution_count": 193,
   "id": "88a6a43f",
   "metadata": {},
   "outputs": [
    {
     "data": {
      "text/plain": [
       "True"
      ]
     },
     "execution_count": 193,
     "metadata": {},
     "output_type": "execute_result"
    }
   ],
   "source": [
    "y5b*a == a*y5b"
   ]
  },
  {
   "cell_type": "code",
   "execution_count": 194,
   "id": "dc4b9a40",
   "metadata": {},
   "outputs": [
    {
     "data": {
      "text/plain": [
       "True"
      ]
     },
     "execution_count": 194,
     "metadata": {},
     "output_type": "execute_result"
    }
   ],
   "source": [
    "x5b*b == b*x5b"
   ]
  },
  {
   "cell_type": "code",
   "execution_count": 195,
   "id": "747717d9",
   "metadata": {},
   "outputs": [
    {
     "data": {
      "text/plain": [
       "True"
      ]
     },
     "execution_count": 195,
     "metadata": {},
     "output_type": "execute_result"
    }
   ],
   "source": [
    "y5b*b == b*y5b"
   ]
  },
  {
   "cell_type": "code",
   "execution_count": 196,
   "id": "b68beefe",
   "metadata": {},
   "outputs": [
    {
     "data": {
      "text/plain": [
       "True"
      ]
     },
     "execution_count": 196,
     "metadata": {},
     "output_type": "execute_result"
    }
   ],
   "source": [
    "a*b == b*a"
   ]
  },
  {
   "cell_type": "markdown",
   "id": "5fadffbd",
   "metadata": {},
   "source": [
    "It therefore has a 5-local subgroup of $\\MM$ for a normaliser, which by Wilson\n",
    "must lie in a maximal subgroup of $\\MM$ with structure $5^{1+6}{:}2 \\udot \\J2{:}4$, $5^{1+6}{:}2 \\udot \\J2{:}4^2$,\n",
    "$5^{1+6}{:}2 \\udot \\J2{:}4^3$, or $5^{1+6}{:}2 \\udot \\J2{:}4^4$. Since only the last of these has order divisible\n",
    "by 13, exhibiting $x \\in \\nma{x_{5b}, y_{5b}, a, b}$ of order 13 proves\n",
    "this normaliser is situated inside a maximal subgroup of the desired structure."
   ]
  },
  {
   "cell_type": "code",
   "execution_count": 197,
   "id": "fab64cec",
   "metadata": {},
   "outputs": [
    {
     "data": {
      "text/plain": [
       "True"
      ]
     },
     "execution_count": 197,
     "metadata": {},
     "output_type": "execute_result"
    }
   ],
   "source": [
    "map_5_4 = map_to_vectors(L_E)\n",
    "check_normalise(L_E, L_N, group_set=map_5_4)"
   ]
  },
  {
   "cell_type": "code",
   "execution_count": 198,
   "id": "4a375c22",
   "metadata": {},
   "outputs": [
    {
     "data": {
      "text/plain": [
       "13"
      ]
     },
     "execution_count": 198,
     "metadata": {},
     "output_type": "execute_result"
    }
   ],
   "source": [
    "(comm(g5b4, h5b4)**6).order()"
   ]
  },
  {
   "cell_type": "markdown",
   "id": "c5320b30",
   "metadata": {},
   "source": [
    "This incidentally establishes that the claimed generators belong\n",
    "to the normaliser of $\\langle x_{5b}, y_{5b}, a, b \\rangle$.\n",
    "\n",
    "It will follow that $g_{5b4}, h_{5b4}$ generate the entire subgroup of\n",
    "shape $5^4{:}\\left( 3 \\times 2 \\udot \\psl{2}{25} \\right){:}2$ upon showing that the former group has order\n",
    "$\\left| 5^4{:}\\left( 3 \\times 2 \\udot \\psl{2}{25} \\right){:}2 \\right| = 5^4 \\cdot 3 \\cdot 2 \\left| \\psl{2}{25} \\right|\n",
    "    \\cdot 2$. Begin by checking the homomorphism induced\n",
    "by $\\langle g_{5b4}, h_{5b4} \\rangle$'s action\n",
    "on $\\langle x_{5b}, y_{5b}, a, b \\rangle$ has an image of size\n",
    "$3 \\cdot 2 \\left| \\psl{2}{25} \\right| \\cdot 2 = 12 \\left( 25^2 - 1 \\right)\n",
    "    \\left( 25^2 - 25 \\right)/\\left( 2 \\left( 25 - 1 \\right) \\right) = 93600$:"
   ]
  },
  {
   "cell_type": "code",
   "execution_count": 199,
   "id": "9cb0b4cc",
   "metadata": {},
   "outputs": [
    {
     "data": {
      "text/plain": [
       "93600"
      ]
     },
     "execution_count": 199,
     "metadata": {},
     "output_type": "execute_result"
    }
   ],
   "source": [
    "size_image(L_N, map_5_4, basis=L_E)"
   ]
  },
  {
   "cell_type": "markdown",
   "id": "23950b86",
   "metadata": {},
   "source": [
    "It thus suffices to confirm that $\\left| \\cma{x_{5b}, y_{5b}, a, b} \\cap\n",
    "    \\langle g_{5b4}, h_{5b4} \\rangle \\right| \\ge 5^4$. Demonstrate\n",
    "that $x_{5b}, y_{5b}, a, b$ are elements of $\\langle g_{5b4}, h_{5b4} \\rangle$\n",
    "and that the group they generate --- enumerated in `map_5_4` above ---\n",
    "has the desired order."
   ]
  },
  {
   "cell_type": "code",
   "execution_count": 200,
   "id": "b5de7c4a",
   "metadata": {},
   "outputs": [
    {
     "data": {
      "text/plain": [
       "True"
      ]
     },
     "execution_count": 200,
     "metadata": {},
     "output_type": "execute_result"
    }
   ],
   "source": [
    "x5b == comm(h5b4**-2, g5b4**4)**3"
   ]
  },
  {
   "cell_type": "code",
   "execution_count": 201,
   "id": "e9fac65b",
   "metadata": {},
   "outputs": [
    {
     "data": {
      "text/plain": [
       "True"
      ]
     },
     "execution_count": 201,
     "metadata": {},
     "output_type": "execute_result"
    }
   ],
   "source": [
    "y5b == x5b*comm(g5b4**4, h5b4**-2)**(1/g5b4)"
   ]
  },
  {
   "cell_type": "code",
   "execution_count": 202,
   "id": "6875ec0d",
   "metadata": {},
   "outputs": [
    {
     "data": {
      "text/plain": [
       "True"
      ]
     },
     "execution_count": 202,
     "metadata": {},
     "output_type": "execute_result"
    }
   ],
   "source": [
    "a == comm(1/h5b4, g5b4**4)"
   ]
  },
  {
   "cell_type": "code",
   "execution_count": 203,
   "id": "5e910737",
   "metadata": {},
   "outputs": [
    {
     "data": {
      "text/plain": [
       "True"
      ]
     },
     "execution_count": 203,
     "metadata": {},
     "output_type": "execute_result"
    }
   ],
   "source": [
    "b == g5b4*h5b4*g5b4**4/h5b4*g5b4**3"
   ]
  },
  {
   "cell_type": "code",
   "execution_count": 204,
   "id": "adb75f6f",
   "metadata": {},
   "outputs": [
    {
     "data": {
      "text/plain": [
       "625"
      ]
     },
     "execution_count": 204,
     "metadata": {},
     "output_type": "execute_result"
    }
   ],
   "source": [
    "len(map_5_4)"
   ]
  },
  {
   "cell_type": "markdown",
   "id": "3deb5734",
   "metadata": {},
   "source": [
    "## $\\left( 7{:}3 \\times \\HE \\right){:}2$ <a id=\"norm7A\"></a>\n",
    "Generators are"
   ]
  },
  {
   "cell_type": "code",
   "execution_count": 205,
   "id": "3fd51aad",
   "metadata": {},
   "outputs": [],
   "source": [
    "g7 = MM(\"M<y_0e5h*x_541h*d_216h*p_10791589*l_2*p_1943040*l_2*p_1045810*t_2*l_2*p_486720*t_2*l_2*p_2830080*l_2*p_64016091*t_1*l_1*p_1457280*l_2*p_574389>\")\n",
    "h7 = MM(\"M<y_357h*x_0bffh*d_64eh*p_77082512*l_1*p_1499520*l_2*p_1904176*l_2*t_2*l_2*p_1394880*l_2*p_4128*l_1*p_1671360>\")\n",
    "L_N = (g7, h7)"
   ]
  },
  {
   "cell_type": "markdown",
   "id": "fd2c799d",
   "metadata": {},
   "source": [
    "This is the normaliser of a 7A element in the Monster. We claim this particular instance normalises"
   ]
  },
  {
   "cell_type": "code",
   "execution_count": 206,
   "id": "25b1d6b0",
   "metadata": {},
   "outputs": [],
   "source": [
    "x7 = MM(\"M<y_2dh*x_1ecdh*d_0a6bh*p_137531918*l_1*p_2880*l_2*p_21408*l_2*p_662400>\")\n",
    "L_E = [x7]"
   ]
  },
  {
   "cell_type": "markdown",
   "id": "88c73e9a",
   "metadata": {},
   "source": [
    "Firstly, verify $x_7$ belongs to the correct conjugacy class using $\\chi_\\MM$:"
   ]
  },
  {
   "cell_type": "code",
   "execution_count": 207,
   "id": "9bd63a6f",
   "metadata": {},
   "outputs": [
    {
     "data": {
      "text/plain": [
       "7"
      ]
     },
     "execution_count": 207,
     "metadata": {},
     "output_type": "execute_result"
    }
   ],
   "source": [
    "x7.order()"
   ]
  },
  {
   "cell_type": "code",
   "execution_count": 208,
   "id": "30535556",
   "metadata": {},
   "outputs": [
    {
     "data": {
      "text/plain": [
       "True"
      ]
     },
     "execution_count": 208,
     "metadata": {},
     "output_type": "execute_result"
    }
   ],
   "source": [
    "x7.in_G_x0()"
   ]
  },
  {
   "cell_type": "code",
   "execution_count": 209,
   "id": "eabc2252",
   "metadata": {},
   "outputs": [
    {
     "data": {
      "text/plain": [
       "50"
      ]
     },
     "execution_count": 209,
     "metadata": {},
     "output_type": "execute_result"
    }
   ],
   "source": [
    "x7.chi_G_x0()[0]"
   ]
  },
  {
   "cell_type": "markdown",
   "id": "addb0cc1",
   "metadata": {},
   "source": [
    "With that settled, show the claimed generators belong to the normaliser of $x_7$."
   ]
  },
  {
   "cell_type": "code",
   "execution_count": 210,
   "id": "a972b9cf",
   "metadata": {},
   "outputs": [
    {
     "data": {
      "text/plain": [
       "True"
      ]
     },
     "execution_count": 210,
     "metadata": {},
     "output_type": "execute_result"
    }
   ],
   "source": [
    "check_normalise(L_E, L_N)"
   ]
  },
  {
   "cell_type": "markdown",
   "id": "30f56687",
   "metadata": {},
   "source": [
    "As for showing the entire normaliser is generated, begin by showing that$\\langle g_7, h_7 \\rangle$ contains the centraliser $7 \\times \\text{He}$ of $x_7$.\n",
    "The presence of the centre $\\langle x_7 \\rangle \\sim 7$ is easily checked:"
   ]
  },
  {
   "cell_type": "code",
   "execution_count": 211,
   "id": "6cd5aefb",
   "metadata": {},
   "outputs": [
    {
     "data": {
      "text/plain": [
       "True"
      ]
     },
     "execution_count": 211,
     "metadata": {},
     "output_type": "execute_result"
    }
   ],
   "source": [
    "h7**85 == x7"
   ]
  },
  {
   "cell_type": "markdown",
   "id": "9fddda72",
   "metadata": {},
   "source": [
    "For the quotient group $\\text{He}$ of the centraliser, consider the following:"
   ]
  },
  {
   "cell_type": "code",
   "execution_count": 212,
   "id": "3dd2bbef",
   "metadata": {},
   "outputs": [
    {
     "data": {
      "text/plain": [
       "True"
      ]
     },
     "execution_count": 212,
     "metadata": {},
     "output_type": "execute_result"
    }
   ],
   "source": [
    "x7**(g7**6) == x7"
   ]
  },
  {
   "cell_type": "code",
   "execution_count": 213,
   "id": "a6b9539e",
   "metadata": {},
   "outputs": [
    {
     "data": {
      "text/plain": [
       "True"
      ]
     },
     "execution_count": 213,
     "metadata": {},
     "output_type": "execute_result"
    }
   ],
   "source": [
    "x7**(h7**7) == x7"
   ]
  },
  {
   "cell_type": "code",
   "execution_count": 214,
   "id": "05acdbce",
   "metadata": {},
   "outputs": [
    {
     "data": {
      "text/plain": [
       "7"
      ]
     },
     "execution_count": 214,
     "metadata": {},
     "output_type": "execute_result"
    }
   ],
   "source": [
    "(g7**6).order()"
   ]
  },
  {
   "cell_type": "code",
   "execution_count": 215,
   "id": "55b145ff",
   "metadata": {},
   "outputs": [
    {
     "data": {
      "text/plain": [
       "17"
      ]
     },
     "execution_count": 215,
     "metadata": {},
     "output_type": "execute_result"
    }
   ],
   "source": [
    "(h7**7).order()"
   ]
  },
  {
   "cell_type": "code",
   "execution_count": 216,
   "id": "a81e7c7b",
   "metadata": {},
   "outputs": [
    {
     "data": {
      "text/plain": [
       "False"
      ]
     },
     "execution_count": 216,
     "metadata": {},
     "output_type": "execute_result"
    }
   ],
   "source": [
    "g7**6 in [x7**i for i in range(1, 7)]"
   ]
  },
  {
   "cell_type": "markdown",
   "id": "e3eb2b72",
   "metadata": {},
   "source": [
    "Since $g_7$ is an element of the centraliser of $x_7$ with order 7 not in the centre 7 thereof\n",
    "and $h_7$ is such an element with order relatively prime to 7,\n",
    "they project to elements of order 7 and 17 in the $\\text{He}$. No maximal subgroup\n",
    "thereof has order divisible by both primes, ensuring the entire $\\text{He}$\n",
    "is generated.\n",
    "\n",
    "It then only remains to show $g_7$ conjugates $x_7$\n",
    "to all its non-trivial powers."
   ]
  },
  {
   "cell_type": "code",
   "execution_count": 217,
   "id": "38a05706",
   "metadata": {},
   "outputs": [
    {
     "data": {
      "text/plain": [
       "True"
      ]
     },
     "execution_count": 217,
     "metadata": {},
     "output_type": "execute_result"
    }
   ],
   "source": [
    "x7**g7 == x7**3"
   ]
  },
  {
   "cell_type": "markdown",
   "id": "54a2131e",
   "metadata": {},
   "source": [
    "Since 3 is a primitive root modulo 7, the result follows."
   ]
  },
  {
   "cell_type": "markdown",
   "id": "e4c3ba11",
   "metadata": {},
   "source": [
    "## $7^{1+4}{:}\\left( 3 \\times 2.\\sym{7} \\right)$ <a id=\"norm7B\"></a>\n",
    "The following generators are derived from a set published (without proof) by Dietrich, Lee, and Popiel.\n",
    "\n",
    "Generators are"
   ]
  },
  {
   "cell_type": "code",
   "execution_count": 218,
   "id": "34f3d2c6",
   "metadata": {},
   "outputs": [],
   "source": [
    "g7b = MM(\"M<y_4eah*x_1f63h*d_4adh*p_227082898*l_2*p_2386560*l_2*p_53835316*t_1*l_2*p_1415040*l_1*p_23280*l_1*t_2*l_1*p_2640000*l_1*p_23218036*l_2*t_1*l_1*p_2640000*l_1*p_11562*t_1*l_2*p_3840*l_2*p_43169760*t_1*l_2*p_2956800*l_1*p_2795179*l_1*t_1*l_1*p_2027520*l_1*p_7697*t_2*l_2*p_3720960*l_1>\")\n",
    "h7b = MM(\"M<y_735h*x_10f2h*d_0c0h*p_237789565*l_1*p_23040*l_1*p_2112*l_1*t_2*l_1*p_1499520*l_1*p_45266*t_1*l_1*p_1457280*l_2*p_70230*t_1*l_2*p_2830080*l_2*p_12992119*t_2*l_2*p_2386560*l_2*p_106664178*t_2*l_2*p_1457280*l_1*p_500368*t_2*l_2*p_2956800*l_1*p_42717430>\")\n",
    "L_N = (g7b, h7b)"
   ]
  },
  {
   "cell_type": "markdown",
   "id": "08124fc5",
   "metadata": {},
   "source": [
    "This is the normaliser of a 7B element in the Monster. We claim this particular instance normalises"
   ]
  },
  {
   "cell_type": "code",
   "execution_count": 219,
   "id": "616dad7a",
   "metadata": {},
   "outputs": [],
   "source": [
    "x7b = MM(\"M<y_5d3h*x_0a6dh*d_8d4h*p_111142481*l_1*p_2999040*l_1*p_43234193>\")\n",
    "L_E = [x7b]"
   ]
  },
  {
   "cell_type": "markdown",
   "id": "de3542f9",
   "metadata": {},
   "source": [
    "Firstly, verify $x_{7b}$ belongs to the correct conjugacy class using $\\chi_\\MM$:"
   ]
  },
  {
   "cell_type": "code",
   "execution_count": 220,
   "id": "ac2c7f72",
   "metadata": {},
   "outputs": [
    {
     "data": {
      "text/plain": [
       "7"
      ]
     },
     "execution_count": 220,
     "metadata": {},
     "output_type": "execute_result"
    }
   ],
   "source": [
    "x7b.order()"
   ]
  },
  {
   "cell_type": "code",
   "execution_count": 221,
   "id": "177afbe8",
   "metadata": {},
   "outputs": [
    {
     "data": {
      "text/plain": [
       "True"
      ]
     },
     "execution_count": 221,
     "metadata": {},
     "output_type": "execute_result"
    }
   ],
   "source": [
    "x7b.in_G_x0()"
   ]
  },
  {
   "cell_type": "code",
   "execution_count": 222,
   "id": "80e8cc20",
   "metadata": {},
   "outputs": [
    {
     "data": {
      "text/plain": [
       "1"
      ]
     },
     "execution_count": 222,
     "metadata": {},
     "output_type": "execute_result"
    }
   ],
   "source": [
    "x7b.chi_G_x0()[0]"
   ]
  },
  {
   "cell_type": "markdown",
   "id": "7a01a8dd",
   "metadata": {},
   "source": [
    "With that settled, show the claimed generators belong to the normaliser of $x_{7b}$."
   ]
  },
  {
   "cell_type": "code",
   "execution_count": 223,
   "id": "9f3aab5d",
   "metadata": {},
   "outputs": [
    {
     "data": {
      "text/plain": [
       "True"
      ]
     },
     "execution_count": 223,
     "metadata": {},
     "output_type": "execute_result"
    }
   ],
   "source": [
    "check_normalise(L_E, L_N)"
   ]
  },
  {
   "cell_type": "markdown",
   "id": "a5fb7188",
   "metadata": {},
   "source": [
    "As for showing the entire normaliser is generated, first define\n",
    "the following elements. Note that they are all conjugates,\n",
    "or products of conjugates, of $g_{7b}$ in $\\langle g_{7b}, h_{7b} \\rangle$."
   ]
  },
  {
   "cell_type": "code",
   "execution_count": 224,
   "id": "881c6952",
   "metadata": {},
   "outputs": [],
   "source": [
    "a0 = g7b**6\n",
    "a1 = a0**h7b\n",
    "a2 = a1*a1**h7b\n",
    "a3 = a0**3/a1**2/a1**(h7b**2)/a1**h7b"
   ]
  },
  {
   "cell_type": "markdown",
   "id": "e1fe8775",
   "metadata": {},
   "source": [
    "We begin by exhibiting a subgroup of order $10080 = \\left| 2.\\sym{7} \\right|$\n",
    "and $t \\in \\langle g_{7b}, h_{7b} \\rangle$ of order 3 which centralises, but\n",
    "does not lie in, the subgroup."
   ]
  },
  {
   "cell_type": "code",
   "execution_count": 225,
   "id": "72b66fdb",
   "metadata": {},
   "outputs": [
    {
     "data": {
      "text/plain": [
       "3"
      ]
     },
     "execution_count": 225,
     "metadata": {},
     "output_type": "execute_result"
    }
   ],
   "source": [
    "y6 = 1/a3*g7b\n",
    "t = (y6*h7b)**14\n",
    "\n",
    "t.order()"
   ]
  },
  {
   "cell_type": "code",
   "execution_count": 226,
   "id": "e34ba3b7",
   "metadata": {},
   "outputs": [
    {
     "data": {
      "text/plain": [
       "True"
      ]
     },
     "execution_count": 226,
     "metadata": {},
     "output_type": "execute_result"
    }
   ],
   "source": [
    "t*y6 == y6*t"
   ]
  },
  {
   "cell_type": "code",
   "execution_count": 227,
   "id": "d6233020",
   "metadata": {},
   "outputs": [
    {
     "data": {
      "text/plain": [
       "True"
      ]
     },
     "execution_count": 227,
     "metadata": {},
     "output_type": "execute_result"
    }
   ],
   "source": [
    "t*h7b == h7b*t"
   ]
  },
  {
   "cell_type": "code",
   "execution_count": 228,
   "id": "d58abae9",
   "metadata": {},
   "outputs": [
    {
     "data": {
      "text/plain": [
       "10080"
      ]
     },
     "execution_count": 228,
     "metadata": {},
     "output_type": "execute_result"
    }
   ],
   "source": [
    "# For speed, use the fact that the centre of 2S7 is a 2B involution to conjugate the subgroup into G_x0\n",
    "conjugator = MM(\"M<y_505h*x_982h*d_55bh*p_26759361*l_2*p_2597760*l_1*p_32070374*l_2*t_1*l_2*p_2830080*l_2*p_22758208*l_1*t_1*l_2*p_1394880*l_1*p_10666896*l_2*p_73920*t_1*l_2*p_2956800*l_1*p_64081477*t_1*l_2*p_1900800*l_2*p_85416579*l_1*p_1858560*t_2*l_1*p_2999040*l_1*p_10686964>\")\n",
    "subgroup_mod_3 = size_image(((y6*t)**conjugator, h7b**conjugator), as_int, set)\n",
    "\n",
    "len(subgroup_mod_3)"
   ]
  },
  {
   "cell_type": "code",
   "execution_count": 229,
   "id": "77394d79",
   "metadata": {},
   "outputs": [
    {
     "data": {
      "text/plain": [
       "False"
      ]
     },
     "execution_count": 229,
     "metadata": {},
     "output_type": "execute_result"
    }
   ],
   "source": [
    "as_int(t**conjugator) in subgroup_mod_3"
   ]
  },
  {
   "cell_type": "markdown",
   "id": "4819ba87",
   "metadata": {},
   "source": [
    "It follows that $\\langle t, y_6, h_{7b} \\rangle$ contains $3 \\cdot 10080$ elements, or one\n",
    "for each coset in the factor group $3 \\times 2\\sym{7}$ of $7^{1+4}{:}\\left( 3 \\times 2.\\sym{7} \\right)$. This group therefore\n",
    "either contains a representative of each coset or has non-trivial intersection\n",
    "with the normal subgroup $7^{1+4}$. If the latter holds, the intersection must have order\n",
    "a power of 7, so that the projection of $\\langle t, y_6, h_{7b} \\rangle$ to the factor group\n",
    "has order dividing $3 \\cdot 10080 / 7 = 3 \\cdot 1440$. But $7 \\not\\mid 1440$ is prime,\n",
    "meaning all elements of order 7 in $\\langle t, y_6, h_{7b} \\rangle$ would lie in\n",
    "the normal subgroup $7^{1+4}$ and project to the identity in $3 \\times 2\\sym{7}$.\n",
    "With this in mind, observe the following:"
   ]
  },
  {
   "cell_type": "code",
   "execution_count": 230,
   "id": "5ee5af14",
   "metadata": {},
   "outputs": [
    {
     "data": {
      "text/plain": [
       "7"
      ]
     },
     "execution_count": 230,
     "metadata": {},
     "output_type": "execute_result"
    }
   ],
   "source": [
    "r7 = (y6*h7b)**6\n",
    "r7.order()"
   ]
  },
  {
   "cell_type": "code",
   "execution_count": 231,
   "id": "c77c1470",
   "metadata": {},
   "outputs": [
    {
     "data": {
      "text/plain": [
       "20"
      ]
     },
     "execution_count": 231,
     "metadata": {},
     "output_type": "execute_result"
    }
   ],
   "source": [
    "(r7/h7b).order()"
   ]
  },
  {
   "cell_type": "code",
   "execution_count": 232,
   "id": "08d790a2",
   "metadata": {},
   "outputs": [
    {
     "data": {
      "text/plain": [
       "6"
      ]
     },
     "execution_count": 232,
     "metadata": {},
     "output_type": "execute_result"
    }
   ],
   "source": [
    "h7b.order()"
   ]
  },
  {
   "cell_type": "markdown",
   "id": "61876e06",
   "metadata": {},
   "source": [
    "The fact that 20 and 6 are coprime to $7^5$ implies $r_7 h_{7b}^{-1}$\n",
    "and $h_{7b}$ project to elements of those same orders modulo the $7^{1+4}$,\n",
    "and hence that $r_7 = r_7 h_{7b}^{-1} h_{7b}$ does not project to the identity.\n",
    "This proves $\\langle t, y_6, h_{7b}$ contains a representative of each\n",
    "coset of the normal subgroup $7^{1+4}$ in $7^{1+4}{:}\\left( 3 \\times 2.\\sym{7} \\right)$ and intersects that\n",
    "subgroup trivially.\n",
    "\n",
    "To finish, it must be verified that $g_{7b}$ and $h_{7b}$ generate\n",
    "the normal subgroup $7^{1+4}$ of $\\nma{x_{7b}}$. Look at the order of $g_{7b}$."
   ]
  },
  {
   "cell_type": "code",
   "execution_count": 233,
   "id": "f4e942f6",
   "metadata": {},
   "outputs": [
    {
     "data": {
      "text/plain": [
       "42"
      ]
     },
     "execution_count": 233,
     "metadata": {},
     "output_type": "execute_result"
    }
   ],
   "source": [
    "g7b.order()"
   ]
  },
  {
   "cell_type": "markdown",
   "id": "5b5b2ba5",
   "metadata": {},
   "source": [
    "If $g_{7b}^6$ did not lie in the normal subgroup,\n",
    "then $g_{7b}$ would necessarily project to an element\n",
    "of order 42 in the factor group $3 \\times 2\\sym{7}$.\n",
    "Since there are no elements of order 42 in $2\\sym{7}$,\n",
    "its 14^th power must be one of the two central elements\n",
    "of order 3. On the other hand, $t$ above projects\n",
    "to a central element of order 3 also; it follows that\n",
    "one of $g_{7b}^{14} t^{-1}$ and $g_{7b}^{14} t^{-2}$ lies\n",
    "in the normal subgroup:"
   ]
  },
  {
   "cell_type": "code",
   "execution_count": 234,
   "id": "d0237dcd",
   "metadata": {},
   "outputs": [
    {
     "data": {
      "text/plain": [
       "21"
      ]
     },
     "execution_count": 234,
     "metadata": {},
     "output_type": "execute_result"
    }
   ],
   "source": [
    "(g7b**14/t).order()"
   ]
  },
  {
   "cell_type": "code",
   "execution_count": 235,
   "id": "d50b2fa3",
   "metadata": {},
   "outputs": [
    {
     "data": {
      "text/plain": [
       "21"
      ]
     },
     "execution_count": 235,
     "metadata": {},
     "output_type": "execute_result"
    }
   ],
   "source": [
    "(g7b**14/t**2).order()"
   ]
  },
  {
   "cell_type": "markdown",
   "id": "c1cb8892",
   "metadata": {},
   "source": [
    "A contradiction follows, so that $g_{7b}^6$ does in fact belong\n",
    "to the normal subgroup $7^{1+4}$. Its conjugates in $7^{1+4}{:}\\left( 3 \\times 2.\\sym{7} \\right)$ thus do too,\n",
    "so that the elements $a_0$ through $a_3$ defined above likewise belong,\n",
    "as do the following families of elements:"
   ]
  },
  {
   "cell_type": "code",
   "execution_count": 236,
   "id": "2b537cc2",
   "metadata": {},
   "outputs": [
    {
     "data": {
      "text/plain": [
       "True"
      ]
     },
     "execution_count": 236,
     "metadata": {},
     "output_type": "execute_result"
    }
   ],
   "source": [
    "a0 == MM(\"M<y_3c4h*x_1c6bh*d_225h*p_238190910*l_2*p_22080*l_1*p_21456*t_2*l_2*p_2344320*l_2*p_22307972*l_2*t_1*l_1*p_2640000*l_1*p_2413941*l_1*t_1*l_2*p_2830080*l_2*p_85332882*t_2*l_1*p_1499520*l_1*p_85414673*t_1*l_2*p_2597760*l_1*p_85814004*l_1*p_21333120*t_1*l_2*p_2830080*l_2*p_22304977*l_1>\")"
   ]
  },
  {
   "cell_type": "code",
   "execution_count": 237,
   "id": "aafef83e",
   "metadata": {},
   "outputs": [
    {
     "data": {
      "text/plain": [
       "True"
      ]
     },
     "execution_count": 237,
     "metadata": {},
     "output_type": "execute_result"
    }
   ],
   "source": [
    "a3 == MM(\"M<y_0a1h*x_29fh*d_115h*p_52081919*l_1*p_1457280*l_2*p_32504931*l_2*t_2*l_2*p_1900800*l_2*p_474338*l_2*t_1*l_1*p_2640000*l_1*p_21801761*l_1*t_1*l_2*p_2386560*l_2*p_64088184*t_1*l_1*p_2880*l_2*p_10666896*l_2*p_4290240*t_2*l_1*p_1499520*l_1*p_106664201*t_2*l_2*p_1943040*l_2*p_86279607>\")"
   ]
  },
  {
   "cell_type": "code",
   "execution_count": 238,
   "id": "7e22299f",
   "metadata": {},
   "outputs": [
    {
     "data": {
      "text/plain": [
       "True"
      ]
     },
     "execution_count": 238,
     "metadata": {},
     "output_type": "execute_result"
    }
   ],
   "source": [
    "gs = [MM(\"M<y_714h*x_0fbch*d_680h*p_104733485*l_1*p_3840*l_2*p_22746528*t_2*l_1*p_2640000*l_1*p_12106888*l_1*t_2*l_2*p_3840*l_2*p_10666752*l_2*p_150720*t_2*l_1*p_1457280*l_2*p_934274*t_2*l_2*p_1985280*l_1*p_64045846*t_1*l_1*p_2999040*l_1*p_495478*t_2*l_2*p_2830080*l_2*p_43260121>\")]\n",
    "hs = [MM(\"M<y_24h*x_15d3h*d_6bdh*p_221822572*l_2*p_2787840*l_2*p_32130697*l_1*t_1*l_2*p_2597760*l_1*p_10672403*l_2*t_1*l_2*p_1985280*l_1*p_32071298*l_2*t_2*l_2*p_1457280*l_1*p_1483638*t_1*l_2*p_1985280*l_1*p_86258530*t_1*l_2*p_2956800*l_1*p_42671270*t_1*l_2*p_2597760*l_1*p_21338020>\")]\n",
    "\n",
    "l = a0\n",
    "x7b == comm(a0, a1)"
   ]
  },
  {
   "cell_type": "code",
   "execution_count": 239,
   "id": "4ac7260b",
   "metadata": {},
   "outputs": [
    {
     "data": {
      "text/plain": [
       "True"
      ]
     },
     "execution_count": 239,
     "metadata": {},
     "output_type": "execute_result"
    }
   ],
   "source": [
    "gs == [(a0**4*a1**3*a2)**-2]"
   ]
  },
  {
   "cell_type": "code",
   "execution_count": 240,
   "id": "076bfa8e",
   "metadata": {},
   "outputs": [
    {
     "data": {
      "text/plain": [
       "True"
      ]
     },
     "execution_count": 240,
     "metadata": {},
     "output_type": "execute_result"
    }
   ],
   "source": [
    "hs == [a0*a1]"
   ]
  },
  {
   "cell_type": "markdown",
   "id": "51401f7f",
   "metadata": {},
   "source": [
    "They in fact satisfy all the conditions for Lemma 2.2\n",
    "with $y = a_3$, $N = 7^{1+4}$ and $\\sigma$ as defined below:"
   ]
  },
  {
   "cell_type": "code",
   "execution_count": 241,
   "id": "585dc341",
   "metadata": {},
   "outputs": [
    {
     "data": {
      "text/plain": [
       "True"
      ]
     },
     "execution_count": 241,
     "metadata": {},
     "output_type": "execute_result"
    }
   ],
   "source": [
    "\u03c3 = MM(\"M<y_355h*x_0df5h*d_0af9h*p_129634698*l_1*p_1858560*l_2*p_4032*l_1*p_10292160*t_2*l_2*p_1858560*l_2*p_33434352*l_2*t_2*l_1*p_1457280*l_2*p_12175332*l_2*t_1*l_2*p_2344320*l_2*p_10566*t_1*l_1*p_2640000*l_1*p_50065*t_2*l_2*p_2597760*l_1*p_21893138*l_1*t_2*l_2*p_2956800*l_1*p_53351664*t_1*l_1*p_1499520*l_2*p_53800616>\")\n",
    "check_lemma_2_2(x7b, a3, l, gs, hs, \u03c3)"
   ]
  },
  {
   "cell_type": "markdown",
   "id": "de486647",
   "metadata": {},
   "source": [
    "It follows that $x_{7b}$, $a_3$, $\\ell$, `gs`, and `hs` generate\n",
    "$7^{1+4}$, and therefore that the entire subgroup $\\nma{x_{7b}} \\cong 7^{1+4}{:}\\left( 3 \\times 2.\\sym{7} \\right)$\n",
    "lies in $\\langle g_{7b}, h_{7b} \\rangle$."
   ]
  },
  {
   "cell_type": "markdown",
   "id": "f598328f",
   "metadata": {},
   "source": [
    "## $\\left( 7^2{:} \\left( 3 \\times 2.\\alt{4} \\right) \\times \\psl{2}{7} \\right){:}2$ <a id=\"norm7A2\"></a>\n",
    "\n",
    "Generators for this maximal subgroup are given by"
   ]
  },
  {
   "cell_type": "code",
   "execution_count": 242,
   "id": "dc50a54f",
   "metadata": {},
   "outputs": [],
   "source": [
    "g7a2 = MM(\"<y_667h*x_160h*d_25fh*p_86127869*l_1*p_1499520*l_2*p_32065431*l_2*t_2*l_2*p_1943040*l_2*p_2396609*l_1*t_1*l_2*p_3840*l_1*p_467760*l_1*p_2095680*t_1*l_2*p_1457280*l_1*p_30852*t_1*l_2*p_2344320*l_2*p_85372357*l_1*p_10667520*t_1*l_2*p_2830080*l_2*p_42754019*l_2*p_1458240>\")\n",
    "h7a2 = MM(\"<y_108h*x_0bc1h*d_7c7h*p_82093353*l_2*p_2597760*l_1*p_32950576*l_1*t_2*l_1*p_1499520*l_1*p_21862536*l_1*t_2*l_2*p_2386560*l_2*p_10791*l_1*t_2*l_2*p_2597760*l_1*p_53355169*t_2*l_2*p_2830080*l_2*p_42674145*t_1*l_2*p_2956800*l_1*p_53373525*t_1*l_2*p_1457280*l_1*p_137669>\")\n",
    "L_N = (g7a2, h7a2)"
   ]
  },
  {
   "cell_type": "markdown",
   "id": "90284433",
   "metadata": {},
   "source": [
    "This is the normaliser of a 7A-pure subgroup of $\\MM$ with structure $7^2$.\n",
    "We claim this particular instance normalises the group generated by"
   ]
  },
  {
   "cell_type": "code",
   "execution_count": 243,
   "id": "b74d9654",
   "metadata": {},
   "outputs": [],
   "source": [
    "x7 = MM(\"M<y_2dh*x_1ecdh*d_0a6bh*p_137531918*l_1*p_2880*l_2*p_21408*l_2*p_662400>\")\n",
    "y7 = MM(\"M<y_3c6h*x_135fh*d_0f29h*p_20613236*l_1*p_2999040*l_1*p_11146740*t_2*l_2*p_2597760*l_1*p_32950570*l_2*t_2*l_2*p_1943040*l_2*p_21887651*l_2*t_2*l_2*p_2787840*l_2*p_9601*t_2*l_1*p_1499520*l_1*p_64043922*t_1*l_2*p_1985280*l_1*p_42677011*t_2*l_2*p_2597760*l_1*p_53840066*t_1*l_2*p_1985280*l_1*p_53459120>\")\n",
    "L_E = (x7, y7)"
   ]
  },
  {
   "cell_type": "markdown",
   "id": "e175c0ca",
   "metadata": {},
   "source": [
    "Note that $x_7$ is as in [Theorem 2.18](#norm7A).  \n",
    "Firstly, verify that $x_7$ and $y_7 \\notin \\langle x_7 \\rangle$ are\n",
    "commuting elements of order 7:"
   ]
  },
  {
   "cell_type": "code",
   "execution_count": 244,
   "id": "4fe631ce",
   "metadata": {},
   "outputs": [
    {
     "data": {
      "text/plain": [
       "7"
      ]
     },
     "execution_count": 244,
     "metadata": {},
     "output_type": "execute_result"
    }
   ],
   "source": [
    "# x7 was shown to have order 7 in the proof of Theorem 2.18\n",
    "y7.order()"
   ]
  },
  {
   "cell_type": "code",
   "execution_count": 245,
   "id": "57df5ddb",
   "metadata": {},
   "outputs": [
    {
     "data": {
      "text/plain": [
       "True"
      ]
     },
     "execution_count": 245,
     "metadata": {},
     "output_type": "execute_result"
    }
   ],
   "source": [
    "x7**y7 == x7"
   ]
  },
  {
   "cell_type": "code",
   "execution_count": 246,
   "id": "31ed26c7",
   "metadata": {},
   "outputs": [
    {
     "data": {
      "text/plain": [
       "False"
      ]
     },
     "execution_count": 246,
     "metadata": {},
     "output_type": "execute_result"
    }
   ],
   "source": [
    "y7 in [x7**i for i in range(1, 7)]"
   ]
  },
  {
   "cell_type": "markdown",
   "id": "07dbf7ad",
   "metadata": {},
   "source": [
    "It follows that $\\langle x_7, y_7 \\rangle \\cong 7^2$.\n",
    "As for 7A-purity, recall from [Theorem 2.18](#norm7A) that $x_7 \\in \\textrm{7A}$.\n",
    "Since all powers of 7A elements in $\\MM$ other than the identity are themselves\n",
    "7A elements, it thus suffices to conjugate $x_7$ to a generator of each of\n",
    "the cyclic subgroups of order 7 in $\\langle x_7, y_7 \\rangle$.\n",
    "A set of generators (excluding $x_7$, which is already known to lie in 7A)\n",
    "and of conjugating elements is as follows. Note that all conjugating elements\n",
    "belong to $\\langle g_{7a2}, h_{7a2} \\rangle$."
   ]
  },
  {
   "cell_type": "code",
   "execution_count": 247,
   "id": "99f5125f",
   "metadata": {},
   "outputs": [
    {
     "data": {
      "text/plain": [
       "True"
      ]
     },
     "execution_count": 247,
     "metadata": {},
     "output_type": "execute_result"
    }
   ],
   "source": [
    "cyclic_gens = [y7] + [x7*y7**i for i in range(1, 7)]\n",
    "conjugators = [g7a2*h7a2**2*g7a2**2, g7a2*h7a2**2, g7a2**3, g7a2*h7a2**2*g7a2*h7a2*g7a2, g7a2, g7a2**2*h7a2*g7a2*h7a2**2, (g7a2*h7a2)**2]\n",
    "all([x7**conjugators[i] == cyclic_gens[i] for i in range(len(cyclic_gens))])"
   ]
  },
  {
   "cell_type": "markdown",
   "id": "6c7a3a4e",
   "metadata": {},
   "source": [
    "With that settled, show the claimed generators belong to the normaliser of $\\langle x_7, y_7 \\rangle$."
   ]
  },
  {
   "cell_type": "code",
   "execution_count": 248,
   "id": "c4acfeef",
   "metadata": {},
   "outputs": [
    {
     "data": {
      "text/plain": [
       "True"
      ]
     },
     "execution_count": 248,
     "metadata": {},
     "output_type": "execute_result"
    }
   ],
   "source": [
    "map_7_2 = map_to_vectors(L_E)\n",
    "check_normalise(L_E, L_N, group_set=map_7_2)"
   ]
  },
  {
   "cell_type": "markdown",
   "id": "0729a215",
   "metadata": {},
   "source": [
    "As for showing the entire normaliser of structure $\\left( 7^2{:} \\left( 3 \\times 2.\\alt{4} \\right) \\times \\psl{2}{7} \\right){:}2$ is generated,\n",
    "begin by verifying that the homomorphism induced\n",
    "by $\\langle g_{7a2}, h_{7a2} \\rangle$'s action on $\\langle x_7, y_7 \\rangle$\n",
    "has an image of size $\\left| 3 \\times 2.\\alt{4} \\right| \\left| 2 \\right| =\n",
    "    3 \\cdot 2 \\cdot 12 \\cdot 2 = 144$:"
   ]
  },
  {
   "cell_type": "code",
   "execution_count": 249,
   "id": "5412e843",
   "metadata": {},
   "outputs": [
    {
     "data": {
      "text/plain": [
       "144"
      ]
     },
     "execution_count": 249,
     "metadata": {},
     "output_type": "execute_result"
    }
   ],
   "source": [
    "size_image(L_N, map_7_2, basis=L_E)"
   ]
  },
  {
   "cell_type": "markdown",
   "id": "021d0e67",
   "metadata": {},
   "source": [
    "It thus suffices to prove that the centraliser $7^2 \\times \\psl{2}{7}$ is contained\n",
    "in $\\langle g_{7a2}, h_{7a2} \\rangle$. The factor $7^2$ is necessarily\n",
    "$\\langle x_7, y_7 \\rangle$, with the former generator shown above to be conjugate\n",
    "to the latter by an element of $\\langle g_{7a2}, h_{7a2} \\rangle$, so that\n",
    "for the $7^2$ it suffices to exhibit a word in $g_{7a2}$ and $h_{7a2}$ equal\n",
    "to $y_7$:"
   ]
  },
  {
   "cell_type": "code",
   "execution_count": 250,
   "id": "aed1e4b7",
   "metadata": {},
   "outputs": [
    {
     "data": {
      "text/plain": [
       "True"
      ]
     },
     "execution_count": 250,
     "metadata": {},
     "output_type": "execute_result"
    }
   ],
   "source": [
    "(g7a2**3*h7a2**4*g7a2)**18 == y7"
   ]
  },
  {
   "cell_type": "markdown",
   "id": "cd2d96b6",
   "metadata": {},
   "source": [
    "We claim that the factor $\\psl{2}{7}$ is generated by the following two elements.\n",
    "of $C_\\MM \\left( \\langle x_7, y_7 \\rangle \\right)$."
   ]
  },
  {
   "cell_type": "code",
   "execution_count": 251,
   "id": "a65c9865",
   "metadata": {},
   "outputs": [
    {
     "data": {
      "text/plain": [
       "3"
      ]
     },
     "execution_count": 251,
     "metadata": {},
     "output_type": "execute_result"
    }
   ],
   "source": [
    "s = (h7a2**4*g7a2**4)**7\n",
    "s.order()"
   ]
  },
  {
   "cell_type": "code",
   "execution_count": 252,
   "id": "849163e1",
   "metadata": {},
   "outputs": [
    {
     "data": {
      "text/plain": [
       "True"
      ]
     },
     "execution_count": 252,
     "metadata": {},
     "output_type": "execute_result"
    }
   ],
   "source": [
    "s**x7 == s**y7 == s"
   ]
  },
  {
   "cell_type": "code",
   "execution_count": 253,
   "id": "665b7634",
   "metadata": {},
   "outputs": [
    {
     "data": {
      "text/plain": [
       "2"
      ]
     },
     "execution_count": 253,
     "metadata": {},
     "output_type": "execute_result"
    }
   ],
   "source": [
    "t = (g7a2**3*h7a2*g7a2*h7a2**3*g7a2*h7a2)**14\n",
    "t.order()"
   ]
  },
  {
   "cell_type": "code",
   "execution_count": 254,
   "id": "cc0b20bc",
   "metadata": {},
   "outputs": [
    {
     "data": {
      "text/plain": [
       "True"
      ]
     },
     "execution_count": 254,
     "metadata": {},
     "output_type": "execute_result"
    }
   ],
   "source": [
    "t**x7 == t**y7 == t"
   ]
  },
  {
   "cell_type": "markdown",
   "id": "12b73e4c",
   "metadata": {},
   "source": [
    "Since 3 and 2 are relatively prime to $7^2$, these elements certainly lie\n",
    "in the factor $\\psl{2}{7}$ of the centraliser. To confirm that they generate it,\n",
    "and thus complete the proof, apply `test_xsl` to $st$ and $t$."
   ]
  },
  {
   "cell_type": "code",
   "execution_count": 255,
   "id": "89b75f09",
   "metadata": {},
   "outputs": [
    {
     "data": {
      "text/plain": [
       "True"
      ]
     },
     "execution_count": 255,
     "metadata": {},
     "output_type": "execute_result"
    }
   ],
   "source": [
    "test_xsl(s*t, t, 7)"
   ]
  },
  {
   "cell_type": "markdown",
   "id": "88bf3c73",
   "metadata": {},
   "source": [
    "## $7^{2+1+2}{:}\\ling{2}{7}$ <a id=\"norm7B2\"></a>\n",
    "\n",
    "Generators for this maximal subgroup are given by"
   ]
  },
  {
   "cell_type": "code",
   "execution_count": 256,
   "id": "e1246007",
   "metadata": {},
   "outputs": [],
   "source": [
    "g7b2 = MM(\"M<y_6c7h*x_7dah*d_8f2h*p_35966088*l_2*p_466560*l_2*p_21797088*l_2*t_1*l_1*p_1457280*l_2*p_12107809*l_2*t_2*l_2*p_1457280*l_1*p_12998001*l_2*t_2*l_1*p_2640000*l_1*p_957304*t_2*l_1*p_2880*l_1*p_4032*l_1*p_2799360*t_2*l_2*p_464640*l_1*p_63994224*t_2*l_2*p_1900800*l_2*p_17312>\")\n",
    "h7b2 = MM(\"M<y_5dh*x_1e0h*d_410h*p_222415221*l_1*p_1457280*l_2*p_2369716*l_1*t_2*l_2*p_2830080*l_2*p_23193138*l_1*t_1*l_2*p_1900800*l_2*p_12114711*l_2*t_2*l_1*p_1457280*l_2*p_14426*t_2*l_2*p_2386560*l_2*p_106705552*t_2*l_2*p_2597760*l_1*p_42717425*t_2*l_1*p_2027520*l_1*p_496522*t_2*l_2*p_1457280*l_1*p_73177>\")\n",
    "L_N = (g7b2, h7b2)"
   ]
  },
  {
   "cell_type": "markdown",
   "id": "c99c24d4",
   "metadata": {},
   "source": [
    "This is the normaliser of a 7B-pure $7^2$ in the Monster which is embedded\n",
    "in the normal subgroup $7^{1+4}$ of the normaliser of an arbitrary one of its elements.\n",
    "We claim this particular instance normalises $A = \\langle x_{7b}, a_3 \\rangle$,\n",
    "where $x_{7b}, a_3$ are as in the proof of [Theorem 2.19](#norm7B):"
   ]
  },
  {
   "cell_type": "code",
   "execution_count": 257,
   "id": "6c1987ca",
   "metadata": {},
   "outputs": [],
   "source": [
    "x7b = MM(\"M<y_5d3h*x_0a6dh*d_8d4h*p_111142481*l_1*p_2999040*l_1*p_43234193>\")\n",
    "a3 = MM(\"M<y_0a1h*x_29fh*d_115h*p_52081919*l_1*p_1457280*l_2*p_32504931*l_2*t_2*l_2*p_1900800*l_2*p_474338*l_2*t_1*l_1*p_2640000*l_1*p_21801761*l_1*t_1*l_2*p_2386560*l_2*p_64088184*t_1*l_1*p_2880*l_2*p_10666896*l_2*p_4290240*t_2*l_1*p_1499520*l_1*p_106664201*t_2*l_2*p_1943040*l_2*p_86279607>\")\n",
    "L_E = (x7b, a3)"
   ]
  },
  {
   "cell_type": "markdown",
   "id": "75c4643b",
   "metadata": {},
   "source": [
    "It was shown there that $x_{7b}$ is a 7B element commuting with the element $a_3 \\in 7^{1+4}\n",
    "    \\backslash \\langle x_{7b} \\rangle$ of order 7. By Wilson's odd local paper,\n",
    "the normaliser of $\\langle x_{7b}, a_3 \\rangle \\cong 7^2$ therefore lies\n",
    "in a maximal subgroup $7^{1+4}{:}\\left( 3 \\times 2.\\sym{7} \\right)$ or $7^{2+1+2}{:}\\ling{2}{7}$ or $\\MM$. The latter contains\n",
    "elements of order 48, but not the former (since 16 is not an element order\n",
    "in $2.\\sym{7}$), so that the first possibility may be eliminated by exhibiting\n",
    "an element of order 48 in the relevant normaliser:"
   ]
  },
  {
   "cell_type": "code",
   "execution_count": 258,
   "id": "317274c5",
   "metadata": {},
   "outputs": [
    {
     "data": {
      "text/plain": [
       "True"
      ]
     },
     "execution_count": 258,
     "metadata": {},
     "output_type": "execute_result"
    }
   ],
   "source": [
    "map_7_2 = map_to_vectors(L_E)\n",
    "check_normalise(L_E, L_N, group_set=map_7_2)"
   ]
  },
  {
   "cell_type": "code",
   "execution_count": 259,
   "id": "a03f117b",
   "metadata": {},
   "outputs": [
    {
     "data": {
      "text/plain": [
       "48"
      ]
     },
     "execution_count": 259,
     "metadata": {},
     "output_type": "execute_result"
    }
   ],
   "source": [
    "(g7b2*h7b2**2).order()"
   ]
  },
  {
   "cell_type": "markdown",
   "id": "af17c4dd",
   "metadata": {},
   "source": [
    "We have incidentally proved that the claimed generators belong to the normaliser\n",
    "of $\\langle x_{7b}, a_3 \\rangle$.\n",
    "\n",
    "As for showing the entire $7^{2+1+2}{:}\\ling{2}{7}$ is generated, begin by verifying that\n",
    "the homomorphism induced by $\\langle g_{7b2}, h_{7b2} \\rangle$'s action\n",
    "on $\\langle x_{7b}, a_3 \\rangle$ has an image of size 672."
   ]
  },
  {
   "cell_type": "code",
   "execution_count": 260,
   "id": "4cf09f56",
   "metadata": {},
   "outputs": [
    {
     "data": {
      "text/plain": [
       "672"
      ]
     },
     "execution_count": 260,
     "metadata": {},
     "output_type": "execute_result"
    }
   ],
   "source": [
    "size_image(L_N, map_7_2, basis=L_E)"
   ]
  },
  {
   "cell_type": "markdown",
   "id": "5d3df30f",
   "metadata": {},
   "source": [
    "Now, recall from the proof of [Theorem 2.19](#norm7B) that\n",
    "$x_{7b}$, $a_3$, and certain elements $\\ell, \\left\\{ g_i \\right\\}_{i=1}^1,\n",
    "    \\left\\{ h_i \\right\\}_{i=1}^1, \\sigma$ satisfy the conditions of\n",
    "Lemma 2.2 with $p = 7$ and $k = 1$. The elements\n",
    "$x_{7b}, y_{7b}, g_1, h_1, h_1^{\\sigma}$ therefore generate a 7-group\n",
    "lying in $\\cma{x_{7b}, a_3}$ of order at least $7^5$. These in fact lie in\n",
    "$g_{7b2}, h_{7b2}$:"
   ]
  },
  {
   "cell_type": "code",
   "execution_count": 261,
   "id": "74bda242",
   "metadata": {},
   "outputs": [
    {
     "data": {
      "text/plain": [
       "True"
      ]
     },
     "execution_count": 261,
     "metadata": {},
     "output_type": "execute_result"
    }
   ],
   "source": [
    "# The aforementioned elements\n",
    "gs = [MM(\"M<y_714h*x_0fbch*d_680h*p_104733485*l_1*p_3840*l_2*p_22746528*t_2*l_1*p_2640000*l_1*p_12106888*l_1*t_2*l_2*p_3840*l_2*p_10666752*l_2*p_150720*t_2*l_1*p_1457280*l_2*p_934274*t_2*l_2*p_1985280*l_1*p_64045846*t_1*l_1*p_2999040*l_1*p_495478*t_2*l_2*p_2830080*l_2*p_43260121>\")]\n",
    "hs = [MM(\"M<y_24h*x_15d3h*d_6bdh*p_221822572*l_2*p_2787840*l_2*p_32130697*l_1*t_1*l_2*p_2597760*l_1*p_10672403*l_2*t_1*l_2*p_1985280*l_1*p_32071298*l_2*t_2*l_2*p_1457280*l_1*p_1483638*t_1*l_2*p_1985280*l_1*p_86258530*t_1*l_2*p_2956800*l_1*p_42671270*t_1*l_2*p_2597760*l_1*p_21338020>\")]\n",
    "\u03c3 = MM(\"M<y_355h*x_0df5h*d_0af9h*p_129634698*l_1*p_1858560*l_2*p_4032*l_1*p_10292160*t_2*l_2*p_1858560*l_2*p_33434352*l_2*t_2*l_1*p_1457280*l_2*p_12175332*l_2*t_1*l_2*p_2344320*l_2*p_10566*t_1*l_1*p_2640000*l_1*p_50065*t_2*l_2*p_2597760*l_1*p_21893138*l_1*t_2*l_2*p_2956800*l_1*p_53351664*t_1*l_1*p_1499520*l_2*p_53800616>\")\n",
    "\n",
    "x = (h7b2**2*g7b2*h7b2**2)/(g7b2**2*h7b2*g7b2**2)\n",
    "y = (h7b2*g7b2)**3/(g7b2*h7b2)**3\n",
    "L = [x**(1/g7b2)*y/x**3, x**(1/h7b2)/y*x**2, x**(g7b2**-2)*x**2*y]\n",
    "\n",
    "x7b == L[0]/L[1]/L[2]**2"
   ]
  },
  {
   "cell_type": "code",
   "execution_count": 262,
   "id": "7f5325b2",
   "metadata": {},
   "outputs": [
    {
     "data": {
      "text/plain": [
       "True"
      ]
     },
     "execution_count": 262,
     "metadata": {},
     "output_type": "execute_result"
    }
   ],
   "source": [
    "a3 == L[2]/L[0]/L[1]**2"
   ]
  },
  {
   "cell_type": "code",
   "execution_count": 263,
   "id": "1d70ecdf",
   "metadata": {},
   "outputs": [
    {
     "data": {
      "text/plain": [
       "True"
      ]
     },
     "execution_count": 263,
     "metadata": {},
     "output_type": "execute_result"
    }
   ],
   "source": [
    "gs[0] == L[0]/L[1]**2/L[2]"
   ]
  },
  {
   "cell_type": "code",
   "execution_count": 264,
   "id": "99113d55",
   "metadata": {},
   "outputs": [
    {
     "data": {
      "text/plain": [
       "True"
      ]
     },
     "execution_count": 264,
     "metadata": {},
     "output_type": "execute_result"
    }
   ],
   "source": [
    "hs[0] == (L[1]**3*y**2/x)**2"
   ]
  },
  {
   "cell_type": "code",
   "execution_count": 265,
   "id": "60b0df42",
   "metadata": {},
   "outputs": [
    {
     "data": {
      "text/plain": [
       "True"
      ]
     },
     "execution_count": 265,
     "metadata": {},
     "output_type": "execute_result"
    }
   ],
   "source": [
    "hs[0]**\u03c3 == L[2]**2*x/y"
   ]
  },
  {
   "cell_type": "markdown",
   "id": "1bcd625f",
   "metadata": {},
   "source": [
    "The final factor of $\\left| \\ling{2}{7} \\right|/672 = 3$ in the order of\n",
    "the centraliser may be addressed by exhibiting an element of order 3 commuting with\n",
    "$x_{7b}, a_3$. Such an element certainly cannot lie in the 7-group above, and\n",
    "hence extends the group found so far to one at least thrice as large."
   ]
  },
  {
   "cell_type": "code",
   "execution_count": 266,
   "id": "46697760",
   "metadata": {},
   "outputs": [
    {
     "data": {
      "text/plain": [
       "True"
      ]
     },
     "execution_count": 266,
     "metadata": {},
     "output_type": "execute_result"
    }
   ],
   "source": [
    "t = ((h7b2*g7b2**3*h7b2)/(g7b2*h7b2**3*g7b2))**7\n",
    "x7b*t == t*x7b"
   ]
  },
  {
   "cell_type": "code",
   "execution_count": 267,
   "id": "8d79d646",
   "metadata": {},
   "outputs": [
    {
     "data": {
      "text/plain": [
       "True"
      ]
     },
     "execution_count": 267,
     "metadata": {},
     "output_type": "execute_result"
    }
   ],
   "source": [
    "a3*t == t*a3"
   ]
  },
  {
   "cell_type": "code",
   "execution_count": 268,
   "id": "5ccae127",
   "metadata": {},
   "outputs": [
    {
     "data": {
      "text/plain": [
       "3"
      ]
     },
     "execution_count": 268,
     "metadata": {},
     "output_type": "execute_result"
    }
   ],
   "source": [
    "t.order()"
   ]
  },
  {
   "cell_type": "markdown",
   "id": "e6574475",
   "metadata": {},
   "source": [
    "Thus $\\langle g_{7b2}, h_{7b2} \\rangle \\le \\nma{x_{7b}, a_3} \\le 7^{2+1+2}{:}\\ling{2}{7}$\n",
    "has the same order as $7^{2+1+2}{:}\\ling{2}{7}$, establishing equality of the three groups."
   ]
  },
  {
   "cell_type": "markdown",
   "id": "383c267c",
   "metadata": {},
   "source": [
    "## $7^2{:}\\lins{2}{7}$ <a id=\"norm7B2p\"></a>\n",
    "The following proof is adapted from Pisani and Popiel.\n",
    "Parts of that work, including comments, have been copied **verbatim**;\n",
    "however, modifications have been made for technical and stylistic reasons,\n",
    "likely introducing any errors that occur.\n",
    "\n",
    "****\n",
    "\n",
    "Our generators for this maximal subgroup are"
   ]
  },
  {
   "cell_type": "code",
   "execution_count": 269,
   "id": "a97e96fa",
   "metadata": {},
   "outputs": [],
   "source": [
    "x7b = MM(\"M<y_5d3h*x_0a6dh*d_8d4h*p_111142481*l_1*p_2999040*l_1*p_43234193>\")\n",
    "y7b = MM(\"M<y_4a9h*x_1744h*d_0c88h*p_124439088*l_2*p_2597760*l_1*p_10860102*t_1*l_2*p_2386560*l_2*p_10772578*t_1*l_2*p_2956800*l_1*p_53817946*t_1*l_2*p_1858560*l_2*p_21333360*t_2*l_2*p_2830080*l_2*p_85837074*l_2*p_11151360*t_1*l_1*p_1457280*l_2*p_12549552*l_2>\")\n",
    "x4 = MM(\"M<y_406h*x_1bfeh*d_4d7h*p_44119992*l_2*p_2597760*l_1*p_33391058*l_2*t_1*l_1*p_2640000*l_1*p_12994999*l_1*t_1*l_2*p_2344320*l_2*p_1465428*l_1*t_1*l_1*p_2999040*l_1*p_5762*t_1*l_2*p_1985280*l_1*p_85413713*t_1*l_2*p_1943040*l_2*p_21367881*t_2*l_1*p_2027520*l_1*p_54866*t_1*l_1*p_1457280*l_2*p_76963>\")\n",
    "x14 = MM(\"M<y_599h*x_237h*d_0e76h*p_139011497*l_2*p_2956800*l_1*p_1912825*l_1*t_1*l_2*p_2787840*l_2*p_33397891*l_1*t_1*l_2*p_1393920*l_1*p_22416*l_2*p_2475840*t_2*l_2*p_2956800*l_1*p_10702214*t_2*l_1*p_2640000*l_1*p_661025*l_2*t_1*l_1*p_1457280*l_2*p_96458467*l_2*p_464640>\")"
   ]
  },
  {
   "cell_type": "markdown",
   "id": "4951c5b2",
   "metadata": {},
   "source": [
    "Note $x_{7b}$ is as in [Theorem 2.19](#norm7B).\n",
    "This is the normaliser of a 7B-pure $7^2$ in the Monster not embedded\n",
    "in the normal subgroup $7^{1+4}$ of the normaliser of an arbitrary one of its elements.\n",
    "We claim this particular instance normalises $A = \\langle x_{7b}, y_{7b} \\rangle$."
   ]
  },
  {
   "cell_type": "code",
   "execution_count": 270,
   "id": "95c06ffd",
   "metadata": {},
   "outputs": [],
   "source": [
    "L_E = (x7b, y7b)"
   ]
  },
  {
   "cell_type": "markdown",
   "id": "854b868f",
   "metadata": {},
   "source": [
    "As such, first confirm that $x_{7b}$ and $y_{7b}$ commute, have order 7, and are not powers of each other."
   ]
  },
  {
   "cell_type": "code",
   "execution_count": 271,
   "id": "f0f363f5",
   "metadata": {},
   "outputs": [
    {
     "data": {
      "text/plain": [
       "7"
      ]
     },
     "execution_count": 271,
     "metadata": {},
     "output_type": "execute_result"
    }
   ],
   "source": [
    "# x7b was shown to have order 7 in proving Theorem 2.19\n",
    "y7b.order()"
   ]
  },
  {
   "cell_type": "code",
   "execution_count": 272,
   "id": "85594c70",
   "metadata": {},
   "outputs": [
    {
     "data": {
      "text/plain": [
       "True"
      ]
     },
     "execution_count": 272,
     "metadata": {},
     "output_type": "execute_result"
    }
   ],
   "source": [
    "x7b_cyc = [x7b**i for i in range(7)]\n",
    "x7b*y7b == y7b*x7b and not(y7b in x7b_cyc)"
   ]
  },
  {
   "cell_type": "markdown",
   "id": "658436d4",
   "metadata": {},
   "source": [
    "For 7B-purity, recall from the proof of [Theorem 2.19](#norm7B)\n",
    "that $x_{7b}$ is a 7B element of the Monster. Since all powers of 7B elements in $\\MM$ other than the identity\n",
    "are themselves 7B elements, it suffices to conjugate $x_{7b}$ to a generator\n",
    "of each of the other seven cyclic subgroups of order $7$ in $A \\cong 7^2$.\n",
    "A set of generators is as follows."
   ]
  },
  {
   "cell_type": "code",
   "execution_count": 273,
   "id": "7c45cb7d",
   "metadata": {},
   "outputs": [],
   "source": [
    "cyclic_gens = [y7b, y7b*x7b, y7b**2*x7b, y7b**3*x7b, y7b**4*x7b, y7b**5*x7b, y7b**6*x7b]"
   ]
  },
  {
   "cell_type": "markdown",
   "id": "dc22fa20",
   "metadata": {},
   "source": [
    "A corresponding set of conjugating elements is as follows."
   ]
  },
  {
   "cell_type": "code",
   "execution_count": 274,
   "id": "303dad49",
   "metadata": {},
   "outputs": [
    {
     "data": {
      "text/plain": [
       "True"
      ]
     },
     "execution_count": 274,
     "metadata": {},
     "output_type": "execute_result"
    }
   ],
   "source": [
    "conjugators = [(x14*x4*x14)**2,\n",
    "               (x14*x4*x14)**2*x14**2*x4,\n",
    "               x14*x4*x14**4*x4*x14,\n",
    "               x14*x4*x14**3,\n",
    "               x4*x14*(x14*x4)**2,\n",
    "               x14*x4*x14**3*x4,\n",
    "               (x14*x4*x14)**2*x14**3]\n",
    "\n",
    "all([x7b**conjugators[i] == cyclic_gens[i] for i in range(len(cyclic_gens))])"
   ]
  },
  {
   "cell_type": "markdown",
   "id": "95062842",
   "metadata": {},
   "source": [
    "It remains to show that $A$ does not lie in the normal subgroup $7^{1+4}$\n",
    "of $\\nma{x_{7b}}$. This subgroup $Q$ is generated by the for elements\n",
    "$a_0, a_1, a_2, a_3$ defined in the proof of [Theorem 2.19](#norm7B);\n",
    "show that $y_{7b} \\not \\in Q$ by checking that $y_{7b}$ does not commute modulo $\\langle x_{7b} \\rangle$ with $g_0$."
   ]
  },
  {
   "cell_type": "code",
   "execution_count": 275,
   "id": "c5c816e4",
   "metadata": {},
   "outputs": [
    {
     "data": {
      "text/plain": [
       "False"
      ]
     },
     "execution_count": 275,
     "metadata": {},
     "output_type": "execute_result"
    }
   ],
   "source": [
    "a0 = MM(\"M<y_3c4h*x_1c6bh*d_225h*p_238190910*l_2*p_22080*l_1*p_21456*t_2*l_2*p_2344320*l_2*p_22307972*l_2*t_1*l_1*p_2640000*l_1*p_2413941*l_1*t_1*l_2*p_2830080*l_2*p_85332882*t_2*l_1*p_1499520*l_1*p_85414673*t_1*l_2*p_2597760*l_1*p_85814004*l_1*p_21333120*t_1*l_2*p_2830080*l_2*p_22304977*l_1>\")\n",
    "comm(y7b, a0) in x7b_cyc"
   ]
  },
  {
   "cell_type": "markdown",
   "id": "fcd6861c",
   "metadata": {},
   "source": [
    "With that settled, show the claimed generators belong to the normaliser of $\\langle x_{7b}, y_{7b} \\rangle$."
   ]
  },
  {
   "cell_type": "code",
   "execution_count": 276,
   "id": "531dea9e",
   "metadata": {},
   "outputs": [
    {
     "data": {
      "text/plain": [
       "True"
      ]
     },
     "execution_count": 276,
     "metadata": {},
     "output_type": "execute_result"
    }
   ],
   "source": [
    "# x7b and y7b clearly normalise the group they generate\n",
    "check_normalise(L_E, (x4, x14))"
   ]
  },
  {
   "cell_type": "markdown",
   "id": "9b3c9193",
   "metadata": {},
   "source": [
    "As for showing the entire normaliser $7^2{:}\\lins{2}{7}$ is generated, check that\n",
    "$x_4$ and $x_{14}$ satisfy Campbell and Robertson's presentation for $\\lins{2}{7}$."
   ]
  },
  {
   "cell_type": "code",
   "execution_count": 277,
   "id": "f571a847",
   "metadata": {},
   "outputs": [
    {
     "data": {
      "text/plain": [
       "True"
      ]
     },
     "execution_count": 277,
     "metadata": {},
     "output_type": "execute_result"
    }
   ],
   "source": [
    "(x4*x14)**3*x4**-2 == (x4*x14**4*x4*x14**4)**2*x14**7*x4**4 == e"
   ]
  },
  {
   "cell_type": "markdown",
   "id": "6055f0af",
   "metadata": {},
   "source": [
    "Check that $\\left| x_{14} \\right|=14$, which confirms that $B = \\langle x_4,x_{14} \\rangle$\n",
    "is isomorphic to $\\lins{2}{7}$: no proper quotient of $\\lins{2}{7}$ contains an element\n",
    "of order 14."
   ]
  },
  {
   "cell_type": "code",
   "execution_count": 278,
   "id": "70152fb8",
   "metadata": {},
   "outputs": [
    {
     "data": {
      "text/plain": [
       "14"
      ]
     },
     "execution_count": 278,
     "metadata": {},
     "output_type": "execute_result"
    }
   ],
   "source": [
    "x14.order()"
   ]
  },
  {
   "cell_type": "markdown",
   "id": "e0ddff51",
   "metadata": {},
   "source": [
    "Finally, check that $x_2 = x_4^2$ has order 2 and commutes with $x_{14}$, so that\n",
    "$x_2$ is the central involution in $B$, and show that it does not centralise $x_{7b}$."
   ]
  },
  {
   "cell_type": "code",
   "execution_count": 279,
   "id": "85a657ff",
   "metadata": {},
   "outputs": [
    {
     "data": {
      "text/plain": [
       "2"
      ]
     },
     "execution_count": 279,
     "metadata": {},
     "output_type": "execute_result"
    }
   ],
   "source": [
    "x2 = x4**2\n",
    "x2.order()"
   ]
  },
  {
   "cell_type": "code",
   "execution_count": 280,
   "id": "2a939dae",
   "metadata": {},
   "outputs": [
    {
     "data": {
      "text/plain": [
       "True"
      ]
     },
     "execution_count": 280,
     "metadata": {},
     "output_type": "execute_result"
    }
   ],
   "source": [
    "x2*x14 == x14*x2"
   ]
  },
  {
   "cell_type": "code",
   "execution_count": 281,
   "id": "84b06285",
   "metadata": {},
   "outputs": [
    {
     "data": {
      "text/plain": [
       "True"
      ]
     },
     "execution_count": 281,
     "metadata": {},
     "output_type": "execute_result"
    }
   ],
   "source": [
    "x7b**x2 == 1/x7b"
   ]
  },
  {
   "cell_type": "markdown",
   "id": "0d57063a",
   "metadata": {},
   "source": [
    "It follows that $B$ intersects $A \\cong 7^2$ trivially: \"if not, then\n",
    "the kernel of the action of $B$ on $A$ by conjugation must be non-trivial\n",
    "because $A$ is abelian, and so the central involution in $B$ [which is\n",
    "in all normal subgroups of $\\lins{2}{7}$, e.g. kernels of homomorphisms]\n",
    "must centralise $A$.\" (Pisani and Popiel, p. 4)\n",
    "\n",
    "Hence, $\\langle x_{7b}, y_{7b}, x_4, x_{14} \\rangle$ is a subgroup\n",
    "of $A$'s normaliser $7^2{:}\\lins{2}{7}$ with order at least\n",
    "$7^2 \\left| 7^2{:}\\lins{2}{7} \\right| = \\left| 7^2{:}\\lins{2}{7} \\right|$,\n",
    "which can only be the entire normaliser."
   ]
  },
  {
   "cell_type": "markdown",
   "id": "17cf13ef",
   "metadata": {},
   "source": [
    "## $11^2{:}\\left( 5 {\\times} 2.\\alt{5} \\right)$ <a id=\"norm11_2\"></a>\n",
    "The following proof is adapted from Pisani and Popiel.\n",
    "Parts of that work, including comments, have been copied **verbatim**;\n",
    "however, modifications have been made for technical and stylistic reasons,\n",
    "likely introducing any errors that occur.\n",
    "\n",
    "****\n",
    "\n",
    "Our generators for this maximal subgroup are as follows."
   ]
  },
  {
   "cell_type": "code",
   "execution_count": 282,
   "id": "4602fec7",
   "metadata": {},
   "outputs": [],
   "source": [
    "x11 = MM(\"M<y_4bdh*x_120h*d_52ch*p_87984372*l_1*p_3840*l_1*p_21360*l_1*p_135360>\")\n",
    "y11 = MM(\"M<y_389h*x_0d8dh*d_0d9ch*p_150523146*l_1*p_2640000*l_1*p_10668793*t_1*l_2*p_2597760*l_1*p_21348617*t_1*l_1*p_2832000*t_1*l_1*p_1499520*l_2*p_63997801*t_1*l_1*p_1499520*l_2*p_1527956>\")\n",
    "x3 = MM(\"M<y_479h*x_474h*d_0ad8h*p_170818001*l_1*p_2999040*l_1*p_32071331*l_1*t_1*l_2*p_1920*l_1*p_1394256*l_1*t_2*l_2*p_1900800*l_2*p_21819090*l_1*t_1*l_2*p_2386560*l_2*p_10777289*t_1*l_1*p_1499520*l_2*p_42755921*t_1*l_2*p_2386560*l_2*p_42799217*t_2*l_2*p_1985280*l_1*p_53381138>\")\n",
    "x4 = MM(\"M<y_3d7h*x_1c77h*d_206h*p_198338203*l_1*p_2027520*l_1*p_22753408*l_2*t_1*l_2*p_467520*l_2*p_22260720*l_2*t_1*l_1*p_1415040*l_1*p_10666848*l_1*p_10539840*t_1*l_1*p_1933440*l_1*t_2*l_2*p_46168320*l_2*t_1*l_1*p_2999040*l_1*p_16357*t_1*l_2*p_2597760*l_1*p_86256657*t_1*l_2*p_2386560*l_2*p_21424635>\")\n",
    "x5 = MM(\"M<y_47ah*x_1f1eh*d_482h*p_238402577*l_2*p_1900800*l_2*p_33456466*t_2*l_1*p_1415040*l_1*p_10793664*t_2*l_2*p_1943040*l_2*p_42669319*t_2*l_2*p_2956800*l_1*p_85409964*t_2*l_1*p_2027520*l_1*p_96458484*l_2*p_11130240*t_1*l_2*p_1920*l_1*p_1296*l_1*p_4652160>\")\n",
    "L_N = (x11, y11, x3, x4, x5)"
   ]
  },
  {
   "cell_type": "markdown",
   "id": "f81009fa",
   "metadata": {},
   "source": [
    "This is the normaliser of the groups generated by two commuting elements of order 11 in the Monster.\n",
    "We claim this particular instance normalises $\\langle x_{11}, y_{11} \\rangle$."
   ]
  },
  {
   "cell_type": "code",
   "execution_count": 283,
   "id": "8ebf4383",
   "metadata": {},
   "outputs": [],
   "source": [
    "L_E = (x11, y11)"
   ]
  },
  {
   "cell_type": "markdown",
   "id": "36df7df4",
   "metadata": {},
   "source": [
    "As such, first check that $x_{11}$ and $y_{11}$ have order $11$ and commute."
   ]
  },
  {
   "cell_type": "code",
   "execution_count": 284,
   "id": "088fe82b",
   "metadata": {},
   "outputs": [
    {
     "data": {
      "text/plain": [
       "11"
      ]
     },
     "execution_count": 284,
     "metadata": {},
     "output_type": "execute_result"
    }
   ],
   "source": [
    "x11.order()"
   ]
  },
  {
   "cell_type": "code",
   "execution_count": 285,
   "id": "9d658208",
   "metadata": {},
   "outputs": [
    {
     "data": {
      "text/plain": [
       "11"
      ]
     },
     "execution_count": 285,
     "metadata": {},
     "output_type": "execute_result"
    }
   ],
   "source": [
    "y11.order()"
   ]
  },
  {
   "cell_type": "code",
   "execution_count": 286,
   "id": "62356d29",
   "metadata": {},
   "outputs": [
    {
     "data": {
      "text/plain": [
       "True"
      ]
     },
     "execution_count": 286,
     "metadata": {},
     "output_type": "execute_result"
    }
   ],
   "source": [
    "x11*y11 == y11*x11"
   ]
  },
  {
   "cell_type": "markdown",
   "id": "0928b4f1",
   "metadata": {},
   "source": [
    "Then check that $y_{11} \\not \\in \\langle x_{11} \\rangle$."
   ]
  },
  {
   "cell_type": "code",
   "execution_count": 287,
   "id": "bb8d6995",
   "metadata": {},
   "outputs": [
    {
     "data": {
      "text/plain": [
       "False"
      ]
     },
     "execution_count": 287,
     "metadata": {},
     "output_type": "execute_result"
    }
   ],
   "source": [
    "y11 in [x11**i for i in range(11)]"
   ]
  },
  {
   "cell_type": "markdown",
   "id": "f9ea124b",
   "metadata": {},
   "source": [
    "With that settled, show the claimed generators belong to the normaliser of $\\langle x_{11}, y_{11} \\rangle$."
   ]
  },
  {
   "cell_type": "code",
   "execution_count": 288,
   "id": "ec8984d3",
   "metadata": {},
   "outputs": [
    {
     "data": {
      "text/plain": [
       "True"
      ]
     },
     "execution_count": 288,
     "metadata": {},
     "output_type": "execute_result"
    }
   ],
   "source": [
    "# x11, y11 clearly normalise the group they generate\n",
    "check_normalise(L_E, (x3, x4, x5))"
   ]
  },
  {
   "cell_type": "markdown",
   "id": "e0dc95af",
   "metadata": {},
   "source": [
    "As for showing the entire normaliser $11^2{:}\\left( 5 {\\times} 2.\\alt{5} \\right)$ is generated, confirm that $x_3$, $x_4$,\n",
    "and $x_5$ have the orders indicated by their subscripts."
   ]
  },
  {
   "cell_type": "code",
   "execution_count": 289,
   "id": "d4b02421",
   "metadata": {},
   "outputs": [
    {
     "data": {
      "text/plain": [
       "3"
      ]
     },
     "execution_count": 289,
     "metadata": {},
     "output_type": "execute_result"
    }
   ],
   "source": [
    "x3.order()"
   ]
  },
  {
   "cell_type": "code",
   "execution_count": 290,
   "id": "088d0285",
   "metadata": {},
   "outputs": [
    {
     "data": {
      "text/plain": [
       "4"
      ]
     },
     "execution_count": 290,
     "metadata": {},
     "output_type": "execute_result"
    }
   ],
   "source": [
    "x4.order()"
   ]
  },
  {
   "cell_type": "code",
   "execution_count": 291,
   "id": "3c9b0b10",
   "metadata": {},
   "outputs": [
    {
     "data": {
      "text/plain": [
       "5"
      ]
     },
     "execution_count": 291,
     "metadata": {},
     "output_type": "execute_result"
    }
   ],
   "source": [
    "x5.order()"
   ]
  },
  {
   "cell_type": "markdown",
   "id": "a1717043",
   "metadata": {},
   "source": [
    "Then check that $x_5$ commutes with $\\langle x_3,x_4 \\rangle$."
   ]
  },
  {
   "cell_type": "code",
   "execution_count": 292,
   "id": "0362fddb",
   "metadata": {},
   "outputs": [
    {
     "data": {
      "text/plain": [
       "True"
      ]
     },
     "execution_count": 292,
     "metadata": {},
     "output_type": "execute_result"
    }
   ],
   "source": [
    "(x3*x5 == x5*x3) and (x4*x5 == x5*x4)"
   ]
  },
  {
   "cell_type": "markdown",
   "id": "9f635f34",
   "metadata": {},
   "source": [
    "Check that $x_2 = x_4^2$ commutes with $x_3$, so is central in $\\langle x_3,x_4 \\rangle$."
   ]
  },
  {
   "cell_type": "code",
   "execution_count": 293,
   "id": "3da180bc",
   "metadata": {},
   "outputs": [
    {
     "data": {
      "text/plain": [
       "True"
      ]
     },
     "execution_count": 293,
     "metadata": {},
     "output_type": "execute_result"
    }
   ],
   "source": [
    "x2 = x4**2\n",
    "x3*x2 == x2*x3"
   ]
  },
  {
   "cell_type": "markdown",
   "id": "01bc74fe",
   "metadata": {},
   "source": [
    "Show that, modulo $\\langle x_2 \\rangle$, $x_4$ and $x_3$ generate a group isomorphic to $\\alt{5}$.\n",
    "This is verified by checking the presentation $\\langle a,b \\mid a^2 = b^3 = (ab)^5 = 1 \\rangle$ for $\\alt{5}$ modulo $\\langle x_2 \\rangle$."
   ]
  },
  {
   "cell_type": "code",
   "execution_count": 294,
   "id": "0d2d21a0",
   "metadata": {},
   "outputs": [
    {
     "data": {
      "text/plain": [
       "True"
      ]
     },
     "execution_count": 294,
     "metadata": {},
     "output_type": "execute_result"
    }
   ],
   "source": [
    "(x4**2 in [e, x2]) and (x3**3 in [e, x2]) and ((x4*x3)**5 in [e, x2])"
   ]
  },
  {
   "cell_type": "markdown",
   "id": "728d3557",
   "metadata": {},
   "source": [
    "It follows that $\\langle x_3, x_4 \\rangle \\cong 2.\\alt{5}$ is centralised by an element $x_5$\n",
    "of order 5; since no non-trivial power of such an element can be central in $2.\\alt{5}$,\n",
    "we have $\\langle x_3, x_4, x_5 \\rangle \\cong 5 \\times 2.\\alt{5}$. This subgroup of\n",
    "the normaliser contains no elements of order 11 and thus intersects\n",
    "$\\langle x_{11}, y_{11} \\rangle \\cong 11^2$ trivially, yielding the entire normaliser $11^2{:}\\left( 5 {\\times} 2.\\alt{5} \\right)$."
   ]
  },
  {
   "cell_type": "markdown",
   "id": "45819a58",
   "metadata": {},
   "source": [
    "## $\\left( 13{:}6 \\times \\psl{3}{3} \\right) \\udot 2$ <a id=\"norm13A\"></a>\n",
    "The following proof is adapted from one provided for the index 2 subgroup\n",
    "$13{:}6 \\times \\psl{3}{3}$ by Dietrich, Lee, and Popiel. This construction\n",
    "merely extends that group with an element $y_{12}$, the square of which is\n",
    "the $y_6$ of Dietrich et al.\n",
    "\n",
    "****\n",
    "\n",
    "Generators are given by"
   ]
  },
  {
   "cell_type": "code",
   "execution_count": 295,
   "id": "50fc17a7",
   "metadata": {},
   "outputs": [],
   "source": [
    "g13 = MM(\"M<y_519h*x_0cb8h*d_3abh*p_178084032*l_2*p_2344320*l_2*p_471482*l_1*t_1*l_2*p_2830080*l_2*p_22371347*l_2*t_2*l_1*p_1499520*l_2*p_22779365*l_2*t_1*l_2*p_2597760*l_1*p_11179396*t_1*l_1*p_1499520*l_2*p_85838017*t_2*l_1*p_1499520*l_1*p_64024721*t_2*l_2*p_2386560*l_2*p_21335269>\")\n",
    "y12 = MM(\"M<y_5c4h*x_0d78h*d_0ce0h*p_190945267*l_2*p_2344320*l_2*p_32475110*l_1*t_2*l_2*p_2597760*l_1*p_12134921*l_1*t_2*l_1*p_2880*l_2*p_3216*l_2*p_5180160*t_2*l_2*p_2787840*l_2*p_216480*t_2*l_2*p_2830080*l_2*p_42756901*t_1*l_2*p_1985280*l_1*p_11152936*t_1*l_2*p_2956800*l_1*p_85840900>\")\n",
    "c = MM(\"M<y_0fh*x_0bc4h*d_59h*p_207376512*l_2*p_1943040*l_2*p_22272232*l_2*t_1*l_1*p_1499520*l_1*p_22439*l_1*t_1*l_1*p_1394880*l_1*p_21456*l_2*p_4776960*t_2*l_1*p_1499520*l_2*p_53357227*t_1*l_2*p_960*l_2*p_10665792*l_1*p_6086400*t_1*l_2*p_1943040*l_2*p_64043939*t_2*l_2*p_2956800*l_1*p_64017049>\")\n",
    "d = MM(\"M<y_5a8h*x_0bcdh*d_941h*p_205645390*l_2*p_2830080*l_2*p_8690*l_2*t_1*l_2*p_1900800*l_2*p_10675420*t_1*l_2*p_2597760*l_1*p_42728016*t_2*l_2*p_2597760*l_1*p_10729207*t_1*l_2*p_1985280*l_1*p_21338086*t_2*l_2*p_2597760*l_1*p_21359269*t_1*l_1*p_1499520*l_1*p_42755907>\")\n",
    "L_N = (g13, y12, c, d)"
   ]
  },
  {
   "cell_type": "markdown",
   "id": "a05f0aca",
   "metadata": {},
   "source": [
    "This class of maximal subgroups are the normalisers of elements belonging to conjugacy class 13A.\n",
    "Begin by showing that the above generators lie in the normaliser of $g_{13}$, an element of order 13."
   ]
  },
  {
   "cell_type": "code",
   "execution_count": 296,
   "id": "c7a6b6f1",
   "metadata": {},
   "outputs": [
    {
     "data": {
      "text/plain": [
       "13"
      ]
     },
     "execution_count": 296,
     "metadata": {},
     "output_type": "execute_result"
    }
   ],
   "source": [
    "L_E = [g13]\n",
    "\n",
    "# g13 clearly normalises the group it generates\n",
    "g13.order()"
   ]
  },
  {
   "cell_type": "code",
   "execution_count": 297,
   "id": "178763e2",
   "metadata": {},
   "outputs": [
    {
     "data": {
      "text/plain": [
       "True"
      ]
     },
     "execution_count": 297,
     "metadata": {},
     "output_type": "execute_result"
    }
   ],
   "source": [
    "check_normalise(L_E, (y12, c, d))"
   ]
  },
  {
   "cell_type": "markdown",
   "id": "f16448ec",
   "metadata": {},
   "source": [
    "Since $\\GG$ contains no 13A elements, directly verifying the conjugacy class\n",
    "of $g_{13}$ is hard. Instead, rule out the alternative by constructing a subgroup\n",
    "of $g_{13}$'s normaliser with order not dividing that of a 13B normaliser:"
   ]
  },
  {
   "cell_type": "code",
   "execution_count": 298,
   "id": "e0ec4835",
   "metadata": {},
   "outputs": [
    {
     "data": {
      "text/plain": [
       "True"
      ]
     },
     "execution_count": 298,
     "metadata": {},
     "output_type": "execute_result"
    }
   ],
   "source": [
    "# Conjugate everything into G_x0 for speed using an element\n",
    "# that takes y12^6, a 2B involution commuting with <c, d>, to z\n",
    "# (verification omitted, as it is mathematically irrelevant)\n",
    "\n",
    "conjugator = MM(\"M<y_4e2h*x_1c8eh*d_0a4eh*p_199351965*l_2*p_1985280*l_1*p_29906*l_2*t_1*l_1*p_2027520*l_1*p_13038213*l_1*t_2*l_1*p_1415040*l_1*p_22272*l_2*p_1914240*t_1*l_2*p_1985280*l_1*p_21357329*t_2*l_1*p_1457280*l_2*p_85818775*l_2*p_971520*t_1*l_2*p_1858560*l_1*p_2208*l_2*p_1904640>\")\n",
    "c_conj, d_conj = (c**conjugator).reduce(), (d**conjugator).reduce()\n",
    "c_conj.in_G_x0() and d_conj.in_G_x0()"
   ]
  },
  {
   "cell_type": "code",
   "execution_count": 299,
   "id": "dc85ef57",
   "metadata": {},
   "outputs": [
    {
     "data": {
      "text/plain": [
       "5616"
      ]
     },
     "execution_count": 299,
     "metadata": {},
     "output_type": "execute_result"
    }
   ],
   "source": [
    "size_image((c_conj, d_conj), as_int)"
   ]
  },
  {
   "cell_type": "markdown",
   "id": "426a5917",
   "metadata": {},
   "source": [
    "The 13B normaliser (considered in [Theorem 2.25](#norm13B)) has order\n",
    "$13^3 \\cdot 3 \\cdot 4 \\cdot 24$, which is indeed not divisible by 5616.\n",
    "\n",
    "Now, observe that $\\langle y_{12} \\rangle$ acts faithfully on $g_{13}$,\n",
    "since 6 is a primitive root modulo 13:"
   ]
  },
  {
   "cell_type": "code",
   "execution_count": 300,
   "id": "29d6f768",
   "metadata": {},
   "outputs": [
    {
     "data": {
      "text/plain": [
       "12"
      ]
     },
     "execution_count": 300,
     "metadata": {},
     "output_type": "execute_result"
    }
   ],
   "source": [
    "y12.order()"
   ]
  },
  {
   "cell_type": "code",
   "execution_count": 301,
   "id": "3bbbb8c5",
   "metadata": {},
   "outputs": [
    {
     "data": {
      "text/plain": [
       "True"
      ]
     },
     "execution_count": 301,
     "metadata": {},
     "output_type": "execute_result"
    }
   ],
   "source": [
    "g13**y12 == g13**6"
   ]
  },
  {
   "cell_type": "markdown",
   "id": "158a6f0e",
   "metadata": {},
   "source": [
    "It therefore only remains to show the given generators generate the centraliser\n",
    "$13 \\times \\psl{3}{3}$ of $g_{13}$. It follows from earlier\n",
    "calculations that $\\langle g_{13} \\rangle$ and $\\langle c, d \\rangle$\n",
    "have orders 13 and $5616 = \\left| \\psl{3}{3} \\right|$, so that\n",
    "it suffices to show these are subgroups of the centraliser with trivial intersection."
   ]
  },
  {
   "cell_type": "code",
   "execution_count": 302,
   "id": "647a7776",
   "metadata": {},
   "outputs": [
    {
     "data": {
      "text/plain": [
       "True"
      ]
     },
     "execution_count": 302,
     "metadata": {},
     "output_type": "execute_result"
    }
   ],
   "source": [
    "g13*c == c*g13"
   ]
  },
  {
   "cell_type": "code",
   "execution_count": 303,
   "id": "d60361e4",
   "metadata": {},
   "outputs": [
    {
     "data": {
      "text/plain": [
       "True"
      ]
     },
     "execution_count": 303,
     "metadata": {},
     "output_type": "execute_result"
    }
   ],
   "source": [
    "g13*d == d*g13"
   ]
  },
  {
   "cell_type": "code",
   "execution_count": 304,
   "id": "6575cabf",
   "metadata": {},
   "outputs": [
    {
     "data": {
      "text/plain": [
       "True"
      ]
     },
     "execution_count": 304,
     "metadata": {},
     "output_type": "execute_result"
    }
   ],
   "source": [
    "(y12**2)*c == c*(y12**2)"
   ]
  },
  {
   "cell_type": "code",
   "execution_count": 305,
   "id": "11512f11",
   "metadata": {},
   "outputs": [
    {
     "data": {
      "text/plain": [
       "True"
      ]
     },
     "execution_count": 305,
     "metadata": {},
     "output_type": "execute_result"
    }
   ],
   "source": [
    "(y12**2)*d == d*(y12**2)"
   ]
  },
  {
   "cell_type": "markdown",
   "id": "25120eb9",
   "metadata": {},
   "source": [
    "This establishes that $\\langle c, d \\rangle$ centralises both $g_{13}$\n",
    "and $y_{12}^2$. It is thus a subgroup of the centraliser; on the other hand,\n",
    "as $\\langle y_{12} \\rangle$ acts faithfully on $g_{13}$, the group\n",
    "$\\langle c, d \\rangle$ cannot intersect $\\langle g_{13} \\rangle$."
   ]
  },
  {
   "cell_type": "markdown",
   "id": "0d70938f",
   "metadata": {},
   "source": [
    "## $13^{1+2}{:}\\left( 3 \\times 4.\\sym{4} \\right)$ <a id=\"norm13B\"></a>\n",
    "Generators are given by"
   ]
  },
  {
   "cell_type": "code",
   "execution_count": 306,
   "id": "74ae98df",
   "metadata": {},
   "outputs": [],
   "source": [
    "g13 = MM(\"M<y_519h*x_0cb8h*d_3abh*p_178084032*l_2*p_2344320*l_2*p_471482*l_1*t_1*l_2*p_2830080*l_2*p_22371347*l_2*t_2*l_1*p_1499520*l_2*p_22779365*l_2*t_1*l_2*p_2597760*l_1*p_11179396*t_1*l_1*p_1499520*l_2*p_85838017*t_2*l_1*p_1499520*l_1*p_64024721*t_2*l_2*p_2386560*l_2*p_21335269>\")\n",
    "c = MM(\"M<y_0fh*x_0bc4h*d_59h*p_207376512*l_2*p_1943040*l_2*p_22272232*l_2*t_1*l_1*p_1499520*l_1*p_22439*l_1*t_1*l_1*p_1394880*l_1*p_21456*l_2*p_4776960*t_2*l_1*p_1499520*l_2*p_53357227*t_1*l_2*p_960*l_2*p_10665792*l_1*p_6086400*t_1*l_2*p_1943040*l_2*p_64043939*t_2*l_2*p_2956800*l_1*p_64017049>\")\n",
    "c2 = MM(\"M<y_79ch*x_0c7dh*d_944h*p_77869291*l_1*p_2027520*l_1*p_11601784*l_1*t_2*l_2*p_2830080*l_2*p_31997172*l_2*t_2*l_2*p_1985280*l_1*p_2418728*l_1*t_2*l_1*p_1499520*l_2*p_127991658*t_1*l_2*p_1900800*l_2*p_528273*t_2*l_2*p_1900800*l_2*p_1868369*l_2*t_2*l_2*p_1920*l_2*p_85812144*t_2*l_1*p_1499520*l_1*p_86279586>\")\n",
    "x1 = MM(\"M<y_50ah*x_1241h*d_0efah*p_199140999*l_2*p_1900800*l_2*p_85092*t_1*l_2*p_1985280*l_1*p_33414099*l_2*t_2*l_2*p_2787840*l_2*p_1465424*l_2*t_2*l_2*p_1900800*l_2*p_4802*t_2*l_2*p_2956800*l_1*p_43594886*t_2*l_1*p_1499520*l_2*p_85330007*t_1*l_2*p_2386560*l_2*p_53884407*t_1*l_1*p_1499520*l_2*p_53815333>\")\n",
    "x2 = MM(\"M<y_5b1h*x_13fah*d_37h*p_232192719*l_2*p_1457280*l_1*p_11672163*t_1*l_2*p_2787840*l_2*p_471431*l_2*t_2*l_2*p_1985280*l_1*p_23263157*l_2*t_1*l_2*p_2597760*l_1*p_64020819*t_1*l_1*p_1499520*l_2*p_21424630*t_2*l_2*p_2956800*l_1*p_43176417*t_1*l_2*p_1900800*l_2*p_5776>\")\n",
    "L_N = (g13, c, c2, x1, x2)"
   ]
  },
  {
   "cell_type": "markdown",
   "id": "f748afc1",
   "metadata": {},
   "source": [
    "Note that $g_{13}$ and $c$ are as in [Theorem 2.24](#norm13A).  \n",
    "This subgroup is the normaliser of a 13B element in the Monster. We claim this particular instance normalises $c$."
   ]
  },
  {
   "cell_type": "code",
   "execution_count": 307,
   "id": "0cd9d664",
   "metadata": {},
   "outputs": [],
   "source": [
    "L_E = [c]"
   ]
  },
  {
   "cell_type": "markdown",
   "id": "c87d505d",
   "metadata": {},
   "source": [
    "Firstly, verify $c$ belongs to the correct conjugacy class:"
   ]
  },
  {
   "cell_type": "code",
   "execution_count": 308,
   "id": "00cd2448",
   "metadata": {},
   "outputs": [
    {
     "data": {
      "text/plain": [
       "13"
      ]
     },
     "execution_count": 308,
     "metadata": {},
     "output_type": "execute_result"
    }
   ],
   "source": [
    "# This is the same element conjugator as in the proof of Theorem 2.24\n",
    "conjugator = MM(\"M<y_4e2h*x_1c8eh*d_0a4eh*p_199351965*l_2*p_1985280*l_1*p_29906*l_2*t_1*l_1*p_2027520*l_1*p_13038213*l_1*t_2*l_1*p_1415040*l_1*p_22272*l_2*p_1914240*t_1*l_2*p_1985280*l_1*p_21357329*t_2*l_1*p_1457280*l_2*p_85818775*l_2*p_971520*t_1*l_2*p_1858560*l_1*p_2208*l_2*p_1904640>\")\n",
    "\n",
    "c_conj = (c**conjugator).reduce()\n",
    "c_conj.order()"
   ]
  },
  {
   "cell_type": "code",
   "execution_count": 309,
   "id": "5b6c3352",
   "metadata": {},
   "outputs": [
    {
     "data": {
      "text/plain": [
       "True"
      ]
     },
     "execution_count": 309,
     "metadata": {},
     "output_type": "execute_result"
    }
   ],
   "source": [
    "c_conj.in_G_x0()"
   ]
  },
  {
   "cell_type": "code",
   "execution_count": 310,
   "id": "3dd1bb02",
   "metadata": {},
   "outputs": [
    {
     "data": {
      "text/plain": [
       "-2"
      ]
     },
     "execution_count": 310,
     "metadata": {},
     "output_type": "execute_result"
    }
   ],
   "source": [
    "# Check the value of chi_M is a mere failsafe;\n",
    "# all elements of order 13 in G_x0 belong to Monster class 13B!\n",
    "\n",
    "c_conj.chi_G_x0()[0]"
   ]
  },
  {
   "cell_type": "markdown",
   "id": "713e7d46",
   "metadata": {},
   "source": [
    "With that settled, show the claimed generators belong to the normaliser of $x_7$."
   ]
  },
  {
   "cell_type": "code",
   "execution_count": 311,
   "id": "e16a069b",
   "metadata": {},
   "outputs": [
    {
     "data": {
      "text/plain": [
       "True"
      ]
     },
     "execution_count": 311,
     "metadata": {},
     "output_type": "execute_result"
    }
   ],
   "source": [
    "# c clearly normalises the group it generates\n",
    "check_normalise(L_E, (g13, c2, x1, x2))"
   ]
  },
  {
   "cell_type": "markdown",
   "id": "b391c177",
   "metadata": {},
   "source": [
    "As for generating the whole normaliser, we first demonstrate that\n",
    "$c_2, g_{13}$ are elements of order 13 in the centraliser of $c$\n",
    "which commute modulo $c$, ensuring that $\\langle c, c_2, g_{13} \\rangle$\n",
    "is a 13-group."
   ]
  },
  {
   "cell_type": "code",
   "execution_count": 312,
   "id": "2db5907f",
   "metadata": {},
   "outputs": [
    {
     "data": {
      "text/plain": [
       "True"
      ]
     },
     "execution_count": 312,
     "metadata": {},
     "output_type": "execute_result"
    }
   ],
   "source": [
    "c*c2 == c2*c"
   ]
  },
  {
   "cell_type": "code",
   "execution_count": 313,
   "id": "fd66f9ab",
   "metadata": {},
   "outputs": [
    {
     "data": {
      "text/plain": [
       "True"
      ]
     },
     "execution_count": 313,
     "metadata": {},
     "output_type": "execute_result"
    }
   ],
   "source": [
    "c*g13 == g13*c"
   ]
  },
  {
   "cell_type": "code",
   "execution_count": 314,
   "id": "986b22f3",
   "metadata": {},
   "outputs": [
    {
     "data": {
      "text/plain": [
       "True"
      ]
     },
     "execution_count": 314,
     "metadata": {},
     "output_type": "execute_result"
    }
   ],
   "source": [
    "comm(c2, g13) in [c**i for i in range(13)]"
   ]
  },
  {
   "cell_type": "markdown",
   "id": "6b6c9619",
   "metadata": {},
   "source": [
    "To verify that $\\langle c, c_2, g_{13} \\rangle$\n",
    "has order (at least) $\\left| 13^{1+2} \\right| = 13^3$,\n",
    "it then suffices to exhibit trivially intersecting\n",
    "subgroups of orders $13^2$ and $13 = \\left| g_{13} \\right|$:"
   ]
  },
  {
   "cell_type": "code",
   "execution_count": 315,
   "id": "1e0e41ca",
   "metadata": {},
   "outputs": [
    {
     "data": {
      "text/plain": [
       "169"
      ]
     },
     "execution_count": 315,
     "metadata": {},
     "output_type": "execute_result"
    }
   ],
   "source": [
    "map_13_2 = map_to_vectors((c, c2), 13)\n",
    "len(map_13_2)"
   ]
  },
  {
   "cell_type": "code",
   "execution_count": 316,
   "id": "56194cde",
   "metadata": {},
   "outputs": [
    {
     "data": {
      "text/plain": [
       "False"
      ]
     },
     "execution_count": 316,
     "metadata": {},
     "output_type": "execute_result"
    }
   ],
   "source": [
    "as_int(g13) in map_13_2"
   ]
  },
  {
   "cell_type": "markdown",
   "id": "f3723b29",
   "metadata": {},
   "source": [
    "The remainder of the normaliser then emerges upon\n",
    "determining that $x_1, x_2$ generates a subgroup thereof\n",
    "containing $\\left| 3 \\times 4.\\alt{4} \\right| = 3 \\cdot 4 \\cdot 24 =\n",
    "    288$ elements: since $13 \\not\\mid 288$ and all elements of\n",
    "$13^{1+2}$ except the identity must have order divisible by 13,\n",
    "the intersection of this group and $\\langle g_{13}, c, c_2 \\rangle$\n",
    "is trivial."
   ]
  },
  {
   "cell_type": "code",
   "execution_count": 317,
   "id": "45728a77",
   "metadata": {},
   "outputs": [
    {
     "data": {
      "text/plain": [
       "288"
      ]
     },
     "execution_count": 317,
     "metadata": {},
     "output_type": "execute_result"
    }
   ],
   "source": [
    "# Conjugate everything into G_x0 for speed using x2,\n",
    "# the third power of which is a 2B involution commuting with <x1, x2>\n",
    "# (verification omitted, as it is mathematically irrelevant)\n",
    "\n",
    "conjugator = (x2**3).conjugate_involution()[1]\n",
    "x1_conj, x2_conj = (x1**conjugator).reduce(), (x2**conjugator).reduce()\n",
    "size_image((x1_conj, x2_conj), as_int)"
   ]
  },
  {
   "cell_type": "markdown",
   "id": "57cacd17",
   "metadata": {},
   "source": [
    "## $13^2{:}\\lins{2}{13}{:}4$ <a id=\"norm13B2\"></a>\n",
    "Generators are given by"
   ]
  },
  {
   "cell_type": "code",
   "execution_count": 318,
   "id": "c72b4f94",
   "metadata": {},
   "outputs": [],
   "source": [
    "c = MM(\"M<y_0fh*x_0bc4h*d_59h*p_207376512*l_2*p_1943040*l_2*p_22272232*l_2*t_1*l_1*p_1499520*l_1*p_22439*l_1*t_1*l_1*p_1394880*l_1*p_21456*l_2*p_4776960*t_2*l_1*p_1499520*l_2*p_53357227*t_1*l_2*p_960*l_2*p_10665792*l_1*p_6086400*t_1*l_2*p_1943040*l_2*p_64043939*t_2*l_2*p_2956800*l_1*p_64017049>\")\n",
    "c2 = MM(\"M<y_79ch*x_0c7dh*d_944h*p_77869291*l_1*p_2027520*l_1*p_11601784*l_1*t_2*l_2*p_2830080*l_2*p_31997172*l_2*t_2*l_2*p_1985280*l_1*p_2418728*l_1*t_2*l_1*p_1499520*l_2*p_127991658*t_1*l_2*p_1900800*l_2*p_528273*t_2*l_2*p_1900800*l_2*p_1868369*l_2*t_2*l_2*p_1920*l_2*p_85812144*t_2*l_1*p_1499520*l_1*p_86279586>\")\n",
    "x1 = MM(\"M<y_27h*x_0bddh*d_0c7fh*p_74975270*l_2*p_1457280*l_1*p_13001609*l_2*t_1*l_1*p_2640000*l_1*p_2347666*l_1*t_1*l_2*p_1858560*l_1*p_464928*l_2*p_962880*t_1*l_1*p_1499520*l_2*p_21363050*t_2*l_1*p_1499520*l_1*p_42793465*t_2*l_2*p_2787840*l_2*p_47158*t_2*l_1*p_1499520*l_1*p_43170822>\")\n",
    "x2 = MM(\"M<y_424h*x_7e9h*d_0d78h*p_130606814*l_2*p_2344320*l_2*p_32510960*t_1*l_1*p_2999040*l_1*p_1394132*l_1*t_1*l_2*p_2880*l_1*p_1296*l_1*p_2980800*t_2*l_2*p_2956800*l_1*p_42672192*t_2*l_2*p_2344320*l_2*p_32067169*l_1*t_1*l_1*p_1499520*l_1*p_96038948*t_1*l_2*p_2956800*l_1*p_64004482>\")\n",
    "x4 = MM(\"M<y_71ch*x_0b04h*d_0a72h*p_51746617*l_2*p_562560*l_2*t_1*l_2*p_1943040*l_2*p_12594720*t_1*l_2*p_2597760*l_1*p_85329985*t_2*l_2*p_2597760*l_1*p_12599543*t_2*l_1*p_960*l_2*p_42706032*t_1*l_2*p_1985280*l_1*p_43237046*t_1*l_2*p_1943040*l_2*p_43705510>\")\n",
    "L_N = (c, c2, x1, x2, x4)"
   ]
  },
  {
   "cell_type": "markdown",
   "id": "82e0d6a2",
   "metadata": {},
   "source": [
    "Note that $c$ and $c_2$ are as in [Theorem 2.25](#norm13B).  \n",
    "This subgroup is the normaliser of a 13B-pure $13^2$ in the Monster.\n",
    "We claim this particular instance normalises $\\langle c, c_2 \\rangle$."
   ]
  },
  {
   "cell_type": "code",
   "execution_count": 319,
   "id": "052a5e35",
   "metadata": {},
   "outputs": [],
   "source": [
    "L_E = (c, c2)"
   ]
  },
  {
   "cell_type": "markdown",
   "id": "aed22745",
   "metadata": {},
   "source": [
    "Firstly, verify $c, c_2$ are commuting elements that generate a group of order $13^2 = 169$\n",
    "in which all non-trivial elements are 13B; since it was shown in the proof of [Theorem 2.25](#norm13B)\n",
    "that $c$ is in 13B and $c, c_2$ are commuting elements which generate a group of the desired\n",
    "order, it only remains to check that all non-trivial elements of $\\langle c, c_2 \\rangle$\n",
    "are conjugate to $c$. Furthermore, noting that all powers of 13B elements in $\\MM$\n",
    "other than the identity are themselves 13B elements, it suffices to conjugate $c$\n",
    "to a generator of each of the other thirteen cyclic subgroups of order 13 in $\\langle c, c_2 \\rangle$.\n",
    "A set of generators and of conjugating elements is as follows."
   ]
  },
  {
   "cell_type": "code",
   "execution_count": 320,
   "id": "7de52a00",
   "metadata": {},
   "outputs": [
    {
     "data": {
      "text/plain": [
       "True"
      ]
     },
     "execution_count": 320,
     "metadata": {},
     "output_type": "execute_result"
    }
   ],
   "source": [
    "cyclic_gens = [c2] + [c*c2**i for i in range(1, 13)]\n",
    "p2 = (x2**3).reduce()\n",
    "conjugators = [p2] + [p2*x1**(12*i + 13)*p2 for i in range(1, 13)]\n",
    "all([c**conjugators[i] == cyclic_gens[i] for i in range(len(cyclic_gens))])"
   ]
  },
  {
   "cell_type": "markdown",
   "id": "53811d99",
   "metadata": {},
   "source": [
    "With that settled, show the claimed generators belong to the normaliser of $\\langle c, c2 \\rangle$."
   ]
  },
  {
   "cell_type": "code",
   "execution_count": 321,
   "id": "8145f9d2",
   "metadata": {},
   "outputs": [
    {
     "data": {
      "text/plain": [
       "True"
      ]
     },
     "execution_count": 321,
     "metadata": {},
     "output_type": "execute_result"
    }
   ],
   "source": [
    "# c and c2 clearly normalise the group they generate\n",
    "map_13_2 = map_to_vectors(L_E, 13)\n",
    "check_normalise(L_E, (x1, x2, x4), group_set=map_13_2)"
   ]
  },
  {
   "cell_type": "markdown",
   "id": "edc07626",
   "metadata": {},
   "source": [
    "As for generating the whole normaliser, the elements of the abelian normal subgroup\n",
    "$\\langle c, c_2 \\rangle$ clearly act trivially on that subgroup. It thus suffices\n",
    "to show $\\langle x_1, x_2, x_4 \\rangle$ generates $\\left| \\lins{2}{13}{:}4 \\right|\n",
    "    = 4 \\left( 13^2 - 1 \\right) \\cdot 13 = 8736$ actions on this subgroup:"
   ]
  },
  {
   "cell_type": "code",
   "execution_count": 322,
   "id": "02ca892c",
   "metadata": {},
   "outputs": [
    {
     "data": {
      "text/plain": [
       "8736"
      ]
     },
     "execution_count": 322,
     "metadata": {},
     "output_type": "execute_result"
    }
   ],
   "source": [
    "size_image((x1, x2, x4), map_13_2, basis=L_E)"
   ]
  },
  {
   "cell_type": "markdown",
   "id": "f16a0e4d",
   "metadata": {},
   "source": [
    "## $41{:}40$ <a id=\"norm41\"></a>\n",
    "Generators are given by"
   ]
  },
  {
   "cell_type": "code",
   "execution_count": 323,
   "id": "e9815650",
   "metadata": {},
   "outputs": [],
   "source": [
    "g41 = MM(\"M<y_466h*x_84bh*d_28ch*p_201168515*l_2*p_1943040*l_2*p_21873173*l_2*t_2*l_2*p_1457280*l_1*p_11665457*l_2*t_2*l_2*p_2787840*l_2*p_33415298*l_2*t_2*l_2*p_2830080*l_2*p_12105277*t_1*l_2*p_2597760*l_1*p_43161937*t_1*l_1*p_2027520*l_1*p_974592*t_1*l_2*p_2830080*l_2*p_42710796>\")\n",
    "h41 = MM(\"M<y_76h*x_1bfbh*d_3dh*p_76771257*l_1*p_1499520*l_2*p_21929801*l_1*t_1*l_2*p_2344320*l_2*p_11666240*l_1*t_1*l_2*p_2597760*l_1*p_12545584*l_1*t_1*l_2*p_1900800*l_2*p_90439*t_1*l_2*p_1943040*l_2*p_42714548*t_2*l_2*p_48829440*l_2*p_86972352*t_2*l_2*p_2597760*l_1*p_43161957>\")\n",
    "L_N = (g41, h41)"
   ]
  },
  {
   "cell_type": "markdown",
   "id": "909d2284",
   "metadata": {},
   "source": [
    "This maximal subgroup is the normaliser for the single class of elements of order 41 in $\\MM$.\n",
    "The verification is thus fairly straightforward:"
   ]
  },
  {
   "cell_type": "code",
   "execution_count": 324,
   "id": "f5b76b4a",
   "metadata": {},
   "outputs": [
    {
     "data": {
      "text/plain": [
       "41"
      ]
     },
     "execution_count": 324,
     "metadata": {},
     "output_type": "execute_result"
    }
   ],
   "source": [
    "L_E = [g41]\n",
    "\n",
    "g41.order()"
   ]
  },
  {
   "cell_type": "code",
   "execution_count": 325,
   "id": "3e1ae3ac",
   "metadata": {},
   "outputs": [
    {
     "data": {
      "text/plain": [
       "True"
      ]
     },
     "execution_count": 325,
     "metadata": {},
     "output_type": "execute_result"
    }
   ],
   "source": [
    "g41**h41 == g41**22"
   ]
  },
  {
   "cell_type": "markdown",
   "id": "305374e7",
   "metadata": {},
   "source": [
    "Noting that 22 is a primitive root modulo 41, we thus have all 40 conjugates of $g_{41}$ and the complete normaliser."
   ]
  },
  {
   "cell_type": "markdown",
   "id": "d754834f",
   "metadata": {},
   "source": [
    "# 2-local subgroups\n",
    "\n",
    "## $2 \\udot \\BB$ <a id=\"norm2A\"></a>\n",
    "The following proof is adapted from Dietrich, Lee, and Popiel.\n",
    "Parts of that work, including comments, have been copied **verbatim**;\n",
    "however, modifications have been made for technical and stylistic reasons,\n",
    "likely introducing any errors that occur.\n",
    "\n",
    "****\n",
    "\n",
    "*Standard* generators are"
   ]
  },
  {
   "cell_type": "code",
   "execution_count": 326,
   "id": "660c3e77",
   "metadata": {},
   "outputs": [],
   "source": [
    "a = MM(\"M<y_0bdh*x_133h*d_0b03h*p_122433352*l_1*p_71005440*l_2*p_220471680*l_2*t_2*l_2*p_60360960*l_1*p_232890288*l_2*t_1*l_2*p_59473920*l_2*p_241760688*l_1*t_1*l_1*p_13326720*l_2>\")\n",
    "b = MM(\"M<y_480h*x_15a9h*d_800h*p_55059691*l_1*p_71005440*l_1*p_199182768*t_1*l_1*p_59917440*l_1*p_242647728*l_1*t_1*l_1*p_49716480*l_1*p_240430080*l_1*t_1*l_2*p_15987840*l_2*t_1*l_2*p_141081600>\")\n",
    "L_N = (a, b)"
   ]
  },
  {
   "cell_type": "markdown",
   "id": "e5ca3428",
   "metadata": {},
   "source": [
    "The maximal subgroup $2 \\udot \\BB$ of $\\MM$ is the centraliser of an involution of class 2A.\n",
    "Our copy of this subgroup is the centraliser of the 'standard' 2A involution $y$ in mmgroup:"
   ]
  },
  {
   "cell_type": "code",
   "execution_count": 327,
   "id": "6e79aa21",
   "metadata": {},
   "outputs": [],
   "source": [
    "y = MM(\"M<d_200h>\")\n",
    "L_E = [y]"
   ]
  },
  {
   "cell_type": "markdown",
   "id": "1d1c2b3d",
   "metadata": {},
   "source": [
    "Confirm that $y$ is the standard 2A involution."
   ]
  },
  {
   "cell_type": "code",
   "execution_count": 328,
   "id": "27300eae",
   "metadata": {},
   "outputs": [
    {
     "data": {
      "text/plain": [
       "(1, M<1>)"
      ]
     },
     "execution_count": 328,
     "metadata": {},
     "output_type": "execute_result"
    }
   ],
   "source": [
    "y.conjugate_involution()"
   ]
  },
  {
   "cell_type": "markdown",
   "id": "281b447c",
   "metadata": {},
   "source": [
    "Show the elements $a$ and $b$ of $\\MM$ centralise $y$."
   ]
  },
  {
   "cell_type": "code",
   "execution_count": 329,
   "id": "8cb849fa",
   "metadata": {},
   "outputs": [
    {
     "data": {
      "text/plain": [
       "True"
      ]
     },
     "execution_count": 329,
     "metadata": {},
     "output_type": "execute_result"
    }
   ],
   "source": [
    "comm(y, a) == comm(y, b) == e"
   ]
  },
  {
   "cell_type": "markdown",
   "id": "ac2eb193",
   "metadata": {},
   "source": [
    "We claim that $a$ and $b$ are \"standard generators\" for $C_\\MM \\left( y \\right) \\cong 2 \\udot \\BB$.\n",
    "This means that $a$ and $b$ generate $C_\\MM \\left( y \\right)$ and satisfy the following properties:\n",
    "\n",
    "1. $a$ projects to the $\\BB$-class 2C,\n",
    "2. $b$ projects to the $\\BB$-class 3A,\n",
    "3. $ab$ projects to the $\\BB$-class 55A.\n",
    "4. $(ab)^3(ab^2)(ab)(ab^2)^2$ projects to an element of order $23$.\n",
    "\n",
    "We first show that $a$ and $b$ generate $C_\\MM \\left( y \\right)$. It suffices to exhibit\n",
    "an element of order $17$ and an element of order $31$ in $\\langle a, b \\rangle$,\n",
    "because no maximal subgroup of the quotient $\\BB$ of $2 \\udot \\BB$ contains elements of both orders.\n",
    "(For clarity, note they cannot generate $\\BB \\not\\le 2 \\udot \\BB$.)"
   ]
  },
  {
   "cell_type": "code",
   "execution_count": 330,
   "id": "c9e20530",
   "metadata": {},
   "outputs": [
    {
     "data": {
      "text/plain": [
       "(17, 31)"
      ]
     },
     "execution_count": 330,
     "metadata": {},
     "output_type": "execute_result"
    }
   ],
   "source": [
    "((a*b*a*b*a*b*a*b**2*a*b*a*b**2*a*b*a*b)**2).order(), (a*b*a*b*a*b*a*b**2*a*b*a*b**2).order()"
   ]
  },
  {
   "cell_type": "markdown",
   "id": "287e2e9d",
   "metadata": {},
   "source": [
    "It now remains to show that $a$ and $b$ satisfy conditions 1-4. \n",
    "\n",
    "Consider the following elements of $\\MM$, which have order $104$ and $78$, respectively, and centralise $y$."
   ]
  },
  {
   "cell_type": "code",
   "execution_count": 331,
   "id": "21b3c35e",
   "metadata": {},
   "outputs": [
    {
     "data": {
      "text/plain": [
       "True"
      ]
     },
     "execution_count": 331,
     "metadata": {},
     "output_type": "execute_result"
    }
   ],
   "source": [
    "g104 = MM(\"M<y_9dh*x_10cbh*d_0ab9h*p_185877467*l_2*p_50603520*l_1*p_210270720*l_1*t_2*l_2*p_70561920*l_2*p_181885440*l_2*t_1*l_2*p_69231360*l_2*p_168579888*l_1*t_2*l_1*p_4012800*l_1*t_1*l_2*p_119792640>\")\n",
    "g78 = MM(\"M<y_163h*x_1489h*d_0a93h*p_107838533*l_2*p_70118400*l_2*p_12439680*t_1*l_1*p_45281280*l_2*p_71871360*l_1*t_2*l_1*p_71005440*l_2*p_179667888*l_1*t_2*l_2*p_60804480*l_1*p_152169888>\")\n",
    "g104.order() == 104 and g78.order() == 78 and comm(y, g104) == comm(y, g78) == e"
   ]
  },
  {
   "cell_type": "markdown",
   "id": "d9a75a62",
   "metadata": {},
   "source": [
    "Now observe that $g_{104}^{26}=a$ and $g_{78}^{13}=b$. In particular, $\\left| a \\right|=4$ and $\\left| b \\right|=6$."
   ]
  },
  {
   "cell_type": "code",
   "execution_count": 332,
   "id": "b4db76f7",
   "metadata": {},
   "outputs": [
    {
     "data": {
      "text/plain": [
       "True"
      ]
     },
     "execution_count": 332,
     "metadata": {},
     "output_type": "execute_result"
    }
   ],
   "source": [
    "g104**26 == a and g78**13 == b and a.order() == 4 and b.order() == 6"
   ]
  },
  {
   "cell_type": "markdown",
   "id": "44002791",
   "metadata": {},
   "source": [
    "The GAP character table library indicates that \n",
    "- all elements of order $104$ in $2 \\udot \\BB$ power to $2 \\udot \\BB$-class 4A, and that the latter elements project to $\\BB$-class 2C; \n",
    "- all elements of order $78$ in $2 \\udot \\BB$ power to $2 \\udot \\BB$-class 6A, and that the latter elements project to $\\BB$-class 3A.\n",
    "\n",
    "Therefore, $a$ and $b$ lie in the $2 \\udot \\BB$-classes 4A and 6A and project to the $\\BB$-classes 2C and 3A, respectively. \n",
    "\n",
    "In particular, conditions 1 and 2 hold.\n",
    "\n",
    "All elements of order $55$ in $2 \\udot \\BB$ project to the $\\BB$-class 55A, so to check condition 3 it suffices to confirm that $ab$ has order $55$."
   ]
  },
  {
   "cell_type": "code",
   "execution_count": 333,
   "id": "6f0ffd40",
   "metadata": {},
   "outputs": [
    {
     "data": {
      "text/plain": [
       "True"
      ]
     },
     "execution_count": 333,
     "metadata": {},
     "output_type": "execute_result"
    }
   ],
   "source": [
    "(a*b).order() == 55"
   ]
  },
  {
   "cell_type": "markdown",
   "id": "713e7647",
   "metadata": {},
   "source": [
    "Finally, to check condition 4, it suffices to confirm that the 23rd power of $(ab)^3(ab^2)(ab)(ab^2)^2$ lies in $\\langle y \\rangle = \\left\\{ y, y^2 \\right\\}$."
   ]
  },
  {
   "cell_type": "code",
   "execution_count": 334,
   "id": "5cb6fd26",
   "metadata": {},
   "outputs": [
    {
     "data": {
      "text/plain": [
       "True"
      ]
     },
     "execution_count": 334,
     "metadata": {},
     "output_type": "execute_result"
    }
   ],
   "source": [
    "((a*b)**3*(a*b**2)*(a*b)*(a*b**2)**2)**23 in [y, y**2]"
   ]
  },
  {
   "cell_type": "markdown",
   "id": "9865e5f6",
   "metadata": {},
   "source": [
    "## $\\QStr \\udot \\CO$ <a id=\"norm2B\"></a>\n",
    "The following proof is adapted from Dietrich, Lee, and Popiel.\n",
    "Parts of that work, including comments, have been copied **verbatim**;\n",
    "however, modifications have been made for technical and stylistic reasons,\n",
    "likely introducing any errors that occur.\n",
    "\n",
    "****\n",
    "\n",
    "*Standard* generators for $\\GG = C_\\MM \\left( z \\right)$, an instance of the maximal subgroup\n",
    "$\\QStr \\udot \\CO$ of $\\MM$, are given by"
   ]
  },
  {
   "cell_type": "code",
   "execution_count": 335,
   "id": "2ac3f8ce",
   "metadata": {},
   "outputs": [],
   "source": [
    "a = MM(\"M<y_2feh*x_51h*d_6f2h*p_199553794*l_2*p_1900800*l_2*p_684120>\")\n",
    "b = MM(\"M<y_32bh*x_0e4h*d_30fh*p_81928987*l_2*p_2880*l_1*p_21312*l_1*p_10455360>\")\n",
    "L_N = (a, b)\n",
    "\n",
    "L_E = [z]"
   ]
  },
  {
   "cell_type": "markdown",
   "id": "c786fc70",
   "metadata": {},
   "source": [
    "Verify $z$ is a 2B involution for certainty:"
   ]
  },
  {
   "cell_type": "code",
   "execution_count": 336,
   "id": "39a14977",
   "metadata": {},
   "outputs": [
    {
     "data": {
      "text/plain": [
       "(2, M<1>)"
      ]
     },
     "execution_count": 336,
     "metadata": {},
     "output_type": "execute_result"
    }
   ],
   "source": [
    "z.conjugate_involution()"
   ]
  },
  {
   "cell_type": "markdown",
   "id": "bd4295ef",
   "metadata": {},
   "source": [
    "Now show that $a, b$ satisfy the conditions described in Section 2.5 of Dietrich et al. for standard generators of $\\GG$."
   ]
  },
  {
   "cell_type": "code",
   "execution_count": 337,
   "id": "e968db37",
   "metadata": {},
   "outputs": [
    {
     "data": {
      "text/plain": [
       "True"
      ]
     },
     "execution_count": 337,
     "metadata": {},
     "output_type": "execute_result"
    }
   ],
   "source": [
    "comm(a**2, b**3) == z"
   ]
  },
  {
   "cell_type": "code",
   "execution_count": 338,
   "id": "76b25dde",
   "metadata": {},
   "outputs": [
    {
     "data": {
      "text/plain": [
       "True"
      ]
     },
     "execution_count": 338,
     "metadata": {},
     "output_type": "execute_result"
    }
   ],
   "source": [
    "a*z == z*a"
   ]
  },
  {
   "cell_type": "code",
   "execution_count": 339,
   "id": "8efb4346",
   "metadata": {},
   "outputs": [
    {
     "data": {
      "text/plain": [
       "True"
      ]
     },
     "execution_count": 339,
     "metadata": {},
     "output_type": "execute_result"
    }
   ],
   "source": [
    "b*z == z*b"
   ]
  },
  {
   "cell_type": "code",
   "execution_count": 340,
   "id": "5c1eb1a1",
   "metadata": {},
   "outputs": [
    {
     "data": {
      "text/plain": [
       "True"
      ]
     },
     "execution_count": 340,
     "metadata": {},
     "output_type": "execute_result"
    }
   ],
   "source": [
    "# check membership in G_x0\n",
    "a.in_G_x0() and b.in_G_x0()"
   ]
  },
  {
   "cell_type": "code",
   "execution_count": 341,
   "id": "5d39c296",
   "metadata": {},
   "outputs": [
    {
     "data": {
      "text/plain": [
       "4"
      ]
     },
     "execution_count": 341,
     "metadata": {},
     "output_type": "execute_result"
    }
   ],
   "source": [
    "# check orders\n",
    "a.order()"
   ]
  },
  {
   "cell_type": "code",
   "execution_count": 342,
   "id": "025c3c11",
   "metadata": {},
   "outputs": [
    {
     "data": {
      "text/plain": [
       "6"
      ]
     },
     "execution_count": 342,
     "metadata": {},
     "output_type": "execute_result"
    }
   ],
   "source": [
    "b.order()"
   ]
  },
  {
   "cell_type": "code",
   "execution_count": 343,
   "id": "298049bd",
   "metadata": {},
   "outputs": [
    {
     "data": {
      "text/plain": [
       "-13"
      ]
     },
     "execution_count": 343,
     "metadata": {},
     "output_type": "execute_result"
    }
   ],
   "source": [
    "# check G_x0-classes\n",
    "a.chi_G_x0()[1]"
   ]
  },
  {
   "cell_type": "code",
   "execution_count": 344,
   "id": "9e425cba",
   "metadata": {},
   "outputs": [
    {
     "data": {
      "text/plain": [
       "2"
      ]
     },
     "execution_count": 344,
     "metadata": {},
     "output_type": "execute_result"
    }
   ],
   "source": [
    "b.chi_G_x0()[1]"
   ]
  },
  {
   "cell_type": "code",
   "execution_count": 345,
   "id": "77c6e166",
   "metadata": {},
   "outputs": [
    {
     "data": {
      "text/plain": [
       "-3"
      ]
     },
     "execution_count": 345,
     "metadata": {},
     "output_type": "execute_result"
    }
   ],
   "source": [
    "b.chi_G_x0()[0]"
   ]
  },
  {
   "cell_type": "code",
   "execution_count": 346,
   "id": "0f315402",
   "metadata": {},
   "outputs": [
    {
     "data": {
      "text/plain": [
       "40"
      ]
     },
     "execution_count": 346,
     "metadata": {},
     "output_type": "execute_result"
    }
   ],
   "source": [
    "# check product in right class\n",
    "(a*b).order()"
   ]
  },
  {
   "cell_type": "code",
   "execution_count": 347,
   "id": "21f77d68",
   "metadata": {},
   "outputs": [
    {
     "data": {
      "text/plain": [
       "0"
      ]
     },
     "execution_count": 347,
     "metadata": {},
     "output_type": "execute_result"
    }
   ],
   "source": [
    "(1/(a*b)).chi_G_x0()[1]"
   ]
  },
  {
   "cell_type": "code",
   "execution_count": 348,
   "id": "7d6ff830",
   "metadata": {},
   "outputs": [
    {
     "data": {
      "text/plain": [
       "0"
      ]
     },
     "execution_count": 348,
     "metadata": {},
     "output_type": "execute_result"
    }
   ],
   "source": [
    "(1/(a*b)).chi_G_x0()[2]"
   ]
  },
  {
   "cell_type": "code",
   "execution_count": 349,
   "id": "bd8e307f",
   "metadata": {},
   "outputs": [
    {
     "data": {
      "text/plain": [
       "False"
      ]
     },
     "execution_count": 349,
     "metadata": {},
     "output_type": "execute_result"
    }
   ],
   "source": [
    "# check that element powers are not central in the subgroup generated by a and b\n",
    "(a**2)*b == b*(a**2)"
   ]
  },
  {
   "cell_type": "code",
   "execution_count": 350,
   "id": "f02b36fd",
   "metadata": {},
   "outputs": [
    {
     "data": {
      "text/plain": [
       "False"
      ]
     },
     "execution_count": 350,
     "metadata": {},
     "output_type": "execute_result"
    }
   ],
   "source": [
    "(b**2)*a == a*(b**2)"
   ]
  },
  {
   "cell_type": "code",
   "execution_count": 351,
   "id": "39e4f6eb",
   "metadata": {},
   "outputs": [
    {
     "data": {
      "text/plain": [
       "False"
      ]
     },
     "execution_count": 351,
     "metadata": {},
     "output_type": "execute_result"
    }
   ],
   "source": [
    "(b**3)*a == a*(b**3)"
   ]
  },
  {
   "cell_type": "code",
   "execution_count": 352,
   "id": "4f3874df",
   "metadata": {},
   "outputs": [
    {
     "data": {
      "text/plain": [
       "0"
      ]
     },
     "execution_count": 352,
     "metadata": {},
     "output_type": "execute_result"
    }
   ],
   "source": [
    "# check that a*b*a*(b^2) has order 6 in the quotient\n",
    "# choices are 6 or 21, so if the latter, returns False\n",
    "(a*b*a*b**2).order() % 6"
   ]
  },
  {
   "cell_type": "code",
   "execution_count": 353,
   "id": "a5f0103a",
   "metadata": {},
   "outputs": [
    {
     "data": {
      "text/plain": [
       "(25, True)"
      ]
     },
     "execution_count": 353,
     "metadata": {},
     "output_type": "execute_result"
    }
   ],
   "source": [
    "# check that we can generate Q: construct j0,..,j23\n",
    "dim_q([(a**2)**((a*b)**i) for i in range(24)])"
   ]
  },
  {
   "cell_type": "markdown",
   "id": "6a472253",
   "metadata": {},
   "source": [
    "## $2^2 \\udot {}^2 \\lie{E}{6}{2} {:} \\sym{3}$ <a id=\"norm2A2\"></a>\n",
    "Generators are given by"
   ]
  },
  {
   "cell_type": "code",
   "execution_count": 354,
   "id": "9785ac21",
   "metadata": {},
   "outputs": [],
   "source": [
    "g2 = MM(\"M<y_3a5h*x_153ch*d_47h*p_154067048*l_2*p_1943040*l_2*p_33454549*l_1*t_2*l_2*p_60360960*l_2*p_212044848*l_2*t_1*l_1*p_59917440*l_2*p_169466928*l_1*t_2*l_1*p_4456320*l_2>\")\n",
    "h2 = MM(\"M<y_0b5h*x_0b3ah*d_735h*p_192529580*l_2*p_1920*l_2*p_23232*l_2*p_535680*t_2*l_2*p_70561920*l_1*p_193416960*l_2*t_2*l_1*p_60804480*l_2*p_169910448*l_1*t_2*l_1*p_4456320*l_2>\")\n",
    "L_N = (g2, h2)"
   ]
  },
  {
   "cell_type": "markdown",
   "id": "917e26f7",
   "metadata": {},
   "source": [
    "This is the normaliser of a 2A-pure $2^2$ in the Monster. We claim this particular instance normalises\n",
    "the group $\\tilde{E}$ generated by"
   ]
  },
  {
   "cell_type": "code",
   "execution_count": 355,
   "id": "8198c698",
   "metadata": {},
   "outputs": [],
   "source": [
    "y = MM(\"M<d_200h>\")\n",
    "y1 = y**g2\n",
    "L_E = [y, y1]"
   ]
  },
  {
   "cell_type": "markdown",
   "id": "8d129c77",
   "metadata": {},
   "source": [
    "Note that $y$ is as in [the argument for the 2A normaliser](#norm2A).  \n",
    "Firstly, verify $L_E$ generates a 2A-pure $2^2$:"
   ]
  },
  {
   "cell_type": "code",
   "execution_count": 356,
   "id": "f105020d",
   "metadata": {},
   "outputs": [
    {
     "data": {
      "text/plain": [
       "True"
      ]
     },
     "execution_count": 356,
     "metadata": {},
     "output_type": "execute_result"
    }
   ],
   "source": [
    "y2 = y*y1\n",
    "y2 == y1*y"
   ]
  },
  {
   "cell_type": "code",
   "execution_count": 357,
   "id": "50345788",
   "metadata": {},
   "outputs": [
    {
     "data": {
      "text/plain": [
       "True"
      ]
     },
     "execution_count": 357,
     "metadata": {},
     "output_type": "execute_result"
    }
   ],
   "source": [
    "y2 == y1**g2"
   ]
  },
  {
   "cell_type": "markdown",
   "id": "ee515814",
   "metadata": {},
   "source": [
    "Since $y_2 = yy_1$ and $y_1$ are conjugates of the 2A involution $y$\n",
    "such that $y$, $y_1$ commute, it follows that $\\tilde{E} = \\langle y, y_1 \\rangle$\n",
    "is 2A-pure Klein four-group.\n",
    "\n",
    "With that settled, show the claimed generators belong to the normaliser of $\\tilde{E}$."
   ]
  },
  {
   "cell_type": "code",
   "execution_count": 358,
   "id": "59a3b71f",
   "metadata": {},
   "outputs": [
    {
     "data": {
      "text/plain": [
       "True"
      ]
     },
     "execution_count": 358,
     "metadata": {},
     "output_type": "execute_result"
    }
   ],
   "source": [
    "check_normalise(L_E, L_N)"
   ]
  },
  {
   "cell_type": "markdown",
   "id": "8138d180",
   "metadata": {},
   "source": [
    "As for showing the entire normaliser is generated, first show the action of\n",
    "$\\langle g_2, h_2 \\rangle$ on $\\tilde{E}$ generates\n",
    "$6 = \\left| \\sym{3} \\right|$ permutations,\n",
    "\n",
    "It suffices to test the images of generators of $\\tilde{E}$ under the action,\n",
    "as the conjugation action is an automorphism on $\\tilde{E}$."
   ]
  },
  {
   "cell_type": "code",
   "execution_count": 359,
   "id": "48545c62",
   "metadata": {},
   "outputs": [
    {
     "data": {
      "text/plain": [
       "6"
      ]
     },
     "execution_count": 359,
     "metadata": {},
     "output_type": "execute_result"
    }
   ],
   "source": [
    "act_on_yy1 = lambda x: (as_int(y**x), as_int(y1**x))\n",
    "size_image(L_N, act_on_yy1)"
   ]
  },
  {
   "cell_type": "markdown",
   "id": "020c64e1",
   "metadata": {},
   "source": [
    "This is all possible permutations of $\\tilde{E}$ under conjugation,\n",
    "so that it only remains to prove that\n",
    "$C_\\MM \\left( \\tilde{E} \\right) < \\langle g_2, h_2 \\rangle$.\n",
    "\n",
    "This is a group with structure $2^2.{}^2 \\text{E}_6 \\left( 2 \\right)$.\n",
    "A 2023 paper by Craven shows that ${}^2 \\text{E}_6 \\left( 2 \\right)$\n",
    "has no subgroups with order divisible by both 13 and 19, so start\n",
    "by exhibiting elements\n",
    "in $C_\\MM \\left( \\tilde{E} \\right) \\cap \\langle g_2, h_2 \\rangle$ which project\n",
    "to elements of these orders:"
   ]
  },
  {
   "cell_type": "code",
   "execution_count": 360,
   "id": "7a36e39a",
   "metadata": {},
   "outputs": [
    {
     "data": {
      "text/plain": [
       "True"
      ]
     },
     "execution_count": 360,
     "metadata": {},
     "output_type": "execute_result"
    }
   ],
   "source": [
    "a = h2**2*g2**9\n",
    "b = a*g2**3\n",
    "\n",
    "a*y == y*a"
   ]
  },
  {
   "cell_type": "code",
   "execution_count": 361,
   "id": "a3fa5d2f",
   "metadata": {},
   "outputs": [
    {
     "data": {
      "text/plain": [
       "True"
      ]
     },
     "execution_count": 361,
     "metadata": {},
     "output_type": "execute_result"
    }
   ],
   "source": [
    "b*y == y*b"
   ]
  },
  {
   "cell_type": "code",
   "execution_count": 362,
   "id": "7dbdfabe",
   "metadata": {},
   "outputs": [
    {
     "data": {
      "text/plain": [
       "True"
      ]
     },
     "execution_count": 362,
     "metadata": {},
     "output_type": "execute_result"
    }
   ],
   "source": [
    "a*y1 == y1*a"
   ]
  },
  {
   "cell_type": "code",
   "execution_count": 363,
   "id": "2655faaa",
   "metadata": {},
   "outputs": [
    {
     "data": {
      "text/plain": [
       "True"
      ]
     },
     "execution_count": 363,
     "metadata": {},
     "output_type": "execute_result"
    }
   ],
   "source": [
    "b*y1 == y1*b"
   ]
  },
  {
   "cell_type": "code",
   "execution_count": 364,
   "id": "254fc2a9",
   "metadata": {},
   "outputs": [
    {
     "data": {
      "text/plain": [
       "13"
      ]
     },
     "execution_count": 364,
     "metadata": {},
     "output_type": "execute_result"
    }
   ],
   "source": [
    "(a**2).order()"
   ]
  },
  {
   "cell_type": "code",
   "execution_count": 365,
   "id": "0edbd576",
   "metadata": {},
   "outputs": [
    {
     "data": {
      "text/plain": [
       "19"
      ]
     },
     "execution_count": 365,
     "metadata": {},
     "output_type": "execute_result"
    }
   ],
   "source": [
    "(b**2).order()"
   ]
  },
  {
   "cell_type": "code",
   "execution_count": 366,
   "id": "f31734c5",
   "metadata": {},
   "outputs": [
    {
     "data": {
      "text/plain": [
       "False"
      ]
     },
     "execution_count": 366,
     "metadata": {},
     "output_type": "execute_result"
    }
   ],
   "source": [
    "a**2 in (y, y1, y2)"
   ]
  },
  {
   "cell_type": "code",
   "execution_count": 367,
   "id": "dcf6f410",
   "metadata": {},
   "outputs": [
    {
     "data": {
      "text/plain": [
       "False"
      ]
     },
     "execution_count": 367,
     "metadata": {},
     "output_type": "execute_result"
    }
   ],
   "source": [
    "b**2 in (y, y1, y2)"
   ]
  },
  {
   "cell_type": "markdown",
   "id": "c5ebf89e",
   "metadata": {},
   "source": [
    "Since 13 and 19 are coprime to $2^2$, $a^2$ and $b^2$ are the desired elements.\n",
    "To finish, it must then be proven that the $\\tilde{E}$ (the $2^2$ group) lies in\n",
    "$\\langle g_2, h_2 \\rangle$. Noting that $e$ is in this group trivially\n",
    "and that $y_1^{\\langle h_2 \\rangle} = \\left\\{ y, y_1, y_2 \\right\\}$,\n",
    "it in fact suffices to demonstrate $y_1 \\in \\langle g_2, h_2 \\rangle$."
   ]
  },
  {
   "cell_type": "code",
   "execution_count": 368,
   "id": "05f53608",
   "metadata": {},
   "outputs": [
    {
     "data": {
      "text/plain": [
       "True"
      ]
     },
     "execution_count": 368,
     "metadata": {},
     "output_type": "execute_result"
    }
   ],
   "source": [
    "(h2*g2)**14 == y1"
   ]
  },
  {
   "cell_type": "markdown",
   "id": "e2ccbf8b",
   "metadata": {},
   "source": [
    "## $2^{2+11+22} \\udot \\left( \\MT{24} \\times \\sym{3} \\right)$ <a id=\"norm2B2\"></a>\n",
    "Generators are given by"
   ]
  },
  {
   "cell_type": "code",
   "execution_count": 369,
   "id": "2c2fa577",
   "metadata": {},
   "outputs": [],
   "source": [
    "g2b = MM(\"M<y_7b9h*x_12b1h*d_0d7bh*p_18553667*t_1>\")\n",
    "h2b = MM(\"M<y_7c2h*x_183h*d_5ddh*p_123465560*t_1>\")\n",
    "L_N = (g2b, h2b)"
   ]
  },
  {
   "cell_type": "markdown",
   "id": "0e600af9",
   "metadata": {},
   "source": [
    "This is the normaliser of a singular $2^2$ in the Monster. We claim this particular instance normalises\n",
    "the group $\\tilde{E}$ generated by"
   ]
  },
  {
   "cell_type": "code",
   "execution_count": 370,
   "id": "3dffaec6",
   "metadata": {},
   "outputs": [],
   "source": [
    "z1 = z**MM(\"M<t_1>\")\n",
    "L_E = (z, z1)"
   ]
  },
  {
   "cell_type": "markdown",
   "id": "4bf4c5e3",
   "metadata": {},
   "source": [
    "Note that $z$ is the standard 2B involution in mmgroup as usual.  \n",
    "Firstly, verify $L_N$ generates a singular $2^2$ using `check_singular`:"
   ]
  },
  {
   "cell_type": "code",
   "execution_count": 371,
   "id": "fe2bb0d4",
   "metadata": {},
   "outputs": [],
   "source": [
    "E, E_as_int = check_singular(L_E)"
   ]
  },
  {
   "cell_type": "markdown",
   "id": "73bfd46a",
   "metadata": {},
   "source": [
    "With that settled, show the claimed generators belong to the normaliser of $\\tilde{E}$."
   ]
  },
  {
   "cell_type": "code",
   "execution_count": 372,
   "id": "db390719",
   "metadata": {},
   "outputs": [
    {
     "data": {
      "text/plain": [
       "True"
      ]
     },
     "execution_count": 372,
     "metadata": {},
     "output_type": "execute_result"
    }
   ],
   "source": [
    "check_normalise(L_E, L_N, group_set=E_as_int)"
   ]
  },
  {
   "cell_type": "markdown",
   "id": "058c8993",
   "metadata": {},
   "source": [
    "As for showing the entire normaliser is generated,\n",
    "consider four families of elements in $\\nm{\\tilde{E}}$:\n",
    "* the generators $\\left( g_{2b}, h_{2b} \\right)$, which (in particular) generate the $\\sym{3}$;"
   ]
  },
  {
   "cell_type": "code",
   "execution_count": 373,
   "id": "ceb539f5",
   "metadata": {},
   "outputs": [],
   "source": [
    "F1 = L_N"
   ]
  },
  {
   "cell_type": "markdown",
   "id": "c6a8c23a",
   "metadata": {},
   "source": [
    "* generators of the $\\MT{24}$;"
   ]
  },
  {
   "cell_type": "code",
   "execution_count": 374,
   "id": "fa9ffc4f",
   "metadata": {},
   "outputs": [],
   "source": [
    "c1 = g2b**2\n",
    "c2 = h2b**3\n",
    "F2 = (c1, c2)"
   ]
  },
  {
   "cell_type": "markdown",
   "id": "ad9d61fc",
   "metadata": {},
   "source": [
    "* 11 generators of the projection of $\\cm{\\tilde{E}} < \\GG$ into $\\CO$;"
   ]
  },
  {
   "cell_type": "code",
   "execution_count": 375,
   "id": "625ef0a9",
   "metadata": {},
   "outputs": [],
   "source": [
    "F3 = ((c1*c2**7)**15, (c1*c2**14)**15, (c1*c2**19)**11, (c1**2*c2**7)**15, (c1**2*c2**9)**14, (c1**2*c2**11)**12, (c1**2*c2**14)**15, (c1**2*c2**16)**11, (c1**2*c2**17)**14, (c1**2*c2**18)**12, (c1**2*c2**21)**15)"
   ]
  },
  {
   "cell_type": "markdown",
   "id": "47ce43d2",
   "metadata": {},
   "source": [
    "* and 24 generators of $\\QQ \\cap C_\\MM \\left( \\tilde{E} \\right)$."
   ]
  },
  {
   "cell_type": "code",
   "execution_count": 376,
   "id": "fa4007c5",
   "metadata": {},
   "outputs": [],
   "source": [
    "F4 = ((c1*c2)**12, (c1*c2**2)**10, (c1*c2**3)**10, (c1*c2**5)**12, (c1*c2**7)**30, (c1*c2**9)**11, (c1*c2**11)**15, (c1*c2**12)**12, (c1*c2**15)**12, (c1*c2**17)**14, (c1**2*c2)**15, (c1**2*c2**3)**10, (c1**2*c2**6)**8, (c1**2*c2**8)**10, (c1**2*c2**10)**12, (c1**2*c2**19)**8, (c1**2*c2**20)**12, (c1**3*c2)**12, (c1**3*c2**2)**11, (c1**3*c2**8)**15, (c1**3*c2**14)**14, (c1**3*c2**16)**15, (c1**3*c2**21)**10, (c1**4*c2**21)**15)"
   ]
  },
  {
   "cell_type": "markdown",
   "id": "7c38153a",
   "metadata": {},
   "source": [
    "First, show the action of $\\langle g_{2b}, h_{2b} \\rangle$ on $\\tilde{E}$\n",
    "generates $6 = \\left| \\sym{3} \\right|$ permutations, while members of\n",
    "the other 3 families act trivially.\n",
    "\n",
    "It suffices to test the images of generators of $\\tilde{E}$ under the action,\n",
    "as the conjugation action is an automorphism on $\\tilde{E}$."
   ]
  },
  {
   "cell_type": "code",
   "execution_count": 377,
   "id": "fda869cc",
   "metadata": {},
   "outputs": [
    {
     "data": {
      "text/plain": [
       "6"
      ]
     },
     "execution_count": 377,
     "metadata": {},
     "output_type": "execute_result"
    }
   ],
   "source": [
    "act_on_zz1 = lambda x: (as_int(z**x), as_int(z1**x))\n",
    "size_image(L_N, act_on_zz1)"
   ]
  },
  {
   "cell_type": "code",
   "execution_count": 378,
   "id": "5faa2d7c",
   "metadata": {},
   "outputs": [
    {
     "data": {
      "text/plain": [
       "1"
      ]
     },
     "execution_count": 378,
     "metadata": {},
     "output_type": "execute_result"
    }
   ],
   "source": [
    "size_image((*F2, *F3, *F4), act_on_zz1)"
   ]
  },
  {
   "cell_type": "markdown",
   "id": "0fd2ac83",
   "metadata": {},
   "source": [
    "Now show that the action of $\\langle \\mathcal{F}_2 \\rangle$ on $\\QQ_U/U$ generates $\\MT{24}$,\n",
    "while members of the other 2 following families act trivially.\n",
    "\n",
    "Firstly, exhibit a basis for $\\QQ_{\\tilde{E}}$. (Note that the first 7 elements\n",
    "arise in various proofs below.)"
   ]
  },
  {
   "cell_type": "code",
   "execution_count": 379,
   "id": "a91c49de",
   "metadata": {},
   "outputs": [
    {
     "data": {
      "text/plain": [
       "True"
      ]
     },
     "execution_count": 379,
     "metadata": {},
     "output_type": "execute_result"
    }
   ],
   "source": [
    "qe_basis = (\n",
    "    z, z1,\n",
    "    MM(\"M<d_684h>\"),\n",
    "    MM(\"M<d_65bh>\"),\n",
    "    MM(\"M<d_19h>\"),\n",
    "    MM(\"M<d_5a1h>\"),\n",
    "    MM(\"M<d_675h>\"),\n",
    "    MM(\"M<d_4b3h>\"),\n",
    "    MM(\"M<d_179h>\"),\n",
    "    MM(\"M<d_7bfh>\"),\n",
    "    MM(\"M<d_0ah>\"),\n",
    "    MM(\"M<d_4d0h>\"),\n",
    "    MM(\"M<d_6ah>\")\n",
    ")\n",
    "\n",
    "# Verification\n",
    "conj = (e, MM(\"M<t_2>\"))\n",
    "all(g**x == z for g, x in zip(L_E, conj))"
   ]
  },
  {
   "cell_type": "code",
   "execution_count": 380,
   "id": "35f0f46a",
   "metadata": {},
   "outputs": [
    {
     "data": {
      "text/plain": [
       "True"
      ]
     },
     "execution_count": 380,
     "metadata": {},
     "output_type": "execute_result"
    }
   ],
   "source": [
    "all((g**x).in_Q_x0() for g in qe_basis for x in conj)"
   ]
  },
  {
   "cell_type": "code",
   "execution_count": 381,
   "id": "517632a8",
   "metadata": {},
   "outputs": [
    {
     "data": {
      "text/plain": [
       "(13, True)"
      ]
     },
     "execution_count": 381,
     "metadata": {},
     "output_type": "execute_result"
    }
   ],
   "source": [
    "dim_q(qe_basis)"
   ]
  },
  {
   "cell_type": "markdown",
   "id": "307b12ab",
   "metadata": {},
   "source": [
    "Prove that the elements of $\\mathcal{F}_3$ and $\\mathcal{F}_4$ act trivially\n",
    "on $\\QQ_{\\tilde{E}}/\\tilde{E}$. Note that, in order to work\n",
    "modulo $\\tilde{E} \\cong 2^2$, we set `index=2` in `map_to_vectors`;\n",
    "$\\QQ_{\\tilde{E}}$ is elementary abelian by Lemma 4.2 of\n",
    "Meierfrankenfeld and Shpectorov."
   ]
  },
  {
   "cell_type": "code",
   "execution_count": 382,
   "id": "92406ffe",
   "metadata": {},
   "outputs": [
    {
     "data": {
      "text/plain": [
       "1"
      ]
     },
     "execution_count": 382,
     "metadata": {},
     "output_type": "execute_result"
    }
   ],
   "source": [
    "act_on_qe_e = map_to_vectors(qe_basis, index=2)\n",
    "size_image((*F3, *F4), act_on_qe_e, basis=qe_basis[2:])"
   ]
  },
  {
   "cell_type": "markdown",
   "id": "573ae959",
   "metadata": {},
   "source": [
    "As far as showing the factor $\\MT{24}$ is generated by $\\langle \\mathcal{F}_2 \\rangle$,\n",
    "it suffices to exhibit elements with actions of order 5, 23, and 21; none of\n",
    "the three maximal subgroups of $\\MT{24}$ with order divisible by both 5 and 23\n",
    "has elements of order 21."
   ]
  },
  {
   "cell_type": "code",
   "execution_count": 383,
   "id": "700eb4c2",
   "metadata": {},
   "outputs": [
    {
     "data": {
      "text/plain": [
       "5"
      ]
     },
     "execution_count": 383,
     "metadata": {},
     "output_type": "execute_result"
    }
   ],
   "source": [
    "# F3 = (c1, c2)\n",
    "size_image([c1**3], act_on_qe_e, basis=qe_basis[2:])"
   ]
  },
  {
   "cell_type": "code",
   "execution_count": 384,
   "id": "bf2cb994",
   "metadata": {},
   "outputs": [
    {
     "data": {
      "text/plain": [
       "23"
      ]
     },
     "execution_count": 384,
     "metadata": {},
     "output_type": "execute_result"
    }
   ],
   "source": [
    "size_image([c2], act_on_qe_e, basis=qe_basis[2:])"
   ]
  },
  {
   "cell_type": "code",
   "execution_count": 385,
   "id": "f3f78fc3",
   "metadata": {},
   "outputs": [
    {
     "data": {
      "text/plain": [
       "21"
      ]
     },
     "execution_count": 385,
     "metadata": {},
     "output_type": "execute_result"
    }
   ],
   "source": [
    "size_image([(c1*c2**6)**2], act_on_qe_e, basis=qe_basis[2:])"
   ]
  },
  {
   "cell_type": "markdown",
   "id": "3ea04b8c",
   "metadata": {},
   "source": [
    "Now, verifying that all elements of $\\mathcal{F}_3$ and\n",
    "$\\mathcal{F}_4$ do indeed lie in $\\GG = \\QQ.\\CO$ ..."
   ]
  },
  {
   "cell_type": "code",
   "execution_count": 386,
   "id": "ba58c906",
   "metadata": {},
   "outputs": [
    {
     "data": {
      "text/plain": [
       "True"
      ]
     },
     "execution_count": 386,
     "metadata": {},
     "output_type": "execute_result"
    }
   ],
   "source": [
    "all(x.in_G_x0() for x in (*F3, *F4))"
   ]
  },
  {
   "cell_type": "markdown",
   "id": "3bb46ea6",
   "metadata": {},
   "source": [
    "show that $\\mathcal{F}_4$ generate $2^{11} = 2048$ cosets of $\\QQ$ in $\\GG$."
   ]
  },
  {
   "cell_type": "code",
   "execution_count": 387,
   "id": "21517b97",
   "metadata": {},
   "outputs": [
    {
     "data": {
      "text/plain": [
       "2048"
      ]
     },
     "execution_count": 387,
     "metadata": {},
     "output_type": "execute_result"
    }
   ],
   "source": [
    "size_image(F3, to_co1)"
   ]
  },
  {
   "cell_type": "markdown",
   "id": "980e5f40",
   "metadata": {},
   "source": [
    "Finally, verify that $\\mathcal{F}_4$ generates a subgroup of $\\QQ$\n",
    "with order $2^{24}$. Note the second element of the output is True, so that\n",
    "the result is trustworthy."
   ]
  },
  {
   "cell_type": "code",
   "execution_count": 388,
   "id": "154da17e",
   "metadata": {},
   "outputs": [
    {
     "data": {
      "text/plain": [
       "(24, True)"
      ]
     },
     "execution_count": 388,
     "metadata": {},
     "output_type": "execute_result"
    }
   ],
   "source": [
    "dim_q(F4)"
   ]
  },
  {
   "cell_type": "markdown",
   "id": "fdc9fb55",
   "metadata": {},
   "source": [
    "In summary, it is possible to find in $\\langle g_{2b}, h_{2b} \\rangle \\le \\nm{\\tilde{E}}$:\n",
    "* $2^{24}$ elements of $\\QQ$, all of which act trivially on $\\QQ_{\\tilde{E}}/\\tilde{E}$\n",
    "and $\\tilde{E}$;\n",
    "* $2^{11}$ elements of $\\GG = \\QQ.\\CO$ which lie in distinct cosets of $\\QQ$,\n",
    "all of which act trivially on $\\QQ_{\\tilde{E}}/\\tilde{E}$ and $\\tilde{E}$;\n",
    "* $\\left| \\MT{24} \\right|$ elements of $\\cm{\\tilde{E}}$ which act differently\n",
    "on $\\QQ_{\\tilde{E}}/\\tilde{E}$, all of which act trivially on $\\tilde{E}$; and\n",
    "* $6 = \\left| \\sym{3} \\right|$ elements which act differently on $\\tilde{E}$.\n",
    "\n",
    "It follows $\\left| \\langle g_{2b}, h_{2b} \\rangle \\right| \\ge 2^{24} \\cdot 2^{11} \\left| \\MT{24} \\right|\n",
    "\\left| \\sym{3} \\right| = \\left| 2^{2+11+22} \\udot \\left( \\MT{24} \\times \\sym{3} \\right) \\right|$,\n",
    "so that $\\langle g_{2b}, h_{2b} \\rangle = \\nm{\\tilde{E}}$."
   ]
  },
  {
   "cell_type": "markdown",
   "id": "ffe4db94",
   "metadata": {},
   "source": [
    "## $2^{3+6+12+18} \\udot \\left( \\psl{3}{2} \\times 3.\\sym{6} \\right)$ <a id=\"norm2B3\"></a>\n",
    "Generators are given by"
   ]
  },
  {
   "cell_type": "code",
   "execution_count": 389,
   "id": "7a498400",
   "metadata": {},
   "outputs": [],
   "source": [
    "g3 = MM(\"M<y_462h*x_611h*d_90fh*p_40550696*l_1*p_57699840*t_1>\")\n",
    "h3 = MM(\"M<y_2ebh*x_1317h*d_5cdh*p_216349744*t_1>\")\n",
    "L_N = (g3, h3)"
   ]
  },
  {
   "cell_type": "markdown",
   "id": "decfd07a",
   "metadata": {},
   "source": [
    "This is the normaliser of a singular $2^3$ in the Monster. We claim this particular instance normalises\n",
    "the group $\\tilde{E}$ generated by"
   ]
  },
  {
   "cell_type": "code",
   "execution_count": 390,
   "id": "23370fc7",
   "metadata": {},
   "outputs": [],
   "source": [
    "z1 = z**MM(\"M<t_1>\")\n",
    "w = MM(\"M<d_684h>\")\n",
    "L_E = (z, z1, w)"
   ]
  },
  {
   "cell_type": "markdown",
   "id": "fc215fd5",
   "metadata": {},
   "source": [
    "Note that $z, z_1$ are as in [Theorem 3.6](#norm2B2).  \n",
    "Firstly, verify $L_E$ generates a singular $2^3$ using `check_singular`:"
   ]
  },
  {
   "cell_type": "code",
   "execution_count": 391,
   "id": "95e2e113",
   "metadata": {},
   "outputs": [],
   "source": [
    "E, E_as_int = check_singular(L_E)"
   ]
  },
  {
   "cell_type": "markdown",
   "id": "1b34514a",
   "metadata": {},
   "source": [
    "With that settled, show the claimed generators belong to the normaliser of $\\tilde{E}$."
   ]
  },
  {
   "cell_type": "code",
   "execution_count": 392,
   "id": "1aae5540",
   "metadata": {},
   "outputs": [
    {
     "data": {
      "text/plain": [
       "True"
      ]
     },
     "execution_count": 392,
     "metadata": {},
     "output_type": "execute_result"
    }
   ],
   "source": [
    "check_normalise(L_E, L_N, group_set=E_as_int)"
   ]
  },
  {
   "cell_type": "markdown",
   "id": "96de019e",
   "metadata": {},
   "source": [
    "As for showing the entire normaliser is generated, consider four families of elements\n",
    "in $\\nm{\\tilde{E}}$:\n",
    "* the generators $\\left( g_3, h_3 \\right)$, which (in particular) generate the $\\psl{3}{2}$;"
   ]
  },
  {
   "cell_type": "code",
   "execution_count": 393,
   "id": "3cfd2bf8",
   "metadata": {},
   "outputs": [],
   "source": [
    "F1 = L_N"
   ]
  },
  {
   "cell_type": "markdown",
   "id": "a33155de",
   "metadata": {},
   "source": [
    "* generators of the $3.\\sym{6}$;"
   ]
  },
  {
   "cell_type": "code",
   "execution_count": 394,
   "id": "604a2bbc",
   "metadata": {},
   "outputs": [],
   "source": [
    "c1 = (h3**2*g3)**2\n",
    "c2 = (g3**3*h3*g3*h3*g3**2*h3*g3)/(h3**2*g3*h3*g3**3*h3**2)\n",
    "F2 = (c1, c2)"
   ]
  },
  {
   "cell_type": "markdown",
   "id": "2d923633",
   "metadata": {},
   "source": [
    "* 6+6=12 generators of the projection of $\\cm{\\tilde{E}} < \\GG$ into $\\CO$;"
   ]
  },
  {
   "cell_type": "code",
   "execution_count": 395,
   "id": "7e4cc1cd",
   "metadata": {},
   "outputs": [],
   "source": [
    "F3 = (c2*c1*c2*c1**2/(c2*c1*c2), c2**3*c1**2/(c2**3), c2*c1*c2**2*c1**2/(c2*c1*c2**2), c1**2, c1*c2**2*c1**2/(c1*c2**2), (c2*c1*c2**6)/(c2*c1), c1*c2**6/c1, c1*c2**2*c1*c2**6/(c1*c2**2*c1), (c1*c2)**2*c1**2/(c1*c2)**2, (c2*c1)**2*c2**6/(c2*c1)**2, c2**6/c1**2, c2**2*c1*c2**6/(c2**2*c1))"
   ]
  },
  {
   "cell_type": "markdown",
   "id": "69b36b6c",
   "metadata": {},
   "source": [
    "* and 22 generators of $\\QQ \\cap \\cm{\\tilde{E}}$."
   ]
  },
  {
   "cell_type": "code",
   "execution_count": 396,
   "id": "b16875d5",
   "metadata": {},
   "outputs": [],
   "source": [
    "F4 = (h3**6*h3**9/h3**3/(h3**1*h3**2/h3**3), g3**8*h3**3*h3**9/g3**1/g3**7/(h3**1*h3**2/h3**3), h3**3*g3**4*h3**6/g3**4/h3**9/(h3**9*g3**4*h3**6/g3**4/h3**3), g3**3*h3**2*g3**9*h3**2/(g3**1*h3**1*g3**5)/(g3**5*h3**4*g3**5*h3**7/(h3**2*g3**2))/(g3**4*h3**7*g3**4*h3**9/(g3**4*h3**1*g3**4)/h3**3), h3**6*g3**4*h3**6/g3**4/(h3**3*h3**9)/(g3**4*h3**6/g3**4/h3**6), g3**7*h3**6*g3**6*h3**6/g3**6/(h3**6*g3**7*h3**6)/(g3**4*h3**6/g3**4/h3**6), g3**4*h3**1*g3**5*h3**9/(g3**4*h3**1*g3**5)/(g3**9*h3**7*g3**7*h3**5/g3**2)/(h3**3*g3**4*h3**3/g3**4/h3**6), g3**8*h3**9*g3**8*h3**9/g3**2/(g3**8*h3**6*g3**6)/(h3**9*g3**4*h3**9/g3**4/h3**6), g3**8*h3**6*g3**8*h3**3/g3**2/(g3**8*h3**9*g3**6)/(h3**6*g3**4*h3**3/g3**4/h3**9), g3**6*h3**9*g3**7*h3**9/g3**6/(g3**2*h3**9*g3**7*h3**9/g3**2)/(h3**9*g3**8*h3**3/g3**1/g3**7), g3**9*h3**6/g3**2/(g3**1*h3**6*g3**6)/(g3**1*h3**6*g3**8*h3**6/g3**2/g3**7), g3**2*g3**9*h3**6/g3**4/(g3**7*h3**6)/(g3**7*h3**6*g3**4*h3**6/g3**4/g3**7), g3**3*h3**7*g3**8*h3**8/(g3**2*h3**1*g3**5)/(g3**3*h3**1*g3**8*h3**2/(g3**2*h3**1*g3**5))/(g3**7*h3**2*g3**4*h3**6/(h3**2*g3**4)/(g3**7*h3**6)), h3**7*g3**4*h3**6/(h3**1*g3**4)/(h3**3*h3**9)/(g3**3*h3**6*g3**8*h3**3/g3**4/(g3**7*h3**9)), g3**8*h3**5*g3**6*h3**9/(h3**1*g3**5)/(g3**8*h3**5*g3**2*h3**9/(h3**1*g3**1))/(g3**1*h3**6*g3**4*h3**6/g3**5/(h3**3*h3**9)), g3**5*h3**3*g3**1*h3**3/g3**6/(g3**1*h3**3*g3**1*h3**3/g3**2)/(g3**8*h3**3*g3**3*h3**6/g3**4/(h3**3*g3**7*h3**6)), g3**8*h3**4*g3**3*h3**3/(g3**1*h3**1*g3**3)/(g3**3*h3**3*g3**5*h3**3/g3**1)/(g3**8*h3**6*g3**3*h3**9/g3**4/(h3**6*g3**7*h3**9)), g3**2*h3**3*g3**7*h3**6/g3**2/(g3**1*h3**6*g3**6*h3**3)/(g3**1*h3**4*g3**7*h3**8/g3**1/(h3**8*g3**7*h3**4)), g3**8*h3**8*g3**3*h3**6/(h3**1*g3**2)/(g3**2*h3**6*g3**5*h3**9)/(g3**3*h3**7*g3**7*h3**8/g3**3/(h3**8*g3**7*h3**7)), g3**4*h3**7*g3**3*h3**3/(g3**4*h3**1*g3**3)/(h3**7*g3**3*h3**3/(h3**1*g3**3))/(g3**5*h3**2*g3**5*h3**3/(g3**4*h3**1*g3**4)/(g3**1*h3**2*g3**1*h3**2)), g3**3*h3**8*g3**2/(g3**1*h3**1*g3**5*h3**1)/(g3**1*h3**7*g3**7/(g3**1*h3**1))/(g3**4*h3**8*g3**1*h3**2/g3**3/(g3**1*h3**2*g3**1*h3**8)), g3**7*h3**2*g3**5*h3**6/(h3**2*g3**5)/(g3**1*h3**6*g3**6)/(g3**3*h3**5*g3**8/(g3**2*h3**1)/(g3**1*h3**2*g3**8*h3**2)))"
   ]
  },
  {
   "cell_type": "markdown",
   "id": "b44c76aa",
   "metadata": {},
   "source": [
    "First, show the action of $\\langle g_3, h_3 \\rangle$ on $\\tilde{E}$\n",
    "generates $168 = \\left| \\psl{3}{2} \\right|$ permutations,\n",
    "while members of the other 3 families act trivially.\n",
    "\n",
    "It suffices to test the images of generators of $\\tilde{E}$ under the action,\n",
    "as the conjugation action is an automorphism on $\\tilde{E}$."
   ]
  },
  {
   "cell_type": "code",
   "execution_count": 397,
   "id": "255cc5c7",
   "metadata": {},
   "outputs": [
    {
     "data": {
      "text/plain": [
       "168"
      ]
     },
     "execution_count": 397,
     "metadata": {},
     "output_type": "execute_result"
    }
   ],
   "source": [
    "act_on_zz1w = map_to_vectors(L_E)\n",
    "size_image(L_N, act_on_zz1w, basis=L_E)"
   ]
  },
  {
   "cell_type": "code",
   "execution_count": 398,
   "id": "b01d7bf1",
   "metadata": {},
   "outputs": [
    {
     "data": {
      "text/plain": [
       "1"
      ]
     },
     "execution_count": 398,
     "metadata": {},
     "output_type": "execute_result"
    }
   ],
   "source": [
    "size_image((*F2, *F3, *F4), act_on_zz1w, basis=L_E)"
   ]
  },
  {
   "cell_type": "markdown",
   "id": "18b8a153",
   "metadata": {},
   "source": [
    "Now show that the action of $\\langle \\mathcal{F}_2 \\rangle$\n",
    "on $\\QQ_{\\tilde{E}}/\\tilde{E}$ generates $2160 = \\left| 3.\\sym{6} \\right|$ permutations,\n",
    "while members of the other 2 following families act trivially.\n",
    "\n",
    "Firstly, show that the first 9 basis elements of $\\QQ_{2^2}$ given\n",
    "in the proof of [Theorem 3.6](#norm2B2) form a basis\n",
    "for $\\QQ_{\\tilde{E}}$"
   ]
  },
  {
   "cell_type": "code",
   "execution_count": 399,
   "id": "f1f4efec",
   "metadata": {},
   "outputs": [
    {
     "data": {
      "text/plain": [
       "True"
      ]
     },
     "execution_count": 399,
     "metadata": {},
     "output_type": "execute_result"
    }
   ],
   "source": [
    "qe_basis = (\n",
    "    z, z1, w,\n",
    "    MM(\"M<d_65bh>\"),\n",
    "    MM(\"M<d_19h>\"),\n",
    "    MM(\"M<d_5a1h>\"),\n",
    "    MM(\"M<d_675h>\"),\n",
    "    MM(\"M<d_4b3h>\"),\n",
    "    MM(\"M<d_179h>\"),\n",
    ")\n",
    "\n",
    "# Verification\n",
    "conj = (e, g3**6, g3**5)\n",
    "all(g**x == z for g, x in zip(L_E, conj))"
   ]
  },
  {
   "cell_type": "code",
   "execution_count": 400,
   "id": "e7f932db",
   "metadata": {},
   "outputs": [
    {
     "data": {
      "text/plain": [
       "True"
      ]
     },
     "execution_count": 400,
     "metadata": {},
     "output_type": "execute_result"
    }
   ],
   "source": [
    "all((g**x).in_Q_x0() for g in qe_basis for x in conj)"
   ]
  },
  {
   "cell_type": "code",
   "execution_count": 401,
   "id": "db23f5e0",
   "metadata": {},
   "outputs": [
    {
     "data": {
      "text/plain": [
       "(9, True)"
      ]
     },
     "execution_count": 401,
     "metadata": {},
     "output_type": "execute_result"
    }
   ],
   "source": [
    "dim_q(qe_basis)"
   ]
  },
  {
   "cell_type": "markdown",
   "id": "64791df2",
   "metadata": {},
   "source": [
    "Prove the 2160 permutations are generated. Note that, in order to work modulo\n",
    "$\\tilde{E} \\cong 2^3$, we set `index=3` in `map_to_vectors``; $\\QQ_{\\tilde{E}}$ is\n",
    "elementary abelian by Lemma 4.2 of Meierfrankenfeld and Shpectorov."
   ]
  },
  {
   "cell_type": "code",
   "execution_count": 402,
   "id": "46365502",
   "metadata": {},
   "outputs": [
    {
     "data": {
      "text/plain": [
       "2160"
      ]
     },
     "execution_count": 402,
     "metadata": {},
     "output_type": "execute_result"
    }
   ],
   "source": [
    "act_on_qe_e = map_to_vectors(qe_basis, index=3)\n",
    "size_image(F2, act_on_qe_e, basis=qe_basis[3:])"
   ]
  },
  {
   "cell_type": "code",
   "execution_count": 403,
   "id": "a71cfb1b",
   "metadata": {},
   "outputs": [
    {
     "data": {
      "text/plain": [
       "1"
      ]
     },
     "execution_count": 403,
     "metadata": {},
     "output_type": "execute_result"
    }
   ],
   "source": [
    "size_image((*F3, *F4), act_on_qe_e, basis=qe_basis[3:])"
   ]
  },
  {
   "cell_type": "markdown",
   "id": "cb1e86a8",
   "metadata": {},
   "source": [
    "Now, verifying that all elements of $\\mathcal{F}_3$ and\n",
    "$\\mathcal{F}_4$ do indeed lie in $\\GG = \\QQ.\\CO$ ..."
   ]
  },
  {
   "cell_type": "code",
   "execution_count": 404,
   "id": "28e21635",
   "metadata": {},
   "outputs": [
    {
     "data": {
      "text/plain": [
       "True"
      ]
     },
     "execution_count": 404,
     "metadata": {},
     "output_type": "execute_result"
    }
   ],
   "source": [
    "all(x.in_G_x0() for x in (*F3, *F4))"
   ]
  },
  {
   "cell_type": "markdown",
   "id": "70c2fd81",
   "metadata": {},
   "source": [
    "show that $\\mathcal{F}_3$ generates (at least) $2^{16}$ cosets of $\\QQ$ in $\\GG$.\n",
    "Because the full $2^{16}$ is a bit large, instead exhibit subsets of\n",
    "$\\mathcal{F}_3$ which generate $512 = 2^9$ and $512 = 2^9$ cosets,\n",
    "respectively, with 4 in common ($2^9 \\cdot 2^9/4 = 2^{16}$)."
   ]
  },
  {
   "cell_type": "code",
   "execution_count": 405,
   "id": "cca7bbdc",
   "metadata": {},
   "outputs": [
    {
     "data": {
      "text/plain": [
       "512"
      ]
     },
     "execution_count": 405,
     "metadata": {},
     "output_type": "execute_result"
    }
   ],
   "source": [
    "set_1 = size_image(F3[:6], to_co1, set)\n",
    "set_2 = size_image(F3[6:], to_co1, set)\n",
    "len(set_1)"
   ]
  },
  {
   "cell_type": "code",
   "execution_count": 406,
   "id": "86d85f1c",
   "metadata": {},
   "outputs": [
    {
     "data": {
      "text/plain": [
       "512"
      ]
     },
     "execution_count": 406,
     "metadata": {},
     "output_type": "execute_result"
    }
   ],
   "source": [
    "len(set_2)"
   ]
  },
  {
   "cell_type": "code",
   "execution_count": 407,
   "id": "e006763f",
   "metadata": {},
   "outputs": [
    {
     "data": {
      "text/plain": [
       "4"
      ]
     },
     "execution_count": 407,
     "metadata": {},
     "output_type": "execute_result"
    }
   ],
   "source": [
    "len(set_1 & set_2)"
   ]
  },
  {
   "cell_type": "markdown",
   "id": "5872f188",
   "metadata": {},
   "source": [
    "Finally, verify that $\\mathcal{F}_4$ generates a subgroup of $\\QQ$ with order $2^{23}$.\n",
    "Note the second element of the output is `True`, so that the result is trustworthy."
   ]
  },
  {
   "cell_type": "code",
   "execution_count": 408,
   "id": "f17ed34a",
   "metadata": {},
   "outputs": [
    {
     "data": {
      "text/plain": [
       "(23, True)"
      ]
     },
     "execution_count": 408,
     "metadata": {},
     "output_type": "execute_result"
    }
   ],
   "source": [
    "dim_q(F4)"
   ]
  },
  {
   "cell_type": "markdown",
   "id": "624a9793",
   "metadata": {},
   "source": [
    "In summary, it is possible to find in $\\langle g_3, h_3 \\rangle \\le \\nm{\\tilde{E}}$:\n",
    "* $2^{23}$ elements of $\\QQ$, all of which act trivially\n",
    "on $\\QQ_{\\tilde{E}}/\\tilde{E}$ and $\\tilde{E}$;\n",
    "* $2^{16}$ elements of $\\GG = \\QQ.\\CO$ which lie in distinct cosets of $\\QQ$,\n",
    "all of which act trivially on $\\QQ_{\\tilde{E}}/\\tilde{E}$ and $\\tilde{E}$;\n",
    "* $2160 = \\left| 3.\\sym{6} \\right|$ elements of $\\cm{\\tilde{E}}$ which act\n",
    "differently on $QQ_{\\tilde{E}}/\\tilde{E}$, all of which act trivially on $\\tilde{E}$; and\n",
    "* $168 = \\left| \\psl{3}{2} \\right|$ elements which act differently on $\\tilde{E}$.\n",
    "\n",
    "It follows $\\left| \\langle g_3, h_3 \\rangle \\right| \\ge 2^{23} \\cdot 2^{16} \\left| 3.\\sym{6} \\right|\n",
    "\\left| \\psl{3}{2} \\right| = \\left| 2^{3+6+12+18} \\udot \\left( \\psl{3}{2} \\times 3.\\sym{6} \\right) \\right|$,\n",
    "so that $\\langle g_3, h_3 \\rangle = \\nm{\\tilde{E}}$."
   ]
  },
  {
   "cell_type": "markdown",
   "id": "ff682a23",
   "metadata": {},
   "source": [
    "## $2^{5+10+20} \\udot \\left( \\sym{3} \\times \\psl{5}{2} \\right)$ <a id=\"norm2B5\"></a>\n",
    "Generators are given by"
   ]
  },
  {
   "cell_type": "code",
   "execution_count": 409,
   "id": "adb58957",
   "metadata": {},
   "outputs": [],
   "source": [
    "g5 = MM(\"M<y_504h*x_4a2h*d_0edfh*p_29114354*l_1*p_57699840*t_1>\")\n",
    "h5 = MM(\"M<y_4fah*x_1fdfh*d_0a85h*p_32789328*l_1*p_57699840*t_1>\")\n",
    "L_N = (g5, h5)"
   ]
  },
  {
   "cell_type": "markdown",
   "id": "85e5e51f",
   "metadata": {},
   "source": [
    "This is the normaliser of a singular $2^5$ of Type 2 in the Monster. We claim\n",
    "this particular instance normalises the group $U$ generated by"
   ]
  },
  {
   "cell_type": "code",
   "execution_count": 410,
   "id": "ce8b2446",
   "metadata": {},
   "outputs": [],
   "source": [
    "z = MM(\"M<x_1000h>\")\n",
    "z1 = z**MM(\"M<t_1>\")\n",
    "w = MM(\"M<d_684h>\")\n",
    "k4 = MM(\"M<d_65bh>\")\n",
    "k5 = MM(\"M<d_19h>\")\n",
    "L_E = (z, z1, w, k4, k5)"
   ]
  },
  {
   "cell_type": "markdown",
   "id": "fbebf46e",
   "metadata": {},
   "source": [
    "Note that $z, z_1, w$ are as in [Theorem 3.7](#norm2B3).  \n",
    "Firstly, verify $L_E$ generates a singular $2^5$ using `check_singular`:"
   ]
  },
  {
   "cell_type": "code",
   "execution_count": 411,
   "id": "45d02023",
   "metadata": {},
   "outputs": [],
   "source": [
    "E, E_as_int = check_singular(L_E)"
   ]
  },
  {
   "cell_type": "markdown",
   "id": "0b178f73",
   "metadata": {},
   "source": [
    "In order to show $\\tilde{E}$ is Type 2, it suffices to demonstrate\n",
    "$\\left| \\QQ_{\\tilde{E}} \\right| = \\left| \\tilde{E} \\right|$.\n",
    "As a preliminary step, verify that\n",
    "$V = \\langle z, z_1, w, k_4 \\rangle < \\tilde{E}$ is a singular,\n",
    "has order $2^4$, and that $\\QQ_V$ contains the 128-element subgroup\n",
    "$U$ generated by the first seven basis elements of $\\QQ_{2^3}$ given\n",
    "in the proof of [Theorem 3.7](#norm2B3):"
   ]
  },
  {
   "cell_type": "code",
   "execution_count": 412,
   "id": "b422087a",
   "metadata": {},
   "outputs": [
    {
     "data": {
      "text/plain": [
       "True"
      ]
     },
     "execution_count": 412,
     "metadata": {},
     "output_type": "execute_result"
    }
   ],
   "source": [
    "v_basis = (z, z1, w, k4)\n",
    "V, V_as_int = check_singular(v_basis)\n",
    "\n",
    "# The seven basis elements\n",
    "qv_basis = (z, z1, w, k4, k5, MM(\"M<d_5a1h>\"), MM(\"M<d_675h>\"))\n",
    "conj = [x.conjugate_involution()[1] for x in v_basis]\n",
    "all((g**h).in_Q_x0() for g in qv_basis for h in conj)"
   ]
  },
  {
   "cell_type": "code",
   "execution_count": 413,
   "id": "0dd02db5",
   "metadata": {},
   "outputs": [
    {
     "data": {
      "text/plain": [
       "128"
      ]
     },
     "execution_count": 413,
     "metadata": {},
     "output_type": "execute_result"
    }
   ],
   "source": [
    "qv = size_image(qv_basis, return_type=list, is_solv=True)\n",
    "len(qv)"
   ]
  },
  {
   "cell_type": "markdown",
   "id": "1f6c6122",
   "metadata": {},
   "source": [
    "By Lemma 4.9 of Meierfrankenfeld and Shpectorov, $\\QQ_V \\cong 2^7$, so $\\QQ_V = U$.\n",
    "Since $\\QQ_{\\tilde{E}} = \\QQ_V \\cap \\QQ_{k_5}$, it will follow\n",
    "that $\\left| \\QQ_{\\tilde{E}} \\right| = \\left| \\tilde{E} \\right|$.\n",
    "if it can be proven $\\QQ_V$ contains exactly\n",
    "$\\left| \\tilde{E} \\right| = 32$ elements of $\\QQ_{k_5}$."
   ]
  },
  {
   "cell_type": "code",
   "execution_count": 414,
   "id": "9eb9b5db",
   "metadata": {},
   "outputs": [
    {
     "data": {
      "text/plain": [
       "True"
      ]
     },
     "execution_count": 414,
     "metadata": {},
     "output_type": "execute_result"
    }
   ],
   "source": [
    "unk5 = h5**14\n",
    "k5**unk5 == z"
   ]
  },
  {
   "cell_type": "code",
   "execution_count": 415,
   "id": "3d9725ea",
   "metadata": {},
   "outputs": [
    {
     "data": {
      "text/plain": [
       "32"
      ]
     },
     "execution_count": 415,
     "metadata": {},
     "output_type": "execute_result"
    }
   ],
   "source": [
    "len([x for x in qv if (x**unk5).in_Q_x0()])"
   ]
  },
  {
   "cell_type": "markdown",
   "id": "4091ebc3",
   "metadata": {},
   "source": [
    "With that settled, show the claimed generators belong to the normaliser of $\\tilde{E}$."
   ]
  },
  {
   "cell_type": "code",
   "execution_count": 416,
   "id": "e7582a50",
   "metadata": {},
   "outputs": [
    {
     "data": {
      "text/plain": [
       "True"
      ]
     },
     "execution_count": 416,
     "metadata": {},
     "output_type": "execute_result"
    }
   ],
   "source": [
    "check_normalise(L_E, L_N, group_set=E_as_int)"
   ]
  },
  {
   "cell_type": "markdown",
   "id": "9a23a07d",
   "metadata": {},
   "source": [
    "As for showing the entire normaliser is generated,\n",
    "consider four families of elements in $\\nm{\\tilde{E}}$:\n",
    "* the generators $\\left( g_5, h_5 \\right)$, which (in particular) generate the $\\psl{5}{2}$;"
   ]
  },
  {
   "cell_type": "code",
   "execution_count": 417,
   "id": "01ee20b9",
   "metadata": {},
   "outputs": [],
   "source": [
    "F1 = L_N"
   ]
  },
  {
   "cell_type": "markdown",
   "id": "23e6152d",
   "metadata": {},
   "source": [
    "* generators of the $\\sym{3}$;"
   ]
  },
  {
   "cell_type": "code",
   "execution_count": 418,
   "id": "143929bf",
   "metadata": {},
   "outputs": [],
   "source": [
    "c1 = g5**15\n",
    "c2 = h5**31\n",
    "F2 = (c1, c2)"
   ]
  },
  {
   "cell_type": "markdown",
   "id": "be66f991",
   "metadata": {},
   "source": [
    "* 8+6=14 generators of the projection of $\\cm{\\tilde{E}} < \\GG$ into $\\CO$;"
   ]
  },
  {
   "cell_type": "code",
   "execution_count": 419,
   "id": "c2fa5491",
   "metadata": {},
   "outputs": [],
   "source": [
    "B0, B1 = c2*c1*c2/c1, c2**2*c1/(c1*c2)\n",
    "F3 = (\n",
    "    B0, B1, (c1**2)**h5, B0**g5, B0**h5, (c2*c1**2/c2)**h5, B1**g5,\n",
    "    B1**h5, B0**(g5**2), B0**(g5*h5), B0**(h5*g5), B0**(h5**2),\n",
    "    B1**(g5**2), B1**(h5**2)\n",
    ")"
   ]
  },
  {
   "cell_type": "markdown",
   "id": "f2c6ef63",
   "metadata": {},
   "source": [
    "* and 20 generators of $\\QQ \\cap \\cm{\\tilde{E}}$."
   ]
  },
  {
   "cell_type": "code",
   "execution_count": 420,
   "id": "6277265e",
   "metadata": {},
   "outputs": [],
   "source": [
    "F4 = (F3[3]**2, F3[6]**2, F3[8]**2, F3[9]**2, F3[12]**2, F3[0]*F3[2]*F3[0], F3[2]*F3[10]**2, F3[2]*F3[13]**2, F3[5]*F3[7]**2, F3[5]*F3[11]**2, F3[1]**2*F3[4]**2, (F3[0]*F3[8])**g5/(F3[2]*F3[11]*F3[12]*F3[13]), F3[0]**g5*F3[8]**h5/F3[2], (F3[0]*F3[9])**g5/(F3[1]**2*F3[6]), F3[0]**g5*F3[9]**h5/(F3[3]*F3[4]*F3[5]*F3[7]), (F3[0]*F3[10])**g5/(F3[0]*F3[1]*F3[4]*F3[7]*F3[9]*F3[10]*F3[11]*F3[12]*F3[13]), F3[0]**g5*F3[10]**h5/(F3[0]*F3[1]*F3[3]*F3[4]*F3[7]*F3[11]*F3[12]*F3[9]*F3[10]*F3[13]), (F3[0]*F3[11])**g5/(F3[3]*F3[8]*F3[11]*F3[12]), F3[0]**g5*F3[11]**h5/(F3[0]*F3[4]*F3[7]*F3[8]*F3[3]*F3[10]), (F3[0]*F3[12])**g5/(F3[6]*F3[8]*F3[3]*F3[13]))"
   ]
  },
  {
   "cell_type": "markdown",
   "id": "3b9129a4",
   "metadata": {},
   "source": [
    "First, show the action of $\\langle g_5, h_5 \\rangle$ on $\\tilde{E}$ induces a group\n",
    "isomorphic to $\\psl{5}{2}$ while members of the other 3 families act trivially.\n",
    "\n",
    "It suffices to test the images of generators of $\\tilde{E}$ under the action,\n",
    "as the conjugation action is an automorphism on $\\tilde{E}$."
   ]
  },
  {
   "cell_type": "code",
   "execution_count": 421,
   "id": "e2fabdad",
   "metadata": {},
   "outputs": [
    {
     "data": {
      "text/plain": [
       "1"
      ]
     },
     "execution_count": 421,
     "metadata": {},
     "output_type": "execute_result"
    }
   ],
   "source": [
    "act_on_e = map_to_vectors(L_E)\n",
    "size_image((*F2, *F3, *F4), act_on_e, basis=L_E)"
   ]
  },
  {
   "cell_type": "code",
   "execution_count": 422,
   "id": "a9f6d4d9",
   "metadata": {},
   "outputs": [
    {
     "data": {
      "text/plain": [
       "15"
      ]
     },
     "execution_count": 422,
     "metadata": {},
     "output_type": "execute_result"
    }
   ],
   "source": [
    "size_image([g5], act_on_e, basis=L_E)"
   ]
  },
  {
   "cell_type": "code",
   "execution_count": 423,
   "id": "75f0277d",
   "metadata": {},
   "outputs": [
    {
     "data": {
      "text/plain": [
       "31"
      ]
     },
     "execution_count": 423,
     "metadata": {},
     "output_type": "execute_result"
    }
   ],
   "source": [
    "size_image([h5], act_on_e, basis=L_E)"
   ]
  },
  {
   "cell_type": "markdown",
   "id": "c94f802d",
   "metadata": {},
   "source": [
    "The actions of $g_5$ and $h_5$ on $\\tilde{E}$, belonging\n",
    "to $\\aut{\\tilde{E}} \\cong \\psl{5}{2}$, thus have order 15 and 31, respectively.\n",
    "Data in the GAP character table library, however, reveals no maximal subgroup\n",
    "of $\\psl{5}{2}$ has order divisible by both 15 and 31;\n",
    "they therefore lie in different maximal subgroups, generating that entire group.\n",
    "\n",
    "Now show that the action of $\\langle \\mathcal{F}_3 \\rangle$ on $\\QQ_V/V$,\n",
    "where $V = \\langle z, z_1, w, k_4 \\rangle$ is as defined above, generates\n",
    "$6 = \\left| \\sym{3} \\right|$ permutations, while members of the other 2\n",
    "following families act trivially. First map elements of $\\QQ_V$\n",
    "to standard representatives of cosets of $V$."
   ]
  },
  {
   "cell_type": "code",
   "execution_count": 424,
   "id": "22059dbc",
   "metadata": {},
   "outputs": [],
   "source": [
    "qv_v_map = {}\n",
    "for x in qv:\n",
    "    k = as_int(x)\n",
    "    if k not in qv_v_map:\n",
    "        for y in V:\n",
    "            qv_v_map[as_int(x*y)] = k"
   ]
  },
  {
   "cell_type": "markdown",
   "id": "77dca685",
   "metadata": {},
   "source": [
    "Perform the verifications; it suffices to test the images of generators of\n",
    "$\\QQ_V/V$ under the action, as the conjugation action is an automorphism\n",
    "on $\\QQ_V/V$."
   ]
  },
  {
   "cell_type": "code",
   "execution_count": 425,
   "id": "c2eddbba",
   "metadata": {},
   "outputs": [
    {
     "data": {
      "text/plain": [
       "6"
      ]
     },
     "execution_count": 425,
     "metadata": {},
     "output_type": "execute_result"
    }
   ],
   "source": [
    "act_on_qv_v = lambda x: tuple(qv_v_map[as_int(q**x)] for q in qv_basis)\n",
    "size_image(F2, act_on_qv_v)"
   ]
  },
  {
   "cell_type": "code",
   "execution_count": 426,
   "id": "253fafd8",
   "metadata": {},
   "outputs": [
    {
     "data": {
      "text/plain": [
       "1"
      ]
     },
     "execution_count": 426,
     "metadata": {},
     "output_type": "execute_result"
    }
   ],
   "source": [
    "size_image((*F3, *F4), act_on_qv_v)"
   ]
  },
  {
   "cell_type": "markdown",
   "id": "064fdc98",
   "metadata": {},
   "source": [
    "Now, verifying that all elements of $\\mathcal{F}_3$ and\n",
    "$\\mathcal{F}_4$ do indeed lie in $\\GG = \\QQ.\\CO$ ..."
   ]
  },
  {
   "cell_type": "code",
   "execution_count": 427,
   "id": "df90adba",
   "metadata": {},
   "outputs": [
    {
     "data": {
      "text/plain": [
       "True"
      ]
     },
     "execution_count": 427,
     "metadata": {},
     "output_type": "execute_result"
    }
   ],
   "source": [
    "all(x.in_G_x0() for x in (*F3, *F4))"
   ]
  },
  {
   "cell_type": "markdown",
   "id": "7b20794b",
   "metadata": {},
   "source": [
    "show that $\\mathcal{F}_3$ generates (at least) $2^{14}$ cosets of $\\QQ$ in $\\GG$.\n",
    "Because the full $2^{14}$ is a bit large, instead exhibit subsets of\n",
    "$\\mathcal{F}_3$ which generate $256 = 2^8$ and $256 = 2^8$ cosets,\n",
    "respectively, with 4 in common ($2^8 \\cdot 2^8/4 = 2^{14}$)."
   ]
  },
  {
   "cell_type": "code",
   "execution_count": 428,
   "id": "a76101f6",
   "metadata": {},
   "outputs": [
    {
     "data": {
      "text/plain": [
       "256"
      ]
     },
     "execution_count": 428,
     "metadata": {},
     "output_type": "execute_result"
    }
   ],
   "source": [
    "set_1 = size_image(F3[:8], to_co1, set)\n",
    "set_2 = size_image(F3[8:], to_co1, set)\n",
    "len(set_1)"
   ]
  },
  {
   "cell_type": "code",
   "execution_count": 429,
   "id": "7121f3d4",
   "metadata": {},
   "outputs": [
    {
     "data": {
      "text/plain": [
       "256"
      ]
     },
     "execution_count": 429,
     "metadata": {},
     "output_type": "execute_result"
    }
   ],
   "source": [
    "len(set_2)"
   ]
  },
  {
   "cell_type": "code",
   "execution_count": 430,
   "id": "32363c79",
   "metadata": {},
   "outputs": [
    {
     "data": {
      "text/plain": [
       "4"
      ]
     },
     "execution_count": 430,
     "metadata": {},
     "output_type": "execute_result"
    }
   ],
   "source": [
    "len(set_1 & set_2)"
   ]
  },
  {
   "cell_type": "markdown",
   "id": "c8103324",
   "metadata": {},
   "source": [
    "Finally, verify that $\\mathcal{F}_4$ generates a subgroup of $\\QQ$ with size $2^{21}$.\n",
    "Note the second element of the output is `True`, so that the result is trustworthy."
   ]
  },
  {
   "cell_type": "code",
   "execution_count": 431,
   "id": "7564b52e",
   "metadata": {},
   "outputs": [
    {
     "data": {
      "text/plain": [
       "(21, True)"
      ]
     },
     "execution_count": 431,
     "metadata": {},
     "output_type": "execute_result"
    }
   ],
   "source": [
    "dim_q(F4)"
   ]
  },
  {
   "cell_type": "markdown",
   "id": "b37eeaef",
   "metadata": {},
   "source": [
    "In summary, it is possible to find in $\\langle g_5, h_5 \\rangle \\le \\nm{\\tilde{E}}$:\n",
    "* $2^{21}$ elements of $\\QQ$, all of which act trivially on $\\QQ_V/V$ and $\\tilde{E}$;\n",
    "* $2^{14}$ elements of $\\GG = \\QQ.\\CO$ which lie in distinct cosets of $\\QQ$,\n",
    "all of which act trivially on $\\QQ_V/V$ and $\\tilde{E}$;\n",
    "* $6 = \\left| \\sym{3} \\right|$ elements of $\\cm{\\tilde{E}}$ which act differently on $\\QQ_V/V$,\n",
    "all of which act trivially on $\\tilde{E}$; and\n",
    "* $\\left| \\psl{5}{2} \\right|$ elements which act differently on $\\tilde{E}$.\n",
    "\n",
    "It follows $\\left| \\langle g_5, h_5 \\rangle \\right| \\ge 2^{21} \\cdot 2^{14} \\left| \\sym{3} \\right|\n",
    "\\left| \\psl{5}{2} \\right| = \\left| 2^{5+10+20} \\udot \\left( \\sym{3} \\times \\psl{5}{2} \\right) \\right|$,\n",
    "so that $\\langle g_5, h_5 \\rangle = \\nm{\\tilde{E}}$."
   ]
  },
  {
   "cell_type": "markdown",
   "id": "9c1944df",
   "metadata": {},
   "source": [
    "## $2^{10+16} \\udot \\orth+{10}{2}$ <a id=\"normArk\"></a>\n",
    "*Standard* generators are given by"
   ]
  },
  {
   "cell_type": "code",
   "execution_count": 432,
   "id": "e8a0412f",
   "metadata": {},
   "outputs": [],
   "source": [
    "g10 = MM(\"M<y_1a6h*x_1cf8h*d_0d6fh*p_161209616*l_2*p_2349120*t_2*l_2*p_2936640*t_2*l_1*p_97173120>\")\n",
    "h10 = MM(\"M<y_26eh*x_1115h*d_0acdh*p_27244563*l_2*p_1523520*t_2*l_1*p_4651200*l_2*t_1*l_1*p_2449920>\")\n",
    "L_N = (g10, h10)"
   ]
  },
  {
   "cell_type": "markdown",
   "id": "97b27ee6",
   "metadata": {},
   "source": [
    "This is the normaliser of an \"ark\" (i.e. a group containing a singular Type 1 $2^5$\n",
    "and singular Type 2 $2^5$s embedding each index 2 subgroup therein) We claim\n",
    "this particular instance normalises the ark $\\tilde{E}$ generated by"
   ]
  },
  {
   "cell_type": "code",
   "execution_count": 433,
   "id": "c3e7a607",
   "metadata": {},
   "outputs": [],
   "source": [
    "z = MM(\"M<x_1000h>\")\n",
    "z1 = z**MM(\"M<t_1>\")\n",
    "w = MM(\"M<d_684h>\")\n",
    "k4 = MM(\"M<d_65bh>\")\n",
    "k5 = MM(\"M<d_19h>\")\n",
    "\u03c1 = MM(\"M<y_4efh*x_54fh*d_0dfh*p_77227505*t_1*l_1*p_824640*t_2*l_1*p_2809920>\")\n",
    "L_E = (z, z1, w, k4, k4**(\u03c1**16), k5, k5**(\u03c1**16), k5**\u03c1, k5**(\u03c1**30), k5**(\u03c1**15))"
   ]
  },
  {
   "cell_type": "markdown",
   "id": "9ca40046",
   "metadata": {},
   "source": [
    "which arises from the $2^5$ of Type 1 $T_1$ generated by"
   ]
  },
  {
   "cell_type": "code",
   "execution_count": 434,
   "id": "a5c08008",
   "metadata": {},
   "outputs": [],
   "source": [
    "T1_basis = L_E[:5]"
   ]
  },
  {
   "cell_type": "markdown",
   "id": "850daac6",
   "metadata": {},
   "source": [
    "Note that $z, z_1, w, k_4, k_5$ are as in [Theorem 3.8](#norm2B5).  \n",
    "Firstly, verify $T_1$ is a singular $2^5$ using check_singular:"
   ]
  },
  {
   "cell_type": "code",
   "execution_count": 435,
   "id": "69ec9c4e",
   "metadata": {},
   "outputs": [],
   "source": [
    "T1, T1_as_int = check_singular(T1_basis)"
   ]
  },
  {
   "cell_type": "markdown",
   "id": "da0c5279",
   "metadata": {},
   "source": [
    "In order to show it has Type 1, it suffices to demonstrate\n",
    "$\\left| \\QQ_{T_1} \\right| = 2 \\left| T_1 \\right|$. It was\n",
    "verified in the proof of [Theorem 3.8](#norm2B5) that\n",
    "that $V = \\langle z, z_1, w, k_4 \\rangle$ is singular,\n",
    "with $\\QQ_V$ generated by a given list of elements;\n",
    "since $\\QQ_{T_1} = \\QQ_V \\cap \\QQ_{{\\rho^{16}}}$, the required result\n",
    "follows upon confirming $\\QQ_V$ contains exactly\n",
    "$2\\left| T_1 \\right| = 64$ elements of $\\QQ_{k_4^{\\rho^{16}}}$."
   ]
  },
  {
   "cell_type": "code",
   "execution_count": 436,
   "id": "d35a2d2d",
   "metadata": {},
   "outputs": [
    {
     "data": {
      "text/plain": [
       "True"
      ]
     },
     "execution_count": 436,
     "metadata": {},
     "output_type": "execute_result"
    }
   ],
   "source": [
    "# The aforementioned list of elements\n",
    "qv_basis = (z, z1, w, k4, k5, MM(\"M<d_5a1h>\"), MM(\"M<d_675h>\"))\n",
    "qv = size_image(qv_basis, return_type=list, is_solv=True)\n",
    "\n",
    "unk_ = \u03c1**29\n",
    "L_E[4]**unk_ == z"
   ]
  },
  {
   "cell_type": "code",
   "execution_count": 437,
   "id": "4b971e58",
   "metadata": {},
   "outputs": [
    {
     "data": {
      "text/plain": [
       "64"
      ]
     },
     "execution_count": 437,
     "metadata": {},
     "output_type": "execute_result"
    }
   ],
   "source": [
    "len([x for x in qv if (x**unk_).in_Q_x0()])"
   ]
  },
  {
   "cell_type": "markdown",
   "id": "db93568c",
   "metadata": {},
   "source": [
    "In order to now show that $\\tilde{E} > T_1$ is an ark, recall\n",
    "from the proof of [Theorem 3.8](#norm2B5) that\n",
    "$\\langle z, z_1, w, k_4, k_5 \\rangle < \\tilde{E}$ is a group of\n",
    "conjugacy class $2^5$ Type 2 in $\\MM$. It clearly contains\n",
    "the index 2 subgroup $V < T_1$. The remaining cases can\n",
    "be easily verified by proving that all index 2 subgroups of $V$\n",
    "are conjugates of this one."
   ]
  },
  {
   "cell_type": "code",
   "execution_count": 438,
   "id": "2fe87a16",
   "metadata": {},
   "outputs": [
    {
     "data": {
      "text/plain": [
       "31"
      ]
     },
     "execution_count": 438,
     "metadata": {},
     "output_type": "execute_result"
    }
   ],
   "source": [
    "\u03c1.order()"
   ]
  },
  {
   "cell_type": "code",
   "execution_count": 439,
   "id": "1d4702af",
   "metadata": {},
   "outputs": [
    {
     "data": {
      "text/plain": [
       "True"
      ]
     },
     "execution_count": 439,
     "metadata": {},
     "output_type": "execute_result"
    }
   ],
   "source": [
    "check_normalise(T1_basis, [\u03c1], group_set=T1_as_int)"
   ]
  },
  {
   "cell_type": "code",
   "execution_count": 440,
   "id": "35231fb6",
   "metadata": {},
   "outputs": [
    {
     "data": {
      "text/plain": [
       "False"
      ]
     },
     "execution_count": 440,
     "metadata": {},
     "output_type": "execute_result"
    }
   ],
   "source": [
    "check_normalise((z, z1, w, k4), [\u03c1])"
   ]
  },
  {
   "cell_type": "markdown",
   "id": "ee0f0ed6",
   "metadata": {},
   "source": [
    "It follows the action of $\\rho$ generates $31 = 2^5 - 1$ conjugates of $V$ ---\n",
    "and the Type II $2^5$ embedding it --- in $\\tilde{E}$ (see next line of code),\n",
    "as 31 is prime. But this is exactly the number of index 2 subgroups\n",
    "of $T_1 \\cong 2^5$!\n",
    "\n",
    "With that settled, show the claimed generators belong\n",
    "to the normaliser of $\\tilde{E}$."
   ]
  },
  {
   "cell_type": "code",
   "execution_count": 441,
   "id": "8f9778b9",
   "metadata": {},
   "outputs": [
    {
     "data": {
      "text/plain": [
       "True"
      ]
     },
     "execution_count": 441,
     "metadata": {},
     "output_type": "execute_result"
    }
   ],
   "source": [
    "check_normalise(L_E, (*L_N, \u03c1))"
   ]
  },
  {
   "cell_type": "markdown",
   "id": "2a39a637",
   "metadata": {},
   "source": [
    "As for showing the entire normaliser is generated, consider three families of elements\n",
    "in $\\nm{\\tilde{E}}$:\n",
    "* the generators $\\left( g_{10}, h_{10} \\right)$, which (in particular) generate the $\\orth+{10}{2}$;"
   ]
  },
  {
   "cell_type": "code",
   "execution_count": 442,
   "id": "fc35d2ef",
   "metadata": {},
   "outputs": [],
   "source": [
    "F1 = L_N"
   ]
  },
  {
   "cell_type": "markdown",
   "id": "9cf3f3fe",
   "metadata": {},
   "source": [
    "* 7 generators of the projection of $\\cm{\\tilde{E}} < \\GG$ into $\\CO$;"
   ]
  },
  {
   "cell_type": "code",
   "execution_count": 443,
   "id": "d1e7b764",
   "metadata": {},
   "outputs": [],
   "source": [
    "B = (g10*h10)**21\n",
    "F2 = (B, B**h10, B**(h10**2), B**(h10**3), B**(h10*g10*h10**2), B**(h10**2*g10*h10**2), B**(h10**5), B**(h10**4*g10*h10))"
   ]
  },
  {
   "cell_type": "markdown",
   "id": "6db9a42a",
   "metadata": {},
   "source": [
    "* and 20 generators of $\\QQ \\cap \\cm{\\tilde{E}}$."
   ]
  },
  {
   "cell_type": "code",
   "execution_count": 444,
   "id": "094ace67",
   "metadata": {},
   "outputs": [],
   "source": [
    "F3 = [F2[6]*F2[7]*B**(h10*g10*h10**4)/(F2[2]*F2[4]), B**(h10**4), B**(h10**3*g10*h10), B**(h10*g10*h10**3), B**((h10*g10*h10)**2), B**(h10**2*(g10*h10)**3), B**(h10**2*g10*h10*g10*h10**5), B**(h10*g10*h10**6), F2[0]*F2[2]*F2[0]/F2[2], F2[1]*F2[5]*F2[1]/F2[5], F2[2]*F2[5]*F2[2]/F2[5], F2[3]*F2[5]*F2[3]/F2[5], F2[0]*F2[6]*F2[0]/F2[6], F2[3]*F2[6]*F2[3]/F2[6], F2[3]*F2[7]*F2[3]/F2[7], F2[4]*B**(h10**7)*F2[4]/B**(h10**7)]"
   ]
  },
  {
   "cell_type": "markdown",
   "id": "73b82ac5",
   "metadata": {},
   "source": [
    "First, show $\\langle g_{10}, h_{10} \\rangle$ act on $\\tilde{E}$\n",
    "as standard generators of the $\\orth+{10}{2}$, while members of the other 3 families act trivially.\n",
    "\n",
    "It suffices to test the images of generators of $\\tilde{E}$ under the action,\n",
    "as the conjugation action is an automorphism on $\\tilde{E}$."
   ]
  },
  {
   "cell_type": "code",
   "execution_count": 445,
   "id": "168568cc",
   "metadata": {},
   "outputs": [
    {
     "data": {
      "text/plain": [
       "1"
      ]
     },
     "execution_count": 445,
     "metadata": {},
     "output_type": "execute_result"
    }
   ],
   "source": [
    "act_on_e = lambda g: tuple(as_int(x**g) for x in L_E)\n",
    "size_image((*F2, *F3), act_on_e)"
   ]
  },
  {
   "cell_type": "code",
   "execution_count": 446,
   "id": "0a990a4c",
   "metadata": {},
   "outputs": [
    {
     "data": {
      "text/plain": [
       "17"
      ]
     },
     "execution_count": 446,
     "metadata": {},
     "output_type": "execute_result"
    }
   ],
   "source": [
    "size_image([g10*h10**2], act_on_e)"
   ]
  },
  {
   "cell_type": "code",
   "execution_count": 447,
   "id": "5f21abe7",
   "metadata": {},
   "outputs": [
    {
     "data": {
      "text/plain": [
       "31"
      ]
     },
     "execution_count": 447,
     "metadata": {},
     "output_type": "execute_result"
    }
   ],
   "source": [
    "size_image([(g10*h10**7)**2], act_on_e)"
   ]
  },
  {
   "cell_type": "markdown",
   "id": "8beb8d57",
   "metadata": {},
   "source": [
    "Since a check on the online ATLAS shows no maximal subgroup of $\\orth+{10}{2}$\n",
    "has order divisible by both 17 and 31, $g_{10}$ and $h_{10}$ are generators thereof.\n",
    "\n",
    "Furthermore, introduce 3 elements of $\\tilde{E}$, one of which projects\n",
    "to an element of order 60 in $\\orth+{10}{2}$:"
   ]
  },
  {
   "cell_type": "code",
   "execution_count": 448,
   "id": "ed6888ad",
   "metadata": {},
   "outputs": [
    {
     "data": {
      "text/plain": [
       "True"
      ]
     },
     "execution_count": 448,
     "metadata": {},
     "output_type": "execute_result"
    }
   ],
   "source": [
    "x60 = MM(\"M<y_196h*x_158bh*d_0a3dh*p_44870370*l_1*p_57699840*t_1>\")\n",
    "r = MM(\"M<y_12h*x_16d0h*d_893h*p_194072911*l_1*p_971520*t_1*l_1*p_2880*l_1*p_11704944*t_2>\")\n",
    "s = MM(\"M<y_5a4h*x_1679h*d_0d57h*p_9427896*t_1*l_1*p_3384960*l_2*t_1*l_1*p_2373120>\")\n",
    "check_normalise(L_E, (x60, r, s))"
   ]
  },
  {
   "cell_type": "code",
   "execution_count": 449,
   "id": "18a26ea6",
   "metadata": {},
   "outputs": [
    {
     "data": {
      "text/plain": [
       "60"
      ]
     },
     "execution_count": 449,
     "metadata": {},
     "output_type": "execute_result"
    }
   ],
   "source": [
    "size_image([x60], act_on_e)"
   ]
  },
  {
   "cell_type": "markdown",
   "id": "c25fe801",
   "metadata": {},
   "source": [
    "The action of $x_{60}$ on $U$ thus has order 60. The GAP character table library\n",
    "reveals all elements of order 60 in $\\orth+{10}{2}$ have 3^rd powers in conjugacy class 20A\n",
    "and thus 30^th powers in 2A, so checking"
   ]
  },
  {
   "cell_type": "code",
   "execution_count": 450,
   "id": "2aa51613",
   "metadata": {},
   "outputs": [
    {
     "data": {
      "text/plain": [
       "True"
      ]
     },
     "execution_count": 450,
     "metadata": {},
     "output_type": "execute_result"
    }
   ],
   "source": [
    "g10 == (x60**30)**r"
   ]
  },
  {
   "cell_type": "code",
   "execution_count": 451,
   "id": "c40b5c7f",
   "metadata": {},
   "outputs": [
    {
     "data": {
      "text/plain": [
       "True"
      ]
     },
     "execution_count": 451,
     "metadata": {},
     "output_type": "execute_result"
    }
   ],
   "source": [
    "h10 == (x60**3)**s"
   ]
  },
  {
   "cell_type": "code",
   "execution_count": 452,
   "id": "8ac59f4e",
   "metadata": {},
   "outputs": [
    {
     "data": {
      "text/plain": [
       "21"
      ]
     },
     "execution_count": 452,
     "metadata": {},
     "output_type": "execute_result"
    }
   ],
   "source": [
    "size_image([g10*h10], act_on_e)"
   ]
  },
  {
   "cell_type": "markdown",
   "id": "b38d311e",
   "metadata": {},
   "source": [
    "ensures $g_{10}$ projects to an element in class 2A, $h_{10}$ to one in class 20A,\n",
    "and $g_{10}h_{10}$ to an element of order 21. This makes the actions of\n",
    "$g_{10}$, $h_{10}$ standard generators for the $\\orth+{10}{2}$.\n",
    "\n",
    "Now, verifying that all elements of $\\mathcal{F}_2$ and\n",
    "$\\mathcal{F}_3$ do indeed lie in $\\GG = \\QQ.\\CO$ ..."
   ]
  },
  {
   "cell_type": "code",
   "execution_count": 453,
   "id": "25f4400c",
   "metadata": {},
   "outputs": [
    {
     "data": {
      "text/plain": [
       "True"
      ]
     },
     "execution_count": 453,
     "metadata": {},
     "output_type": "execute_result"
    }
   ],
   "source": [
    "all(x.in_G_x0() for x in (*F2, *F3))"
   ]
  },
  {
   "cell_type": "markdown",
   "id": "41bebbc8",
   "metadata": {},
   "source": [
    "show that $\\mathcal{F}_2$ generates $2^9$ cosets of $\\QQ$ in $\\GG$."
   ]
  },
  {
   "cell_type": "code",
   "execution_count": 454,
   "id": "d8d7a284",
   "metadata": {},
   "outputs": [
    {
     "data": {
      "text/plain": [
       "512"
      ]
     },
     "execution_count": 454,
     "metadata": {},
     "output_type": "execute_result"
    }
   ],
   "source": [
    "size_image(F2, to_co1)"
   ]
  },
  {
   "cell_type": "markdown",
   "id": "1e00e47d",
   "metadata": {},
   "source": [
    "Finally, verify that $\\mathcal{F}_3$ generates a subgroup of $\\QQ$\n",
    "with order $2^{17}$. Note the second element of the output is `True`, so that\n",
    "the result is trustworthy."
   ]
  },
  {
   "cell_type": "code",
   "execution_count": 455,
   "id": "9874fcaf",
   "metadata": {},
   "outputs": [
    {
     "data": {
      "text/plain": [
       "(17, True)"
      ]
     },
     "execution_count": 455,
     "metadata": {},
     "output_type": "execute_result"
    }
   ],
   "source": [
    "dim_q(F3)"
   ]
  },
  {
   "cell_type": "markdown",
   "id": "86f0d7ea",
   "metadata": {},
   "source": [
    "In summary, it is possible to find in $\\langle g_{10}, h_{10} \\rangle \\le \\nm{\\tilde{E}}$:\n",
    "* $2^{17}$ elements of $\\QQ$, all of which act trivially on $\\tilde{E}$;\n",
    "* $2^9$ elements of $\\GG = \\QQ.\\CO$ which lie in distinct cosets of $\\QQ$,\n",
    "all of which act trivially on $\\tilde{E}$;\n",
    "* $\\left| \\orth+{10}{2} \\right|$ elements which act differently on $\\tilde{E}$.\n",
    "\n",
    "It follows $\\left| \\langle g_{10}, h_{10} \\rangle \\right| \\ge 2^{17} \\cdot 2^{9}\n",
    "\\left| \\orth+{10}{2} \\right| = \\left| 2^{10+16} \\udot \\orth+{10}{2} \\right|$,\n",
    "so that $\\langle g_{10}, h_{10} \\rangle = \\nm{\\tilde{E}}$."
   ]
  },
  {
   "cell_type": "markdown",
   "id": "197c6e0d",
   "metadata": {},
   "source": [
    "# $\\alt{5}$ in the Monster <a id=\"lemma\"></a>\n",
    "We confirm the pairs of generators in `A5_dict` generate $\\alt{5}$s of\n",
    "the appropriate types.\n",
    "\n",
    "First, verify that each pair consists of non-trivial elements satisfying\n",
    "the presentation $\\langle a, b \\mid a^2, b^3, \\left( ab \\right)^5 \\rangle$\n",
    "for $\\alt{5}$. Since $\\alt{5}$ is simple, it follows by Von Dyck's theorem\n",
    "that they generate groups isomorphic to it."
   ]
  },
  {
   "cell_type": "code",
   "execution_count": 456,
   "id": "057bfc79",
   "metadata": {},
   "outputs": [
    {
     "data": {
      "text/plain": [
       "True"
      ]
     },
     "execution_count": 456,
     "metadata": {},
     "output_type": "execute_result"
    }
   ],
   "source": [
    "all(g2.order() == 2 and g3.order() == 3 and (g2*g3).order() == 5 for g2, g3 in A5_dict.values())"
   ]
  },
  {
   "cell_type": "markdown",
   "id": "5b468c5c",
   "metadata": {},
   "source": [
    "With the shape of the groups established, now confirm that their elements\n",
    "of orders 2, 3, and 5 fuse to the correct conjugacy classes of the Monster.\n",
    "Since $\\alt{5}$ contains unique conjugacy classes of elements\n",
    "with each of these orders, it is enough to confirm that $\\chi_\\MM$ values of\n",
    "(suitable conjugates of) the generators and their products correspond\n",
    "to the correct $\\MM$-classes."
   ]
  },
  {
   "cell_type": "code",
   "execution_count": 457,
   "id": "2bbeae4d",
   "metadata": {},
   "outputs": [
    {
     "data": {
      "text/plain": [
       "True"
      ]
     },
     "execution_count": 457,
     "metadata": {},
     "output_type": "execute_result"
    }
   ],
   "source": [
    "g2_AAA, g3_AAA = A5_dict[\"AAA\"]\n",
    "g2_AAA.in_G_x0() and g3_AAA.in_G_x0()"
   ]
  },
  {
   "cell_type": "code",
   "execution_count": 458,
   "id": "08113d0e",
   "metadata": {},
   "outputs": [
    {
     "data": {
      "text/plain": [
       "4371"
      ]
     },
     "execution_count": 458,
     "metadata": {},
     "output_type": "execute_result"
    }
   ],
   "source": [
    "g2_AAA.chi_G_x0()[0]"
   ]
  },
  {
   "cell_type": "code",
   "execution_count": 459,
   "id": "8437299d",
   "metadata": {},
   "outputs": [
    {
     "data": {
      "text/plain": [
       "782"
      ]
     },
     "execution_count": 459,
     "metadata": {},
     "output_type": "execute_result"
    }
   ],
   "source": [
    "g3_AAA.chi_G_x0()[0]"
   ]
  },
  {
   "cell_type": "code",
   "execution_count": 460,
   "id": "a0e0e3dd",
   "metadata": {},
   "outputs": [
    {
     "data": {
      "text/plain": [
       "133"
      ]
     },
     "execution_count": 460,
     "metadata": {},
     "output_type": "execute_result"
    }
   ],
   "source": [
    "(g2_AAA*g3_AAA).chi_G_x0()[0]"
   ]
  },
  {
   "cell_type": "code",
   "execution_count": 461,
   "id": "a55fa4e2",
   "metadata": {},
   "outputs": [
    {
     "data": {
      "text/plain": [
       "True"
      ]
     },
     "execution_count": 461,
     "metadata": {},
     "output_type": "execute_result"
    }
   ],
   "source": [
    "g2_BAA, g3_BAA = A5_dict[\"BAA\"]\n",
    "g2_BAA.in_G_x0() and g3_BAA.in_G_x0()"
   ]
  },
  {
   "cell_type": "code",
   "execution_count": 462,
   "id": "8c090548",
   "metadata": {},
   "outputs": [
    {
     "data": {
      "text/plain": [
       "275"
      ]
     },
     "execution_count": 462,
     "metadata": {},
     "output_type": "execute_result"
    }
   ],
   "source": [
    "g2_BAA.chi_G_x0()[0]"
   ]
  },
  {
   "cell_type": "code",
   "execution_count": 463,
   "id": "9128f081",
   "metadata": {},
   "outputs": [
    {
     "data": {
      "text/plain": [
       "782"
      ]
     },
     "execution_count": 463,
     "metadata": {},
     "output_type": "execute_result"
    }
   ],
   "source": [
    "g3_BAA.chi_G_x0()[0]"
   ]
  },
  {
   "cell_type": "code",
   "execution_count": 464,
   "id": "69342b6a",
   "metadata": {},
   "outputs": [
    {
     "data": {
      "text/plain": [
       "133"
      ]
     },
     "execution_count": 464,
     "metadata": {},
     "output_type": "execute_result"
    }
   ],
   "source": [
    "(g2_BAA*g3_BAA).chi_G_x0()[0]"
   ]
  },
  {
   "cell_type": "code",
   "execution_count": 465,
   "id": "915c22e8",
   "metadata": {},
   "outputs": [
    {
     "data": {
      "text/plain": [
       "True"
      ]
     },
     "execution_count": 465,
     "metadata": {},
     "output_type": "execute_result"
    }
   ],
   "source": [
    "g2_BBA, g3_BBA = A5_dict[\"BBA\"]\n",
    "\n",
    "# The following elements conjugate g3_BBA, g2_BBA*g3_BBA into G_x0\n",
    "c = MM(\"M<y_0ch*x_184h*d_4b4h*p_44816786*l_2*p_3840*l_2*p_2112*l_2*p_10267200*t_1*l_1*p_35520*l_2*t_2*l_1*p_2937600*t_1*l_2*p_2386560*l_2*p_42753057*t_2>\")\n",
    "d = MM(\"M<y_48eh*x_3f5h*d_698h*p_145537752*l_2*p_49272960*l_1*p_140638080*l_2*t_1*l_2*p_960*l_2*p_10665888*l_2*p_1142400*t_2*l_2*p_59030400*l_1*p_200069808*l_1*t_2*l_1*p_4012800*t_2*l_2*p_1943040*l_2*p_53459098*t_1*l_2*p_1985280*l_1*p_21364949*t_1*l_2*p_63909120>\")\n",
    "g3_conj, g5_conj = g3_BBA**c, (g2_BBA*g3_BBA)**d\n",
    "g3_conj.in_G_x0() and g5_conj.in_G_x0()"
   ]
  },
  {
   "cell_type": "code",
   "execution_count": 466,
   "id": "87c6782b",
   "metadata": {},
   "outputs": [
    {
     "data": {
      "text/plain": [
       "2"
      ]
     },
     "execution_count": 466,
     "metadata": {},
     "output_type": "execute_result"
    }
   ],
   "source": [
    "g2_BBA.conjugate_involution()[0]"
   ]
  },
  {
   "cell_type": "code",
   "execution_count": 467,
   "id": "0baa786a",
   "metadata": {},
   "outputs": [
    {
     "data": {
      "text/plain": [
       "53"
      ]
     },
     "execution_count": 467,
     "metadata": {},
     "output_type": "execute_result"
    }
   ],
   "source": [
    "g3_conj.chi_G_x0()[0]"
   ]
  },
  {
   "cell_type": "code",
   "execution_count": 468,
   "id": "04b0eab4",
   "metadata": {},
   "outputs": [
    {
     "data": {
      "text/plain": [
       "133"
      ]
     },
     "execution_count": 468,
     "metadata": {},
     "output_type": "execute_result"
    }
   ],
   "source": [
    "g5_conj.chi_G_x0()[0]"
   ]
  },
  {
   "cell_type": "code",
   "execution_count": 469,
   "id": "20215bf2",
   "metadata": {},
   "outputs": [
    {
     "data": {
      "text/plain": [
       "True"
      ]
     },
     "execution_count": 469,
     "metadata": {},
     "output_type": "execute_result"
    }
   ],
   "source": [
    "g2_ACA, g3_ACA = A5_dict[\"ACA\"]\n",
    "g2_ACA.in_G_x0() and g3_ACA.in_G_x0()"
   ]
  },
  {
   "cell_type": "code",
   "execution_count": 470,
   "id": "8a6ec7c0",
   "metadata": {},
   "outputs": [
    {
     "data": {
      "text/plain": [
       "4371"
      ]
     },
     "execution_count": 470,
     "metadata": {},
     "output_type": "execute_result"
    }
   ],
   "source": [
    "g2_ACA.chi_G_x0()[0]"
   ]
  },
  {
   "cell_type": "code",
   "execution_count": 471,
   "id": "a11f4f3e",
   "metadata": {},
   "outputs": [
    {
     "data": {
      "text/plain": [
       "-1"
      ]
     },
     "execution_count": 471,
     "metadata": {},
     "output_type": "execute_result"
    }
   ],
   "source": [
    "g3_ACA.chi_G_x0()[0]"
   ]
  },
  {
   "cell_type": "code",
   "execution_count": 472,
   "id": "a12468f3",
   "metadata": {},
   "outputs": [
    {
     "data": {
      "text/plain": [
       "133"
      ]
     },
     "execution_count": 472,
     "metadata": {},
     "output_type": "execute_result"
    }
   ],
   "source": [
    "(g2_ACA*g3_ACA).chi_G_x0()[0]"
   ]
  },
  {
   "cell_type": "code",
   "execution_count": 473,
   "id": "b1e0c8d3",
   "metadata": {},
   "outputs": [
    {
     "data": {
      "text/plain": [
       "True"
      ]
     },
     "execution_count": 473,
     "metadata": {},
     "output_type": "execute_result"
    }
   ],
   "source": [
    "g2_BCA, g3_BCA = A5_dict[\"BCA\"]\n",
    "g2_BCA.in_G_x0() and g3_BCA.in_G_x0()"
   ]
  },
  {
   "cell_type": "code",
   "execution_count": 474,
   "id": "0f747e91",
   "metadata": {},
   "outputs": [
    {
     "data": {
      "text/plain": [
       "275"
      ]
     },
     "execution_count": 474,
     "metadata": {},
     "output_type": "execute_result"
    }
   ],
   "source": [
    "g2_BCA.chi_G_x0()[0]"
   ]
  },
  {
   "cell_type": "code",
   "execution_count": 475,
   "id": "ebaae877",
   "metadata": {},
   "outputs": [
    {
     "data": {
      "text/plain": [
       "-1"
      ]
     },
     "execution_count": 475,
     "metadata": {},
     "output_type": "execute_result"
    }
   ],
   "source": [
    "g3_BCA.chi_G_x0()[0]"
   ]
  },
  {
   "cell_type": "code",
   "execution_count": 476,
   "id": "4e3f8541",
   "metadata": {},
   "outputs": [
    {
     "data": {
      "text/plain": [
       "133"
      ]
     },
     "execution_count": 476,
     "metadata": {},
     "output_type": "execute_result"
    }
   ],
   "source": [
    "(g2_BCA*g3_BCA).chi_G_x0()[0]"
   ]
  },
  {
   "cell_type": "code",
   "execution_count": 477,
   "id": "ffd0fe18",
   "metadata": {},
   "outputs": [
    {
     "data": {
      "text/plain": [
       "True"
      ]
     },
     "execution_count": 477,
     "metadata": {},
     "output_type": "execute_result"
    }
   ],
   "source": [
    "g2_BCB, g3_BCB = A5_dict[\"BCB\"]\n",
    "g2_BCB.in_G_x0() and g3_BCB.in_G_x0()"
   ]
  },
  {
   "cell_type": "code",
   "execution_count": 478,
   "id": "cd59136c",
   "metadata": {},
   "outputs": [
    {
     "data": {
      "text/plain": [
       "275"
      ]
     },
     "execution_count": 478,
     "metadata": {},
     "output_type": "execute_result"
    }
   ],
   "source": [
    "g2_BCB.chi_G_x0()[0]"
   ]
  },
  {
   "cell_type": "code",
   "execution_count": 479,
   "id": "12698c64",
   "metadata": {},
   "outputs": [
    {
     "data": {
      "text/plain": [
       "-1"
      ]
     },
     "execution_count": 479,
     "metadata": {},
     "output_type": "execute_result"
    }
   ],
   "source": [
    "g3_BCB.chi_G_x0()[0]"
   ]
  },
  {
   "cell_type": "code",
   "execution_count": 480,
   "id": "bf676726",
   "metadata": {},
   "outputs": [
    {
     "data": {
      "text/plain": [
       "8"
      ]
     },
     "execution_count": 480,
     "metadata": {},
     "output_type": "execute_result"
    }
   ],
   "source": [
    "(g2_BCB*g3_BCB).chi_G_x0()[0]"
   ]
  },
  {
   "cell_type": "code",
   "execution_count": 481,
   "id": "2ff3ba11",
   "metadata": {},
   "outputs": [
    {
     "data": {
      "text/plain": [
       "True"
      ]
     },
     "execution_count": 481,
     "metadata": {},
     "output_type": "execute_result"
    }
   ],
   "source": [
    "g2_B, g3_B = A5_dict[\"B\"]\n",
    "g2_T, g3_T = A5_dict[\"T\"]\n",
    "\n",
    "# The following elements (from Pisani and Popiel) conjugate g3_B, g2_B*g3_B into G_x0\n",
    "c = MM(\"M<y_0adh*x_128h*d_9bh*p_152633473*l_2*p_60804480*l_1*p_243091248*l_2*t_1*l_1*p_68787840*l_1*p_212044848*l_1*t_2*l_1*p_1499520*l_1*p_32535003*l_1*t_1*l_1*p_2027520*l_1*p_11521*t_1*l_2*p_783360*t_2*l_2*p_2830080*l_2*p_86257556*t_1*l_2*p_1943040*l_2*p_96477752*t_1*l_2*p_2956800*l_1*p_43197549>\")\n",
    "d = MM(\"M<y_4f1h*x_9bch*d_0f77h*p_106507260*l_1*p_80762880*l_2*p_213375504*t_2*l_1*p_1499520*l_2*p_583047*t_2*l_2*p_1900800*l_2*p_1040998*t_2*l_2*p_2386560*l_2*p_21331401*t_1>\")\n",
    "g3_conj, g5_conj = g3_B**c, (g2_B*g3_B)**d\n",
    "g3_conj.in_G_x0() and g5_conj.in_G_x0()"
   ]
  },
  {
   "cell_type": "code",
   "execution_count": 482,
   "id": "3c492e58",
   "metadata": {},
   "outputs": [
    {
     "data": {
      "text/plain": [
       "2"
      ]
     },
     "execution_count": 482,
     "metadata": {},
     "output_type": "execute_result"
    }
   ],
   "source": [
    "g2_B.conjugate_involution()[0]"
   ]
  },
  {
   "cell_type": "code",
   "execution_count": 483,
   "id": "e59701b8",
   "metadata": {},
   "outputs": [
    {
     "data": {
      "text/plain": [
       "53"
      ]
     },
     "execution_count": 483,
     "metadata": {},
     "output_type": "execute_result"
    }
   ],
   "source": [
    "g3_conj.chi_G_x0()[0]"
   ]
  },
  {
   "cell_type": "code",
   "execution_count": 484,
   "id": "758db298",
   "metadata": {},
   "outputs": [
    {
     "data": {
      "text/plain": [
       "8"
      ]
     },
     "execution_count": 484,
     "metadata": {},
     "output_type": "execute_result"
    }
   ],
   "source": [
    "g5_conj.chi_G_x0()[0]"
   ]
  },
  {
   "cell_type": "code",
   "execution_count": 485,
   "id": "4c1f40b2",
   "metadata": {},
   "outputs": [
    {
     "data": {
      "text/plain": [
       "True"
      ]
     },
     "execution_count": 485,
     "metadata": {},
     "output_type": "execute_result"
    }
   ],
   "source": [
    "# The following elements conjugate g3_T, g2_T*g3_T into G_x0\n",
    "c = MM(\"M<y_4fah*x_4e4h*d_0a09h*p_177449985*l_1*p_1920*l_2*p_2256*l_2*p_513600*t_2*l_1*p_9778560*l_2*p_127776000*t_2*l_1*p_1499520*l_1*p_43638176*t_2*l_1*p_2027520*l_1*p_10691751*l_1*t_2*l_1*p_1457280*l_2*p_1461619>\")\n",
    "d = MM(\"M<y_0c0h*x_4bbh*d_7bfh*p_222689108*l_1*p_3840*l_2*p_465936*l_2*p_6106560*t_1*l_1*p_2494080*l_1*t_2*l_1*p_2325120*t_2*l_2*p_1985280*l_1*p_21368810*t_2>\")\n",
    "g3_conj, g5_conj = g3_T**c, (g2_T*g3_T)**d\n",
    "g3_conj.in_G_x0() and g5_conj.in_G_x0()"
   ]
  },
  {
   "cell_type": "code",
   "execution_count": 486,
   "id": "2f70173a",
   "metadata": {},
   "outputs": [
    {
     "data": {
      "text/plain": [
       "2"
      ]
     },
     "execution_count": 486,
     "metadata": {},
     "output_type": "execute_result"
    }
   ],
   "source": [
    "g2_T.conjugate_involution()[0]"
   ]
  },
  {
   "cell_type": "code",
   "execution_count": 487,
   "id": "1e75cd58",
   "metadata": {},
   "outputs": [
    {
     "data": {
      "text/plain": [
       "53"
      ]
     },
     "execution_count": 487,
     "metadata": {},
     "output_type": "execute_result"
    }
   ],
   "source": [
    "g3_conj.chi_G_x0()[0]"
   ]
  },
  {
   "cell_type": "code",
   "execution_count": 488,
   "id": "87be2e1a",
   "metadata": {},
   "outputs": [
    {
     "data": {
      "text/plain": [
       "8"
      ]
     },
     "execution_count": 488,
     "metadata": {},
     "output_type": "execute_result"
    }
   ],
   "source": [
    "g5_conj.chi_G_x0()[0]"
   ]
  },
  {
   "cell_type": "markdown",
   "id": "16d5c2cb",
   "metadata": {},
   "source": [
    "This completes the proof for all except the type B and T subgroups $\\alt{5}$,\n",
    "which cannot be distinguished on the basis of its class fusions alone. Show\n",
    "that the normaliser of the former contains an element of $y_4$ of\n",
    "order 4 such that $y_4^2 \\notin \\langle g_{2B}, g_{3B} \\rangle$, which is\n",
    "not the case for the normaliser $\\sym{5} \\times \\sym{3}$ of a type T $\\alt{5}$,\n",
    "and that the centraliser of the latter contains $y_3 \\in \\MM$ of order 3,\n",
    "unlike the centraliser 2 of a type B $\\alt{5}$:"
   ]
  },
  {
   "cell_type": "code",
   "execution_count": 489,
   "id": "b4a7e20b",
   "metadata": {},
   "outputs": [
    {
     "data": {
      "text/plain": [
       "3"
      ]
     },
     "execution_count": 489,
     "metadata": {},
     "output_type": "execute_result"
    }
   ],
   "source": [
    "y3 = MM(\"M<y_714h*x_593h*d_6dh*p_225335367*l_1*p_1415040*l_2*p_22416*l_1*p_1974720>\")\n",
    "y3.order()"
   ]
  },
  {
   "cell_type": "code",
   "execution_count": 490,
   "id": "27cee9d5",
   "metadata": {},
   "outputs": [
    {
     "data": {
      "text/plain": [
       "True"
      ]
     },
     "execution_count": 490,
     "metadata": {},
     "output_type": "execute_result"
    }
   ],
   "source": [
    "g2_T*y3 == y3*g2_T"
   ]
  },
  {
   "cell_type": "code",
   "execution_count": 491,
   "id": "ad91a2ef",
   "metadata": {},
   "outputs": [
    {
     "data": {
      "text/plain": [
       "True"
      ]
     },
     "execution_count": 491,
     "metadata": {},
     "output_type": "execute_result"
    }
   ],
   "source": [
    "g3_T*y3 == y3*g3_T"
   ]
  },
  {
   "cell_type": "code",
   "execution_count": 492,
   "id": "9702ad70",
   "metadata": {},
   "outputs": [
    {
     "data": {
      "text/plain": [
       "4"
      ]
     },
     "execution_count": 492,
     "metadata": {},
     "output_type": "execute_result"
    }
   ],
   "source": [
    "# The following element comes from Pisani and Popiel\n",
    "y4 = MM(\"M<y_163h*x_1c92h*d_608h*p_59179108*l_1*p_2999040*l_1*p_43617991*t_1*l_2*p_2880*l_2*p_2160*l_2*p_2369280*t_2*l_2*p_1457280*l_1*p_1860708*l_2*t_2*l_2*p_2386560*l_2*p_85819731*t_1*l_2*p_1943040*l_2*p_42707029*t_2*l_2*p_2386560*l_2*p_21439072*t_1*l_1*p_1457280*l_2*p_10566>\")\n",
    "y4.order()"
   ]
  },
  {
   "cell_type": "code",
   "execution_count": 493,
   "id": "fe13db78",
   "metadata": {},
   "outputs": [
    {
     "data": {
      "text/plain": [
       "True"
      ]
     },
     "execution_count": 493,
     "metadata": {},
     "output_type": "execute_result"
    }
   ],
   "source": [
    "g2_B*y4 == y4*g2_B"
   ]
  },
  {
   "cell_type": "code",
   "execution_count": 494,
   "id": "3787b84c",
   "metadata": {},
   "outputs": [
    {
     "data": {
      "text/plain": [
       "True"
      ]
     },
     "execution_count": 494,
     "metadata": {},
     "output_type": "execute_result"
    }
   ],
   "source": [
    "g3_B**y4 == g2_B*g3_B**2*g2_B*g3_B*g2_B*g3_B**2"
   ]
  },
  {
   "cell_type": "code",
   "execution_count": 495,
   "id": "b66744e0",
   "metadata": {},
   "outputs": [
    {
     "data": {
      "text/plain": [
       "True"
      ]
     },
     "execution_count": 495,
     "metadata": {},
     "output_type": "execute_result"
    }
   ],
   "source": [
    "g3_B**(y4**2) == g3_B"
   ]
  },
  {
   "cell_type": "markdown",
   "id": "7d3c2ec6",
   "metadata": {},
   "source": [
    "Since $y_4^2$ centralises $\\langle g_{2B}, g_{3B} \\rangle \\cong \\alt{5}$\n",
    "(indeed, $y_4$ itself commutes with $g_{2B}$), a group\n",
    "with trivial centre, $y_4^2 \\notin \\langle g_{2B}, g_{3B} \\rangle$."
   ]
  },
  {
   "cell_type": "markdown",
   "id": "8c9f3b8b",
   "metadata": {},
   "source": [
    "# Projective Linear Groups\n",
    "\n",
    "## $\\psl{2}{71}$ <a id=\"psl2_71\"></a>\n",
    "Generators are given by:"
   ]
  },
  {
   "cell_type": "code",
   "execution_count": 496,
   "id": "50b8b306",
   "metadata": {},
   "outputs": [],
   "source": [
    "g71 = MM(\"M<y_3b5h*x_1d10h*d_0b5ch*p_212508477*l_2*p_1920*l_2*p_22272*l_2*p_495360*t_2*l_1*p_465600*l_2*p_1521072*l_2*t_2*l_2*p_2787840*l_2*p_21873173*l_2*t_2*l_2*p_1900800*l_2*p_11554*t_2*l_2*p_2830080*l_2*p_64086265*t_1*l_2*p_1985280*l_1*p_53804514*t_2*l_1*p_1394880*l_2*p_43255296*t_2*l_2*p_2386560*l_2*p_96463249>\")\n",
    "h71 = MM(\"M<y_95h*x_416h*d_7ech*p_164312929*l_1*p_2640000*l_1*p_467830*t_2*l_2*p_1858560*l_1*p_33391008*l_2*t_2*l_1*p_1457280*l_2*p_21873077*l_1*t_2*l_1*p_2115840*l_1*t_2*l_2*p_1943040*l_2*p_10799414*t_2*l_2*p_2597760*l_1*p_85416595*t_2*l_2*p_1858560*l_1*p_128112*t_1*l_2*p_2386560*l_2*p_64001593>\")"
   ]
  },
  {
   "cell_type": "markdown",
   "id": "b88c86c5",
   "metadata": {},
   "source": [
    "Since this is a simple group embedded uniquely up to conjugacy in $\\MM$, it suffices\n",
    "to confirm that the above elements generate a group isomorphism to $\\psl{2}{71}$."
   ]
  },
  {
   "cell_type": "code",
   "execution_count": 497,
   "id": "9368f37b",
   "metadata": {},
   "outputs": [
    {
     "data": {
      "text/plain": [
       "True"
      ]
     },
     "execution_count": 497,
     "metadata": {},
     "output_type": "execute_result"
    }
   ],
   "source": [
    "test_xsl(g71, h71, 71)"
   ]
  },
  {
   "cell_type": "markdown",
   "id": "63f41677",
   "metadata": {},
   "source": [
    "Although unnecessary, it is also easy to verify that this group contains\n",
    "a B-type $\\alt{5}$ in agreement with Holmes and Wilson."
   ]
  },
  {
   "cell_type": "code",
   "execution_count": 498,
   "id": "ee33a571",
   "metadata": {},
   "outputs": [
    {
     "data": {
      "text/plain": [
       "True"
      ]
     },
     "execution_count": 498,
     "metadata": {},
     "output_type": "execute_result"
    }
   ],
   "source": [
    "g2_B, g3_B = A5_dict[\"B\"]\n",
    "g71*h71 == g3_B"
   ]
  },
  {
   "cell_type": "code",
   "execution_count": 499,
   "id": "7c65e1ef",
   "metadata": {},
   "outputs": [
    {
     "data": {
      "text/plain": [
       "True"
      ]
     },
     "execution_count": 499,
     "metadata": {},
     "output_type": "execute_result"
    }
   ],
   "source": [
    "h71**(g71*h71*g71**5*(h71*g71**3)**2*g71) == g2_B"
   ]
  },
  {
   "cell_type": "markdown",
   "id": "c54da889",
   "metadata": {},
   "source": [
    "## $\\psl{2}{41}$ <a id=\"psl2_41\"></a>\n",
    "Generators are given by:"
   ]
  },
  {
   "cell_type": "code",
   "execution_count": 500,
   "id": "ba73aa51",
   "metadata": {},
   "outputs": [],
   "source": [
    "g41 = MM(\"M<y_106h*x_0abbh*d_0f89h*p_232234994*l_2*p_2597760*l_1*p_1107499*t_1*l_2*p_1900800*l_2*p_12128135*l_1*t_1*l_1*p_1393920*l_1*p_10668816*l_1*p_2517120*t_1*l_2*p_1943040*l_2*p_11247744*t_2*l_1*p_1415040*l_2*p_465936*l_1*p_2578560*t_2*l_2*p_2386560*l_2*p_42736709*t_2*l_1*p_1499520*l_2*p_96456658>\")\n",
    "h41 = MM(\"M<y_12ch*x_17d8h*d_743h*p_14762554*l_2*p_1900800*l_2*p_12556439*t_2*l_2*p_2787840*l_2*p_11730776*l_1*t_2*l_2*p_2787840*l_2*p_22751364*l_1*t_2*l_2*p_2344320*l_2*p_152071*t_1*l_2*p_1943040*l_2*p_85413717*t_1*l_2*p_1943040*l_2*p_53436230*t_1*l_2*p_2830080*l_2*p_53907457>\")"
   ]
  },
  {
   "cell_type": "markdown",
   "id": "177c637a",
   "metadata": {},
   "source": [
    "Since this is a simple group embedded uniquely up to conjugacy in $\\MM$, it suffices\n",
    "to confirm that the above elements generate a group isomorphism to $\\psl{2}{41}$."
   ]
  },
  {
   "cell_type": "code",
   "execution_count": 501,
   "id": "637f5403",
   "metadata": {},
   "outputs": [
    {
     "data": {
      "text/plain": [
       "True"
      ]
     },
     "execution_count": 501,
     "metadata": {},
     "output_type": "execute_result"
    }
   ],
   "source": [
    "test_xsl(g41, h41, 41)"
   ]
  },
  {
   "cell_type": "markdown",
   "id": "53a5db7a",
   "metadata": {},
   "source": [
    "Although unnecessary, it is also easy to verify that this group contains\n",
    "a B-type $\\alt{5}$ in agreement with Holmes and Wilson."
   ]
  },
  {
   "cell_type": "code",
   "execution_count": 502,
   "id": "a23aa94a",
   "metadata": {},
   "outputs": [
    {
     "data": {
      "text/plain": [
       "True"
      ]
     },
     "execution_count": 502,
     "metadata": {},
     "output_type": "execute_result"
    }
   ],
   "source": [
    "g2_B, g3_B = A5_dict[\"B\"]\n",
    "g41*h41 == g3_B"
   ]
  },
  {
   "cell_type": "code",
   "execution_count": 503,
   "id": "1d78e84c",
   "metadata": {},
   "outputs": [
    {
     "data": {
      "text/plain": [
       "True"
      ]
     },
     "execution_count": 503,
     "metadata": {},
     "output_type": "execute_result"
    }
   ],
   "source": [
    "h41**(g41**5*h41*g41**2) == g2_B"
   ]
  },
  {
   "cell_type": "markdown",
   "id": "c45f859b",
   "metadata": {},
   "source": [
    "## $\\pgl{2}{29}$ <a id=\"pgl2_29\"></a>\n",
    "Note that Dietrich et al. have previously provided a substantially similar construction and proof;\n",
    "however, the following was obtained independently.\n",
    "\n",
    "Generators are"
   ]
  },
  {
   "cell_type": "code",
   "execution_count": 504,
   "id": "a14f3704",
   "metadata": {},
   "outputs": [],
   "source": [
    "g29 = MM(\"M<y_458h*x_146bh*d_7bbh*p_10221541*l_2*p_2787840*l_2*p_971712*t_1*l_2*p_2386560*l_2*p_29955*l_1*t_1*l_2*p_2597760*l_1*p_22310016*l_2*t_1*l_2*p_1943040*l_2*p_85329042*t_1*l_1*p_2640000*l_1*p_255959*t_1*l_2*p_1858560*l_1*p_10668720*l_2*p_1044480*t_2*l_1*p_1930560*l_1*t_2*l_1*p_68344320*l_1*p_243978336>\")\n",
    "h29 = MM(\"M<y_1d6h*x_1077h*d_0f7dh*p_242733094*l_2*p_1457280*l_1*p_28995*t_2*l_2*p_2787840*l_2*p_33417088*l_1*t_1*l_1*p_1394880*l_2*p_23232*l_1*p_980160*t_2*l_1*p_1457280*l_2*p_1026641*t_1*l_2*p_1985280*l_1*p_64084336*t_2*l_2*p_2956800*l_1*p_170654226*t_1*l_2*p_2597760*l_1*p_106698926>\")"
   ]
  },
  {
   "cell_type": "markdown",
   "id": "b674e0b5",
   "metadata": {},
   "source": [
    "It suffices to verify we have a subgroup of the correct structure,\n",
    "as these form a unique conjugacy class of subgroups (which are maximal).\n",
    "To this end, employ test_pgl."
   ]
  },
  {
   "cell_type": "code",
   "execution_count": 505,
   "id": "a6094ad2",
   "metadata": {},
   "outputs": [
    {
     "data": {
      "text/plain": [
       "True"
      ]
     },
     "execution_count": 505,
     "metadata": {},
     "output_type": "execute_result"
    }
   ],
   "source": [
    "test_pgl(g29, h29, 29)"
   ]
  },
  {
   "cell_type": "markdown",
   "id": "1c165f27",
   "metadata": {},
   "source": [
    "This completes the proof. For verification's sake,\n",
    "show the group contains a B-type $\\alt{5}$ in agreement\n",
    "with Holmes and Wilson."
   ]
  },
  {
   "cell_type": "code",
   "execution_count": 506,
   "id": "925dabc3",
   "metadata": {},
   "outputs": [
    {
     "data": {
      "text/plain": [
       "True"
      ]
     },
     "execution_count": 506,
     "metadata": {},
     "output_type": "execute_result"
    }
   ],
   "source": [
    "g2_B, g3_B = A5_dict[\"B\"]\n",
    "(g29*h29**2)**2 == g2_B"
   ]
  },
  {
   "cell_type": "code",
   "execution_count": 507,
   "id": "e41dce90",
   "metadata": {},
   "outputs": [
    {
     "data": {
      "text/plain": [
       "True"
      ]
     },
     "execution_count": 507,
     "metadata": {},
     "output_type": "execute_result"
    }
   ],
   "source": [
    "g29*h29*g29*h29**3*(g29*h29)**2*g29*h29**3*g29*h29**8*(g29*h29)**2 == g3_B"
   ]
  },
  {
   "cell_type": "markdown",
   "id": "81ba4935",
   "metadata": {},
   "source": [
    "## $\\pgl{2}{19}$ <a id=\"pgl2_19\"></a>\n",
    "The following proof is adapted from Pisani and Popiel.\n",
    "Parts of that work, including comments, have been copied **verbatim**;\n",
    "however, modifications have been made for technical and stylistic reasons,\n",
    "likely introducing any errors that occur.\n",
    "\n",
    "****\n",
    "\n",
    "Generators are"
   ]
  },
  {
   "cell_type": "code",
   "execution_count": 508,
   "id": "4829f9c8",
   "metadata": {},
   "outputs": [],
   "source": [
    "x2 = MM(\"M<y_531h*x_147bh*d_9e6h*p_236396641*l_2*p_1985280*l_1*p_21825835*l_1*t_2*l_1*p_1499520*l_2*p_32991824*l_2*t_2*l_2*p_1415040*l_1*p_24192*l_2*p_2496960*t_1*l_1*p_1499520*l_1*p_12113794*t_1*l_1*p_2027520*l_1*p_86261393*l_2*p_11594880*t_2*l_1*p_1394880*l_2*p_465792*l_1*p_2392320>\")\n",
    "x19 = MM(\"M<y_7ddh*x_0e39h*d_99h*p_136245180*l_1*p_1499520*l_1*p_23222870*t_1*l_1*p_1499520*l_2*p_1925316*l_1*t_2*l_1*p_2640000*l_1*p_1504850*l_1*t_1*l_2*p_2830080*l_2*p_127990691*t_1*l_2*p_1457280*l_1*p_175110*t_1*l_1*p_1920*l_2*p_10667712*l_2*p_6106560*t_1*l_2*p_2386560*l_2*p_42663561*t_2*l_2*p_2597760*l_1*p_85812125>\")"
   ]
  },
  {
   "cell_type": "markdown",
   "id": "6fda1f7f",
   "metadata": {},
   "source": [
    "Check that $x_2$ and $x_{19}$ satisfy the presentation of\n",
    "Robertson and Williams for $\\pgl{2}{19}$, and that $x_{19}$ has\n",
    "an order (namely, 19) not found in any proper factor group."
   ]
  },
  {
   "cell_type": "code",
   "execution_count": 509,
   "id": "5ea97238",
   "metadata": {},
   "outputs": [
    {
     "data": {
      "text/plain": [
       "True"
      ]
     },
     "execution_count": 509,
     "metadata": {},
     "output_type": "execute_result"
    }
   ],
   "source": [
    "test_pgl(x2, x19, 19)"
   ]
  },
  {
   "cell_type": "markdown",
   "id": "465e7586",
   "metadata": {},
   "source": [
    "It follows that $\\langle x_2, x_{19} \\rangle \\cong \\pgl{2}{19}$, and\n",
    "thus by Holmes and Wilson that it is maximal in $\\MM$ iff it contains\n",
    "a B-type $\\alt{5}$.\n",
    "\n",
    "Confirm that certain elements of $\\langle x_2, x_{19} \\rangle$ coincide\n",
    "with the generators of the known type-B $\\alt{5} < \\MM$ defined\n",
    "in [Lemma 4.1](#lemma)."
   ]
  },
  {
   "cell_type": "code",
   "execution_count": 510,
   "id": "9a8716ba",
   "metadata": {},
   "outputs": [
    {
     "data": {
      "text/plain": [
       "True"
      ]
     },
     "execution_count": 510,
     "metadata": {},
     "output_type": "execute_result"
    }
   ],
   "source": [
    "g2_B, g3_B = A5_dict[\"B\"]\n",
    "g2_B == (x19**2*x2)**2"
   ]
  },
  {
   "cell_type": "code",
   "execution_count": 511,
   "id": "e32c22c0",
   "metadata": {},
   "outputs": [
    {
     "data": {
      "text/plain": [
       "True"
      ]
     },
     "execution_count": 511,
     "metadata": {},
     "output_type": "execute_result"
    }
   ],
   "source": [
    "g3_B == x2*x19**2*x2*x19"
   ]
  },
  {
   "cell_type": "markdown",
   "id": "d2595cb9",
   "metadata": {},
   "source": [
    "## $\\pgl{2}{13}$ <a id=\"pgl2_13\"></a>\n",
    "The following proof is adapted from Dietrich, Lee, and Popiel.\n",
    "Parts of that work, including comments, have been copied **verbatim**;\n",
    "however, modifications have been made for technical and stylistic reasons,\n",
    "likely introducing any errors that occur.\n",
    "\n",
    "****\n",
    "\n",
    "Generators are $g_{13}$ in the the proof for the 13A normaliser and"
   ]
  },
  {
   "cell_type": "code",
   "execution_count": 512,
   "id": "c3b73ea5",
   "metadata": {},
   "outputs": [],
   "source": [
    "u = MM(\"M<y_438h*x_0f05h*d_6ebh*p_127839018*l_2*p_1985280*l_1*p_23241243*t_2*l_1*p_2027520*l_1*p_474375*l_1*t_2*l_2*p_2787840*l_2*p_32068420*l_1*t_2*l_2*p_1457280*l_1*p_9635*t_2*l_1*p_1499520*l_1*p_42675112*t_1*l_1*p_1457280*l_2*p_43178339*l_1*t_2*l_1*p_1920*l_2*p_3120*l_2*p_5180160>\")\n",
    "g13 = MM(\"M<y_519h*x_0cb8h*d_3abh*p_178084032*l_2*p_2344320*l_2*p_471482*l_1*t_1*l_2*p_2830080*l_2*p_22371347*l_2*t_2*l_1*p_1499520*l_2*p_22779365*l_2*t_1*l_2*p_2597760*l_1*p_11179396*t_1*l_1*p_1499520*l_2*p_85838017*t_2*l_1*p_1499520*l_1*p_64024721*t_2*l_2*p_2386560*l_2*p_21335269>\")"
   ]
  },
  {
   "cell_type": "markdown",
   "id": "11ecc13d",
   "metadata": {},
   "source": [
    "Note that $g_{13}$ is as in [Theorem 2.24](#norm13A).  \n",
    "Check $u$ and $g_{13}$ generate a group of structure $\\pgl{2}(13)$."
   ]
  },
  {
   "cell_type": "code",
   "execution_count": 513,
   "id": "3522c9ba",
   "metadata": {},
   "outputs": [
    {
     "data": {
      "text/plain": [
       "True"
      ]
     },
     "execution_count": 513,
     "metadata": {},
     "output_type": "execute_result"
    }
   ],
   "source": [
    "test_pgl(u, g13, 13)"
   ]
  },
  {
   "cell_type": "markdown",
   "id": "65360eac",
   "metadata": {},
   "source": [
    "As for maximality, the results of Norton (1998) in conjunction with those of Dietrich et al.\n",
    "show there are three conjugacy classes of $\\psl{2}{13}$ (not PGL!) in the Monster.\n",
    "The two classes which do not extend to maximal $\\pgl{2}{13}$s are centralised by elements\n",
    "of order 3, whereas the third is not. Hence, exhibit elements of $\\langle u, g_{13}$\n",
    "generating a subgroup $\\psl{2}{13}$:"
   ]
  },
  {
   "cell_type": "code",
   "execution_count": 514,
   "id": "f2c0fc0d",
   "metadata": {},
   "outputs": [
    {
     "data": {
      "text/plain": [
       "True"
      ]
     },
     "execution_count": 514,
     "metadata": {},
     "output_type": "execute_result"
    }
   ],
   "source": [
    "x2 = (u*g13**2)**2\n",
    "test_xsl(g13, x2, 13)"
   ]
  },
  {
   "cell_type": "markdown",
   "id": "f12af2db",
   "metadata": {},
   "source": [
    "It follows that $\\langle g_{13}, x_2 \\rangle \\cong \\psl{2}{13}$. Now,\n",
    "the centraliser of this group is a subgroup of $\\cm{g_{13}}$,\n",
    "which belongs inside the group $\\nm{g_{13}} \\cong \\left( 13{:}6 \\times \\psl{3}{3} \\right) \\udot 2$\n",
    "constructed in [Theorem 2.24](#norm13A). Recalling that the factor\n",
    "$13{:}6$ is generated by $g_{13}$ and an element $y_{12}^2$,\n",
    "observe the following:"
   ]
  },
  {
   "cell_type": "code",
   "execution_count": 515,
   "id": "9ab011c1",
   "metadata": {},
   "outputs": [
    {
     "data": {
      "text/plain": [
       "True"
      ]
     },
     "execution_count": 515,
     "metadata": {},
     "output_type": "execute_result"
    }
   ],
   "source": [
    "# The element y12 mentioned\n",
    "y12 = MM(\"M<y_5c4h*x_0d78h*d_0ce0h*p_190945267*l_2*p_2344320*l_2*p_32475110*l_1*t_2*l_2*p_2597760*l_1*p_12134921*l_1*t_2*l_1*p_2880*l_2*p_3216*l_2*p_5180160*t_2*l_2*p_2787840*l_2*p_216480*t_2*l_2*p_2830080*l_2*p_42756901*t_1*l_2*p_1985280*l_1*p_11152936*t_1*l_2*p_2956800*l_1*p_85840900>\")\n",
    "\n",
    "# The following is x6 = g6/y6 of Dietrich et al.\n",
    "x6 = y12**-2*1/g13*x2*g13**7*x2*g13**2*x2\n",
    "x6**(y12**2) == x6"
   ]
  },
  {
   "cell_type": "code",
   "execution_count": 516,
   "id": "33582472",
   "metadata": {},
   "outputs": [
    {
     "data": {
      "text/plain": [
       "True"
      ]
     },
     "execution_count": 516,
     "metadata": {},
     "output_type": "execute_result"
    }
   ],
   "source": [
    "g13**x6 == g13"
   ]
  },
  {
   "cell_type": "code",
   "execution_count": 517,
   "id": "44b11cec",
   "metadata": {},
   "outputs": [
    {
     "data": {
      "text/plain": [
       "6"
      ]
     },
     "execution_count": 517,
     "metadata": {},
     "output_type": "execute_result"
    }
   ],
   "source": [
    "x6.order()"
   ]
  },
  {
   "cell_type": "markdown",
   "id": "30d943e4",
   "metadata": {},
   "source": [
    "We may thus write $g_{13}^{-1} x_2 g_{13}^7 x_2 g_{13}^2 x_2 \\in\n",
    "    \\langle g_{13}, x_2 \\rangle$ as $y_{12}^2 x_6$\n",
    "for some $x_6 \\in \\cma{g_{13}, y_{12}^2} \\cong \\psl{2}{13}$. Any element of\n",
    "$\\cm{g_{13}} < \\langle g_{13}, y_{12}^2 \\rangle \\times \\cma{g_{13}, y_{12}^2}$\n",
    "commutes with this element if and only if it commutes with both $y_{12}^2$ and\n",
    "$x_6$, however, so that $\\cma{g_{13}, x_2}$ is a subgroup of\n",
    "$\\cma{g_{13}, y_{12}^2}$ centralising $x_6$. Data\n",
    "in the GAP character table library show elements of order 6 in $\\psl{2}{13}$\n",
    "generate their own centralisers, limiting the possibilities for elements of order\n",
    "3 possibly commuting with $\\langle g_{13}, x_2 \\rangle$ to powers of $x_6^2$."
   ]
  },
  {
   "cell_type": "code",
   "execution_count": 518,
   "id": "af322fc5",
   "metadata": {},
   "outputs": [
    {
     "data": {
      "text/plain": [
       "False"
      ]
     },
     "execution_count": 518,
     "metadata": {},
     "output_type": "execute_result"
    }
   ],
   "source": [
    "x2**(x6**3) == x2"
   ]
  },
  {
   "cell_type": "markdown",
   "id": "64b95f98",
   "metadata": {},
   "source": [
    "By the above, this guarantees $\\langle u, g_{13} \\rangle$ is maximal.\n",
    "Indeed, although unnecessary, it can easily be shown that $\\langle g_{13}, x_2 \\rangle$\n",
    "has trivial centraliser by verifying $x_6^2$ does not commute with $x_2$:"
   ]
  },
  {
   "cell_type": "code",
   "execution_count": 519,
   "id": "2a9c690e",
   "metadata": {},
   "outputs": [
    {
     "data": {
      "text/plain": [
       "False"
      ]
     },
     "execution_count": 519,
     "metadata": {},
     "output_type": "execute_result"
    }
   ],
   "source": [
    "x2**(x6**2) == x2"
   ]
  },
  {
   "cell_type": "markdown",
   "id": "552bceec",
   "metadata": {},
   "source": [
    "## $\\psl{2}{59}$ <a id=\"psl2_59\"></a>\n",
    "There is no subgroup of the Monster with this shape! The proof is essentially\n",
    "identical to Holmes and Wilson's 2002 construction of such a subgroup, except\n",
    "(of course) for the eventual negative result.\n",
    "\n",
    "Suppose to the contrary that $G \\cong \\psl{2}{59} < \\MM$. Constructing\n",
    "a model of $\\psl{2}{59}$ in GAP, one can verify that groups of this shape\n",
    "have (maximal) subgroups $\\alt{5}$ and that the normalisers of elements of\n",
    "order 5 have shape $\\dih{60} \\cong 2 \\times \\dih{30}$. Furthermore, Norton and\n",
    "Wilson (2002) prove that the elements of order 2, 3, and 5 in $G$ must lie\n",
    "in $\\MM$-classes 2B, 3B, and 5B, respectively. It follows $G$ has a subgroup\n",
    "$\\alt{5}$ of type B or T; replacing $G$ with a suitable conjugate as necessary,\n",
    "we may take this to be a fixed $\\alt{5}$ for each type. Referring to the elements\n",
    "in [Lemma 4.1](#lemma), let these be $\\langle g_{2T}, g_{3T} \\rangle$ and\n",
    "a conjugate of $\\langle g_{2B}, g_{3B} \\rangle$ such that their intersection\n",
    "is $\\langle z, g_{2T} g_{3T} \\rangle \\cong \\dih{10}$:"
   ]
  },
  {
   "cell_type": "code",
   "execution_count": 520,
   "id": "b931969e",
   "metadata": {},
   "outputs": [
    {
     "data": {
      "text/plain": [
       "True"
      ]
     },
     "execution_count": 520,
     "metadata": {},
     "output_type": "execute_result"
    }
   ],
   "source": [
    "g2_B, g3_B = A5_dict[\"B\"]\n",
    "c = MM(\"M<y_42fh*x_1e9bh*d_0bc1h*p_55207716*l_2*p_1943040*l_2*p_1461488*l_2*t_1*l_1*p_2999040*l_1*p_21798955*l_2*t_2*l_1*p_2640000*l_1*p_21912468*l_1*t_2*l_2*p_1900800*l_2*p_5768*t_2*l_2*p_1943040*l_2*p_42727137*t_1*l_2*p_2830080*l_2*p_21544935*t_2*l_1*p_1457280*l_2*p_1121811*t_1*l_2*p_2386560*l_2*p_64023715>\")\n",
    "b2 = g2_B**c\n",
    "b3 = g3_B**c\n",
    "b5 = b2*b3\n",
    "\n",
    "g2_T, g3_T = A5_dict[\"T\"]\n",
    "g2_T*g3_T == b5"
   ]
  },
  {
   "cell_type": "code",
   "execution_count": 521,
   "id": "a12f1b68",
   "metadata": {},
   "outputs": [
    {
     "data": {
      "text/plain": [
       "True"
      ]
     },
     "execution_count": 521,
     "metadata": {},
     "output_type": "execute_result"
    }
   ],
   "source": [
    "g2_T**(g3_T*g2_T*g3_T**2) == b2**(b3*b2*b3**2) == z"
   ]
  },
  {
   "cell_type": "code",
   "execution_count": 522,
   "id": "111a7692",
   "metadata": {},
   "outputs": [
    {
     "data": {
      "text/plain": [
       "True"
      ]
     },
     "execution_count": 522,
     "metadata": {},
     "output_type": "execute_result"
    }
   ],
   "source": [
    "b5**z == 1/b5"
   ]
  },
  {
   "cell_type": "markdown",
   "id": "49a52e34",
   "metadata": {},
   "source": [
    "Since $z$ is an involution and $g_{2T} g_{3T}$ has order 5, this last statement\n",
    "confirms $\\langle z, g_{2T} g_{3T} \\rangle \\cong \\dih{10}$.\n",
    "\n",
    "Now, recall that the elements of order 5 in $G$ have normalisers\n",
    "$2 \\times \\dih{30}$. Any $\\dih{10} < G$ --- which normalises its elements of\n",
    "order 5 and has a trivial center --- is thus centralised by an involution\n",
    "of $G$, all of which belong to conjugacy class 2B of the Monster.\n",
    "The centraliser of $\\dih{10} < \\alt{5}$ has structure\n",
    "$5^3.\\left( 4 \\times \\alt{5} \\right)$ for a type B or T $\\alt{5}$ (Norton 1998).\n",
    "Hence, to show that the following elements generate $\\cma{z, g_{2T} g_{3T}}$,\n",
    "it is enough to confirm that they generate a subgroup of order at least\n",
    "$\\left| 5^3.\\left( 4 \\times \\alt{5} \\right) \\right| =\n",
    "    5^3 \\cdot 4 \\left| \\alt{5} \\right| = 30\\,000$."
   ]
  },
  {
   "cell_type": "code",
   "execution_count": 523,
   "id": "2187b122",
   "metadata": {},
   "outputs": [
    {
     "data": {
      "text/plain": [
       "True"
      ]
     },
     "execution_count": 523,
     "metadata": {},
     "output_type": "execute_result"
    }
   ],
   "source": [
    "cgens = (\n",
    "    MM(\"M<y_3c8h*x_0fa8h*d_220h*p_128332441*l_1*p_2027520*l_1*p_1423899>\"),\n",
    "    MM(\"M<y_1ech*x_0e8dh*d_4eeh*p_10929978*l_1*p_1858560*l_1*p_10667856*l_2*p_3826560>\"),\n",
    "    MM(\"M<y_2bah*x_0fcch*d_249h*p_99573767*l_2*p_1943040*l_2*p_11165001*l_1>\"),\n",
    "    MM(\"M<y_3b2h*x_1515h*d_6d8h*p_207805390*l_1*p_3840*l_1*p_4080*l_1*p_10478400>\"),\n",
    "    MM(\"M<y_773h*x_13adh*d_0e77h*p_49947306*l_2*p_2787840*l_2*p_32974529*l_1>\"),\n",
    "    MM(\"M<y_131h*x_0ceeh*d_0c28h*p_44752564*l_1*p_2640000*l_1*p_221312>\")\n",
    ")\n",
    "\n",
    "# To show x commutes with z, show it lies in C_M(z) = G_x0\n",
    "all(x.in_G_x0() for x in cgens)"
   ]
  },
  {
   "cell_type": "code",
   "execution_count": 524,
   "id": "acb5f8d6",
   "metadata": {},
   "outputs": [
    {
     "data": {
      "text/plain": [
       "True"
      ]
     },
     "execution_count": 524,
     "metadata": {},
     "output_type": "execute_result"
    }
   ],
   "source": [
    "all(x**b5 == x for x in cgens)"
   ]
  },
  {
   "cell_type": "code",
   "execution_count": 525,
   "id": "b3f70cbe",
   "metadata": {},
   "outputs": [
    {
     "data": {
      "text/plain": [
       "30000"
      ]
     },
     "execution_count": 525,
     "metadata": {},
     "output_type": "execute_result"
    }
   ],
   "source": [
    "# Keep a record of known element images under as_int, as well any 2B involutions\n",
    "seen = set()\n",
    "involutions = []\n",
    "\n",
    "power_lists = [[x**i for i in range(k)] for x, k in zip(cgens, (5, 5, 5, 4))]\n",
    "the_a5 = size_image(cgens[-2:], return_type=list)\n",
    "for l0 in power_lists[0]:\n",
    "    for l1 in power_lists[1]:\n",
    "        xl1 = l0*l1\n",
    "        for l2 in power_lists[2]:\n",
    "            xl2 = xl1*l2\n",
    "            for l3 in power_lists[3]:\n",
    "                xl3 = xl2*l3\n",
    "                for l4 in the_a5:\n",
    "                    xl4 = xl3*l4\n",
    "                    k = as_int(xl4)\n",
    "                    if k not in seen:\n",
    "                        seen.add(k)\n",
    "                        if xl4.order(2) == 2 and xl4.chi_G_x0()[0] == 275:\n",
    "                            involutions.append(xl4)\n",
    "\n",
    "                    print(len(seen), len(involutions), end=\"\\r\")\n",
    "\n",
    "len(seen)"
   ]
  },
  {
   "cell_type": "markdown",
   "id": "1d042e4f",
   "metadata": {},
   "source": [
    "The aforementioned observations indicate $G$ contains a 2B involution\n",
    "in this group, regardless of whether it contains our type B or T $\\alt{5}$\n",
    "(or both). All such elements were found while enumerating $\\cm{\\dih{10}}$;\n",
    "confirm that there are exactly 500, in agreement with Holmes and Wilson."
   ]
  },
  {
   "cell_type": "code",
   "execution_count": 526,
   "id": "afdb064c",
   "metadata": {},
   "outputs": [
    {
     "data": {
      "text/plain": [
       "500"
      ]
     },
     "execution_count": 526,
     "metadata": {},
     "output_type": "execute_result"
    }
   ],
   "source": [
    "len(involutions)"
   ]
  },
  {
   "cell_type": "markdown",
   "id": "2da952d5",
   "metadata": {},
   "source": [
    "Referring again to a model of $\\psl{2}{59}$ in GAP, or to the group's character\n",
    "table, one finds an element thereof must have order 1, 2, 3, 5, 6, 10, 15, 29,\n",
    "30, 59. Tests of the orders of various elements in the groups generated\n",
    "by the chosen type B or T $\\alt{5}$ and each candidate involution reveal\n",
    "that none can satisfy this criterion, however, for the desired contradiction."
   ]
  },
  {
   "cell_type": "code",
   "execution_count": 527,
   "id": "fba1b23b",
   "metadata": {},
   "outputs": [
    {
     "data": {
      "text/plain": [
       "False"
      ]
     },
     "execution_count": 527,
     "metadata": {},
     "output_type": "execute_result"
    }
   ],
   "source": [
    "orders = {1, 2, 3, 5, 6, 10, 15, 29, 30, 59}\n",
    "\n",
    "# All orders are less than 60, so we can set that as an upper bound\n",
    "beta1 = (b2**(b3*b2)).reduce()\n",
    "b_involutions_1 = [x for x in involutions if (x*beta1).order(60) in orders]\n",
    "b_involutions_2 = [x for x in b_involutions_1 if (x*b3).order(60) in orders]\n",
    "any((b2*x*b3).order(60) in orders for x in b_involutions_2)"
   ]
  },
  {
   "cell_type": "code",
   "execution_count": 528,
   "id": "09108136",
   "metadata": {},
   "outputs": [
    {
     "data": {
      "text/plain": [
       "False"
      ]
     },
     "execution_count": 528,
     "metadata": {},
     "output_type": "execute_result"
    }
   ],
   "source": [
    "theta1 = (g2_T**(g3_T*g2_T)).reduce()\n",
    "t_involutions_1 = [x for x in involutions if (x*theta1).order(60) in orders]\n",
    "any((g2_T*x*g3_T).order(60) in orders for x in t_involutions_1)"
   ]
  },
  {
   "cell_type": "markdown",
   "id": "7313971d",
   "metadata": {},
   "source": [
    "# The Non-Local Subgroups\n",
    "\n",
    "## $\\left( \\alt{5} \\times \\alt{12} \\right){:}2$ <a id=\"normAAA\"></a>\n",
    "The following proof is adapted from one provided for the index 2 subgroup\n",
    "$\\alt{5} \\times \\alt{12}$ by Dietrich, Lee, and Popiel. This construction\n",
    "merely extends that group with the element $n$.\n",
    "\n",
    "****\n",
    "\n",
    "Generators are"
   ]
  },
  {
   "cell_type": "code",
   "execution_count": 529,
   "id": "3f003324",
   "metadata": {},
   "outputs": [],
   "source": [
    "gAAA = MM(\"M<y_489h*x_1ea3h*d_7c4h*p_37889982*l_1*p_2027520*l_1*p_22303057*t_1*l_2*p_2956800*l_1*p_33454518*l_2*t_2*l_2*p_2787840*l_2*p_10677187*l_1*t_1*l_1*p_1499520*l_2*p_42747504*t_2*l_2*p_1457280*l_1*p_22793737*l_2*t_2*l_1*p_1499520*l_1*p_42714645*t_2*l_2*p_2386560*l_2*p_53803593>\")\n",
    "hAAA = MM(\"M<y_781h*x_6dbh*d_7b6h*p_126867354*l_1*p_1457280*l_2*p_53462968*t_2*l_2*p_1900800*l_2*p_11729813*l_2*t_2*l_1*p_2999040*l_1*p_11596960*l_1*t_1*l_2*p_2787840*l_2*p_33398833*l_2*t_1*l_1*p_2640000*l_1*p_6724*t_1*l_2*p_1943040*l_2*p_53885345>\")\n",
    "n = MM(\"M<y_1bh*x_1a5fh*d_753h*p_229948825*l_2*p_2830080*l_2*p_23202565*l_2>\")\n",
    "L_N = (gAAA, hAAA, n)"
   ]
  },
  {
   "cell_type": "markdown",
   "id": "e960f415",
   "metadata": {},
   "source": [
    "This subgroup is the normaliser of a type AAA $\\alt{5}$, in this case the one\n",
    "exhibited in [Lemma 4.1](#lemma):"
   ]
  },
  {
   "cell_type": "code",
   "execution_count": 530,
   "id": "11ced8fc",
   "metadata": {},
   "outputs": [],
   "source": [
    "L_E = g2_AAA, g3_AAA = A5_dict[\"AAA\"]"
   ]
  },
  {
   "cell_type": "markdown",
   "id": "d5d5c8ff",
   "metadata": {},
   "source": [
    "To show as much, first check that $g_{2AAA}, g_{3AAA}$ lie in the group."
   ]
  },
  {
   "cell_type": "code",
   "execution_count": 531,
   "id": "65be0eb2",
   "metadata": {},
   "outputs": [
    {
     "data": {
      "text/plain": [
       "True"
      ]
     },
     "execution_count": 531,
     "metadata": {},
     "output_type": "execute_result"
    }
   ],
   "source": [
    "g2_AAA == gAAA**3"
   ]
  },
  {
   "cell_type": "code",
   "execution_count": 532,
   "id": "115535e4",
   "metadata": {},
   "outputs": [
    {
     "data": {
      "text/plain": [
       "True"
      ]
     },
     "execution_count": 532,
     "metadata": {},
     "output_type": "execute_result"
    }
   ],
   "source": [
    "g3_AAA == hAAA**10"
   ]
  },
  {
   "cell_type": "markdown",
   "id": "855e37ab",
   "metadata": {},
   "source": [
    "Now define elements $x_3, x_{10} \\in \\langle g_{2AAA}, g_{3AAA} \\rangle$\n",
    "which commute with $\\langle g_{2AAA}, g_{3AAA} \\rangle$."
   ]
  },
  {
   "cell_type": "code",
   "execution_count": 533,
   "id": "a08d2045",
   "metadata": {},
   "outputs": [
    {
     "data": {
      "text/plain": [
       "True"
      ]
     },
     "execution_count": 533,
     "metadata": {},
     "output_type": "execute_result"
    }
   ],
   "source": [
    "x3 = gAAA*g2_AAA\n",
    "x10 = hAAA/g3_AAA\n",
    "all(x*y == y*x for x in (x3, x10) for y in L_E)"
   ]
  },
  {
   "cell_type": "markdown",
   "id": "ad2d1ea5",
   "metadata": {},
   "source": [
    "Since $x_3, x_{10}$ commute with $g_{2AAA}, g_{3AAA}$ (as will be checked\n",
    "below), an immediate consequence is that $g_{AAA} = x_3 g_{2AAA}^{-1}$ and\n",
    "$h_{AAA} = x_{10} g_{3AAA}$ belong to $\\nma{g_{2AAA}, g_{3AAA}}$. Confirm\n",
    "that $n$ does too by showing it centralises $g_{2AAA}$ and acts on $g_{3AAA}$\n",
    "in such a way as to induce an outer automorphism of $\\alt{5}$:"
   ]
  },
  {
   "cell_type": "code",
   "execution_count": 534,
   "id": "04f3cb45",
   "metadata": {},
   "outputs": [
    {
     "data": {
      "text/plain": [
       "True"
      ]
     },
     "execution_count": 534,
     "metadata": {},
     "output_type": "execute_result"
    }
   ],
   "source": [
    "g2_AAA*n == n*g2_AAA"
   ]
  },
  {
   "cell_type": "code",
   "execution_count": 535,
   "id": "de82604d",
   "metadata": {},
   "outputs": [
    {
     "data": {
      "text/plain": [
       "True"
      ]
     },
     "execution_count": 535,
     "metadata": {},
     "output_type": "execute_result"
    }
   ],
   "source": [
    "A5_AAA = size_image(L_E, as_int, list)\n",
    "a2_centraliser = [x for x in A5_AAA if g2_AAA*x == x*g2_AAA]\n",
    "\n",
    "g3_AAA**n in A5_AAA"
   ]
  },
  {
   "cell_type": "code",
   "execution_count": 536,
   "id": "4341a067",
   "metadata": {},
   "outputs": [
    {
     "data": {
      "text/plain": [
       "False"
      ]
     },
     "execution_count": 536,
     "metadata": {},
     "output_type": "execute_result"
    }
   ],
   "source": [
    "as_int(g3_AAA**n) in {as_int(g3_AAA**x) for x in a2_centraliser}"
   ]
  },
  {
   "cell_type": "markdown",
   "id": "445e8977",
   "metadata": {},
   "source": [
    "Then verify the claim that $\\langle x_3, x_{10} \\rangle$ is an $\\alt{12}$\n",
    "commuting with the $\\alt{5}$ generated by $g_{2AAA}, g_{3AAA}$. It satisfies\n",
    "the appropriate presentation given by Coxeter and Moser:"
   ]
  },
  {
   "cell_type": "code",
   "execution_count": 537,
   "id": "0e393a23",
   "metadata": {},
   "outputs": [
    {
     "data": {
      "text/plain": [
       "True"
      ]
     },
     "execution_count": 537,
     "metadata": {},
     "output_type": "execute_result"
    }
   ],
   "source": [
    "# That x3, x10 commute with g2_AAA, g3_AAA was checked above\n",
    "x3**3 == x10**10 == (x3*x10)**11 == e"
   ]
  },
  {
   "cell_type": "code",
   "execution_count": 538,
   "id": "65571825",
   "metadata": {},
   "outputs": [
    {
     "data": {
      "text/plain": [
       "True"
      ]
     },
     "execution_count": 538,
     "metadata": {},
     "output_type": "execute_result"
    }
   ],
   "source": [
    "comm(x3, x10)**2 == (x3*x10**-2*x3*x10**2)**2 == e"
   ]
  },
  {
   "cell_type": "code",
   "execution_count": 539,
   "id": "060e8c5b",
   "metadata": {},
   "outputs": [
    {
     "data": {
      "text/plain": [
       "True"
      ]
     },
     "execution_count": 539,
     "metadata": {},
     "output_type": "execute_result"
    }
   ],
   "source": [
    "comm(x3, x10**3)**2 == (x3*x10**-4*x3*x10**4)**2 == e"
   ]
  },
  {
   "cell_type": "code",
   "execution_count": 540,
   "id": "08fd2bc5",
   "metadata": {},
   "outputs": [
    {
     "data": {
      "text/plain": [
       "True"
      ]
     },
     "execution_count": 540,
     "metadata": {},
     "output_type": "execute_result"
    }
   ],
   "source": [
    "comm(x3, x10**5)**2 == e"
   ]
  },
  {
   "cell_type": "markdown",
   "id": "bd5b67d6",
   "metadata": {},
   "source": [
    "Having already shown $n$ induces an outer automorphism of\n",
    "$\\langle g_{2AAA}, g_{3AAA} \\rangle$, it follows that $n$ lies\n",
    "in the part of the $\\alt{5}$ normaliser outside\n",
    "the $\\alt{5} \\times  \\alt{12}$, giving the entire $\\left( \\alt{5} \\times \\alt{12} \\right){:}2$."
   ]
  },
  {
   "cell_type": "markdown",
   "id": "ce046031",
   "metadata": {},
   "source": [
    "## $\\left( \\alt{6} \\times \\alt{6} \\times \\alt{6} \\right).\\left( 2 \\times \\sym{4} \\right)$ <a id=\"normA6_3\"></a>\n",
    "\n",
    "Generators are given by"
   ]
  },
  {
   "cell_type": "code",
   "execution_count": 541,
   "id": "596b562a",
   "metadata": {},
   "outputs": [],
   "source": [
    "gA6 = MM(\"M<y_29ah*x_72dh*d_0fe7h*p_107290399*l_1*p_3804480*l_1*t_1*l_2*p_1985280*l_1*p_13043028*l_2*t_1*l_2*p_1394880*l_1*p_465888*l_2*p_2819520*t_1*l_1*p_1499520*l_1*p_53350483*t_1*l_2*p_1985280*l_1*p_85371363*t_1*l_2*p_1943040*l_2*p_53799666*t_2*l_1*p_1457280*l_2*p_137696>\")\n",
    "hA6 = MM(\"M<y_41bh*x_0c52h*d_7d1h*p_98208424*l_2*p_1900800*l_2*p_211811*t_2*l_1*p_2640000*l_1*p_470467*l_1*t_1*l_2*p_2386560*l_2*p_1908002*l_1*t_2*l_1*p_2027520*l_1*p_8658*t_1*l_2*p_1510080*t_1*l_1*p_1499520*l_1*p_85330976*t_2*l_1*p_1499520*l_2*p_64004474*t_2*l_1*p_18648960>\")\n",
    "L_N = (gA6, hA6)"
   ]
  },
  {
   "cell_type": "markdown",
   "id": "b6e96ac2",
   "metadata": {},
   "source": [
    "This subgroup is the normaliser of a direct product of three commuting $\\alt{6}$s\n",
    "containing type AAA subgroups $\\alt{5}$. We claim that this particular instance\n",
    "normalises $E = \\langle U, U^t, U^{t^2} \\rangle$,\n",
    "where $U = \\langle x_{A6}, y_{A6} \\rangle$ with"
   ]
  },
  {
   "cell_type": "code",
   "execution_count": 542,
   "id": "83e9370e",
   "metadata": {},
   "outputs": [],
   "source": [
    "xA6 = MM(\"M<y_480h*x_0aafh*d_0c65h*p_239966010*l_2*p_2880*l_2*p_10667760*l_2*p_10248960*t_1*l_1*p_930240*t_2*l_2*p_2830080*l_2*p_85371379*t_1*l_2*p_2597760*l_1*p_85814001>\")\n",
    "yA6 = MM(\"M<y_4c3h*x_0ad4h*d_2b6h*p_132231952*l_2*p_2830080*l_2*p_32578086*t_2*l_2*p_171240960*t_1*l_2*p_1985280*l_1*p_64088162*t_1*l_1*p_1499520*l_1*p_96464227>\")\n",
    "L_U = (xA6, yA6)\n",
    "\n",
    "t = gA6**4"
   ]
  },
  {
   "cell_type": "markdown",
   "id": "c2b5261f",
   "metadata": {},
   "source": [
    "Confirm that $U$ contains the generators $g_{2AAA}, g_{3AAA}$ of\n",
    "the type AAA $\\alt{5}$ in [Lemma 4.1](#lemma), and also that\n",
    "$x_{A6}, y_{A6} \\in U$ satisfy Carmichael's presentation for $\\alt{6}$\n",
    "given in Coxeter and Moser."
   ]
  },
  {
   "cell_type": "code",
   "execution_count": 543,
   "id": "5eb556ac",
   "metadata": {},
   "outputs": [
    {
     "data": {
      "text/plain": [
       "True"
      ]
     },
     "execution_count": 543,
     "metadata": {},
     "output_type": "execute_result"
    }
   ],
   "source": [
    "g2_AAA, g3_AAA = A5_dict[\"AAA\"]\n",
    "xA6*yA6*xA6*yA6**2*xA6**2 == g2_AAA"
   ]
  },
  {
   "cell_type": "code",
   "execution_count": 544,
   "id": "365a5458",
   "metadata": {},
   "outputs": [
    {
     "data": {
      "text/plain": [
       "True"
      ]
     },
     "execution_count": 544,
     "metadata": {},
     "output_type": "execute_result"
    }
   ],
   "source": [
    "xA6*yA6**2*xA6**2*yA6*xA6 == g3_AAA"
   ]
  },
  {
   "cell_type": "code",
   "execution_count": 545,
   "id": "d885a434",
   "metadata": {},
   "outputs": [
    {
     "data": {
      "text/plain": [
       "4"
      ]
     },
     "execution_count": 545,
     "metadata": {},
     "output_type": "execute_result"
    }
   ],
   "source": [
    "xA6.order()"
   ]
  },
  {
   "cell_type": "code",
   "execution_count": 546,
   "id": "de636105",
   "metadata": {},
   "outputs": [
    {
     "data": {
      "text/plain": [
       "3"
      ]
     },
     "execution_count": 546,
     "metadata": {},
     "output_type": "execute_result"
    }
   ],
   "source": [
    "yA6.order()"
   ]
  },
  {
   "cell_type": "code",
   "execution_count": 547,
   "id": "9e2f187f",
   "metadata": {},
   "outputs": [
    {
     "data": {
      "text/plain": [
       "True"
      ]
     },
     "execution_count": 547,
     "metadata": {},
     "output_type": "execute_result"
    }
   ],
   "source": [
    "(xA6*yA6)**5 == comm(yA6, xA6)**2 == (yA6/xA6**2*yA6*xA6**2)**2 == e"
   ]
  },
  {
   "cell_type": "markdown",
   "id": "c880a608",
   "metadata": {},
   "source": [
    "Since $\\alt{6}$ is simple, this shows $U$ is a suitable $\\alt{6}$.\n",
    "Moreover, $U^t$ and $U^{t^2}$ being conjugate to $U$, it will follows that\n",
    "their join $E$ has the normaliser sought upon verifying that\n",
    "the subgroups commute."
   ]
  },
  {
   "cell_type": "code",
   "execution_count": 548,
   "id": "0640a6bc",
   "metadata": {},
   "outputs": [
    {
     "data": {
      "text/plain": [
       "True"
      ]
     },
     "execution_count": 548,
     "metadata": {},
     "output_type": "execute_result"
    }
   ],
   "source": [
    "xA6*xA6**t == xA6**t*xA6"
   ]
  },
  {
   "cell_type": "code",
   "execution_count": 549,
   "id": "73f944c1",
   "metadata": {},
   "outputs": [
    {
     "data": {
      "text/plain": [
       "True"
      ]
     },
     "execution_count": 549,
     "metadata": {},
     "output_type": "execute_result"
    }
   ],
   "source": [
    "xA6*yA6**t == yA6**t*xA6"
   ]
  },
  {
   "cell_type": "code",
   "execution_count": 550,
   "id": "60510d56",
   "metadata": {},
   "outputs": [
    {
     "data": {
      "text/plain": [
       "True"
      ]
     },
     "execution_count": 550,
     "metadata": {},
     "output_type": "execute_result"
    }
   ],
   "source": [
    "yA6*xA6**t == xA6**t*yA6"
   ]
  },
  {
   "cell_type": "code",
   "execution_count": 551,
   "id": "f463e207",
   "metadata": {},
   "outputs": [
    {
     "data": {
      "text/plain": [
       "True"
      ]
     },
     "execution_count": 551,
     "metadata": {},
     "output_type": "execute_result"
    }
   ],
   "source": [
    "yA6*yA6**t == yA6**t*yA6"
   ]
  },
  {
   "cell_type": "code",
   "execution_count": 552,
   "id": "3464a252",
   "metadata": {},
   "outputs": [
    {
     "data": {
      "text/plain": [
       "True"
      ]
     },
     "execution_count": 552,
     "metadata": {},
     "output_type": "execute_result"
    }
   ],
   "source": [
    "xA6*xA6**(t**2) == xA6**(t**2)*xA6"
   ]
  },
  {
   "cell_type": "code",
   "execution_count": 553,
   "id": "a63d81db",
   "metadata": {},
   "outputs": [
    {
     "data": {
      "text/plain": [
       "True"
      ]
     },
     "execution_count": 553,
     "metadata": {},
     "output_type": "execute_result"
    }
   ],
   "source": [
    "xA6*yA6**(t**2) == yA6**(t**2)*xA6"
   ]
  },
  {
   "cell_type": "code",
   "execution_count": 554,
   "id": "061798db",
   "metadata": {},
   "outputs": [
    {
     "data": {
      "text/plain": [
       "True"
      ]
     },
     "execution_count": 554,
     "metadata": {},
     "output_type": "execute_result"
    }
   ],
   "source": [
    "yA6*xA6**(t**2) == xA6**(t**2)*yA6"
   ]
  },
  {
   "cell_type": "code",
   "execution_count": 555,
   "id": "ca824f4b",
   "metadata": {},
   "outputs": [
    {
     "data": {
      "text/plain": [
       "True"
      ]
     },
     "execution_count": 555,
     "metadata": {},
     "output_type": "execute_result"
    }
   ],
   "source": [
    "yA6*yA6**(t**2) == yA6**(t**2)*yA6"
   ]
  },
  {
   "cell_type": "code",
   "execution_count": 556,
   "id": "2ddbc23a",
   "metadata": {},
   "outputs": [
    {
     "data": {
      "text/plain": [
       "True"
      ]
     },
     "execution_count": 556,
     "metadata": {},
     "output_type": "execute_result"
    }
   ],
   "source": [
    "xA6**t*xA6**(t**2) == xA6**(t**2)*xA6**t"
   ]
  },
  {
   "cell_type": "code",
   "execution_count": 557,
   "id": "502eb28a",
   "metadata": {},
   "outputs": [
    {
     "data": {
      "text/plain": [
       "True"
      ]
     },
     "execution_count": 557,
     "metadata": {},
     "output_type": "execute_result"
    }
   ],
   "source": [
    "xA6**t*yA6**(t**2) == yA6**(t**2)*xA6**t"
   ]
  },
  {
   "cell_type": "code",
   "execution_count": 558,
   "id": "e424b842",
   "metadata": {},
   "outputs": [
    {
     "data": {
      "text/plain": [
       "True"
      ]
     },
     "execution_count": 558,
     "metadata": {},
     "output_type": "execute_result"
    }
   ],
   "source": [
    "yA6**t*xA6**(t**2) == xA6**(t**2)*yA6**t"
   ]
  },
  {
   "cell_type": "code",
   "execution_count": 559,
   "id": "791f536b",
   "metadata": {},
   "outputs": [
    {
     "data": {
      "text/plain": [
       "True"
      ]
     },
     "execution_count": 559,
     "metadata": {},
     "output_type": "execute_result"
    }
   ],
   "source": [
    "yA6**t*yA6**(t**2) == yA6**(t**2)*yA6**t"
   ]
  },
  {
   "cell_type": "markdown",
   "id": "35cc2254",
   "metadata": {},
   "source": [
    "As for $\\langle g_{A6}, h_{A6} \\rangle$ being the $\\alt{6}^3$ normaliser,\n",
    "demonstrate that the conjugates of $x_{A6}$, $y_{A6}$,\n",
    "$x_{A6}^t$, $y_{A6}^t$, $x_{A6}^{t^2}$, and $y_{A6}^{t^2}$ by $g_{A6}, h_{A6}$\n",
    "fall in $U^{t^i}$ for some $0 \\le i \\le 2$."
   ]
  },
  {
   "cell_type": "code",
   "execution_count": 560,
   "id": "ee85a976",
   "metadata": {},
   "outputs": [
    {
     "data": {
      "text/plain": [
       "True"
      ]
     },
     "execution_count": 560,
     "metadata": {},
     "output_type": "execute_result"
    }
   ],
   "source": [
    "# Note t has order 3, so that x is in U^(t^k) iff x^(t^(3-k)) is in U\n",
    "t**3 == e"
   ]
  },
  {
   "cell_type": "code",
   "execution_count": 561,
   "id": "e72de95d",
   "metadata": {},
   "outputs": [
    {
     "data": {
      "text/plain": [
       "True"
      ]
     },
     "execution_count": 561,
     "metadata": {},
     "output_type": "execute_result"
    }
   ],
   "source": [
    "xA6**(gA6*t**2) == xA6**(t**2*gA6) == xA6**(t*gA6*t) == xA6*yA6**2*xA6**2*yA6"
   ]
  },
  {
   "cell_type": "code",
   "execution_count": 562,
   "id": "1a2ce1b3",
   "metadata": {},
   "outputs": [
    {
     "data": {
      "text/plain": [
       "True"
      ]
     },
     "execution_count": 562,
     "metadata": {},
     "output_type": "execute_result"
    }
   ],
   "source": [
    "yA6**(gA6*t**2) == yA6**(t**2*gA6) == yA6**(t*gA6*t) == xA6**3*yA6**2*xA6*yA6*xA6*yA6**2"
   ]
  },
  {
   "cell_type": "code",
   "execution_count": 563,
   "id": "0932703d",
   "metadata": {},
   "outputs": [
    {
     "data": {
      "text/plain": [
       "True"
      ]
     },
     "execution_count": 563,
     "metadata": {},
     "output_type": "execute_result"
    }
   ],
   "source": [
    "xA6**hA6 == yA6**2*xA6**3*yA6"
   ]
  },
  {
   "cell_type": "code",
   "execution_count": 564,
   "id": "17c9e4f3",
   "metadata": {},
   "outputs": [
    {
     "data": {
      "text/plain": [
       "True"
      ]
     },
     "execution_count": 564,
     "metadata": {},
     "output_type": "execute_result"
    }
   ],
   "source": [
    "yA6**hA6 == yA6"
   ]
  },
  {
   "cell_type": "code",
   "execution_count": 565,
   "id": "d5f92d84",
   "metadata": {},
   "outputs": [
    {
     "data": {
      "text/plain": [
       "True"
      ]
     },
     "execution_count": 565,
     "metadata": {},
     "output_type": "execute_result"
    }
   ],
   "source": [
    "xA6**(t*hA6*t) == yA6*xA6*yA6**2"
   ]
  },
  {
   "cell_type": "code",
   "execution_count": 566,
   "id": "8e0047f2",
   "metadata": {},
   "outputs": [
    {
     "data": {
      "text/plain": [
       "True"
      ]
     },
     "execution_count": 566,
     "metadata": {},
     "output_type": "execute_result"
    }
   ],
   "source": [
    "yA6**(t*hA6*t) == yA6*xA6*yA6*xA6**3*yA6**2"
   ]
  },
  {
   "cell_type": "code",
   "execution_count": 567,
   "id": "77a3206f",
   "metadata": {},
   "outputs": [
    {
     "data": {
      "text/plain": [
       "True"
      ]
     },
     "execution_count": 567,
     "metadata": {},
     "output_type": "execute_result"
    }
   ],
   "source": [
    "xA6**(t**2*hA6*t**2) == (yA6*xA6)**2*yA6**2*xA6*yA6"
   ]
  },
  {
   "cell_type": "code",
   "execution_count": 568,
   "id": "df7a377e",
   "metadata": {},
   "outputs": [
    {
     "data": {
      "text/plain": [
       "True"
      ]
     },
     "execution_count": 568,
     "metadata": {},
     "output_type": "execute_result"
    }
   ],
   "source": [
    "yA6**(t**2*hA6*t**2) == (yA6*xA6)**3*xA6*yA6*xA6"
   ]
  },
  {
   "cell_type": "markdown",
   "id": "53a171bd",
   "metadata": {},
   "source": [
    "Hence $g_{A6}, h_{A6} \\in \\nm{U, U^t, U^{t^2}}$ --- note that they in fact\n",
    "permute the three conjugates of $U$. To now prove that they generate\n",
    "the normaliser of shape $\\left( \\alt{6} \\times \\alt{6} \\times \\alt{6} \\right).\\left( 2 \\times \\sym{4} \\right)$, begin by exhibiting words\n",
    "for $x_{A6}$, $y_{A6}$, and $t$:"
   ]
  },
  {
   "cell_type": "code",
   "execution_count": 569,
   "id": "a79c9fa4",
   "metadata": {},
   "outputs": [
    {
     "data": {
      "text/plain": [
       "True"
      ]
     },
     "execution_count": 569,
     "metadata": {},
     "output_type": "execute_result"
    }
   ],
   "source": [
    "(gA6**3*hA6**2)**10 == xA6"
   ]
  },
  {
   "cell_type": "code",
   "execution_count": 570,
   "id": "07807818",
   "metadata": {},
   "outputs": [
    {
     "data": {
      "text/plain": [
       "True"
      ]
     },
     "execution_count": 570,
     "metadata": {},
     "output_type": "execute_result"
    }
   ],
   "source": [
    "hA6**4 == yA6"
   ]
  },
  {
   "cell_type": "code",
   "execution_count": 571,
   "id": "ce9fb198",
   "metadata": {},
   "outputs": [],
   "source": [
    "# t is gA6^4 by definition"
   ]
  },
  {
   "cell_type": "markdown",
   "id": "a47b1169",
   "metadata": {},
   "source": [
    "This accounts for $\\langle U, U^t, U^{t^2} \\rangle$ itself, along with $t$\n",
    "(to be used later). We account for factor group $2 \\times \\sym{4}$ in stages.\n",
    "Start with an element which induces an outer automorphism of $U$ and\n",
    "centralises $U^t$.  \n",
    "Observe (e.g. from the GAP Character Table Library) that elements of order 4\n",
    "in $\\alt{6}$ are self-centralising. Conjugation by the following element\n",
    "fixes $x_{A6}, x_{A6}^t, y_{A6}^t$ and takes $y_{A6}^t$ to $y_{A6}^{-1} \\notin\n",
    "    y_{A6}^{\\langle x_{A6} \\rangle}$ for the desired result.\n",
    "(One necessarily has $y_{A6}^{c_0} \\in U$ if $x_{A6}^{c_0} \\in U$\n",
    "and similarly for $y_{A6}$, as $c_0 \\in \\langle g_{A6}, h_{A6} \\rangle$\n",
    "permutes $U, U^t, U^{t^2}$)."
   ]
  },
  {
   "cell_type": "code",
   "execution_count": 572,
   "id": "066a0d5b",
   "metadata": {},
   "outputs": [
    {
     "data": {
      "text/plain": [
       "2"
      ]
     },
     "execution_count": 572,
     "metadata": {},
     "output_type": "execute_result"
    }
   ],
   "source": [
    "c0 = (gA6**3*hA6**2*gA6*hA6**3)**6\n",
    "c0.order()"
   ]
  },
  {
   "cell_type": "code",
   "execution_count": 573,
   "id": "455b61d5",
   "metadata": {},
   "outputs": [
    {
     "data": {
      "text/plain": [
       "True"
      ]
     },
     "execution_count": 573,
     "metadata": {},
     "output_type": "execute_result"
    }
   ],
   "source": [
    "all(x**c0 == x for x in (xA6, xA6**t, yA6**t))"
   ]
  },
  {
   "cell_type": "code",
   "execution_count": 574,
   "id": "4a1c420b",
   "metadata": {},
   "outputs": [
    {
     "data": {
      "text/plain": [
       "False"
      ]
     },
     "execution_count": 574,
     "metadata": {},
     "output_type": "execute_result"
    }
   ],
   "source": [
    "yorb = [yA6**(xA6**i) for i in range(4)]\n",
    " # For efficiency\n",
    "yorbset = {as_int(x) for x in yorb}\n",
    "as_int(1/yA6) in yorbset"
   ]
  },
  {
   "cell_type": "markdown",
   "id": "848b353e",
   "metadata": {},
   "source": [
    "Since no element of $\\langle U, U^t, U^{t^2} \\rangle \\cong \\alt{6}^3$ can induce\n",
    "an outer automorphism of $U^t$, Lemma 2.1 shows addition of $\\langle E, c_0 \\rangle$\n",
    "is at least twice as large as $E$. The same argument applies in turn\n",
    "to $c_1$ below, which induces an outer automorphism of $U^t$ while centralising $U$:"
   ]
  },
  {
   "cell_type": "code",
   "execution_count": 575,
   "id": "09464dd0",
   "metadata": {},
   "outputs": [
    {
     "data": {
      "text/plain": [
       "True"
      ]
     },
     "execution_count": 575,
     "metadata": {},
     "output_type": "execute_result"
    }
   ],
   "source": [
    "c1 = (hA6**2*gA6**3*hA6**3)**6\n",
    "all(x**c1 == x for x in (xA6, yA6, xA6**t))"
   ]
  },
  {
   "cell_type": "code",
   "execution_count": 576,
   "id": "f2cc829c",
   "metadata": {},
   "outputs": [
    {
     "data": {
      "text/plain": [
       "False"
      ]
     },
     "execution_count": 576,
     "metadata": {},
     "output_type": "execute_result"
    }
   ],
   "source": [
    "as_int(yA6**(t*c1/t)) in yorbset"
   ]
  },
  {
   "cell_type": "markdown",
   "id": "c0ff2970",
   "metadata": {},
   "source": [
    "For a third factor of 2, we exhibit an element $c_2$ which normalises $U^t$\n",
    "while inducing an outer automorphism of $U$ not accounted for by introducing\n",
    "$c_0$. Note that $c_0$, as an involution which normalises\n",
    "$\\langle x_{A6}, y_{A6} \\rangle$, extends it to a group\n",
    "$\\langle x_{A6}, y_{A6}, c_0 \\rangle$ twice as large with the original\n",
    "as a normal subgroup. The centraliser of $x_{A6}$ is then $\\langle x_{A6} \\rangle\n",
    "    \\cup \\langle x_{A6} \\rangle c_0$ --- recall $c_0$ commutes with $x_{A6}$."
   ]
  },
  {
   "cell_type": "code",
   "execution_count": 577,
   "id": "d97b4ff3",
   "metadata": {},
   "outputs": [
    {
     "data": {
      "text/plain": [
       "True"
      ]
     },
     "execution_count": 577,
     "metadata": {},
     "output_type": "execute_result"
    }
   ],
   "source": [
    "c2 = gA6**3/yA6\n",
    "xA6**c2 == xA6"
   ]
  },
  {
   "cell_type": "code",
   "execution_count": 578,
   "id": "ac5064bc",
   "metadata": {},
   "outputs": [
    {
     "data": {
      "text/plain": [
       "8"
      ]
     },
     "execution_count": 578,
     "metadata": {},
     "output_type": "execute_result"
    }
   ],
   "source": [
    "# yA6^C_{<E, c0, c1>}(xA6) = yA6^{<xA6><c0>}, since c0 commutes with xA6\n",
    "yorb2 = [x**c0 for x in yorb]\n",
    "yorbset.update({as_int(x) for x in yorb2})\n",
    "len(yorbset)"
   ]
  },
  {
   "cell_type": "code",
   "execution_count": 579,
   "id": "4b691e90",
   "metadata": {},
   "outputs": [
    {
     "data": {
      "text/plain": [
       "False"
      ]
     },
     "execution_count": 579,
     "metadata": {},
     "output_type": "execute_result"
    }
   ],
   "source": [
    "as_int(yA6**c2) in yorbset"
   ]
  },
  {
   "cell_type": "code",
   "execution_count": 580,
   "id": "08ebbb72",
   "metadata": {},
   "outputs": [
    {
     "data": {
      "text/plain": [
       "True"
      ]
     },
     "execution_count": 580,
     "metadata": {},
     "output_type": "execute_result"
    }
   ],
   "source": [
    "xA6_tc = xA6**(t*c2)\n",
    "xA6_tc**(xA6**(t**2)) == xA6_tc"
   ]
  },
  {
   "cell_type": "code",
   "execution_count": 581,
   "id": "ed623c01",
   "metadata": {},
   "outputs": [
    {
     "data": {
      "text/plain": [
       "True"
      ]
     },
     "execution_count": 581,
     "metadata": {},
     "output_type": "execute_result"
    }
   ],
   "source": [
    "xA6_tc**(yA6**(t**2)) == xA6_tc"
   ]
  },
  {
   "cell_type": "markdown",
   "id": "7943d5d6",
   "metadata": {},
   "source": [
    "The additional check that $x_{A6}^{tc_2}$ commutes with $U^{t^2}$ guarantees\n",
    "$c_1$ normalises $U^t$, since $\\alt{6}$ has trivial centre and conjugation\n",
    "by $c_2$ permutes $U, U^t, U^{t^2}$.\n",
    "\n",
    "The same argument based on centralising elements and permuting $\\alt{6}$s proves\n",
    "that the element below interchanges $U$ and $U^t$ for a fourth factor of\n",
    "at least 2 in $2 \\times \\sym{4}$. The construction of $\\MT{11} \\times \\alt{6} \\udot 2^2$ is then complete\n",
    "upon applying Lemma 2.1 to $t \\in \\langle g_{A6}, h_{A6} \\rangle$, which has\n",
    "prime order 3 and takes$U^t$ to $U^{t^2} \\not\\subseteq U \\cup U^t$."
   ]
  },
  {
   "cell_type": "code",
   "execution_count": 582,
   "id": "cf15a3d2",
   "metadata": {},
   "outputs": [
    {
     "data": {
      "text/plain": [
       "True"
      ]
     },
     "execution_count": 582,
     "metadata": {},
     "output_type": "execute_result"
    }
   ],
   "source": [
    "c3 = hA6**(1/t)\n",
    "xA6**c3*xA6 == xA6*xA6**c3"
   ]
  },
  {
   "cell_type": "code",
   "execution_count": 583,
   "id": "af519e15",
   "metadata": {},
   "outputs": [
    {
     "data": {
      "text/plain": [
       "True"
      ]
     },
     "execution_count": 583,
     "metadata": {},
     "output_type": "execute_result"
    }
   ],
   "source": [
    "xA6**c3*yA6 == yA6*xA6**c3"
   ]
  },
  {
   "cell_type": "code",
   "execution_count": 584,
   "id": "c162de5c",
   "metadata": {},
   "outputs": [
    {
     "data": {
      "text/plain": [
       "True"
      ]
     },
     "execution_count": 584,
     "metadata": {},
     "output_type": "execute_result"
    }
   ],
   "source": [
    "xA6**c3*(xA6**(t**2)) == (xA6**(t**2))*xA6**c3"
   ]
  },
  {
   "cell_type": "code",
   "execution_count": 585,
   "id": "6e57d57f",
   "metadata": {},
   "outputs": [
    {
     "data": {
      "text/plain": [
       "True"
      ]
     },
     "execution_count": 585,
     "metadata": {},
     "output_type": "execute_result"
    }
   ],
   "source": [
    "xA6**c3*(yA6**(t**2)) == (yA6**(t**2))*xA6**c3"
   ]
  },
  {
   "cell_type": "code",
   "execution_count": 586,
   "id": "6a50fd42",
   "metadata": {},
   "outputs": [
    {
     "data": {
      "text/plain": [
       "True"
      ]
     },
     "execution_count": 586,
     "metadata": {},
     "output_type": "execute_result"
    }
   ],
   "source": [
    "(xA6**t)**c3*(xA6**(t**2)) == (xA6**(t**2))*(xA6**t)**c3"
   ]
  },
  {
   "cell_type": "code",
   "execution_count": 587,
   "id": "680eaffb",
   "metadata": {},
   "outputs": [
    {
     "data": {
      "text/plain": [
       "True"
      ]
     },
     "execution_count": 587,
     "metadata": {},
     "output_type": "execute_result"
    }
   ],
   "source": [
    "(xA6**t)**c3*(yA6**(t**2)) == (yA6**(t**2))*(xA6**t)**c3"
   ]
  },
  {
   "cell_type": "markdown",
   "id": "fe5e1795",
   "metadata": {},
   "source": [
    "## $\\left( \\alt{5} \\times \\unt{3}{8}{:}3 \\right){:}2$ <a id=\"normACA\"></a>\n",
    "Generators are"
   ]
  },
  {
   "cell_type": "code",
   "execution_count": 588,
   "id": "402ad0cb",
   "metadata": {},
   "outputs": [],
   "source": [
    "g2_ACA, g3_ACA = A5_dict[\"ACA\"]\n",
    "gACA = MM(\"M<y_7ach*x_407h*d_15ch*p_25808336*l_1*p_2999040*l_1*p_468643*t_2*l_2*p_2597760*l_1*p_10796555*t_2*l_2*p_1393920*l_2*p_1056432*t_2*l_1*p_2370240*t_1*l_2*p_2956800*l_1*p_127995497*t_1*l_2*p_2597760*l_1*p_96477714*t_1*l_2*p_96729600*l_2>\")\n",
    "hACA = MM(\"M<y_449h*x_35h*d_64eh*p_128178071*l_2*p_108704640*l_2*t_1*l_1*p_1499520*l_2*p_26084*l_1*t_1*l_2*p_2386560*l_2*p_465945*l_1*t_1*l_2*p_1943040*l_2*p_64122823*t_1*l_1*p_1499520*l_1*p_42729008*t_2*l_2*p_2830080*l_2*p_21543028>\")\n",
    "L_N = (g3_ACA, gACA, hACA)"
   ]
  },
  {
   "cell_type": "markdown",
   "id": "32efda30",
   "metadata": {},
   "source": [
    "Note that $g_{3ACA}$ is one of the generators of the type ACA $\\alt{5}$\n",
    "in [Lemma 4.1](#lemma).   \n",
    "This subgroup is the normaliser of a type ACA $\\alt{5}$, in this case\n",
    "also the one exhibited in [Lemma 4.1](#lemma):"
   ]
  },
  {
   "cell_type": "code",
   "execution_count": 589,
   "id": "3436ecfc",
   "metadata": {},
   "outputs": [],
   "source": [
    "L_E = (g2_ACA, g3_ACA)"
   ]
  },
  {
   "cell_type": "markdown",
   "id": "00098433",
   "metadata": {},
   "source": [
    "First check that the $\\alt{5}$ generators $g_{2ACA}, g_{3ACA}$ lie\n",
    "in the group and let $v = g_{ACA}^4$."
   ]
  },
  {
   "cell_type": "code",
   "execution_count": 590,
   "id": "3e50fc51",
   "metadata": {},
   "outputs": [
    {
     "data": {
      "text/plain": [
       "True"
      ]
     },
     "execution_count": 590,
     "metadata": {},
     "output_type": "execute_result"
    }
   ],
   "source": [
    "# g3_ACA is given as a generator\n",
    "g2_ACA == gACA**3"
   ]
  },
  {
   "cell_type": "code",
   "execution_count": 591,
   "id": "5613e0ae",
   "metadata": {},
   "outputs": [],
   "source": [
    "v = gACA*g2_ACA"
   ]
  },
  {
   "cell_type": "markdown",
   "id": "53954670",
   "metadata": {},
   "source": [
    "It will be shown below that $v$ centralises $\\langle L_E \\rangle$,\n",
    "so that $g_{ACA} = v*g_{2ACA}^{-1}$ belongs to the normaliser. Check that\n",
    "$h_{ACA}$ is also an element by demonstrating that it centralises $g_{2ACA}$ and\n",
    "acts on $g_{3ACA}$ in such a way as to induce an outer automorphism of $\\alt{5}$:"
   ]
  },
  {
   "cell_type": "code",
   "execution_count": 592,
   "id": "8095b889",
   "metadata": {},
   "outputs": [
    {
     "data": {
      "text/plain": [
       "True"
      ]
     },
     "execution_count": 592,
     "metadata": {},
     "output_type": "execute_result"
    }
   ],
   "source": [
    "hACA*g2_ACA == g2_ACA*hACA"
   ]
  },
  {
   "cell_type": "code",
   "execution_count": 593,
   "id": "335b45e2",
   "metadata": {},
   "outputs": [
    {
     "data": {
      "text/plain": [
       "True"
      ]
     },
     "execution_count": 593,
     "metadata": {},
     "output_type": "execute_result"
    }
   ],
   "source": [
    "A5_ACA = size_image(L_E, as_int, list)\n",
    "x2_centraliser = [x for x in A5_ACA if g2_ACA*x == x*g2_ACA]\n",
    "\n",
    "g3_ACA**hACA in A5_ACA"
   ]
  },
  {
   "cell_type": "code",
   "execution_count": 594,
   "id": "097b9487",
   "metadata": {},
   "outputs": [
    {
     "data": {
      "text/plain": [
       "False"
      ]
     },
     "execution_count": 594,
     "metadata": {},
     "output_type": "execute_result"
    }
   ],
   "source": [
    "as_int(g3_ACA**hACA) in {as_int(g3_ACA**x) for x in x2_centraliser}"
   ]
  },
  {
   "cell_type": "markdown",
   "id": "599d6fe3",
   "metadata": {},
   "source": [
    "To show the normaliser is generated in full, prove\n",
    "$\\cma{g_{2ACA}, g_{3ACA}} \\cong \\unt{3}{8}{:}3$\n",
    "(note the $\\alt{5}$ has trivial centre) is a subgroup of\n",
    "$\\langle h_{ACA}, v \\rangle$ containing $v$. Begin\n",
    "by constructing some elements thereof:"
   ]
  },
  {
   "cell_type": "code",
   "execution_count": 595,
   "id": "43632dd3",
   "metadata": {},
   "outputs": [
    {
     "data": {
      "text/plain": [
       "True"
      ]
     },
     "execution_count": 595,
     "metadata": {},
     "output_type": "execute_result"
    }
   ],
   "source": [
    "b1, b2 = hACA*v, hACA*v**2\n",
    "c1 = b1*b2\n",
    "c2 = b1**3*b2**3\n",
    "c3 = b1**3*b2\n",
    "\n",
    "v*g2_ACA == g2_ACA*v"
   ]
  },
  {
   "cell_type": "code",
   "execution_count": 596,
   "id": "49660cb1",
   "metadata": {},
   "outputs": [
    {
     "data": {
      "text/plain": [
       "True"
      ]
     },
     "execution_count": 596,
     "metadata": {},
     "output_type": "execute_result"
    }
   ],
   "source": [
    "v*g3_ACA == g3_ACA*v"
   ]
  },
  {
   "cell_type": "code",
   "execution_count": 597,
   "id": "f5f5c7fb",
   "metadata": {},
   "outputs": [
    {
     "data": {
      "text/plain": [
       "True"
      ]
     },
     "execution_count": 597,
     "metadata": {},
     "output_type": "execute_result"
    }
   ],
   "source": [
    "c1*g2_ACA == g2_ACA*c1"
   ]
  },
  {
   "cell_type": "code",
   "execution_count": 598,
   "id": "1388f9da",
   "metadata": {},
   "outputs": [
    {
     "data": {
      "text/plain": [
       "True"
      ]
     },
     "execution_count": 598,
     "metadata": {},
     "output_type": "execute_result"
    }
   ],
   "source": [
    "c1*g3_ACA == g3_ACA*c1"
   ]
  },
  {
   "cell_type": "code",
   "execution_count": 599,
   "id": "070a9435",
   "metadata": {},
   "outputs": [
    {
     "data": {
      "text/plain": [
       "True"
      ]
     },
     "execution_count": 599,
     "metadata": {},
     "output_type": "execute_result"
    }
   ],
   "source": [
    "c2*g2_ACA == g2_ACA*c2"
   ]
  },
  {
   "cell_type": "code",
   "execution_count": 600,
   "id": "9b7af519",
   "metadata": {},
   "outputs": [
    {
     "data": {
      "text/plain": [
       "True"
      ]
     },
     "execution_count": 600,
     "metadata": {},
     "output_type": "execute_result"
    }
   ],
   "source": [
    "c2*g3_ACA == g3_ACA*c2"
   ]
  },
  {
   "cell_type": "code",
   "execution_count": 601,
   "id": "411c7ded",
   "metadata": {},
   "outputs": [
    {
     "data": {
      "text/plain": [
       "True"
      ]
     },
     "execution_count": 601,
     "metadata": {},
     "output_type": "execute_result"
    }
   ],
   "source": [
    "c3*g2_ACA == g2_ACA*c3"
   ]
  },
  {
   "cell_type": "code",
   "execution_count": 602,
   "id": "91fd466b",
   "metadata": {},
   "outputs": [
    {
     "data": {
      "text/plain": [
       "True"
      ]
     },
     "execution_count": 602,
     "metadata": {},
     "output_type": "execute_result"
    }
   ],
   "source": [
    "c3*g3_ACA == g3_ACA*c3"
   ]
  },
  {
   "cell_type": "markdown",
   "id": "ffae3140",
   "metadata": {},
   "source": [
    "Now compute the orders of $c_1, c_2, c_3$:"
   ]
  },
  {
   "cell_type": "code",
   "execution_count": 603,
   "id": "17db02cd",
   "metadata": {},
   "outputs": [
    {
     "data": {
      "text/plain": [
       "19"
      ]
     },
     "execution_count": 603,
     "metadata": {},
     "output_type": "execute_result"
    }
   ],
   "source": [
    "c1.order()"
   ]
  },
  {
   "cell_type": "code",
   "execution_count": 604,
   "id": "ec8b2eb4",
   "metadata": {},
   "outputs": [
    {
     "data": {
      "text/plain": [
       "7"
      ]
     },
     "execution_count": 604,
     "metadata": {},
     "output_type": "execute_result"
    }
   ],
   "source": [
    "c2.order()"
   ]
  },
  {
   "cell_type": "code",
   "execution_count": 605,
   "id": "9f836ca7",
   "metadata": {},
   "outputs": [
    {
     "data": {
      "text/plain": [
       "12"
      ]
     },
     "execution_count": 605,
     "metadata": {},
     "output_type": "execute_result"
    }
   ],
   "source": [
    "c3.order()"
   ]
  },
  {
   "cell_type": "markdown",
   "id": "fa92f0a1",
   "metadata": {},
   "source": [
    "The first two elements must lie inside the normal subgroup\n",
    "$\\unt{3}{8}$ of $\\unt{3}{8}{:}3$,\n",
    "since 7 and 19 are coprime to 3 while every non-trivial element\n",
    "of the factor group 3 has order 3. The GAP Character Table Library\n",
    "shows $\\unt{3}{8}$ has no maximal subgroups with order divisible\n",
    "by both 7 and 19, however, so that $c_1$ and $c_2$ must generate $\\unt{3}{8}$.\n",
    "As for the factor group $3$, observe that there are no elements of order\n",
    "$\\left| c_3 \\right| = 12$ in $\\unt{3}{8}$. It follows that $c_3$ lies in one\n",
    "of the non-trivial cosets of this normal group; on the other hand, since\n",
    "every non-trivial element of the cyclic group 3 generates it,\n",
    "this ensures every coset is generated. The whole centraliser\n",
    "of $\\langle g_{2ACA}, g_{3ACA} \\rangle$ thus appears.\n",
    "\n",
    "To complete the proof, recall that $g_{2ACA}, g_{3ACA}$ lie in\n",
    "$\\langle g_{3ACA}, g_{ACA}, h_{ACA} \\rangle$, and also that $h_{ACA}$ induces\n",
    "an outer automorphism of $\\langle g_{2ACA}, g_{3ACA} \\rangle$. The element\n",
    "$h_{ACA}$ hence lies in the part of the $\\alt{5}$ normaliser outside\n",
    "the $\\alt{5} \\times  \\unt{3}{8}{:}3$, giving the entire $\\left( \\alt{5} \\times \\unt{3}{8}{:}3 \\right){:}2$."
   ]
  },
  {
   "cell_type": "markdown",
   "id": "700e2ac1",
   "metadata": {},
   "source": [
    "## $\\left( \\psl{3}{2} \\times \\symp{4}{4}{:}2 \\right) \\udot 2$ <a id=\"normL7\"></a>\n",
    "Generators are"
   ]
  },
  {
   "cell_type": "code",
   "execution_count": 606,
   "id": "209c62ac",
   "metadata": {},
   "outputs": [],
   "source": [
    "gL2_7 = MM(\"M<y_686h*x_1b55h*d_3f9h*p_29084233*l_1*p_3840*l_1*p_4176*l_1*p_10522560>\")\n",
    "hL2_7 = MM(\"M<y_144h*x_17beh*d_94eh*p_87520527*l_2*p_2830080*l_2*p_11595204*t_2*l_2*p_71005440*l_1*p_202287360*l_2*t_2*l_2*p_47942400*l_2*p_221802288*l_1*t_1*l_2*p_2344320*l_2*p_23223833*l_2*t_1*l_1*p_5639040*l_1*t_2*l_2*p_2386560*l_2*p_11142839>\")\n",
    "n = MM(\"M<y_397h*x_19d0h*d_0ccch*p_79554538*l_1*p_1499520*l_2*p_12545653>\")\n",
    "L_N = (gL2_7, hL2_7, n)"
   ]
  },
  {
   "cell_type": "markdown",
   "id": "48e697f9",
   "metadata": {},
   "source": [
    "This maximal subgroup is the normaliser of the unique conjugacy class of\n",
    "$\\psl{2}{3} \\cong \\psl{2}{7}$ in which the elements of orders 2, 3, and 7\n",
    "fuse with $\\MM$-classes 2A, 3A, and 7A. We claim this instance normalises\n",
    "the subgroup generated by"
   ]
  },
  {
   "cell_type": "code",
   "execution_count": 607,
   "id": "20d5c668",
   "metadata": {},
   "outputs": [],
   "source": [
    "xL2_7 = gL2_7**8\n",
    "yL2_7 = hL2_7**17\n",
    "L_E = (xL2_7, yL2_7)"
   ]
  },
  {
   "cell_type": "markdown",
   "id": "ce490986",
   "metadata": {},
   "source": [
    "As such, first show $\\langle x_{L2(7)}, y_{L2(7)} \\rangle \\cong \\psl{2}{7}$:"
   ]
  },
  {
   "cell_type": "code",
   "execution_count": 608,
   "id": "00502343",
   "metadata": {},
   "outputs": [
    {
     "data": {
      "text/plain": [
       "True"
      ]
     },
     "execution_count": 608,
     "metadata": {},
     "output_type": "execute_result"
    }
   ],
   "source": [
    "test_xsl(xL2_7, yL2_7, 7)"
   ]
  },
  {
   "cell_type": "markdown",
   "id": "ab232266",
   "metadata": {},
   "source": [
    "Now verify the conjugacy class fusion criteria. The subgroup is embedded in $\\GG$,\n",
    "allowing us to use `MM.chi_G_x0()` for this purpose."
   ]
  },
  {
   "cell_type": "code",
   "execution_count": 609,
   "id": "85c14c0c",
   "metadata": {},
   "outputs": [
    {
     "data": {
      "text/plain": [
       "True"
      ]
     },
     "execution_count": 609,
     "metadata": {},
     "output_type": "execute_result"
    }
   ],
   "source": [
    "xL2_7.in_G_x0() and yL2_7.in_G_x0()"
   ]
  },
  {
   "cell_type": "code",
   "execution_count": 610,
   "id": "096b3ea2",
   "metadata": {},
   "outputs": [
    {
     "data": {
      "text/plain": [
       "(7, 2, 3)"
      ]
     },
     "execution_count": 610,
     "metadata": {},
     "output_type": "execute_result"
    }
   ],
   "source": [
    "xL2_7.order(), yL2_7.order(), (xL2_7*yL2_7).order()"
   ]
  },
  {
   "cell_type": "code",
   "execution_count": 611,
   "id": "9dd7c2e1",
   "metadata": {},
   "outputs": [
    {
     "data": {
      "text/plain": [
       "4371"
      ]
     },
     "execution_count": 611,
     "metadata": {},
     "output_type": "execute_result"
    }
   ],
   "source": [
    "yL2_7.chi_G_x0()[0]"
   ]
  },
  {
   "cell_type": "code",
   "execution_count": 612,
   "id": "d4bb3340",
   "metadata": {},
   "outputs": [
    {
     "data": {
      "text/plain": [
       "782"
      ]
     },
     "execution_count": 612,
     "metadata": {},
     "output_type": "execute_result"
    }
   ],
   "source": [
    "(xL2_7*yL2_7).chi_G_x0()[0]"
   ]
  },
  {
   "cell_type": "code",
   "execution_count": 613,
   "id": "5f1e9463",
   "metadata": {},
   "outputs": [
    {
     "data": {
      "text/plain": [
       "50"
      ]
     },
     "execution_count": 613,
     "metadata": {},
     "output_type": "execute_result"
    }
   ],
   "source": [
    "xL2_7.chi_G_x0()[0]"
   ]
  },
  {
   "cell_type": "markdown",
   "id": "41389bfa",
   "metadata": {},
   "source": [
    "With the nature of the relevant subgroup confirmed, recall that\n",
    "$x_{L2(7)}, y_{L2(7)}$ are defined as elements of $\\langle g_{L2(7)}, h_{L2(7)}$.\n",
    "Moreover, $u = g_{L2(7)} x_{L2(7)}^{-1}$ and $v = h_{L2(7)} y_{L2(7)}$\n",
    "centralise $\\langle x_{L2(7)}, y_{L2(7)} \\rangle$ and thus lie in its centraliser\n",
    "$\\symp{4}{4}{:}2$:"
   ]
  },
  {
   "cell_type": "code",
   "execution_count": 614,
   "id": "a72854ef",
   "metadata": {},
   "outputs": [
    {
     "data": {
      "text/plain": [
       "True"
      ]
     },
     "execution_count": 614,
     "metadata": {},
     "output_type": "execute_result"
    }
   ],
   "source": [
    "u = gL2_7/xL2_7\n",
    "v = hL2_7*yL2_7\n",
    "\n",
    "xL2_7*u == u*xL2_7"
   ]
  },
  {
   "cell_type": "code",
   "execution_count": 615,
   "id": "d8214fe2",
   "metadata": {},
   "outputs": [
    {
     "data": {
      "text/plain": [
       "True"
      ]
     },
     "execution_count": 615,
     "metadata": {},
     "output_type": "execute_result"
    }
   ],
   "source": [
    "xL2_7*v == v*xL2_7"
   ]
  },
  {
   "cell_type": "code",
   "execution_count": 616,
   "id": "070906a0",
   "metadata": {},
   "outputs": [
    {
     "data": {
      "text/plain": [
       "True"
      ]
     },
     "execution_count": 616,
     "metadata": {},
     "output_type": "execute_result"
    }
   ],
   "source": [
    "yL2_7*u == u*yL2_7"
   ]
  },
  {
   "cell_type": "code",
   "execution_count": 617,
   "id": "245c63a2",
   "metadata": {},
   "outputs": [
    {
     "data": {
      "text/plain": [
       "True"
      ]
     },
     "execution_count": 617,
     "metadata": {},
     "output_type": "execute_result"
    }
   ],
   "source": [
    "yL2_7*v == v*yL2_7"
   ]
  },
  {
   "cell_type": "markdown",
   "id": "58fae19d",
   "metadata": {},
   "source": [
    "As an immediate consequence, $g_{L2(7)} = ux_{L2(7)}$ and\n",
    "$h_{L2(7)} = vy_{L2(7)}^{-1}$ belong to $\\nma{x_{L2(7)}, y_{L2(7)}}$,\n",
    "while $u, v \\in \\langle g_{L2(7)}, h_{L2(7)} \\rangle$ belong\n",
    "to $\\cma{x_{L2(7)}, y_{L2(7)}} \\cong \\symp{4}{4}{:}2$.\n",
    "\n",
    "Check also that $n \\in \\nma{x_{L2(7)}, y_{L2(7)}}$ by showing\n",
    "it centralises $y_{L2(7)}$ and inverts $x_{L2(7)}$, thus inducing\n",
    "an outer automorphism on the $\\psl{2}{7}$:"
   ]
  },
  {
   "cell_type": "code",
   "execution_count": 618,
   "id": "ab77d4e5",
   "metadata": {},
   "outputs": [
    {
     "data": {
      "text/plain": [
       "True"
      ]
     },
     "execution_count": 618,
     "metadata": {},
     "output_type": "execute_result"
    }
   ],
   "source": [
    "yL2_7**n == yL2_7"
   ]
  },
  {
   "cell_type": "code",
   "execution_count": 619,
   "id": "733c46ee",
   "metadata": {},
   "outputs": [
    {
     "data": {
      "text/plain": [
       "True"
      ]
     },
     "execution_count": 619,
     "metadata": {},
     "output_type": "execute_result"
    }
   ],
   "source": [
    "xL2_7**n == 1/xL2_7"
   ]
  },
  {
   "cell_type": "markdown",
   "id": "acd80259",
   "metadata": {},
   "source": [
    "To confirm that $u$ and $v$ generate the centraliser,\n",
    "first consider the index 2 subgroup $\\symp{4}{4}$. This contains\n",
    "the squares of all elements of the centraliser, and thus $z$\n",
    "and the following elements of $\\GG = \\cm{z}$:"
   ]
  },
  {
   "cell_type": "code",
   "execution_count": 620,
   "id": "3616fedc",
   "metadata": {},
   "outputs": [
    {
     "data": {
      "text/plain": [
       "True"
      ]
     },
     "execution_count": 620,
     "metadata": {},
     "output_type": "execute_result"
    }
   ],
   "source": [
    "(v*u*v)**2 == z"
   ]
  },
  {
   "cell_type": "code",
   "execution_count": 621,
   "id": "7b2da8be",
   "metadata": {},
   "outputs": [
    {
     "data": {
      "text/plain": [
       "17"
      ]
     },
     "execution_count": 621,
     "metadata": {},
     "output_type": "execute_result"
    }
   ],
   "source": [
    "(v**2).order()"
   ]
  },
  {
   "cell_type": "code",
   "execution_count": 622,
   "id": "766f12ef",
   "metadata": {},
   "outputs": [
    {
     "data": {
      "text/plain": [
       "True"
      ]
     },
     "execution_count": 622,
     "metadata": {},
     "output_type": "execute_result"
    }
   ],
   "source": [
    "# Define v_ = uv for convenience\n",
    "v_ = u*v\n",
    "\n",
    "z_cent_0 = [x**2 for x in ((v_*v*v_*u)**2*v_*u, v**3*v_*v*v_**2*v, v**2*(v*v_**2)**2*u, (v**2*v_)**2*v*u, (v_*u)**2*(v_**2*v)**2*u)]\n",
    "all(x*z == z*x for x in z_cent_0)"
   ]
  },
  {
   "cell_type": "markdown",
   "id": "1f32e48d",
   "metadata": {},
   "source": [
    "Data in the GAP Character Table Library reveal, however, that\n",
    "the only maximal subgroup of $\\symp{4}{4}$ with order\n",
    "divisible by 17 is $\\psl{2}{16}.2$, the centralisers of involutions\n",
    "in which have orders not divisible by powers of 2 greater than 16.\n",
    "That $\\symp{4}{4} < \\langle u, v \\rangle$ will follow if it can\n",
    "be shown the elements in `z_cent_0` generate a group of order 64."
   ]
  },
  {
   "cell_type": "code",
   "execution_count": 623,
   "id": "02794a7b",
   "metadata": {},
   "outputs": [
    {
     "data": {
      "text/plain": [
       "64"
      ]
     },
     "execution_count": 623,
     "metadata": {},
     "output_type": "execute_result"
    }
   ],
   "source": [
    "size_image(z_cent_0)"
   ]
  },
  {
   "cell_type": "markdown",
   "id": "b881dbff",
   "metadata": {},
   "source": [
    "A similar argument establishes that $\\langle u, v \\rangle$ contains\n",
    "the outer coset of $\\symp{4}{4}{:}2$: involution centralisers in $symp{4}{4}$\n",
    "have orders not divisible by any power of 2 greater than 256. but"
   ]
  },
  {
   "cell_type": "code",
   "execution_count": 624,
   "id": "3e6738de",
   "metadata": {},
   "outputs": [
    {
     "data": {
      "text/plain": [
       "True"
      ]
     },
     "execution_count": 624,
     "metadata": {},
     "output_type": "execute_result"
    }
   ],
   "source": [
    "z_cent_1 = [(v_*v*v_*u)**2*v_, (v**2*v_)**2*v]\n",
    "all(x*z == z*x for x in z_cent_1)"
   ]
  },
  {
   "cell_type": "code",
   "execution_count": 625,
   "id": "3a9233e9",
   "metadata": {},
   "outputs": [
    {
     "data": {
      "text/plain": [
       "512"
      ]
     },
     "execution_count": 625,
     "metadata": {},
     "output_type": "execute_result"
    }
   ],
   "source": [
    "size_image(z_cent_0 + z_cent_1)"
   ]
  },
  {
   "cell_type": "markdown",
   "id": "2d6fda9a",
   "metadata": {},
   "source": [
    "To complete the proof, we must prove that $n$ lies inside the normaliser but\n",
    "outside this index 2 subgroup. This follows from the earlier result\n",
    "that conjugation by $n$ induces an outer automorphism on the $\\psl{2}{7}$:"
   ]
  },
  {
   "cell_type": "markdown",
   "id": "a40637d6",
   "metadata": {},
   "source": [
    "## $\\left( \\psl{2}{11} \\times \\MT{12} \\right){:}2$ <a id=\"normL11\"></a>\n",
    "Generators are"
   ]
  },
  {
   "cell_type": "code",
   "execution_count": 626,
   "id": "e6729bfb",
   "metadata": {},
   "outputs": [],
   "source": [
    "g11 = MM(\"M<y_6c3h*x_1651h*d_0b2ah*p_47265823*l_1*p_1499520*l_2*p_11727906*l_2*t_2*l_2*p_1415040*l_1*p_4128*l_2*p_10295040*t_1*l_2*p_2344320*l_2*p_23192054*l_2*t_2*l_2*p_2597760*l_1*p_21929795*t_2*l_2*p_2386560*l_2*p_12578394*l_2*t_2*l_1*p_1499520*l_2*p_42673172*t_1*l_1*p_1080960>\")\n",
    "h11 = MM(\"M<y_4bdh*x_1120h*d_52ch*p_87984372*l_1*p_3840*l_1*p_21360*l_1*p_135360>\")\n",
    "n = MM(\"M<y_5feh*x_543h*d_0d13h*p_197852565*l_1*p_2640000*l_1*p_21865301*t_1*l_2*p_2830080*l_2*p_11631592*l_1*t_2*l_1*p_1499520*l_2*p_1525059*l_2*t_1*l_2*p_2344320*l_2*p_5777*t_2*l_1*p_1499520*l_1*p_10882150*t_2*l_1*p_2880*l_2*p_10667712*l_1*p_1670400*t_1*l_2*p_2814720*l_2*t_1*l_2*p_2830080*l_2*p_21463107>\")\n",
    "L_N = (g11, h11, n)"
   ]
  },
  {
   "cell_type": "markdown",
   "id": "74461a88",
   "metadata": {},
   "source": [
    "This maximal subgroup is the normaliser of the unique conjugacy class of $\\psl{2}{11}$s\n",
    "in which the elements of orders 2, 3, and 5 fuse with $\\MM$-classes 2A, 3A, and 5A.\n",
    "We claim this instance normalises the subgroup $E$ generated"
   ]
  },
  {
   "cell_type": "code",
   "execution_count": 627,
   "id": "7d79efbd",
   "metadata": {},
   "outputs": [],
   "source": [
    "g2_AAA, g3_AAA = A5_dict[\"AAA\"]\n",
    "x11 = MM(\"M<y_4bdh*x_120h*d_52ch*p_87984372*l_1*p_3840*l_1*p_21360*l_1*p_135360>\")\n",
    "L_E = (g2_AAA, x11)"
   ]
  },
  {
   "cell_type": "markdown",
   "id": "a67e35dc",
   "metadata": {},
   "source": [
    "Note that $g_{2AAA}$ is one of the generators of the type AAA $\\alt{5}$\n",
    "in [Lemma 4.1](#lemma).   \n",
    "As such, first show $\\langle g_{2AAA}, x_{11} \\rangle \\cong \\psl{2}{11}$:"
   ]
  },
  {
   "cell_type": "code",
   "execution_count": 628,
   "id": "c253cb7c",
   "metadata": {},
   "outputs": [
    {
     "data": {
      "text/plain": [
       "True"
      ]
     },
     "execution_count": 628,
     "metadata": {},
     "output_type": "execute_result"
    }
   ],
   "source": [
    "test_xsl(x11, g2_AAA, 11)"
   ]
  },
  {
   "cell_type": "markdown",
   "id": "dffaf132",
   "metadata": {},
   "source": [
    "Now verify that this our type AAA $\\alt{5}$ is embedded in $E$,\n",
    "ensuring the correct class fusions for elements of orders 2, 3, and 5."
   ]
  },
  {
   "cell_type": "code",
   "execution_count": 629,
   "id": "dd685abf",
   "metadata": {},
   "outputs": [
    {
     "data": {
      "text/plain": [
       "True"
      ]
     },
     "execution_count": 629,
     "metadata": {},
     "output_type": "execute_result"
    }
   ],
   "source": [
    "# g2_AAA is given as a generator of the normalised subgroup\n",
    "g2_AAA*x11*g2_AAA*x11**3 == g3_AAA"
   ]
  },
  {
   "cell_type": "markdown",
   "id": "18cb3cab",
   "metadata": {},
   "source": [
    "With the nature of the relevant subgroup confirmed, show that\n",
    "$\\langle g_{11}, h_{11} \\rangle$ contains both $g_{2AAA}$ and $x_{11}$."
   ]
  },
  {
   "cell_type": "code",
   "execution_count": 630,
   "id": "af95981a",
   "metadata": {},
   "outputs": [
    {
     "data": {
      "text/plain": [
       "True"
      ]
     },
     "execution_count": 630,
     "metadata": {},
     "output_type": "execute_result"
    }
   ],
   "source": [
    "g2_AAA == g11**3"
   ]
  },
  {
   "cell_type": "code",
   "execution_count": 631,
   "id": "965ec76c",
   "metadata": {},
   "outputs": [
    {
     "data": {
      "text/plain": [
       "True"
      ]
     },
     "execution_count": 631,
     "metadata": {},
     "output_type": "execute_result"
    }
   ],
   "source": [
    "x11 == h11**12"
   ]
  },
  {
   "cell_type": "markdown",
   "id": "2f13e805",
   "metadata": {},
   "source": [
    "Moreover, $u = g_{11} g_{2AAA}$ and $v = h_{11} x_{11}^{-1}$\n",
    "(which, incidentally, equals $z \\in Z \\left( \\GG \\right)$), centralise\n",
    "$\\langle g_{2AAA}, x_{11} \\rangle$ and thus lie in its centraliser\n",
    "$\\MT{12}$:"
   ]
  },
  {
   "cell_type": "code",
   "execution_count": 632,
   "id": "a8ff0885",
   "metadata": {},
   "outputs": [
    {
     "data": {
      "text/plain": [
       "True"
      ]
     },
     "execution_count": 632,
     "metadata": {},
     "output_type": "execute_result"
    }
   ],
   "source": [
    "u = g11*g2_AAA\n",
    "v = h11/x11\n",
    "\n",
    "x11*u == u*x11"
   ]
  },
  {
   "cell_type": "code",
   "execution_count": 633,
   "id": "c237cd79",
   "metadata": {},
   "outputs": [
    {
     "data": {
      "text/plain": [
       "True"
      ]
     },
     "execution_count": 633,
     "metadata": {},
     "output_type": "execute_result"
    }
   ],
   "source": [
    "x11*v == v*x11"
   ]
  },
  {
   "cell_type": "code",
   "execution_count": 634,
   "id": "e35e9dc9",
   "metadata": {},
   "outputs": [
    {
     "data": {
      "text/plain": [
       "True"
      ]
     },
     "execution_count": 634,
     "metadata": {},
     "output_type": "execute_result"
    }
   ],
   "source": [
    "g2_AAA*u == u*g2_AAA"
   ]
  },
  {
   "cell_type": "code",
   "execution_count": 635,
   "id": "99afd876",
   "metadata": {},
   "outputs": [
    {
     "data": {
      "text/plain": [
       "True"
      ]
     },
     "execution_count": 635,
     "metadata": {},
     "output_type": "execute_result"
    }
   ],
   "source": [
    "g2_AAA*v == v*g2_AAA"
   ]
  },
  {
   "cell_type": "markdown",
   "id": "64d26cf1",
   "metadata": {},
   "source": [
    "As an immediate consequence, $g_{11} = u g_{2AAA}^{-1}$ and\n",
    "$h_{11} = vx_{11}$ belong to $\\nma{x_{11}, g_{2AAA}}$,\n",
    "while $u, v \\in \\langle g_{11}, h_{11} \\rangle$ belong\n",
    "to $\\cm{E} \\cong \\MT{12}$.\n",
    "\n",
    "Show that $n \\in \\nm{E}$ too by verifying that it centralises\n",
    "$g_{2AAA}$ and inverts $x_{11}$, thus inducing\n",
    "an outer automorphism of $E$:"
   ]
  },
  {
   "cell_type": "code",
   "execution_count": 636,
   "id": "5c796134",
   "metadata": {},
   "outputs": [
    {
     "data": {
      "text/plain": [
       "True"
      ]
     },
     "execution_count": 636,
     "metadata": {},
     "output_type": "execute_result"
    }
   ],
   "source": [
    "g2_AAA**n == g2_AAA"
   ]
  },
  {
   "cell_type": "code",
   "execution_count": 637,
   "id": "3e9ff1e6",
   "metadata": {},
   "outputs": [
    {
     "data": {
      "text/plain": [
       "True"
      ]
     },
     "execution_count": 637,
     "metadata": {},
     "output_type": "execute_result"
    }
   ],
   "source": [
    "x11**n == 1/x11"
   ]
  },
  {
   "cell_type": "markdown",
   "id": "6ca22d8e",
   "metadata": {},
   "source": [
    "Further results on the centraliser $\\MT{12}$ of $E$\n",
    "follow upon computation of some element orders."
   ]
  },
  {
   "cell_type": "code",
   "execution_count": 638,
   "id": "35d903a0",
   "metadata": {},
   "outputs": [
    {
     "data": {
      "text/plain": [
       "11"
      ]
     },
     "execution_count": 638,
     "metadata": {},
     "output_type": "execute_result"
    }
   ],
   "source": [
    "(v*u).order()"
   ]
  },
  {
   "cell_type": "code",
   "execution_count": 639,
   "id": "46b29826",
   "metadata": {},
   "outputs": [
    {
     "data": {
      "text/plain": [
       "10"
      ]
     },
     "execution_count": 639,
     "metadata": {},
     "output_type": "execute_result"
    }
   ],
   "source": [
    "((v*u)**4*u*v*u**2).order()"
   ]
  },
  {
   "cell_type": "markdown",
   "id": "1c9869ba",
   "metadata": {},
   "source": [
    "If $u$ and $v$ do not generate the entire $\\MT{12}$, they must lie inside one of\n",
    "its 3 maximal subgroups with orders divisible by 11; none of these, however,\n",
    "contain elements of order 10. This shows $g_{2AAA}, x_{11}, u, v \\in\n",
    "    \\langle g_{11}, h_{11} \\rangle$ generate the index 2 subgroup\n",
    "$\\psl{2}{11} \\times \\MT{12}$ of the $\\psl{2}{11}$ normaliser.\n",
    "\n",
    "To complete the proof, we must prove that $n$ lies inside the normaliser but\n",
    "outside this index 2 subgroup; it suffices to recall $n$ induced\n",
    "an outer automorphism of $E$ by conjugation."
   ]
  },
  {
   "cell_type": "markdown",
   "id": "4758481d",
   "metadata": {},
   "source": [
    "As an additional result, the projections $v, u$ of $h_{11}, g_{11}$ to $\\MT{12}$\n",
    "give standard generators thereof. Having established that they are generators,\n",
    "it remains only to check that\n",
    "\n",
    "1. $v$ belongs to conjugacy class 2B of $\\MT{12}$,\n",
    "2. $y$ belongs to conjugacy class 3B of $\\MT{12}$, and\n",
    "3. $vu$ has order 11.\n",
    "\n",
    "According to the Online Atlas (see \"Checking generators (semi-presentations)\"),\n",
    "however, $a, b \\in \\MT{12}$ of the correct orders such that\n",
    "$\\left( ab \\right)^2 ab^2$ has order 6 belong to the required classes:\n",
    "calculating the orders of four elements is thus sufficient."
   ]
  },
  {
   "cell_type": "code",
   "execution_count": 640,
   "id": "65c820a6",
   "metadata": {},
   "outputs": [
    {
     "data": {
      "text/plain": [
       "2"
      ]
     },
     "execution_count": 640,
     "metadata": {},
     "output_type": "execute_result"
    }
   ],
   "source": [
    "v.order()"
   ]
  },
  {
   "cell_type": "code",
   "execution_count": 641,
   "id": "46d6f9b6",
   "metadata": {},
   "outputs": [
    {
     "data": {
      "text/plain": [
       "3"
      ]
     },
     "execution_count": 641,
     "metadata": {},
     "output_type": "execute_result"
    }
   ],
   "source": [
    "u.order()"
   ]
  },
  {
   "cell_type": "code",
   "execution_count": 642,
   "id": "ece6c325",
   "metadata": {},
   "outputs": [
    {
     "data": {
      "text/plain": [
       "6"
      ]
     },
     "execution_count": 642,
     "metadata": {},
     "output_type": "execute_result"
    }
   ],
   "source": [
    "# The order of v*u was calculated above\n",
    "((v*u)**2*v*u**2).order()"
   ]
  },
  {
   "cell_type": "markdown",
   "id": "5ccdb98a",
   "metadata": {},
   "source": [
    "## $\\left( \\alt{7} \\times \\left( \\alt{5} \\times \\alt{5} \\right){:}2^2 \\right){:}2$ <a id=\"normA7\"></a>\n",
    "Generators are given by"
   ]
  },
  {
   "cell_type": "code",
   "execution_count": 643,
   "id": "4924c668",
   "metadata": {},
   "outputs": [],
   "source": [
    "gA7 = MM(\"M<y_1e2h*x_443h*d_576h*p_18818356*l_2*p_2597760*l_1*p_32576192*t_1*l_2*p_2956800*l_1*p_33403671*l_2*t_2*l_1*p_1920*l_2*p_465792*l_2*p_6104640*t_1*l_2*p_2830080*l_2*p_10715683*t_2*l_1*p_1499520*l_2*p_106701706*t_2*l_2*p_1943040*l_2*p_42711760*t_1*l_1*p_1457280*l_2*p_75051>\")\n",
    "hA7 = MM(\"M<y_0dch*x_772h*d_9a8h*p_64140890*l_1*p_1457280*l_2*p_11616198*t_1*l_2*p_21120*l_1*p_32504016*l_2*t_1*l_1*p_2999040*l_1*p_1948425*l_2*t_1*l_1*p_2027520*l_1*p_6740*t_1*l_2*p_2787840*l_2*p_5795*t_2*l_2*p_1457280*l_1*p_106701735*l_1*p_1900800*t_1*l_2*p_1457280*l_1*p_974609>\")\n",
    "L_N = (gA7, hA7)"
   ]
  },
  {
   "cell_type": "markdown",
   "id": "fdf2c24b",
   "metadata": {},
   "source": [
    "This subgroup is the normaliser of a direct product of two commuting type AAA subgroups $\\alt{5}$.\n",
    "We claim that this particular instance normalises $\\langle U, U^{\\sigma} \\rangle$, where\n",
    "$U = \\langle L_U \\rangle$ and"
   ]
  },
  {
   "cell_type": "code",
   "execution_count": 644,
   "id": "130977ab",
   "metadata": {},
   "outputs": [],
   "source": [
    "L_U = g2_AAA, g3_AAA = A5_dict[\"AAA\"]\n",
    "\u03c3 = MM(\"M<y_405h*x_1e8bh*d_3efh*p_50266010*l_2*p_2956800*l_1*p_1107499*t_1*l_2*p_2386560*l_2*p_32127832*t_1*l_2*p_1457280*l_1*p_3860*t_2*l_2*p_2956800*l_1*p_11326680*t_2*l_2*p_2956800*l_1*p_12103990*l_2*t_2*l_2*p_2956800*l_1*p_63994981*t_2*l_2*p_1985280*l_1*p_85327104>\")"
   ]
  },
  {
   "cell_type": "markdown",
   "id": "a4f5943a",
   "metadata": {},
   "source": [
    "It follows from [Lemma 4.1](#lemma) that $U$, and hence also $U^{\\sigma}$, are\n",
    "the correct type of $\\alt{5}$. Since the centre of $\\alt{5}$ is trivial,\n",
    "verifying that $U$ commutes with $U^{\\sigma}$ will establish the required criteria\n",
    "for $\\langle U, U^{\\sigma} \\rangle$:"
   ]
  },
  {
   "cell_type": "code",
   "execution_count": 645,
   "id": "7254e37c",
   "metadata": {},
   "outputs": [
    {
     "data": {
      "text/plain": [
       "True"
      ]
     },
     "execution_count": 645,
     "metadata": {},
     "output_type": "execute_result"
    }
   ],
   "source": [
    "g2_AAA*g2_AAA**\u03c3 == g2_AAA**\u03c3*g2_AAA"
   ]
  },
  {
   "cell_type": "code",
   "execution_count": 646,
   "id": "7c03d6bd",
   "metadata": {},
   "outputs": [
    {
     "data": {
      "text/plain": [
       "True"
      ]
     },
     "execution_count": 646,
     "metadata": {},
     "output_type": "execute_result"
    }
   ],
   "source": [
    "g3_AAA*g2_AAA**\u03c3 == g2_AAA**\u03c3*g3_AAA"
   ]
  },
  {
   "cell_type": "code",
   "execution_count": 647,
   "id": "03ab80eb",
   "metadata": {},
   "outputs": [
    {
     "data": {
      "text/plain": [
       "True"
      ]
     },
     "execution_count": 647,
     "metadata": {},
     "output_type": "execute_result"
    }
   ],
   "source": [
    "g2_AAA*g3_AAA**\u03c3 == g3_AAA**\u03c3*g2_AAA"
   ]
  },
  {
   "cell_type": "code",
   "execution_count": 648,
   "id": "a8f23e51",
   "metadata": {},
   "outputs": [
    {
     "data": {
      "text/plain": [
       "True"
      ]
     },
     "execution_count": 648,
     "metadata": {},
     "output_type": "execute_result"
    }
   ],
   "source": [
    "g3_AAA*g3_AAA**\u03c3 == g3_AAA**\u03c3*g3_AAA"
   ]
  },
  {
   "cell_type": "markdown",
   "id": "fbb5c602",
   "metadata": {},
   "source": [
    "As for $\\langle g_{A7}, h_{A7} \\rangle$ being the normaliser of\n",
    "this direct product, demonstrate that the conjugates of\n",
    "$g_{2AAA}$, $g_{3AAA}$, $g_{2AAA}^{\\sigma}$, and $g_{3AAA}^{\\sigma}$\n",
    "by $g_{A7}, h_{A7}$ fall in either $U$ or $U^{\\sigma}$."
   ]
  },
  {
   "cell_type": "code",
   "execution_count": 649,
   "id": "89081038",
   "metadata": {},
   "outputs": [
    {
     "data": {
      "text/plain": [
       "60"
      ]
     },
     "execution_count": 649,
     "metadata": {},
     "output_type": "execute_result"
    }
   ],
   "source": [
    "# Enumerate U\n",
    "U = size_image(L_U, as_int, list)\n",
    "U_values = {as_int(x) for x in U}\n",
    "len(U_values)"
   ]
  },
  {
   "cell_type": "code",
   "execution_count": 650,
   "id": "1c88658c",
   "metadata": {},
   "outputs": [
    {
     "data": {
      "text/plain": [
       "True"
      ]
     },
     "execution_count": 650,
     "metadata": {},
     "output_type": "execute_result"
    }
   ],
   "source": [
    "# Note \u03c3 is an involution, so that x is in U^\u03c3 iff x^\u03c3 is in U\n",
    "\u03c3**2 == e"
   ]
  },
  {
   "cell_type": "code",
   "execution_count": 651,
   "id": "25896a6d",
   "metadata": {},
   "outputs": [
    {
     "data": {
      "text/plain": [
       "True"
      ]
     },
     "execution_count": 651,
     "metadata": {},
     "output_type": "execute_result"
    }
   ],
   "source": [
    "as_int(g2_AAA**(gA7*\u03c3)) in U_values"
   ]
  },
  {
   "cell_type": "code",
   "execution_count": 652,
   "id": "f7d53f5f",
   "metadata": {},
   "outputs": [
    {
     "data": {
      "text/plain": [
       "True"
      ]
     },
     "execution_count": 652,
     "metadata": {},
     "output_type": "execute_result"
    }
   ],
   "source": [
    "as_int(g3_AAA**(gA7*\u03c3)) in U_values"
   ]
  },
  {
   "cell_type": "code",
   "execution_count": 653,
   "id": "3c631d7e",
   "metadata": {},
   "outputs": [
    {
     "data": {
      "text/plain": [
       "True"
      ]
     },
     "execution_count": 653,
     "metadata": {},
     "output_type": "execute_result"
    }
   ],
   "source": [
    "as_int((g2_AAA**\u03c3)**gA7) in U_values"
   ]
  },
  {
   "cell_type": "code",
   "execution_count": 654,
   "id": "50c3dfd4",
   "metadata": {},
   "outputs": [
    {
     "data": {
      "text/plain": [
       "True"
      ]
     },
     "execution_count": 654,
     "metadata": {},
     "output_type": "execute_result"
    }
   ],
   "source": [
    "as_int((g3_AAA**\u03c3)**gA7) in U_values"
   ]
  },
  {
   "cell_type": "code",
   "execution_count": 655,
   "id": "c00f6928",
   "metadata": {},
   "outputs": [
    {
     "data": {
      "text/plain": [
       "True"
      ]
     },
     "execution_count": 655,
     "metadata": {},
     "output_type": "execute_result"
    }
   ],
   "source": [
    "as_int(g2_AAA**hA7) in U_values"
   ]
  },
  {
   "cell_type": "code",
   "execution_count": 656,
   "id": "b2543de6",
   "metadata": {},
   "outputs": [
    {
     "data": {
      "text/plain": [
       "True"
      ]
     },
     "execution_count": 656,
     "metadata": {},
     "output_type": "execute_result"
    }
   ],
   "source": [
    "as_int(g3_AAA**hA7) in U_values"
   ]
  },
  {
   "cell_type": "code",
   "execution_count": 657,
   "id": "8c68f4c2",
   "metadata": {},
   "outputs": [
    {
     "data": {
      "text/plain": [
       "True"
      ]
     },
     "execution_count": 657,
     "metadata": {},
     "output_type": "execute_result"
    }
   ],
   "source": [
    "as_int((g2_AAA**\u03c3)**(hA7*\u03c3)) in U_values"
   ]
  },
  {
   "cell_type": "code",
   "execution_count": 658,
   "id": "a1c3b2bd",
   "metadata": {},
   "outputs": [
    {
     "data": {
      "text/plain": [
       "True"
      ]
     },
     "execution_count": 658,
     "metadata": {},
     "output_type": "execute_result"
    }
   ],
   "source": [
    "as_int((g3_AAA**\u03c3)**(hA7*\u03c3)) in U_values"
   ]
  },
  {
   "cell_type": "markdown",
   "id": "3c21471d",
   "metadata": {},
   "source": [
    "Hence $g_{A7}, h_{A7} \\in \\nm{U, U^{\\sigma}}$. To now prove that\n",
    "they generate the normaliser of shape $\\left( \\alt{7} \\times \\left( \\alt{5} \\times \\alt{5} \\right){:}2^2 \\right){:}2$, begin by exhibiting\n",
    "words for $g_{2AAA}$, $g_{3AAA}$, and $\\sigma$:"
   ]
  },
  {
   "cell_type": "code",
   "execution_count": 659,
   "id": "ae000d36",
   "metadata": {},
   "outputs": [
    {
     "data": {
      "text/plain": [
       "True"
      ]
     },
     "execution_count": 659,
     "metadata": {},
     "output_type": "execute_result"
    }
   ],
   "source": [
    "(gA7*hA7**2*gA7*hA7)**6 == g2_AAA"
   ]
  },
  {
   "cell_type": "code",
   "execution_count": 660,
   "id": "30472483",
   "metadata": {},
   "outputs": [
    {
     "data": {
      "text/plain": [
       "True"
      ]
     },
     "execution_count": 660,
     "metadata": {},
     "output_type": "execute_result"
    }
   ],
   "source": [
    "(hA7**3*gA7**2*hA7**3)**7 == g3_AAA"
   ]
  },
  {
   "cell_type": "code",
   "execution_count": 661,
   "id": "91f23ae3",
   "metadata": {},
   "outputs": [
    {
     "data": {
      "text/plain": [
       "True"
      ]
     },
     "execution_count": 661,
     "metadata": {},
     "output_type": "execute_result"
    }
   ],
   "source": [
    "gA7**35 == \u03c3"
   ]
  },
  {
   "cell_type": "markdown",
   "id": "244bbcee",
   "metadata": {},
   "source": [
    "This accounts for $\\langle U, U^{\\sigma} \\rangle$ itself (along with $\\sigma$,\n",
    "which will be used later). For the centralising $\\alt{7}$, demonstrate\n",
    "the following elements of $\\langle g_{A7}, h_{A7} \\rangle$ commute\n",
    "with $g_{2AAA}, g_{3AAA}, \\sigma$ and satisfy Carmichael's presentation\n",
    "for $\\alt{7}$ in Coxeter and Moser."
   ]
  },
  {
   "cell_type": "code",
   "execution_count": 662,
   "id": "bf8b53f7",
   "metadata": {},
   "outputs": [
    {
     "data": {
      "text/plain": [
       "True"
      ]
     },
     "execution_count": 662,
     "metadata": {},
     "output_type": "execute_result"
    }
   ],
   "source": [
    "x = (hA7*gA7*hA7*gA7**2)**6\n",
    "y = (gA7*hA7**3)**4\n",
    "\n",
    "x*g2_AAA == g2_AAA*x"
   ]
  },
  {
   "cell_type": "code",
   "execution_count": 663,
   "id": "c2f5afc3",
   "metadata": {},
   "outputs": [
    {
     "data": {
      "text/plain": [
       "True"
      ]
     },
     "execution_count": 663,
     "metadata": {},
     "output_type": "execute_result"
    }
   ],
   "source": [
    "y*g2_AAA == g2_AAA*y"
   ]
  },
  {
   "cell_type": "code",
   "execution_count": 664,
   "id": "d70f896f",
   "metadata": {},
   "outputs": [
    {
     "data": {
      "text/plain": [
       "True"
      ]
     },
     "execution_count": 664,
     "metadata": {},
     "output_type": "execute_result"
    }
   ],
   "source": [
    "x*g3_AAA == g3_AAA*x"
   ]
  },
  {
   "cell_type": "code",
   "execution_count": 665,
   "id": "0629e68f",
   "metadata": {},
   "outputs": [
    {
     "data": {
      "text/plain": [
       "True"
      ]
     },
     "execution_count": 665,
     "metadata": {},
     "output_type": "execute_result"
    }
   ],
   "source": [
    "y*g3_AAA == g3_AAA*y"
   ]
  },
  {
   "cell_type": "code",
   "execution_count": 666,
   "id": "5c15e4ea",
   "metadata": {},
   "outputs": [
    {
     "data": {
      "text/plain": [
       "True"
      ]
     },
     "execution_count": 666,
     "metadata": {},
     "output_type": "execute_result"
    }
   ],
   "source": [
    "x*\u03c3 == \u03c3*x"
   ]
  },
  {
   "cell_type": "code",
   "execution_count": 667,
   "id": "a0ed281d",
   "metadata": {},
   "outputs": [
    {
     "data": {
      "text/plain": [
       "True"
      ]
     },
     "execution_count": 667,
     "metadata": {},
     "output_type": "execute_result"
    }
   ],
   "source": [
    "y*\u03c3 == \u03c3*y"
   ]
  },
  {
   "cell_type": "code",
   "execution_count": 668,
   "id": "53ca6829",
   "metadata": {},
   "outputs": [
    {
     "data": {
      "text/plain": [
       "5"
      ]
     },
     "execution_count": 668,
     "metadata": {},
     "output_type": "execute_result"
    }
   ],
   "source": [
    "x.order()"
   ]
  },
  {
   "cell_type": "code",
   "execution_count": 669,
   "id": "10660d6c",
   "metadata": {},
   "outputs": [
    {
     "data": {
      "text/plain": [
       "3"
      ]
     },
     "execution_count": 669,
     "metadata": {},
     "output_type": "execute_result"
    }
   ],
   "source": [
    "y.order()"
   ]
  },
  {
   "cell_type": "code",
   "execution_count": 670,
   "id": "becc8b9f",
   "metadata": {},
   "outputs": [
    {
     "data": {
      "text/plain": [
       "True"
      ]
     },
     "execution_count": 670,
     "metadata": {},
     "output_type": "execute_result"
    }
   ],
   "source": [
    "(x*y)**7 == (y/x*y*x)**2 == (y/x**2*y*x**2)**2 == e"
   ]
  },
  {
   "cell_type": "markdown",
   "id": "c03192ae",
   "metadata": {},
   "source": [
    "Since $\\alt{7}$ is simple, it indeed follows that\n",
    "$\\langle x, y \\rangle \\cong \\alt{7}$.\n",
    "\n",
    "Finally, the group $P \\cong \\alt{7} \\times \\alt{5} \\times \\alt{5}$\n",
    "obtained thus far can  be extended to $\\left( \\alt{7} \\times \\left( \\alt{5} \\times \\alt{5} \\right){:}2^2 \\right){:}2$ in three stages.\n",
    "The element $a$ below induces an outer automorphism of $U$ while\n",
    "centralising $U^{\\sigma}$:"
   ]
  },
  {
   "cell_type": "code",
   "execution_count": 671,
   "id": "0cf390a5",
   "metadata": {},
   "outputs": [
    {
     "data": {
      "text/plain": [
       "True"
      ]
     },
     "execution_count": 671,
     "metadata": {},
     "output_type": "execute_result"
    }
   ],
   "source": [
    "a = (hA7*gA7**6)**15\n",
    "\n",
    "a*(g2_AAA**\u03c3) == (g2_AAA**\u03c3)*a"
   ]
  },
  {
   "cell_type": "code",
   "execution_count": 672,
   "id": "cac3f89b",
   "metadata": {},
   "outputs": [
    {
     "data": {
      "text/plain": [
       "True"
      ]
     },
     "execution_count": 672,
     "metadata": {},
     "output_type": "execute_result"
    }
   ],
   "source": [
    "a*(g3_AAA**\u03c3) == (g3_AAA**\u03c3)*a"
   ]
  },
  {
   "cell_type": "code",
   "execution_count": 673,
   "id": "81d6c542",
   "metadata": {},
   "outputs": [
    {
     "data": {
      "text/plain": [
       "True"
      ]
     },
     "execution_count": 673,
     "metadata": {},
     "output_type": "execute_result"
    }
   ],
   "source": [
    "a*g2_AAA == g2_AAA*a"
   ]
  },
  {
   "cell_type": "code",
   "execution_count": 674,
   "id": "c059da7b",
   "metadata": {},
   "outputs": [
    {
     "data": {
      "text/plain": [
       "True"
      ]
     },
     "execution_count": 674,
     "metadata": {},
     "output_type": "execute_result"
    }
   ],
   "source": [
    "a2_centraliser = [x for x in U if a*x == x*a]\n",
    "\n",
    "k = as_int(g3_AAA**a)\n",
    "k in U_values"
   ]
  },
  {
   "cell_type": "code",
   "execution_count": 675,
   "id": "71b30713",
   "metadata": {},
   "outputs": [
    {
     "data": {
      "text/plain": [
       "False"
      ]
     },
     "execution_count": 675,
     "metadata": {},
     "output_type": "execute_result"
    }
   ],
   "source": [
    "k in {as_int(g3_AAA**x) for x in a2_centraliser}"
   ]
  },
  {
   "cell_type": "markdown",
   "id": "1abc59e7",
   "metadata": {},
   "source": [
    "By Lemma 2.1, the group $\\langle P, a \\rangle$ is at least twice\n",
    "as large $P$, no element of which induces an outer automorphism of $U$.\n",
    "The same argument applies on further adding $a^{\\sigma}$, which\n",
    "induces an outer automorphism of $U^{\\sigma}$. Appending $\\sigma$\n",
    "introduces a generator which does not normalise $U$ for a third\n",
    "and final expansion; observing that all generators lie in\n",
    "$\\langle g_{A7}, h_{A7} \\rangle \\le \\left( \\alt{7} \\times \\left( \\alt{5} \\times \\alt{5} \\right){:}2^2 \\right){:}2$, is complete."
   ]
  },
  {
   "cell_type": "markdown",
   "id": "96518fdb",
   "metadata": {},
   "source": [
    "## $\\MT{11} \\times \\alt{6} \\udot 2^2$ <a id=\"normA6\"></a>\n",
    "Generators are given by"
   ]
  },
  {
   "cell_type": "code",
   "execution_count": 676,
   "id": "6c932935",
   "metadata": {},
   "outputs": [],
   "source": [
    "gM11 = MM(\"M<y_76dh*x_69ch*d_0fc5h*p_168600547*l_1*p_23040*l_2*p_12102096*l_1*t_1*l_2*p_2386560*l_2*p_2841156*l_2*t_1*l_1*p_960*l_2*p_10667808*l_2*p_10320000*t_1*l_1*p_1499520*l_2*p_21333334*t_2*l_2*p_2956800*l_1*p_85413698*t_1*l_2*p_2597760*l_1*p_21336226*t_1*l_1*p_1499520*l_2*p_53818915>\")\n",
    "hM11 = MM(\"M<y_4f8h*x_1df4h*d_8dfh*p_94195867*l_2*p_1985280*l_1*p_11708752*t_2*l_1*p_1457280*l_2*p_21888582*l_1*t_2*l_2*p_3840*l_2*p_464880*l_2*p_10437120*t_2*l_1*p_2640000*l_1*p_965907*t_2*l_1*p_1393920*l_1*p_10665936*l_1*p_4292160*t_1*l_2*p_2956800*l_1*p_64000715*t_1*l_1*p_1499520*l_2*p_21543068>\")\n",
    "L_N = (gM11, hM11)"
   ]
  },
  {
   "cell_type": "markdown",
   "id": "3cea0d2d",
   "metadata": {},
   "source": [
    "This subgroup is the normaliser of an $\\MT{11}$ containing a type AAA $\\alt{5}$.\n",
    "We claim that it normalises the $\\MT{11}$ generated by"
   ]
  },
  {
   "cell_type": "code",
   "execution_count": 677,
   "id": "5f2a8c81",
   "metadata": {},
   "outputs": [],
   "source": [
    "g2_AAA, g3_AAA = A5_dict[\"AAA\"]\n",
    "y4 = MM(\"M<y_7e8h*x_0c91h*d_0d06h*p_106445040*l_1*p_2027520*l_1*p_63998788*t_2*l_1*p_465600*l_2*p_12545568*t_1*l_2*p_1457280*l_1*p_32091441*l_2>\")\n",
    "L_E = (g2_AAA, y4)"
   ]
  },
  {
   "cell_type": "markdown",
   "id": "45283f61",
   "metadata": {},
   "source": [
    "Note that $g_{2AAA}$ is one of the generators of the type AAA $\\alt{5}$\n",
    "in [Lemma 4.1](#lemma).   \n",
    "First verify that $\\langle g_{2AAA}, y_4 \\rangle$ has the correct structure and\n",
    "contains the type AAA $\\alt{5}$ exhibited in [Lemma 4.1](#lemma)."
   ]
  },
  {
   "cell_type": "code",
   "execution_count": 678,
   "id": "b084d056",
   "metadata": {},
   "outputs": [
    {
     "data": {
      "text/plain": [
       "True"
      ]
     },
     "execution_count": 678,
     "metadata": {},
     "output_type": "execute_result"
    }
   ],
   "source": [
    "test_m11(g2_AAA, y4)"
   ]
  },
  {
   "cell_type": "code",
   "execution_count": 679,
   "id": "1f1a5cb3",
   "metadata": {},
   "outputs": [
    {
     "data": {
      "text/plain": [
       "True"
      ]
     },
     "execution_count": 679,
     "metadata": {},
     "output_type": "execute_result"
    }
   ],
   "source": [
    "# g2_AAA is accounted for already\n",
    "g2_AAA/y4*g2_AAA*y4*(g2_AAA*y4**2)**2*g2_AAA/y4*g2_AAA*y4*g2_AAA*y4**2 == g3_AAA"
   ]
  },
  {
   "cell_type": "markdown",
   "id": "864eaa5c",
   "metadata": {},
   "source": [
    "This demonstrates $\\langle g_{2AAA}, y_4 \\rangle$ is an $\\MT{11}$ of\n",
    "the correct type. As for $\\langle g_{M11}, h_{M11} \\rangle$ being its normaliser,\n",
    "derive some elements of $\\cma{g_{2AAA}, y_4}$:"
   ]
  },
  {
   "cell_type": "code",
   "execution_count": 680,
   "id": "99643359",
   "metadata": {},
   "outputs": [
    {
     "data": {
      "text/plain": [
       "True"
      ]
     },
     "execution_count": 680,
     "metadata": {},
     "output_type": "execute_result"
    }
   ],
   "source": [
    "u = gM11/y4*g2_AAA\n",
    "v = hM11/((g2_AAA*y4)**3*y4)\n",
    "\n",
    "u*g2_AAA == g2_AAA*u"
   ]
  },
  {
   "cell_type": "code",
   "execution_count": 681,
   "id": "b3ebee36",
   "metadata": {},
   "outputs": [
    {
     "data": {
      "text/plain": [
       "True"
      ]
     },
     "execution_count": 681,
     "metadata": {},
     "output_type": "execute_result"
    }
   ],
   "source": [
    "v*g2_AAA == g2_AAA*v"
   ]
  },
  {
   "cell_type": "code",
   "execution_count": 682,
   "id": "11c9b835",
   "metadata": {},
   "outputs": [
    {
     "data": {
      "text/plain": [
       "True"
      ]
     },
     "execution_count": 682,
     "metadata": {},
     "output_type": "execute_result"
    }
   ],
   "source": [
    "u*y4 == y4*u"
   ]
  },
  {
   "cell_type": "code",
   "execution_count": 683,
   "id": "ff8920f4",
   "metadata": {},
   "outputs": [
    {
     "data": {
      "text/plain": [
       "True"
      ]
     },
     "execution_count": 683,
     "metadata": {},
     "output_type": "execute_result"
    }
   ],
   "source": [
    "v*y4 == y4*v"
   ]
  },
  {
   "cell_type": "markdown",
   "id": "a359d75c",
   "metadata": {},
   "source": [
    "As an immediate consequence, $g_{M11} = u g_{2AAA}^{-1} y_4$ and\n",
    "$h_{M11} = v \\left( g_{2AAA} y_4 \\right)^3 y_4$ belong to the normaliser\n",
    "claimed, while $u, v$ belong to $\\cma{g_{2AAA}, y_4} \\cong \\sym{6}{:}2$.\n",
    "\n",
    "To show the normaliser is generated in full, prove $\\langle g_{2AAA}, y_4 \\rangle$\n",
    "and its centraliser are subgroups of $\\langle g_{M11}, h_{M11} \\rangle$.\n",
    "The first result follows upon exhibiting words in the generators\n",
    "for $g_{2AAA}$ and $y_4$."
   ]
  },
  {
   "cell_type": "code",
   "execution_count": 684,
   "id": "12a3b8b2",
   "metadata": {},
   "outputs": [
    {
     "data": {
      "text/plain": [
       "True"
      ]
     },
     "execution_count": 684,
     "metadata": {},
     "output_type": "execute_result"
    }
   ],
   "source": [
    "gM11**30*hM11**-10 == y4"
   ]
  },
  {
   "cell_type": "code",
   "execution_count": 685,
   "id": "6df7d220",
   "metadata": {},
   "outputs": [
    {
     "data": {
      "text/plain": [
       "True"
      ]
     },
     "execution_count": 685,
     "metadata": {},
     "output_type": "execute_result"
    }
   ],
   "source": [
    "gM11**-10/y4 == g2_AAA"
   ]
  },
  {
   "cell_type": "markdown",
   "id": "a31182d8",
   "metadata": {},
   "source": [
    "Since the centralising elements $u, v$ above were expressed\n",
    "in terms of the elements and $g_{M11}$, $h_{M11}$,\n",
    "it suffices to show that $u$ and $v$ generate the entire\n",
    "$\\sym{6}{:}2$. Begin by verifying that $uv^2, u$ satisfy\n",
    "Moore's presentation for $\\sym{6}$ given in the Online Atlas:"
   ]
  },
  {
   "cell_type": "code",
   "execution_count": 686,
   "id": "be05ebbf",
   "metadata": {},
   "outputs": [
    {
     "data": {
      "text/plain": [
       "2"
      ]
     },
     "execution_count": 686,
     "metadata": {},
     "output_type": "execute_result"
    }
   ],
   "source": [
    "u.order()"
   ]
  },
  {
   "cell_type": "code",
   "execution_count": 687,
   "id": "0c3644ec",
   "metadata": {},
   "outputs": [
    {
     "data": {
      "text/plain": [
       "6"
      ]
     },
     "execution_count": 687,
     "metadata": {},
     "output_type": "execute_result"
    }
   ],
   "source": [
    "(u*v**2).order()"
   ]
  },
  {
   "cell_type": "code",
   "execution_count": 688,
   "id": "919fe544",
   "metadata": {},
   "outputs": [
    {
     "data": {
      "text/plain": [
       "10"
      ]
     },
     "execution_count": 688,
     "metadata": {},
     "output_type": "execute_result"
    }
   ],
   "source": [
    "v.order()"
   ]
  },
  {
   "cell_type": "code",
   "execution_count": 689,
   "id": "76f67e0d",
   "metadata": {},
   "outputs": [
    {
     "data": {
      "text/plain": [
       "True"
      ]
     },
     "execution_count": 689,
     "metadata": {},
     "output_type": "execute_result"
    }
   ],
   "source": [
    "# Thus uv^2 u = (v^2)^u has order 10/2 = 5 as required\n",
    "comm(u, u*v**2)**3 == comm(u, (u*v**2)**2)**2 == e"
   ]
  },
  {
   "cell_type": "code",
   "execution_count": 690,
   "id": "dd32f30f",
   "metadata": {},
   "outputs": [
    {
     "data": {
      "text/plain": [
       "True"
      ]
     },
     "execution_count": 690,
     "metadata": {},
     "output_type": "execute_result"
    }
   ],
   "source": [
    "comm(u, (u*v**2)**3)**2 == comm(u, (u*v**2)**4)**2 == e"
   ]
  },
  {
   "cell_type": "markdown",
   "id": "6e453087",
   "metadata": {},
   "source": [
    "The group $\\langle u, v^2 \\rangle$ is therefore either isomorphic to $\\sym{6}$\n",
    "or one of its factor groups 1 or 2, with the latter possibilities ruled out\n",
    "by the fact that $uv^2$ has order $6$. Furthermore, the fact that\n",
    "$\\sym{6}$ contains no elements of order 10 ensures $\\langle u, v \\rangle$\n",
    "is a subgroup of $\\cma{g_{2AAA}, y_4} \\cong \\sym{6}{:}2$ at least twice as large\n",
    "as $\\langle u, v^2 \\rangle \\cong \\sym{6}$, completing the proof."
   ]
  },
  {
   "cell_type": "markdown",
   "id": "eb2942f4",
   "metadata": {},
   "source": [
    "## $\\left( \\sym{5} \\times \\sym{5} \\times \\sym{5} \\right){:}\\sym{3}$ <a id=\"normS5_3\"></a>\n",
    "\n",
    "Generators are given by"
   ]
  },
  {
   "cell_type": "code",
   "execution_count": 691,
   "id": "9c53fbe8",
   "metadata": {},
   "outputs": [],
   "source": [
    "gS5 = MM(\"M<y_19eh*x_0d3fh*d_9a0h*p_53285275*l_2*p_2830080*l_2*p_32553074*t_1*l_2*p_1943040*l_2*p_32471232*l_1*t_1*l_2*p_2956800*l_1*p_472405*l_2*t_1*l_1*p_2999040*l_1*p_85414663*l_2*p_960*t_2*l_2*p_2344320*l_2*p_1970481*l_2>\")\n",
    "hS5 = MM(\"M<y_13ah*x_18a5h*d_0a25h*p_220915479*l_1*p_2027520*l_1*p_23256440*l_1*t_1*l_1*p_1457280*l_2*p_22775409*l_1*t_2*l_1*p_1415040*l_2*p_465840*l_1*p_116160*t_1*l_2*p_2386560*l_2*p_21423664*t_2*l_2*p_2597760*l_1*p_43255332*t_2*l_2*p_2597760*l_1*p_96015008*t_2*l_1*p_2027520*l_1*p_5799>\")\n",
    "L_N = (gS5, hS5)"
   ]
  },
  {
   "cell_type": "markdown",
   "id": "d9ae4931",
   "metadata": {},
   "source": [
    "This subgroup is the normaliser of a direct product of three commuting $\\sym{5}$s containing\n",
    "type AAA subgroups $\\alt{5}$. We claim that this particular instance normalises\n",
    "$\\langle U, U^t, U^{t^2} \\rangle$, where $U = \\langle x_{S5}, y_{S5} \\rangle$ with"
   ]
  },
  {
   "cell_type": "code",
   "execution_count": 692,
   "id": "da3b0d5e",
   "metadata": {},
   "outputs": [],
   "source": [
    "xS5 = MM(\"M<y_56fh*x_1bf7h*d_0e67h*p_181145758*l_2*p_1943040*l_2*p_23244102*t_2*l_2*p_2344320*l_2*p_21799905*l_1*t_1*l_1*p_2027520*l_1*p_12108850*l_2*t_1*l_2*p_17761920*l_2*t_1*l_2*p_960*l_1*p_3216*l_1*p_974400*t_1*l_1*p_88746240>\")\n",
    "yS5 = MM(\"M<y_4a6h*x_1d86h*d_0cbch*p_180492733*l_2*p_1900800*l_2*p_11616295>\")\n",
    "L_U = (xS5, yS5)\n",
    "\n",
    "t = MM(\"M<y_64h*x_0f3dh*d_0fc5h*p_50814454*l_2*p_2386560*l_2*p_1946384*l_2*t_2*l_2*p_1415040*l_2*p_1904160*l_1*t_1*l_2*p_2386560*l_2*p_1510528*l_2*t_2*l_2*p_2981760*l_1*t_1*l_1*p_1499520*l_2*p_85812120*t_2*l_2*p_2956800*l_1*p_42837716*t_2*l_2*p_1943040*l_2*p_43614146*t_2*l_2*p_1943040*l_2*p_42837705>\")"
   ]
  },
  {
   "cell_type": "markdown",
   "id": "ef7107cb",
   "metadata": {},
   "source": [
    "Confirm that $U$ contains the generators $g_{2AAA}, g_{3AAA}$ of\n",
    "the type AAA $\\alt{5}$ provided in [Lemma 4.1](#lemma), and also that\n",
    "the generators $y_{S5}, x_{S5}$ of $U$ satisfy Moore's presentation\n",
    "for $\\sym{5}$ given in Coxeter and Moser."
   ]
  },
  {
   "cell_type": "code",
   "execution_count": 693,
   "id": "a93839ca",
   "metadata": {},
   "outputs": [
    {
     "data": {
      "text/plain": [
       "True"
      ]
     },
     "execution_count": 693,
     "metadata": {},
     "output_type": "execute_result"
    }
   ],
   "source": [
    "g2_AAA, g3_AAA = A5_dict[\"AAA\"]\n",
    "(xS5*yS5**2)**2*xS5*yS5*xS5 == g2_AAA"
   ]
  },
  {
   "cell_type": "code",
   "execution_count": 694,
   "id": "ce1094a3",
   "metadata": {},
   "outputs": [
    {
     "data": {
      "text/plain": [
       "True"
      ]
     },
     "execution_count": 694,
     "metadata": {},
     "output_type": "execute_result"
    }
   ],
   "source": [
    "xS5*yS5*xS5*yS5**3 == g3_AAA"
   ]
  },
  {
   "cell_type": "code",
   "execution_count": 695,
   "id": "08e92aa0",
   "metadata": {},
   "outputs": [
    {
     "data": {
      "text/plain": [
       "2"
      ]
     },
     "execution_count": 695,
     "metadata": {},
     "output_type": "execute_result"
    }
   ],
   "source": [
    "xS5.order()"
   ]
  },
  {
   "cell_type": "code",
   "execution_count": 696,
   "id": "d854b504",
   "metadata": {},
   "outputs": [
    {
     "data": {
      "text/plain": [
       "5"
      ]
     },
     "execution_count": 696,
     "metadata": {},
     "output_type": "execute_result"
    }
   ],
   "source": [
    "yS5.order()"
   ]
  },
  {
   "cell_type": "code",
   "execution_count": 697,
   "id": "e33e5deb",
   "metadata": {},
   "outputs": [
    {
     "data": {
      "text/plain": [
       "True"
      ]
     },
     "execution_count": 697,
     "metadata": {},
     "output_type": "execute_result"
    }
   ],
   "source": [
    "(yS5*xS5)**4 == comm(xS5, yS5)**3 == e"
   ]
  },
  {
   "cell_type": "code",
   "execution_count": 698,
   "id": "047027db",
   "metadata": {},
   "outputs": [
    {
     "data": {
      "text/plain": [
       "True"
      ]
     },
     "execution_count": 698,
     "metadata": {},
     "output_type": "execute_result"
    }
   ],
   "source": [
    "comm(xS5, yS5**2)**2 == comm(xS5, yS5**3)**2 == e"
   ]
  },
  {
   "cell_type": "markdown",
   "id": "b82b7be7",
   "metadata": {},
   "source": [
    "It follows that $U$ is a suitable $\\sym{5}$ unless it is isomorphic\n",
    "to a proper factor group of $\\sym{5}$. The only proper factor groups,\n",
    "however, are 1 and 2, neither of which can contain $y_{S5}$ of order 5.\n",
    "\n",
    "Since $U^t$ and $U^{t^2}$ are conjugate to $U$, which has a trivial centre,\n",
    "it will follows that the join of these three subgroups\n",
    "(i.e. the group they generate together) is of the desired kind upon verifying\n",
    "that they commute."
   ]
  },
  {
   "cell_type": "code",
   "execution_count": 699,
   "id": "401332a7",
   "metadata": {},
   "outputs": [
    {
     "data": {
      "text/plain": [
       "True"
      ]
     },
     "execution_count": 699,
     "metadata": {},
     "output_type": "execute_result"
    }
   ],
   "source": [
    "xS5*xS5**t == xS5**t*xS5"
   ]
  },
  {
   "cell_type": "code",
   "execution_count": 700,
   "id": "a1aa1c1e",
   "metadata": {},
   "outputs": [
    {
     "data": {
      "text/plain": [
       "True"
      ]
     },
     "execution_count": 700,
     "metadata": {},
     "output_type": "execute_result"
    }
   ],
   "source": [
    "xS5*yS5**t == yS5**t*xS5"
   ]
  },
  {
   "cell_type": "code",
   "execution_count": 701,
   "id": "57325f5f",
   "metadata": {},
   "outputs": [
    {
     "data": {
      "text/plain": [
       "True"
      ]
     },
     "execution_count": 701,
     "metadata": {},
     "output_type": "execute_result"
    }
   ],
   "source": [
    "yS5*xS5**t == xS5**t*yS5"
   ]
  },
  {
   "cell_type": "code",
   "execution_count": 702,
   "id": "c615b9aa",
   "metadata": {},
   "outputs": [
    {
     "data": {
      "text/plain": [
       "True"
      ]
     },
     "execution_count": 702,
     "metadata": {},
     "output_type": "execute_result"
    }
   ],
   "source": [
    "yS5*yS5**t == yS5**t*yS5"
   ]
  },
  {
   "cell_type": "code",
   "execution_count": 703,
   "id": "87a7ff0c",
   "metadata": {},
   "outputs": [
    {
     "data": {
      "text/plain": [
       "True"
      ]
     },
     "execution_count": 703,
     "metadata": {},
     "output_type": "execute_result"
    }
   ],
   "source": [
    "xS5*xS5**(t**2) == xS5**(t**2)*xS5"
   ]
  },
  {
   "cell_type": "code",
   "execution_count": 704,
   "id": "8625e701",
   "metadata": {},
   "outputs": [
    {
     "data": {
      "text/plain": [
       "True"
      ]
     },
     "execution_count": 704,
     "metadata": {},
     "output_type": "execute_result"
    }
   ],
   "source": [
    "xS5*yS5**(t**2) == yS5**(t**2)*xS5"
   ]
  },
  {
   "cell_type": "code",
   "execution_count": 705,
   "id": "ee930781",
   "metadata": {},
   "outputs": [
    {
     "data": {
      "text/plain": [
       "True"
      ]
     },
     "execution_count": 705,
     "metadata": {},
     "output_type": "execute_result"
    }
   ],
   "source": [
    "yS5*xS5**(t**2) == xS5**(t**2)*yS5"
   ]
  },
  {
   "cell_type": "code",
   "execution_count": 706,
   "id": "29720ee7",
   "metadata": {},
   "outputs": [
    {
     "data": {
      "text/plain": [
       "True"
      ]
     },
     "execution_count": 706,
     "metadata": {},
     "output_type": "execute_result"
    }
   ],
   "source": [
    "yS5*yS5**(t**2) == yS5**(t**2)*yS5"
   ]
  },
  {
   "cell_type": "code",
   "execution_count": 707,
   "id": "2cbf946b",
   "metadata": {},
   "outputs": [
    {
     "data": {
      "text/plain": [
       "True"
      ]
     },
     "execution_count": 707,
     "metadata": {},
     "output_type": "execute_result"
    }
   ],
   "source": [
    "xS5**t*xS5**(t**2) == xS5**(t**2)*xS5**t"
   ]
  },
  {
   "cell_type": "code",
   "execution_count": 708,
   "id": "2bbdc42e",
   "metadata": {},
   "outputs": [
    {
     "data": {
      "text/plain": [
       "True"
      ]
     },
     "execution_count": 708,
     "metadata": {},
     "output_type": "execute_result"
    }
   ],
   "source": [
    "xS5**t*yS5**(t**2) == yS5**(t**2)*xS5**t"
   ]
  },
  {
   "cell_type": "code",
   "execution_count": 709,
   "id": "9aaa336c",
   "metadata": {},
   "outputs": [
    {
     "data": {
      "text/plain": [
       "True"
      ]
     },
     "execution_count": 709,
     "metadata": {},
     "output_type": "execute_result"
    }
   ],
   "source": [
    "yS5**t*xS5**(t**2) == xS5**(t**2)*yS5**t"
   ]
  },
  {
   "cell_type": "code",
   "execution_count": 710,
   "id": "b13a8b0a",
   "metadata": {},
   "outputs": [
    {
     "data": {
      "text/plain": [
       "True"
      ]
     },
     "execution_count": 710,
     "metadata": {},
     "output_type": "execute_result"
    }
   ],
   "source": [
    "yS5**t*yS5**(t**2) == yS5**(t**2)*yS5**t"
   ]
  },
  {
   "cell_type": "markdown",
   "id": "06b9d9c8",
   "metadata": {},
   "source": [
    "As for $\\langle g_{S5}, h_{S5} \\rangle$ being the $\\sym{5}^3$ normaliser,\n",
    "enumerate $U$ and demonstrate that the conjugates of $x_{S5}$, $y_{S5}$,\n",
    "$x_{S5}^t$, $y_{S5}^t$, $x_{S5}^{t^2}$, and $y_{S5}^{t^2}$ by $g_{S5}, h_{S5}$\n",
    "fall in $U^{t^i}$ for some $0 \\le i \\le 2$."
   ]
  },
  {
   "cell_type": "code",
   "execution_count": 711,
   "id": "77aa9172",
   "metadata": {},
   "outputs": [
    {
     "data": {
      "text/plain": [
       "True"
      ]
     },
     "execution_count": 711,
     "metadata": {},
     "output_type": "execute_result"
    }
   ],
   "source": [
    "# Note t has order 3, so that x is in U^(t^k) iff x^(t^(3-k)) is in U\n",
    "t**3 == e"
   ]
  },
  {
   "cell_type": "code",
   "execution_count": 712,
   "id": "52d4c745",
   "metadata": {},
   "outputs": [
    {
     "data": {
      "text/plain": [
       "120"
      ]
     },
     "execution_count": 712,
     "metadata": {},
     "output_type": "execute_result"
    }
   ],
   "source": [
    "U_values = size_image((xS5, yS5), as_int, set)\n",
    "len(U_values)"
   ]
  },
  {
   "cell_type": "code",
   "execution_count": 713,
   "id": "29550b81",
   "metadata": {},
   "outputs": [
    {
     "data": {
      "text/plain": [
       "True"
      ]
     },
     "execution_count": 713,
     "metadata": {},
     "output_type": "execute_result"
    }
   ],
   "source": [
    "as_int(xS5**(gS5*t)) in U_values"
   ]
  },
  {
   "cell_type": "code",
   "execution_count": 714,
   "id": "1c3ebe67",
   "metadata": {},
   "outputs": [
    {
     "data": {
      "text/plain": [
       "True"
      ]
     },
     "execution_count": 714,
     "metadata": {},
     "output_type": "execute_result"
    }
   ],
   "source": [
    "as_int(yS5**(gS5*t)) in U_values"
   ]
  },
  {
   "cell_type": "code",
   "execution_count": 715,
   "id": "56c95806",
   "metadata": {},
   "outputs": [
    {
     "data": {
      "text/plain": [
       "True"
      ]
     },
     "execution_count": 715,
     "metadata": {},
     "output_type": "execute_result"
    }
   ],
   "source": [
    "as_int(xS5**(t*gS5)) in U_values"
   ]
  },
  {
   "cell_type": "code",
   "execution_count": 716,
   "id": "3812cbf1",
   "metadata": {},
   "outputs": [
    {
     "data": {
      "text/plain": [
       "True"
      ]
     },
     "execution_count": 716,
     "metadata": {},
     "output_type": "execute_result"
    }
   ],
   "source": [
    "as_int(yS5**(t*gS5)) in U_values"
   ]
  },
  {
   "cell_type": "code",
   "execution_count": 717,
   "id": "ee630815",
   "metadata": {},
   "outputs": [
    {
     "data": {
      "text/plain": [
       "True"
      ]
     },
     "execution_count": 717,
     "metadata": {},
     "output_type": "execute_result"
    }
   ],
   "source": [
    "as_int(xS5**(t**2*gS5*t**2)) in U_values"
   ]
  },
  {
   "cell_type": "code",
   "execution_count": 718,
   "id": "3b56d1f6",
   "metadata": {},
   "outputs": [
    {
     "data": {
      "text/plain": [
       "True"
      ]
     },
     "execution_count": 718,
     "metadata": {},
     "output_type": "execute_result"
    }
   ],
   "source": [
    "as_int(yS5**(t**2*gS5*t**2)) in U_values"
   ]
  },
  {
   "cell_type": "code",
   "execution_count": 719,
   "id": "4c1b2abf",
   "metadata": {},
   "outputs": [
    {
     "data": {
      "text/plain": [
       "True"
      ]
     },
     "execution_count": 719,
     "metadata": {},
     "output_type": "execute_result"
    }
   ],
   "source": [
    "as_int(xS5**hS5) in U_values"
   ]
  },
  {
   "cell_type": "code",
   "execution_count": 720,
   "id": "fb34fc2b",
   "metadata": {},
   "outputs": [
    {
     "data": {
      "text/plain": [
       "True"
      ]
     },
     "execution_count": 720,
     "metadata": {},
     "output_type": "execute_result"
    }
   ],
   "source": [
    "as_int(yS5**hS5) in U_values"
   ]
  },
  {
   "cell_type": "code",
   "execution_count": 721,
   "id": "8cb41b40",
   "metadata": {},
   "outputs": [
    {
     "data": {
      "text/plain": [
       "True"
      ]
     },
     "execution_count": 721,
     "metadata": {},
     "output_type": "execute_result"
    }
   ],
   "source": [
    "as_int(xS5**(t*hS5*t)) in U_values"
   ]
  },
  {
   "cell_type": "code",
   "execution_count": 722,
   "id": "747113e8",
   "metadata": {},
   "outputs": [
    {
     "data": {
      "text/plain": [
       "True"
      ]
     },
     "execution_count": 722,
     "metadata": {},
     "output_type": "execute_result"
    }
   ],
   "source": [
    "as_int(yS5**(t*hS5*t)) in U_values"
   ]
  },
  {
   "cell_type": "code",
   "execution_count": 723,
   "id": "4b8d77e6",
   "metadata": {},
   "outputs": [
    {
     "data": {
      "text/plain": [
       "True"
      ]
     },
     "execution_count": 723,
     "metadata": {},
     "output_type": "execute_result"
    }
   ],
   "source": [
    "as_int(xS5**(t**2*hS5*t**2)) in U_values"
   ]
  },
  {
   "cell_type": "code",
   "execution_count": 724,
   "id": "b311e5af",
   "metadata": {},
   "outputs": [
    {
     "data": {
      "text/plain": [
       "True"
      ]
     },
     "execution_count": 724,
     "metadata": {},
     "output_type": "execute_result"
    }
   ],
   "source": [
    "as_int(yS5**(t**2*hS5*t**2)) in U_values"
   ]
  },
  {
   "cell_type": "markdown",
   "id": "17159376",
   "metadata": {},
   "source": [
    "Hence $g_{S5}, h_{S5} \\in \\nm{U, U^t, U^{t^2}}$. To now prove that\n",
    "they generate the normaliser of shape $\\left( \\alt{7} \\times \\left( \\alt{5} \\times \\alt{5} \\right){:}2^2 \\right){:}2$, begin by exhibiting\n",
    "words for $x_{S5}$, $y_{S5}$, and $t$:"
   ]
  },
  {
   "cell_type": "code",
   "execution_count": 725,
   "id": "dfe2d376",
   "metadata": {},
   "outputs": [
    {
     "data": {
      "text/plain": [
       "True"
      ]
     },
     "execution_count": 725,
     "metadata": {},
     "output_type": "execute_result"
    }
   ],
   "source": [
    "(gS5**2*hS5*gS5*hS5*gS5**2)**3 == xS5"
   ]
  },
  {
   "cell_type": "code",
   "execution_count": 726,
   "id": "764d4ba4",
   "metadata": {},
   "outputs": [
    {
     "data": {
      "text/plain": [
       "True"
      ]
     },
     "execution_count": 726,
     "metadata": {},
     "output_type": "execute_result"
    }
   ],
   "source": [
    "hS5**12 == yS5"
   ]
  },
  {
   "cell_type": "code",
   "execution_count": 727,
   "id": "0a5e1da3",
   "metadata": {},
   "outputs": [
    {
     "data": {
      "text/plain": [
       "True"
      ]
     },
     "execution_count": 727,
     "metadata": {},
     "output_type": "execute_result"
    }
   ],
   "source": [
    "(gS5**4*hS5*gS5**2)**3*hS5**15 == t"
   ]
  },
  {
   "cell_type": "markdown",
   "id": "1f60e69a",
   "metadata": {},
   "source": [
    "This accounts for $\\langle U, U^t, U^{t^2} \\rangle$ itself, along with $t$.\n",
    "To complete the proof, observe that it was incidentally proved in checking\n",
    "$g_{S5}, h_{S5} \\in  \\nm{U, U^t, U^{t^2}}$ that $h_{S5}$ normalises $U$\n",
    "while interchanging $U^t$ and $U^{t^2}$. Since $t$ permutes $U, U^t, U^{t^2}$\n",
    "cyclically, the action of $\\langle g_{S5}, h_{S5} \\rangle$ on these groups\n",
    "induces the remaining $\\sym{3}$."
   ]
  },
  {
   "cell_type": "markdown",
   "id": "0b5a2ed3",
   "metadata": {},
   "source": [
    "## $\\left( \\psl{2}{11} \\times \\psl{2}{11} \\right){:}4$ <a id=\"normL11_2\"></a>\n",
    "The following proof is adapted from Pisani and Popiel.\n",
    "Parts of that work, including comments, have been copied **verbatim**;\n",
    "however, modifications have been made for technical and stylistic reasons,\n",
    "likely introducing any errors that occur.\n",
    "\n",
    "****\n",
    "\n",
    "Our generators are"
   ]
  },
  {
   "cell_type": "code",
   "execution_count": 728,
   "id": "0406d709",
   "metadata": {},
   "outputs": [],
   "source": [
    "g2_AAA, g3_AAA = A5_dict[\"AAA\"]\n",
    "x11 = MM(\"M<y_4bdh*x_120h*d_52ch*p_87984372*l_1*p_3840*l_1*p_21360*l_1*p_135360>\")\n",
    "x4 = MM(\"M<y_4a9h*x_898h*d_1ach*p_74531712*l_2*p_1900800*l_2*p_12614870*l_2*t_2*l_2*p_2344320*l_2*p_31997157*l_1*t_1*l_1*p_2880*l_2*p_21312*l_2*p_10252800*t_1*l_2*p_1900800*l_2*p_932277*t_1*l_1*p_1499520*l_2*p_64121894*t_1*l_2*p_2597760*l_1*p_42706968*t_2*l_2*p_2956800*l_1*p_42667409>\")\n",
    "L_N = (g2_AAA, x11, x4)"
   ]
  },
  {
   "cell_type": "markdown",
   "id": "7f286baf",
   "metadata": {},
   "source": [
    "Note that $g_{2AAA}$ and $x_{11}$ are is [Theorem 6.6](#normL11).  \n",
    "This maximal subgroup is the normaliser of two commuting subgroups\n",
    "with structure $\\psl{2}{11}$ that contain AAA-type $\\alt{5}$s.\n",
    "It was shown above that $U = \\langle g_{2AAA}, x_{11} \\rangle$ is\n",
    "one such $\\psl{2}{11}$."
   ]
  },
  {
   "cell_type": "code",
   "execution_count": 729,
   "id": "0daf86d8",
   "metadata": {},
   "outputs": [],
   "source": [
    "L_U = (g2_AAA, x11)"
   ]
  },
  {
   "cell_type": "markdown",
   "id": "8302d7b5",
   "metadata": {},
   "source": [
    "Check that $U$ commutes with $U^{x_4}$."
   ]
  },
  {
   "cell_type": "code",
   "execution_count": 730,
   "id": "055acb23",
   "metadata": {},
   "outputs": [
    {
     "data": {
      "text/plain": [
       "True"
      ]
     },
     "execution_count": 730,
     "metadata": {},
     "output_type": "execute_result"
    }
   ],
   "source": [
    "g2_AAA**(g2_AAA**x4) == g2_AAA and g2_AAA**(x11**x4) == g2_AAA"
   ]
  },
  {
   "cell_type": "code",
   "execution_count": 731,
   "id": "9bbbf7a5",
   "metadata": {},
   "outputs": [
    {
     "data": {
      "text/plain": [
       "True"
      ]
     },
     "execution_count": 731,
     "metadata": {},
     "output_type": "execute_result"
    }
   ],
   "source": [
    "x11**(g2_AAA**x4) == x11 and x11**(x11**x4) == x11"
   ]
  },
  {
   "cell_type": "markdown",
   "id": "7f142378",
   "metadata": {},
   "source": [
    "Check that $x_4$ has order $4$, and that $x_4^2$ normalises $U$;\n",
    "specifically, $x_4^2$ centralises $g_{2AAA}$ and inverts $x_{11}$."
   ]
  },
  {
   "cell_type": "code",
   "execution_count": 732,
   "id": "a1637690",
   "metadata": {},
   "outputs": [
    {
     "data": {
      "text/plain": [
       "4"
      ]
     },
     "execution_count": 732,
     "metadata": {},
     "output_type": "execute_result"
    }
   ],
   "source": [
    "x4.order()"
   ]
  },
  {
   "cell_type": "code",
   "execution_count": 733,
   "id": "77fbb643",
   "metadata": {},
   "outputs": [
    {
     "data": {
      "text/plain": [
       "True"
      ]
     },
     "execution_count": 733,
     "metadata": {},
     "output_type": "execute_result"
    }
   ],
   "source": [
    "g2_AAA**(x4**2) == g2_AAA"
   ]
  },
  {
   "cell_type": "code",
   "execution_count": 734,
   "id": "c557b810",
   "metadata": {},
   "outputs": [
    {
     "data": {
      "text/plain": [
       "True"
      ]
     },
     "execution_count": 734,
     "metadata": {},
     "output_type": "execute_result"
    }
   ],
   "source": [
    "x11**(x4**2) == x11**-1"
   ]
  },
  {
   "cell_type": "markdown",
   "id": "4f3e834a",
   "metadata": {},
   "source": [
    "It was noted in the proof of [Theorem 6.6](#normL11) that\n",
    "this action is an outer automorphism of $U$, so\n",
    "$x_4^2 \\notin U \\times U^{x_4}$. On the other hand, $U$ and\n",
    "$U^{x_4}$ have conjugates $U^{x_4}$ and $U^{x_4^2} = U$\n",
    "under $x_4$, so that $x_4 \\in \\nm{U \\times U^{x_4}}$ and\n",
    "$\\langle g_{2AAA}, x_{11}, x_4 \\rangle \\cong \\left( \\psl{2}{11} \\times \\psl{2}{11} \\right){:}4$\n",
    "by an application of Lemma 2.1."
   ]
  },
  {
   "cell_type": "markdown",
   "id": "d7ada796",
   "metadata": {},
   "source": [
    "## $\\unt{3}{4}{:}4$ <a id=\"unt3_4_4\"></a>\n",
    "The following proof is adapted from Dietrich, Lee, and Popiel.\n",
    "Parts of that work, including comments, have been copied **verbatim**;\n",
    "however, modifications have been made for technical and stylistic reasons,\n",
    "likely introducing any errors that occur.\n",
    "\n",
    "****\n",
    "\n",
    "Generators are"
   ]
  },
  {
   "cell_type": "code",
   "execution_count": 735,
   "id": "59734ce6",
   "metadata": {},
   "outputs": [],
   "source": [
    "j2 = MM(\"M<y_538h*x_170fh*d_0a21h*p_129570785*l_1*p_1499520*l_2*p_12610123*t_2*l_1*p_2640000*l_1*p_1867433*l_1*t_2*l_2*p_1900800*l_2*p_2798997*l_2*t_2*l_1*p_1499520*l_2*p_127989729*t_2*l_2*p_2830080*l_2*p_21352704*t_2*l_2*p_1985280*l_1*p_127995457*t_1*l_2*p_2597760*l_1*p_64002648*t_1*l_2*p_1943040*l_2*p_96485380>\")\n",
    "a12 = MM(\"M<y_578h*x_309h*d_1f8h*p_113794596*l_1*p_2027520*l_1*p_10863009*t_1*l_1*p_2999040*l_1*p_1871269*l_2*t_1*l_1*p_1457280*l_2*p_12556433*l_1*t_1*l_1*p_2999040*l_1*p_6743*t_1*l_1*p_1499520*l_1*p_127990661*t_1*l_1*p_1858560*l_1*p_21408*l_2*p_240000*t_2*l_1*p_4797120*l_1*t_2*l_2*p_2830080*l_2*p_106700769>\")\n",
    "g2_G, g3_G = A5_dict[\"BCB\"]\n",
    "L_N = (j2, a12, g2_G)"
   ]
  },
  {
   "cell_type": "markdown",
   "id": "6ff0456c",
   "metadata": {},
   "source": [
    "Note that $g_{3G}$ is one of the generators for the type BCB $\\alt{5}$\n",
    "exhibited in [Lemma 4.1](#lemma).  \n",
    "Check that $j_2$ and $g_{3G}$ satisfy the presentation given\n",
    "in Dietrich et al. (re-derivable via GAP) for $\\unt{3}{4}$."
   ]
  },
  {
   "cell_type": "code",
   "execution_count": 736,
   "id": "18e44fda",
   "metadata": {},
   "outputs": [
    {
     "data": {
      "text/plain": [
       "True"
      ]
     },
     "execution_count": 736,
     "metadata": {},
     "output_type": "execute_result"
    }
   ],
   "source": [
    "j2**2 == g3_G**3 == (j2/g3_G*j2*g3_G)**5 == (j2*g3_G)**15 == e"
   ]
  },
  {
   "cell_type": "code",
   "execution_count": 737,
   "id": "5482420f",
   "metadata": {},
   "outputs": [
    {
     "data": {
      "text/plain": [
       "True"
      ]
     },
     "execution_count": 737,
     "metadata": {},
     "output_type": "execute_result"
    }
   ],
   "source": [
    "((j2*g3_G)**3*(j2/g3_G)**3)**3 == (j2/g3_G*(j2*g3_G)**5)**4 == e"
   ]
  },
  {
   "cell_type": "markdown",
   "id": "c04827d5",
   "metadata": {},
   "source": [
    "Since $\\unt{3}{4}$ is simple, this establishes that $\\langle j_2, g_3 \\rangle \\cong \\unt{3}{4}$.\n",
    "\n",
    "To in turn show that $\\langle j_2, g_{3G}, a_{12} \\rangle \\cong \\unt{3}{4}{:}4$,\n",
    "show that it contains generators $g_{2G}, g_{3G}$ for the BCB-type $\\alt{5}$\n",
    "given in [Lemma 4.1](#lemma). It follows from Dietrich et al. that\n",
    "$N_\\MM \\left( \\langle j_2, g_{3G} \\rangle \\right)$ is a maximal subgroup\n",
    "of the desired structure."
   ]
  },
  {
   "cell_type": "code",
   "execution_count": 738,
   "id": "e81f30e6",
   "metadata": {},
   "outputs": [
    {
     "data": {
      "text/plain": [
       "True"
      ]
     },
     "execution_count": 738,
     "metadata": {},
     "output_type": "execute_result"
    }
   ],
   "source": [
    "# g3_G is given as a generator\n",
    "(j2*g3_G*j2*g3_G**2)**2*j2*g3_G**2/(g3_G*(j2*g3_G**2*j2*g3_G)**2*j2*g3_G*j2) == g2_G"
   ]
  },
  {
   "cell_type": "markdown",
   "id": "63f27b40",
   "metadata": {},
   "source": [
    "Check that $a_{12}$ has order $12$, which (noting $\\unt{3}{4}$ has no elements of order 6)\n",
    "does not lie in $\\langle j_2, g_{3G} \\rangle$."
   ]
  },
  {
   "cell_type": "code",
   "execution_count": 739,
   "id": "8c56623e",
   "metadata": {},
   "outputs": [
    {
     "data": {
      "text/plain": [
       "12"
      ]
     },
     "execution_count": 739,
     "metadata": {},
     "output_type": "execute_result"
    }
   ],
   "source": [
    "a12.order()"
   ]
  },
  {
   "cell_type": "markdown",
   "id": "eb01fbe8",
   "metadata": {},
   "source": [
    "Then check that $a_{12}$ normalises $\\langle j_2, g_{3G} \\rangle$ by showing that it induces an automorphism thereof."
   ]
  },
  {
   "cell_type": "code",
   "execution_count": 740,
   "id": "67f089f6",
   "metadata": {},
   "outputs": [
    {
     "data": {
      "text/plain": [
       "True"
      ]
     },
     "execution_count": 740,
     "metadata": {},
     "output_type": "execute_result"
    }
   ],
   "source": [
    "((g3_G*j2)**2*g3_G**2*j2)**2/((g3_G**2*j2*(g3_G*j2)**2)**2*g3_G) == g3_G**a12"
   ]
  },
  {
   "cell_type": "code",
   "execution_count": 741,
   "id": "46a7d380",
   "metadata": {},
   "outputs": [
    {
     "data": {
      "text/plain": [
       "True"
      ]
     },
     "execution_count": 741,
     "metadata": {},
     "output_type": "execute_result"
    }
   ],
   "source": [
    "(g3_G*j2*(g3_G**2*j2)**2)**2*j2/(g3_G*j2*(g3_G**2*j2)**2)**2 == j2**a12"
   ]
  },
  {
   "cell_type": "markdown",
   "id": "a3f986d2",
   "metadata": {},
   "source": [
    "This shows $\\langle j_2, g_{3G}, a_12 \\rangle \\le \\nma{j_2, g_{3G}} \\cong \\unt{3}{4}{:}4$.\n",
    "However, neither the order of $a_{12}$ nor that of its square (12 and 6, respectively)\n",
    "occur in $\\unt{3}{4}$, so that this must in fact be equality."
   ]
  }
 ],
 "metadata": {
  "kernelspec": {
   "display_name": "Python 3 (ipykernel)",
   "language": "python",
   "name": "python3"
  },
  "language_info": {
   "codemirror_mode": {
    "name": "ipython",
    "version": 3
   },
   "file_extension": ".py",
   "mimetype": "text/x-python",
   "name": "python",
   "nbconvert_exporter": "python",
   "pygments_lexer": "ipython3",
   "version": "3.9.13"
  }
 },
 "nbformat": 4,
 "nbformat_minor": 5
}
